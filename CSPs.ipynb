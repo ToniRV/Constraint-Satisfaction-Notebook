{
 "cells": [
  {
   "cell_type": "markdown",
   "metadata": {},
   "source": [
    "# Constraint Satisfaction Problems\n",
    "\n",
    "This notebook presents, in an interactive way, the lecture notes of MIT's 16.413 course **Principles of Autonomy and Decision Making** for the chapter on **Constraint Satisfaction**.\n",
    "\n",
    "The material below is highly influenced as well by **Chapter 6 Constraint Satisfaction Problems** of the book *Artificial Intelligence: A Modern Approach*."
   ]
  },
  {
   "cell_type": "markdown",
   "metadata": {},
   "source": [
    "Let us first import necessary modules and helper functions. Run the cell below:"
   ]
  },
  {
   "cell_type": "code",
<<<<<<< HEAD
   "execution_count": 30,
=======
   "execution_count": 1,
>>>>>>> 2b2204bd733fac5c4888d08907c415b34879f42a
   "metadata": {},
   "outputs": [],
   "source": [
    "from __future__ import print_function\n",
    "from lib.notebook import psource, pseudocode, plot_NQueens\n",
    "from lib.n_queens_csp import NQueensCSP, queen_constraint\n",
    "from lib.backtracking import *\n",
    "from lib.csp import CSP\n",
    "\n",
    "import sys\n",
    "import time\n",
    "\n",
    "import lib.csp\n",
    "from lib.sudoku.sudoku_csp  import Sudoku\n",
    "from lib.constraint_propagation import AC3, AC1, implementAC1, implementAC3\n",
    "\n",
    "from lib.search import NQueensProblem, depth_first_tree_search\n",
    "\n",
    "import time\n",
    "\n",
    "# For plotting\n",
    "%matplotlib inline\n",
    "\n",
    "# Delete after development\n",
    "%load_ext autoreload\n",
    "%autoreload 2"
   ]
  },
  {
   "cell_type": "markdown",
   "metadata": {},
   "source": [
    "# CONTENTS\n",
    "\n",
    " 1. [**Introduction to Constraint Propagation Problems (L13 & L14)**](#Intro):\n",
    "    1. *Definition*\n",
    "    2. *Examples*\n",
    "\n",
    " 2. [**Solving CSPs (L14 & L 15)**](#Constraint_Propagation):\n",
    "    1. *Constraint Propagation in CSPs*:\n",
    "        1. Propagation:\n",
    "            1. [AC-1](#ac1):\n",
    "                * Definition\n",
    "                * Example: solving Sudoku with AC-1\n",
    "            2. [AC-3](#ac3):\n",
    "                * Definition\n",
    "                * Example: solving Sudoku with AC-3\n",
    "    2. *[Search in CSPs](#search_in_csps)*:\n",
    "        1. [Generic Search](#generic_search):\n",
    "            * Formulating CSPs as a state space search problem\n",
    "            * Complexity\n",
    "            * Example: NQueens with generic search (5 Queens)\n",
    "        2. [Backtracking Search (BT)](#backtracking):\n",
    "            * Definition\n",
    "            * Complexity\n",
    "            * Example: solving NQueens (15 Queens)\n",
    "        3. [Backtracking Search with Forward Checking (BT-FC)](#backtracking_w_fc):\n",
    "            * Definition\n",
    "            * Complexity\n",
    "            * Example: solving NQueens (20 Queens)              \n",
    "        4. [**Backtracking while Maintaining Arc Consistency (BT-MAC)**](#backtracking_w_mac):\n",
    "            * Definition\n",
    "            * Complexity\n",
    "            * Example: solving NQueens (20 Queens)\n",
    "        4. BT-DC with Dynamic Variable Ordering:\n",
    "            * Definition\n",
    "            * Complexity\n",
    "            * Example: solving NQueens (1000 Queens)\n",
    "\n",
    "    3. *Elimination for Constraints in CSPs*:\n",
    "        1. Variable Elimination for Constraints:\n",
    "            * Definition: join and project\n",
    "            * Example\n",
    "        2. Bucket elimination (Adaptive Consistency):\n",
    "            * Definition\n",
    "            * Example\n",
    "\n",
    " 3. **Appendix**:\n",
    "    1. Constraint Optimization Problem:\n",
    "        1. Branch-and-Bound\n",
    "        2. Example: using Map Coloring problem with cost added to the colors to use.\n",
    "    2. Incremental Repair / Iterative Repair / Min-Conflict Heuristic\n",
    "        * Definition\n",
    "        * Example"
   ]
  },
  {
   "cell_type": "markdown",
   "metadata": {},
   "source": [
    "## Introduction <a name=\"Intro\"></a>\n",
    "\n",
    "Constraint satisfaction problem represents states using a list of variables with assignments and\n",
    "conditions for the solution in the form of constraints on the variables. This allows us to treat\n",
    "the state space with structure - using a factored representation for each state contrary to the\n",
    "black box view used in state space search problems.\n",
    "\n",
    "\n",
    "Formally, Constraint Satisfaction Problem (CSP) can be defined as a triple of < X, D, C > where\n",
    "X is a set of variables, D is the domain of each of the variables in V and C is the set of constraints\n",
    "defining the problem. Each constraint in C can be thought of as a pair of scope S which is a\n",
    "subset of V and a relation R between variables in S. The problem of having seeking a set with one\n",
    "A and two B’s can be cast in the CSP framework with V = {A, B}, D = {1, 2} and constraint\n",
    "C = {[{A, B}, {{1, 2}, {1, 1}}], [{A, B}, {{1, 2}, {2, 2}}]} where the first constraint tells that there\n",
    "must be exactly one A and the second constraint imposes the fact that there must be two B’s. The\n",
    "solution to the problem is when both the constraints are satisfied which is possible only when the\n",
    "assignment is (1,2).\n",
    "\n",
    "CSPs can be visualized using constraint graphs where the nodes represent the variables and the\n",
    "edges represent the constraint between the variables connected by it. Any CSP can be represented\n",
    "using a constraint graph because any constraint involving multiple variables can be converted to\n",
    "binary variables by adding additional variables to the problem."
   ]
  },
  {
   "cell_type": "markdown",
   "metadata": {},
   "source": [
    "## Constraint Propagation <a name=\"Constraint_Propagation\"></a>\n",
    "\n",
    "Apart from searching the state space, constraint programming also allows us to perform specific\n",
    "type of inference called constraint Propagation which helps in eliminating unwanted parts of the\n",
    "state space based on the constraint satisfaction.\n",
    "\n",
    "A single variable in a CSP is said to be node-consistent if all it’s unary constraints are satisfied.\n",
    "We can use this to delete some values in the domain of the variable that doesn’t satisfy the unary\n",
    "constraint on that variable. A network is node-consistent if all the variables in it are also node consistent.\n",
    "\n",
    "A variable in CSP is said to be arc-consistent if every value in its domain satisfies binary constraints\n",
    "imposed on the variable. Similar to node consistency, checking for arc-consistency can help reduce the domain size of a variable before performing search. Algorithm 1 shown below describes a Revise procedure that ensures that a given node Xi is arc-consistent.\n",
    "\n",
    "<img src=\"images/Algorithm_1.png\">"
   ]
  },
  {
   "cell_type": "markdown",
   "metadata": {},
   "source": [
    "## AC-1 <a name=\"ac1\"></a>\n",
    "\n",
    "AC-1 is a constraint propagation algorithm that repeatedly checks for arc-consistency between two nodes and removes those values in the domain of each of the two variables that are not consistent. The algorithm is described below:\n",
    "\n",
    "<img src=\"images/Algorithm_2.png\">\n",
    "The code snippet below shows two inital cases of sudoku problem - one of which is easy and can be solved just by constraint propagation (AC-1). Try giving different inital states by modifying the first line to see if it can be solved by AC-1\n"
   ]
  },
  {
   "cell_type": "code",
<<<<<<< HEAD
   "execution_count": 31,
   "metadata": {
    "scrolled": false
   },
=======
   "execution_count": 2,
   "metadata": {},
>>>>>>> 2b2204bd733fac5c4888d08907c415b34879f42a
   "outputs": [
    {
     "data": {
      "image/png": "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\n",
      "text/plain": [
       "<Figure size 504x504 with 1 Axes>"
      ]
     },
     "metadata": {
      "needs_background": "light"
     },
     "output_type": "display_data"
    },
    {
     "name": "stdout",
     "output_type": "stream",
     "text": [
      "\n"
     ]
    },
    {
     "data": {
      "image/png": "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\n",
      "text/plain": [
       "<Figure size 504x504 with 1 Axes>"
      ]
     },
     "metadata": {
      "needs_background": "light"
     },
     "output_type": "display_data"
    },
    {
     "name": "stdout",
     "output_type": "stream",
     "text": [
      "\n",
      "Solution found in 4 iterations\n",
<<<<<<< HEAD
      "time taken to solve is 0.306202 seconds\n",
=======
      "time taken to solve is 0.024700 seconds\n",
>>>>>>> 2b2204bd733fac5c4888d08907c415b34879f42a
      "\n",
      "Harder problem\n",
      "\n"
     ]
    },
    {
     "data": {
      "image/png": "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\n",
      "text/plain": [
       "<Figure size 504x504 with 1 Axes>"
      ]
     },
     "metadata": {
      "needs_background": "light"
     },
     "output_type": "display_data"
    },
    {
     "name": "stdout",
     "output_type": "stream",
     "text": [
      "\n"
     ]
    },
    {
     "data": {
      "image/png": "iVBORw0KGgoAAAANSUhEUgAAAYoAAAGKCAYAAAASfgYQAAAABHNCSVQICAgIfAhkiAAAAAlwSFlzAAALEgAACxIB0t1+/AAAADl0RVh0U29mdHdhcmUAbWF0cGxvdGxpYiB2ZXJzaW9uIDMuMC4xLCBodHRwOi8vbWF0cGxvdGxpYi5vcmcvDW2N/gAAIABJREFUeJzt3XlUlXXix/EPiAsuVxQVzQUkU8xwwaUhi9IYEy3LdTJ3ycnKstIaazSzXMK1mZxGU8ufZZtLzuhv+IlkoVZqoo2WS2WTljiWoEJeZPP+/pjRROkrWvd+74Pv1zmdhocz537O0yNv7nORG+DxeAQAwM8JtD0AAODfCAUAwIhQAACMCAUAwIhQAACMgkyfDAwI8ARXrOirLZfNE+ic3gWcPm17QqmcKihQRQf8t3fK+ZScc53m5Z1SpfIVbM+4KKecT8k516k7L++ox+Opff5xYyiCK1bUiRVvem/VryQ3Lt72hFIL3pBqe0KpdJjwnNLS0mzPuCinnE/JOdfpLTFttOWFGbZnXJRTzqfknOu0/O29DpR03DlJBgBYQSgAAEaEAgBgRCgAAEaEAgBgRCgAAEaEAgBgRCgAAEaEAgBgRCgAAEaEAgBgRCgAAEaEAgBg5PNQHDqaqZA+96j87b30Y26urx/+ovbv36/Ro0crNjZWISEh6tatm+1JF7h13ASVv71Xif98vGef7XnFrFq1SvHx8QoPD1ft2rUVExOj6dOnKz8/3/a0CxQWFWn6spVqPuJBVbmrnyKG3KsxC16xPesCa9asUWxsrGrVqqXo6GjNnTvX9qQSvZ22Se1Hj1FIn3sUPvheDZ31J2VkZtmedYF3331Xv/vd79SsWTPVq1dPcXFxWrZsme1ZF/if1PUl/pmf/4+1Xn9s468Z94Zxry5R1UqVdPLUKV8/dKns3btXKSkpat++vQoKCmzPKdGLD/xe2W53sWOTlr6lT/f/S+2bNrG0qmRZWVmKi4vT6NGjVb16daWnp2vatGk6cuSIZs2aZXteMcPnvKgPdu7S+P79FNWggb49elR7Dn5re1Yxmzdv1oABAzRo0CBNnjxZ27Zt09NPP62AgAA9+OCDtuedtXrLVg2cMVv3d09Q0rAhOnzsmCa+9oZ6TJqirS/MUKAfvZfE3LlzFR4ermnTpik0NFQpKSlKTExUZmamRo4caXveBdZNnaRKFX56v5DIumFef0yfhmLjZ59rbfoOjevXS394ZYkvH7rUEhIS1L17d0nSoEGDlJmZaXnRha5t1LDYx/kFBUr/cr/63tRRQeXKWVpVsuHDhxf7OC4uTjk5OVqwYIFmzpypgIAAS8uKW5u+Xcs2fqj0F2dfcH79yfPPP6/f/OY3Z59F3HrrrTpx4oSSkpI0YsQIVajgH2849NYHG9Xm6kj9+f4RZ4+5Kger13PPa9+hDDVv2MDiuuLeeecdhYaGnv345ptv1uHDh/WXv/zFL0PR7pomqhoc7NPH9FnWi4qKNHreQv2xf1+Fuly+ethL5k/f6ZTW2u07dOzHH3X3zTfanlIqNWvW9LtbT4vXrVenltF+HQlJ2rVrlzp16lTsWOfOnXX8+HFt3brV0qoLFRQVqXqVysWOhVSpIknyeDw2Jv2scyNxRqtWrXT48GELa/yTz74qzk9OUX5hoR7onuCrh7xivLPhQzWoFaobW1xre8rPKioqktvt1scff6x58+YpMTHRb55NSNLWfV/omvr19PBfF6hm3wFy9b5bfack+d099by8vAueNZz5eN8+/3l9auhvO2vT53v02nvvK9vt1heHMvT0a286IsaStHXrVjVp4l+3cc9oNuIBVerRRy3uG6WXk73/+oTko1tPmdk5eub1N/U/Y0arfJDPXxYp09yn8rR6yyca0fW3fvWF93x169ZVXl6eJKl///6aPHmy5UXF/fvYcS157321bByhpU88ppzcXD356hL1mZKkD2c97zfnNjIyUtu3by92LD09XZJ07NgxG5NK1K19Oy16ZJR+/+eXNHzOi5Kk2ObN9O6EJy0vu7gPPvhAa9as0UsvvWR7SjH1atTQpIH91b7pNSo6fVpvb9ikB/8yX+68fD1y1x1efWyffNWesGSprm/WVAnt2/ri4a4oa7Z+opOnTul3N99ke4rRunXrlJubq/T0dCUlJWnMmDGaM2eO7VlneSR5PNLK8U8q1FVNklSvZg11HjdB7/9zlzq3bml34H8NHz5cjzzyiBYvXqw777xT6enpZ1+v8Kfbph/s3KUHX5qvh3p0V9e2MTpy/Liee+Nt9ZmSpLWTJ6qcn72WdsaBAweUmJio7t27a8CAAbbnFNOlbRt1advm7Mdd28UoryBf095epod7dPfqf3+vX1mfHzioxanr9cf+fXX8x5M6/uNJuf/7neWJk27l/vd/4/K8s2GTmtSrp3bX+OfT5DNat26t2NhYjRo1SklJSVq0aJG+/vpr27POqlG1iq4Lb3Q2EpLU8drmqhAUpN3f+s9PPg0aNEiJiYl69NFHFR4eroEDB+qJJ56QJIWFef+nX0rr8UWLdXuH9po2bLBubnmd+sXdqOXjxylt12f6+5ZPbM8rUVZWlnr37q2GDRtq4cKFtueUSq+ONygr50d98/33Xn0crz+j+CrjsAoKC3XT2AufckYMHaFhXW7Vyw/7z4/1OcmJkyf1f+k7NLb3XbanXJLWrVtL+s93b5GRkZbX/EdUgwY6VXDhC+weSYEB/vOderly5TRr1iyNHz9eGRkZCg8P1xdffCFJat++veV1P9n33SHdHVf8WW6zBvUVXLGCvj78b0urfp7b7Va/fv2Un5+vZcuWqXLlyhf/P/mBgLP/9u6tUa+HouO1zZU69dlix9Zu36EZy9/V6mfGq7EPfga4rFr18RblFRT4/W2n823evFmSFB4ebnnJT7p3aKtJS9/W0RPZqlX9Pz+Vt/Gz3SooLFTLxhFWt5WkRo0aqlGjhiRp4cKFuv7669W0aVPLq34SXru2duwv/oxxz7ffKTcvX+FhdSytKllhYaEGDx6s/fv3a926dapdu7btSaW28sOPVcvlUngd7272eihqVXfp5pbXFTt25mnSjS2a+/zngS/G7XYrJSVFkpSRkaGcnBytWrVKktSlSxe/+k7jnQ2b1LJxhF/9TPr5evbsqU6dOikqKkrlypXT5s2bNXfuXPXq1ctvnk1I0r1du2ju6n/ormenaly/3srJzdVTi1/Tra1b6sYWzW3PO2vr1q3avHmzoqOjlZOTo+XLl+u9997T2rW++emX0hqRcJvGLnxV9WrWUNd2MTpy7LimvLVMEWF1lNAuxva8Yh577DGlpKQoKSlJWVlZxX7MuFWrVqpYsaLFdT/pN3W62jdtouiICBWdPq13Nn6odzZ+qDn3JXr99Sl+BOk8P/zwgwYPHlzs2JmPd+3a5TffBR89ka31/9ylSQP7255iFBMTo6VLl+rgwYMKCgpSRESEJk6cqMTERNvTinFVrqyUKZP06PxFGjB9tioEBemO33TQrBHDbE8rpnz58lqxYoWmTZumwMBAxcbGKiUlRS1atLA9rZiHenRXhfJBmv+PtXo5OUUhVaqoY4soTR4yUFUqVbI9r5j169dLkv7whz9c8Dl/+jPftP5VWrxuvb49elQej9S8YQO9+tjDGtj5Fq8/doDpL79UqVTJc2LFm14f8UvlxsXbnlBqwRtSbU8olQ4TnlNaWprtGRfllPMpOec6vSWmjba8MMP2jItyyvmUnHOdlr+9V7rH42l3/nH/eZUOAOCXCAUAwIhQAACMCAUAwIhQAACMCAUAwIhQAACMCAUAwIhQAACMCAUAwIhQAACMCAUAwIhQAACMCAUAwMj4fhSewEBH/Cpfp/wKX8k5vxo5IOdxR5xXp5xPyTnXqaeayxHn1SnnU3LWdVoSnlEAAIwIBQDAiFAAAIwIBQDAiFAAAIwIBQDAiFAAAIwIBQDAiFAAAIwIBQDAiFAAAIwIBQDAiFAAAIwIBQDAyPhrxq80KzZ9pBdWrdYXhw7p5Kk8hdeprQGdbtbY3nepQvnytucBgBWE4hyZOTnq1CpaY3rdqZCqVfTJF1/q2Tfe0b+PHdef7x9hex4AWEEozvH7hNuKfXxLy2hlu3P11/9N1p9G3quAgABLywDAHl6juIia1aopv7DQ9gwAsIZnFCUoKipSXkGhtu//Wn9Z/b+6L+E2nk0AuGIRihJU73OP8goKJEkDO9+ipOFD7A4CAIsIRQk2zJgqd16+PvniS0156x09PG+B5j5wn+1ZAGAFoShBTJOrJUk3tmiuWq5qGj7nRT3a805dXa+u5WUA4Hu8mH0Rba6OlCR9c+SI5SUAYAehuIiP9uyVJEWEhVleAgB2cOvpHN2ffla3tm6paxs1UrnAQH20Z6/mvPt39bupI7edAFyxCMU52l3TREtS39c33/+goHKBalw3TJOHDNB95/1FPAC4khCKc0wadI8mDbrH9gwA8Cu8RgEAMCIUAAAjQgEAMCIUAAAjQgEAMCIUAAAjQgEAMCIUAAAjQgEAMCIUAAAjQgEAMCIUAAAjQgEAMCIUAAAjQgEAMDK+H0XA6dMK3pDqqy2XLTcu3vaEUnPC+ZQkTzWXI86rU86n5JzrNCDncUecV6ecT8lZ12lJeEYBADAiFAAAI0IBADAiFAAAI0IBADAiFAAAI0IBADAiFAAAI0IBADAiFAAAI0IBADAiFAAAI0IBADAiFPCqbt26yeVylfjPli1bbM8DUArGXzMO/FKzZ89WdnZ2sWNTpkzRzp071bZtW0urAFwKQgGvioqKKvZxfn6+duzYod69eysoiMsPcAJuPcGnUlNTdfz4cfXp08f2FAClRCjgU8uXL1f9+vV1ww032J4CoJQIBXzG7XYrOTlZPXv2VEBAgO05AEqJUMBnkpOTdfLkSW47AQ5DKOAzK1asUGRkpGJiYmxPAXAJCAV84sSJE1q3bh3PJgAHIhTwiTVr1igvL099+/a1PQXAJSIU8Inly5crOjpazZo1sz0FwCUiFPC6zMxMpaWlqXfv3ranALgM/NVYeF1oaKiysrJszwBwmXhGAQAwIhQAACNCAQAwIhQAACNCAQAwIhQAACNCAQAwIhQAACNCAQAwIhQAACNCAQAwIhQAACNCAQAwIhQAACNCAQAwCvB4PD/7yXLlynlatWrlwzmXJyAn2/aEUvNUc9meUCr7du9WVMMGtmdclFPOp+Sc63TPoQxFRUXZnnFRTjmfknOu0x07dqR7PJ525x83hqJy5cqeI0eOeHXYryF4Q6rtCaWWGxdve0Kp3BLTRltemGF7xkU55XxKzrlOO0x4TmlpabZnXJRTzqfknOvU5XKVGApuPQEAjAgFAMCIUAAAjAgFAMCIUAAAjAgFAMCIUAAAjAgFAMCIUAAAjAgFAMCIUAAAjAgFAMCIUAAAjIJsD/Anyzd9pKXrP9D2r77WCbdbTetfpcd63am7b77J9jQAXlRYVKTZK/+mV1Pe08EfflDt6i71vvEGzRox3PY0v0AozvHCu39X47phmjlimGq5XErelq5BM+boaHa2Rt3R3fY8AF4yfM6L+mDnLo3v309RDRro26NHtefgt7Zn+Q1CcY5VTz+lWtV/eoORTq2idTjrmP60ajWhAMqotenbtWzjh0p/cbaubdTQ9hy/xGsU5zg3Eme0jmysjMwsC2sA+MLidevVqWU0kTAgFBexee8+XVP/KtszAHjJ1n1f6Jr69fTwXxeoZt8BcvW+W32nJPEN4jkIhcH6T3fqb5u36tGePWxPAeAl/z52XEvee1///Ne/tPSJx7Rw9Cht/2q/+kxJkumtoq8kvEbxM7458r0GzZyjHte315D4zrbnAPASjySPR1o5/kmFuqpJkurVrKHO4ybo/X/uUufWLe0O9AM8oyhBVk6O7pj4nBrVrq0lYx+1PQeAF9WoWkXXhTc6GwlJ6nhtc1UICtLub/nJJ4lQXMB9Kk93Tpqq/MJC/W3iU6pcqaLtSQC8KKpBA3l04S0mj6TAAL5ESoSimMKiIt39/Ax9lXFYayZNUJ2QENuTAHhZ9w5t9dk3B3X0RPbZYxs/262CwkK1bBxhbZc/4TWKc4x66WUlb9uu2b9PVGZOjjL37jv7uTZXR6pi+fIW1wHwhnu7dtHc1f/QXc9O1bh+vZWTm6unFr+mW1u31I0tmtue5xcIxTlSd3wqSXrs5UUXfO7LRfMUEVbH15MAeJmrcmWlTJmkR+cv0oDps1UhKEh3/KaDZo0YZnua3yAU5/jqlfm2JwCwoMlV9bR60njbM/wWr1EAAIwIBQDAiFAAAIwIBQDAiFAAAIwIBQDAiFAAAIwIBQDAiFAAAIwIBQDAiFAAAIwIBQDAiFAAAIwIBQDAyPhrxgNOn1bwhlRfbblsuXHxtieUmhPOpyR5qrkccV6dcj4l51ynATmPO+K8OuV8Ss66TkvCMwoAgBGhAAAYEQoAgBGhAAAYEQoAgBGhAAAYEQoAgBGhAAAYEQoAgBGhAAAYEQoAgBGhAAAYEQoAgBGhAAAYGX/NOHAleTttk2aufFdfHjqs6pUrq1OraE0dOkhXhda0Pc3xDh3NVIuRD+nkqVM6tmypqgYH256ES8AzCkDS6i1bNXDGbMVGRWnl+HGaOmyQNn2+Wz0mTdHp06dtz3O8ca8uUdVKlWzPwGXiGQUg6a0PNqrN1ZH68/0jzh5zVQ5Wr+ee175DGWresIHFdc628bPPtTZ9h8b166U/vLLE9hxcBkIBSCooKlL1KpWLHQupUkWS5PF4bEwqE4qKijR63kL9sX/fs+cTzsOtJ0DS0N921qbP9+i1995XttutLw5l6OnX3lSnltG6tlFD2/Mca35yivILC/VA9wTbU/ALEApAUrf27bTokVG6f+48hfYbqBb3jVLR6SK989QTtqc5VmZ2jp55/U3NSByq8kHcvHAyQgFI+mDnLj340nw91KO7Uqc+q6VPPKZjOT+qz5QkFRUV2Z7nSBOWLNX1zZoqoX1b21PwC5F5QNLjixbr9g7tNW3Y4LPHWkU21nUjH9Lft3yinjf8xuI65/n8wEEtTl2v9c8/p+M/npQkufPyJEknTrpVLjBQwRUr2pyIS0AoAEn7vjuku+NuKnasWYP6Cq5YQV8f/relVc71VcZhFRQW6qaxT17wuYihIzSsy616+eEHLSzD5SAUgKTw2rW1Y//XxY7t+fY75eblKzysjqVVztXx2uZKnfpssWNrt+/QjOXvavUz49W4bpilZbgchAKQNCLhNo1d+Krq1ayhru1idOTYcU15a5kiwuoooV2M7XmOU6u6Sze3vK7YsW++/16SdGOL5vzNbIchFICkh3p0V4XyQZr/j7V6OTlFIVWqqGOLKE0eMlBV+BvFuMIRCkBSQECARnbrqpHdutqeUmYNie+sIfGdbc/AZeDHYwEARoQCAGBEKAAARoQCAGBEKAAARoQCAGBEKAAARoQCAGBEKAAARoQCAGBEKAAARoQCAGBEKAAARoQCAGBEKAAARsb3o/AEBio3Lt5XWy5b8IZU2xNKzQnnU5ICch53xHl1yvmUnHOdeqq5HHFenXI+JWddpyXhGQUAwIhQAACMCAUAwIhQAACMCAUAwIhQAACMCAUAwIhQAACMCAUAwIhQAACMCAUAwIhQAACMCAUAwIhQAJL279+v0aNHKzY2ViEhIerWrZvtSYDfMP6aceBKsXfvXqWkpKh9+/YqKCiwPQfwKzyjACQlJCRoz549WrJkiZo3b257DuBXCAUgKTCQPwrAz+FPBwDAiFAAAIwIBQDAiFAAAIwIBQDAiFAAAIz4C3eAJLfbrZSUFElSRkaGcnJytGrVKklSly5dVLlyZZvzAKsIBSDphx9+0ODBg4sdO/Pxrl27FB4ebmMW4BcIBSApPDxc2dnZtmcAfonXKAAARoQCAGBEKAAARoQCAGBEKAAARoQCAGBEKAAARoQCAGBEKAAARoQCAGBEKAAARoQCAGBEKAAARoQCAGBEKAAARgEej+dnP1muXKCndWSkD+dcHk81l+0JpRaQ44z3PNhzKENRUVG2Z1yUU86n5JzrdN/u3Ypq2MD2jItyyvmUnHOdbv9qf7rH42l3/nHjGxdVKl9BW16Y4b1Vv5LcuHjbE0oteEOq7Qml0mHCc0pLS7M946Kccj4l51ynt8S04c/9r8wp12n523uVeJxbTwAAI0IBADAiFAAAI0IBADAiFAAAI0IBADAiFAAAI0IBADAiFAAAI0IBADAiFAAAI0IBADAiFAAAI0IBryosLNTs2bPVunVr1apVS1FRURo3bpztWY61atUqxcfHKzw8XLVr11ZMTIymT5+u/Px829Mcq1u3bnK5XCX+s2XLFtvz/ILx14wDv9TIkSO1YcMGjRs3Tk2bNtV3332nffv22Z7lWFlZWYqLi9Po0aNVvXp1paena9q0aTpy5IhmzZple54jzZ49W9nZxd8vYsqUKdq5c6fatm1raZV/IRTwmnXr1mnlypX66KOPHPEmSE4wfPjwYh/HxcUpJydHCxYs0MyZMxUQEGBpmXOdf23m5+drx44d6t27t4KC+BIpcesJXvT6668rLi6OSHhZzZo1ufX0K0pNTdXx48fVp08f21P8BqGA12zbtk1NmjTRmDFjVL9+fYWFhWnAgAE6fPiw7WmOV1RUJLfbrY8//ljz5s1TYmIizyZ+JcuXL1f9+vV1ww032J7iNwgFvObIkSN64403tGvXLr3yyit66aWX9Omnn+qee+6R6b3acXF169ZV3bp1ddttt6ljx46aPHmy7UllgtvtVnJysnr27El4z8ENOHiNx+ORx+PRm2++qdDQUEn/+QKXkJCgtLQ03XLLLXYHOti6deuUm5ur9PR0JSUlacyYMZozZ47tWY6XnJyskydPctvpPIQCXhMSEqKIiIizkZCk2NhYVahQQXv37iUUv0Dr1q0l/ed81qxZUyNHjtRDDz2kyMhIy8ucbcWKFYqMjFRMTIztKX6FW0/wmmbNmpV4i8nj8SgwkEvv13ImGgcOHLC8xNlOnDihdevW8WyiBPxphdd07dpVu3fvVmZm5tljH374oQoKChQdHW1xWdmyefNmSVJ4eLjlJc62Zs0a5eXlqW/fvran+B1uPcFrhg4dqnnz5qlfv34aO3ascnJyNHHiRHXq1EmxsbG25zlSz5491alTJ0VFRalcuXLavHmz5s6dq169enHb6Rdavny5oqOj1axZM9tT/A6hgNe4XC6tXr1aTzzxhIYNG6YKFSqoW7dumjZtmu1pjhUTE6OlS5fq4MGDCgoKUkREhCZOnKjExETb0xwtMzNTaWlpGj9+vO0pfolQwKuuvvpqrVixwvaMMmPChAmaMGGC7RllTmhoqLKysmzP8Fu8RgEAMCIUAAAjQgEAMCIUAAAjQgEAMCIUAAAjQgEAMCIUAAAjQgEAMCIUAAAjQgEAMCIUAAAjQgEAMCIUAAAj468Z9wQGKjcu3ldbLlvwhlTbE0rNCedTkgJyHnfEeXXK+ZScc516qrkccV6dcj4lZ12nJeEZBQDAiFAAAIwIBQDAiFAAAIwIBQDAiFAAAIwIBQDAiFAAAIwIBQDAiFAAAIwIBQDAiFAAAIwIBQDAiFAAAIx8EoqlS5fK5XJd8M+iRYt88fCwZPmmj9Tz2akKH3yvQvrcow6jx+qttI22ZwG4RMb3o/i1rVmzRpUqVTr7cePGjX358PCxF979uxrXDdPMEcNUy+VS8rZ0DZoxR0ezszXqju625wEoJZ+GIiYmRlWrVvXlQ8KiVU8/pVrVXWc/7tQqWoezjulPq1YTCsBBeI0CXnNuJM5oHdlYGZlZFtYAuFw+DUWrVq1Uo0YNxcTE6JVXXvHlQ8NPbN67T9fUv8r2DACXwCe3nsLCwjR+/Hi1bdtWRUVFWrFihR555BG53W6NGjXKFxPgB9Z/ulN/27xVC0Y/aHsKgEvgk1DEx8crPv6nNxfv0qWL8vLyNGPGDD3wwAMKDOQOWFn3zZHvNWjmHPW4vr2GxHe2PQfAJbD2FfrOO+/UsWPHdODAAVsT4CNZOTm6Y+JzalS7tpaMfdT2HACXyFooAgICiv0bZZP7VJ7unDRV+YWF+tvEp1S5UkXbkwBcIp/+eOy5Vq1apdDQUDVq1MjWBHhZYVGR7n5+hr7KOKwNM6aqTkiI7UkALoNPQjFw4EC1bdtWLVq0UFFRkVauXKmVK1dq+vTpvD5Rho166WUlb9uu2b9PVGZOjjL37jv7uTZXR6pi+fIW1wEoLZ+E4pprrtFrr72mQ4cOyePxKCoqSvPnz1f//v198fCwJHXHp5Kkx16+8Fe1fLloniLC6vh6EoDL4JNQTJw4URMnTvTFQ8GPfPXKfNsTAPwKuO8DADAiFAAAI0IBADAiFAAAI0IBADAiFAAAI0IBADAiFAAAI0IBADAiFAAAI0IBADAiFAAAI0IBADAiFAAAI0IBADAyvh9FwOnTCt6Q6qstly03Lt72hFJzwvmUJE81lyPOq1POp+Sc6zQg53FHnFennE/JWddpSXhGAQAwIhQAACNCAQAwIhQAACNCAQAwIhQAACNCAQAwIhQAACNCAQAwIhQAACNCAQAwIhQAACNCAQAw8kkovso4rPvn/lVtRj2qij366NZxE3zxsFeMQ0czFdLnHpW/vZd+zM21PQdAGWP8NeO/lt0Hv9X/bduu65s1VWFhoS8e8ooy7tUlqlqpkk6eOmV7CoAyyCfPKG7v0E7/WrxAbz35uK5t1NAXD3nF2PjZ51qbvkOP9ephewqAMsonzygCA3kpxBuKioo0et5C/bF/X4VUqWJ7DoAyiq/gDjY/OUX5hYV6oHuC7SkAyjBC4VCZ2Tl65vU3NSNxqMoH+eSJIYArFKFwqAlLlur6Zk2V0L6t7SkAyji+FXWgzw8c1OLU9Vr//HM6/uNJSZI7L0+SdOKkW+UCAxVcsaLNiQDKEELhQF9lHFZBYaFuGvvkBZ+LGDpCw7rcqpcfftDCMgBlEaFwoI7XNlfq1GeLHVu7fYdmLH9Xq58Zr8Z1wywtA1AW+SQU7lN5St6WLkk6lJmlnNxcrdj0kSQpoV1bVa7EbZJLUau6SzezpV1rAAAAzElEQVS3vK7YsW++/16SdGOL5qoaHGxjFoAyyieh+P7ECd39/Mxix858/OWieYqoVMcXMwAAl8EnoYgIq6OCNSt98VBXrCHxnTUkvrPtGQDKIH48FgBgRCgAAEaEAgBgRCgAAEaEAgBgRCgAAEaEAgBgRCgAAEaEAgBgRCgAAEaEAgBgRCgAAEaEAgBgRCgAAEaEAgBgFODxeH7+kwEBP0g64Ls5AACLwj0eT+3zDxpDAQAAt54AAEaEAgBgRCgAAEaEAgBgRCgAAEb/D6pukgfDJAyDAAAAAElFTkSuQmCC\n",
      "text/plain": [
       "<Figure size 504x504 with 1 Axes>"
      ]
     },
     "metadata": {
      "needs_background": "light"
     },
     "output_type": "display_data"
    },
    {
     "name": "stdout",
     "output_type": "stream",
     "text": [
      "\n",
      "Solution not found after 2 iterations\n",
<<<<<<< HEAD
      "time taken is 0.194100 seconds\n"
=======
      "time taken is 0.018457 seconds\n"
>>>>>>> 2b2204bd733fac5c4888d08907c415b34879f42a
     ]
    }
   ],
   "source": [
    "easy1 = '..3.2.6..9..3.5..1..18.64....81.29..7.......8..67.82....26.95..8..2.3..9..5.1.3..'\n",
    "harder1 = '4173698.5.3..........7......2.....6.....8.4......1.......6.3.7.5..2.....1.4......'\n",
    "e = Sudoku(easy1)\n",
    "e.display(e.infer_assignment())\n",
    "\n",
    "implementAC1(e)\n",
    "\n",
    "print('\\nHarder problem\\n')\n",
    "e = Sudoku(harder1)\n",
    "e.display(e.infer_assignment())\n",
    "\n",
    "implementAC1(e)"
   ]
  },
  {
   "cell_type": "markdown",
   "metadata": {},
   "source": [
    "## AC-3 <a name=\"ac3\"></a>\n",
    "\n",
    "In AC-1, the domain of a variable is changed by deleting the values in the variable’s domain that are arc inconsistent with another variable. We notice that everytime the domain of the variable shrinks, some equivalent values in other variables now become inconsistent. AC-1 doesn’t take advantage of this and hence it must be run iteratively until the domain of all the variables don’t change. AC-3, on the contrary, tries to take advantage of this fact by using a queue that has information about the next arcs to be checked based on the modifications made in the current iteration. This leads to a much faster constraint propagation. The algorithm is described below\n",
    "\n",
    "<img src=\"images/Algorithm_3.png\">"
   ]
  },
  {
   "cell_type": "code",
<<<<<<< HEAD
   "execution_count": 32,
=======
   "execution_count": 3,
>>>>>>> 2b2204bd733fac5c4888d08907c415b34879f42a
   "metadata": {},
   "outputs": [
    {
     "data": {
      "image/png": "iVBORw0KGgoAAAANSUhEUgAAAYoAAAGKCAYAAAASfgYQAAAABHNCSVQICAgIfAhkiAAAAAlwSFlzAAALEgAACxIB0t1+/AAAADl0RVh0U29mdHdhcmUAbWF0cGxvdGxpYiB2ZXJzaW9uIDMuMC4xLCBodHRwOi8vbWF0cGxvdGxpYi5vcmcvDW2N/gAAIABJREFUeJzt3X9YzWfjB/D3KUXhVBNpfpR+opWScLb5UcyKLZthphoiNMba8LA90zdaaYZtjw2bX1/bgzVhKzwSWyGtFb5ro4R5NkST6GwllfP94/vV1rJ7NJ27u+f9ui5X1+c+l+t+X3efep/78zmdozEYDCAiIvojJrIDEBFR08aiICIiIRYFEREJsSiIiEiIRUFEREItRA+aaDQGi5YtjZWlwQwm6vSd5tYt2RHuyo2qKrRU4HuvynoC6pynlZU30MrMXHaMP6XKegLqnKfllZVXDAZD+9+PC4vComVLXE/a0nip7pOKgUNlR7hrFhlpsiPclb6vL0Z6errsGH9KlfUE1DlPB/f2wVdvL5Ud40+psp6AOuep2ROj/n2ncXUqmYiIpGBREBGREIuCiIiEWBRERCTEoiAiIiEWBRERCbEoiIhIiEVBRERCLAoiIhJiURARkRCLgoiIhFgUREQkxKIgIiIh4bvHUtOUdCgTb+9MxqkLF/DLjUo4dGiPEP9BmPPMUzA3M5MdT0nbDmXinwe+xNHTZ3G9vBxunR7Ey6NGYtygAbKjKau6pgbLt3+GDan78cNPP6G9lRbPPPowlkWEy45G94hFoaASvR7+vTzxyqiRsG7TGl+fKsSizYm4VHoN70ZGyI6npLd3fI5uHe3wVsQk2Gq12JOTi7ClK3ClrAwznxwhO56Swlf8A19+k4e/PzcW3Tt3xo9XruDkDz/KjkUNwKJQ0NSgx+scD/byRFl5BVbt2oN3pk+BRqORlExdOxe+Clsrbe2xfy9PFF0txTs7k1kUDbA39yg+PXgYuf9Yjp5du8iOQ38R71E0Ew+0bYub1dWyYyjrtyVxm7dTN1wsuSohjfo27jsAfy9PlkQzwaJQWE1NDcpvVOLQdyfxXvIuTAt6nLuJ+ygrvwCunR6UHUNJ2QWn4NrJHrNWfYgHxoRA+8w4jHkjgcWrKF56UpjV6PGorKoCAIQGDEZC+AS5gZqRA8e/wWdZ2fhw9gzZUZR0qfQaNu3/Al7dHPHPeS9DX1GBBRs2YfQbCTi8bAmf0CiGRaGwjKVxKK+8ia9PFeKNrYmYtfpDrHxhmuxYyjt3uRhhb61AcD8/TBgaIDuOkgwADAZg+98XoJ22LQDA/gEbBMx/HV/8Tx4CvL3kBqR7wqJQWG8XZwDAox49YKtti/AV/0DU0yPhbN9RcjJ1XdXr8WT0YnRt3x6b5kTJjqMsmzat0c3OrrYkAOCRnj1g3qIFTvz4I4tCMbxH0Uz4ODsBAM5dviw5ibrKb1RiZEwcblZX47PoV2HZqqXsSMrq3rkzDDDUGzcAMNHw145q+B1rJjJP5gMAHO3sJCdRU3VNDcYtWYrTF4uQEvM6Olhby46ktBF9ffHtuR9w5XpZ7djBb0+gqroaXt0cpeWihuGlJwWNWLgIQ7y90LNrV5iamCDzZD5W7PgcYwc8wstODTTz/Q+wJ+colk+djBK9HiX5BbWP+Tg7oSX/4v2eTAkchpXJu/HUojjMH/sM9BUVeHXjRxji7YVHPXrIjkf3iEWhoD6uLtiU9gXOFf+EFqYm6NbRDrETQjDtd3+IR3cv7dhxAMDLH6yr91jhutVwtOtg7EhK01paIvWNGEStWYeQN5fDvEULPNm/L5ZFTJIdjRqARaGgmLDxiAkbLztGs3J6/RrZEZodlwftkRzzd9kx6D7gPQoiIhJiURARkRCLgoiIhFgUREQkxKIgIiIhFgUREQmxKIiISIhFQUREQiwKIiISYlEQEZEQi4KIiIRYFEREJMSiICIiIRYFEREJCd9m3GBigoqBQ42VpcEsMtJkR7hrKqwnAGj0c5VYV1XWE1DnPDW01SqxrqqsJ6DWeXon3FEQEZEQi4KIiIRYFEREJMSiICIiIRYFEREJsSiIiEiIRUFEREIsCiIiEmJREBGREIuCiIiEWBRERCTEoiAiIiEWBRERCbEoiIhIyGhFkZKSAp1OB1tbW3h6emLlypXGmpokSjqUiQFzFsDuuefR5uln4TFtJuK2foqbVVWyoynpv9MOwOyJUfX+rdm9V3Y0MoIzZ85g9uzZ0Ol0sLa2xvDhw40yr/DzKO6XrKwshISEICwsDLGxscjJycHChQuh0WgwY8YMY0QgSUr0evj38sQro0bCuk1rfH2qEIs2J+JS6TW8GxkhO56y9sXFoJW5ee2xU0c7iWnIWPLz85Gamgo/Pz9UGfHJllGKYsmSJejfv3/tLmLIkCG4fv06EhISEBERAfPfnPDUvEwNerzO8WAvT5SVV2DVrj14Z/oUaDQaScnU1sfVBW0sLGTHICMLCgrCiBEjAABhYWEoKSkxyrxGufSUl5cHf3//OmMBAQG4du0asrOzjRGBmpAH2rbFzepq2TGIlGNiIue2slFmraysrLdruH1cUFBgjAgkWU1NDcpvVOLQdyfxXvIuTAt6nLuJv8A94gW0Ch4Nj2kz8cEe3p+gxmWUS09OTk44evRonbHc3FwAQGlpqTEikGRWo8ej8v+vqYYGDEZC+AS5gRRlb2ODmNDn4Ofmippbt/BJxiHMeG8Nyitv4qWnnpQdj5opoxRFeHg4XnrpJWzcuBEjR45Ebm5u7f0KWVspMq6MpXEor7yJr08V4o2tiZi1+kOsfGGa7FjKGebrg2G+PrXHgX16o7LqJuI/+RSzgkfw54kahVHOqrCwMEyePBlRUVFwcHBAaGgo5s2bBwCws+OrNf4T9HZxxqMePRD1dDBWTJ2MNbv34kzRJdmxmoVRjzyMq/qfca64WHYUaqaMUhSmpqZYtmwZzp49iyNHjuD06dPw8/MDgNqv9J/Dx9kJAHDu8mXJSZoHTe1X3vOhxmGUS0+32djYwMbGBgCwdu1a9OvXD25ubsaMQE1A5sl8AIAjd5P3xfbDR2Cr1cKhQ3vZUaiZMkpRZGdnIysrC56entDr9di2bRv279+PvXv5ao3mbsTCRRji7YWeXbvC1MQEmSfzsWLH5xg74BE423eUHU85Y+PehJ+bCzwdHVFz6xYSDx5G4sHDWDFtMu9P/AcoLy9HamoqAODixYvQ6/XYuXMnAGDYsGGwtLRslHmNUhRmZmZISkpCfHw8TExMoNPpkJqaCg8PD2NMTxL1cXXBprQvcK74J7QwNUG3jnaInRCCab/7Qzy6O26dHsTGfQfw45UrMBiAHl06Y8PLsxAaMFh2NDKCn376Cc8//3ydsdvHeXl5cHBwaJR5jVIUPj4+SE9PN8ZU1MTEhI1HTNh42TGajdgJoYidECo7Bkni4OCAsrIyo8/LvSoREQmxKIiISIhFQUREQiwKIiISYlEQEZEQi4KIiIRYFEREJMSiICIiIRYFEREJsSiIiEiIRUFEREIsCiIiEmJREBGREIuCiIiEWBRERCQk/DwKza1bsMhIM1aWBqsYOFR2hLumwnoCgKGtVol1VWU9AXXOU41+rhLrqsp6Amqdp3fCHQUREQmxKIiISIhFQUREQiwKIiISYlEQEZEQi4KIiIRYFEREJMSiICIiIRYFEREJsSiIiEiIRUFEREIsCiIiEmJREBGREItCUacvFiFy5Sr4zIxCy+DRGDL/ddmR7mjbtm0YMGAA7O3t4e7ujqlTp6KoqEh2LKVVV1dj+fLl8Pb2hq2tLbp374758+fLjiV04UoJrEePh9kTo/BzRYXsOHSPhG8zTk3XiR9+xL9yjqKfuxuqq6tlx7mj3bt3Izw8HBEREVi8eDEuXbqE2NhYjBkzBhkZGTAx4fOUhpg+fToyMjIwf/58uLm54fz58ygoKJAdS2j+hk1o06oVfrlxQ3YUagAWhaKe6NsHwf37AgCejXsTV8r0khPVl5iYCG9vbyxbtqx2TKvVYty4cSgsLIS7u7vEdGrat28ftm/fjszMTHTv3l12nLty8NvvsDf3GOaPHYW/rd8kOw41AItCUSo8G6+uroZWq60zZmVlBQAwGAwyIinv448/xsCBA5UpiZqaGsxevRavPTcG1q1by45DDdT0f9uQskJDQ5GZmYnNmzejrKwMhYWFWLx4MQYNGqTML7qmJicnBy4uLnjllVfQqVMn2NnZISQkpMne91mzJxU3q6vxwogg2VHoL2BRUKMJDAzEqlWrMHv2bHTu3Bm+vr6oqanBRx99JDuasi5fvozNmzcjLy8P69evx/vvv4/jx49j/PjxTW6XVlKmx399vAVLJ0+EWQtevFAZv3vUaDIyMhAVFYXIyEg89thjKC4uRnx8PEJCQvD555/D1NRUdkTlGAwGGAwGbNmyBe3atQMAdOzYEUFBQUhPT8fgwYPlBvyN1zf9E/3c3RDk5ys7Cv1FLApqNK+99hqCgoKwaNGi2jEvLy/4+vpi165dCA4OlphOTdbW1nB0dKwtCQDQ6XQwNzdHfn5+kymK7/79AzamHcCBJYtx7edfAADllZUAgOu/lMPUxAQWLVvKjEj3gEVBjebUqVMYPXp0nTFXV1dYWFjg+++/l5RKbe7u7rhxh5eYGgyGJvUCh9MXi1BVXY0BcxbUe8xxYgQmDRuCD2bNkJCMGoJFQY2mS5cuOH78eJ2xgoICVFRUoGvXrpJSqS0wMBBxcXEoKSmp3VUcPnwYVVVV8PT0lJzuV4/07IG0uEV1xvYePYal23Yg+b/+jm4d7SQlo4ZgUSiq/EYl9uTkAgAulFyFvqICSYcyAQBBfXxh2Ur+tj48PBwLFiyAvb197T2KhIQEODg4YNiwYbLjKWnixIlYvXo1xo4dizlz5kCv1yM6Ohr+/v7Q6XSy49WytdJikNdDdcbOFRcDAB716IE2FhYyYlEDsSgUVXz9OsYteavO2O3jwnWr4diqg4xYdURGRsLc3Bzr1q3D+vXrYWVlBZ1Oh+joaLTma+obRKvVIjk5GfPmzcOkSZNgbm6O4cOHIz4+XnY0asZYFIpytOuAqpTtsmMIaTQaTJkyBVOmTJEdpVlxdnZGUlKS7Bj3bMLQAEwYGiA7BjVA07n7RURETRKLgoiIhFgUREQkxKIgIiIhFgUREQmxKIiISIhFQUREQiwKIiISYlEQEZEQi4KIiIRYFEREJMSiICIiIRYFEREJsSiIiEiIRUFEREIag8Hwhw+ampoaevXqZcQ4DaPRl8mOcNcMbbWyI9yVghMn0L1LZ9kx/pQq6wmoc56evHAR3bt3lx3jT6mynoA65+mxY8dyDQZDn9+PC4vC0tLScPny5UYNdj9YZKTJjnDXKgYOlR3hrgzu7YOv3l4qO8afUmU9AXXO076vL0Z6errsGH9KlfUE1DlPtVrtHYuCl56IiEiIRUFEREIsCiIiEmJREBGREIuCiIiEWBRERCTEoiAiIiEWBRERCbEoiIhIiEVBRERCLAoiIhJiURARkRCLgoiIhFgUitq2bRsGDBgAe3t7uLu7Y+rUqSgqKpIdq57TF4sQuXIVfGZGoWXwaAyZ/7rsSErbdigTTy+Kg8PzU2A9ejz6zp6DrekHZce6o5SUFOh0Otja2sLT0xMrV66UHYkaiEWhoN27dyM8PBx9+/bFli1bEBMTg8zMTIwZMwa3bt2SHa+OEz/8iH/lHIV7pwfh9qC97DjKe3vH52hjYYG3IiZhx+sLMNjrIYQtXYGVybtkR6sjKysLISEh8PX1xSeffILQ0FAsXLgQ7733nuxo1AAtZAege5eYmAhvb28sW7asdkyr1WLcuHEoLCyEu7u7xHR1PdG3D4L79wUAPBv3Jq6U6SUnUtvOha/C1urXD8Hx7+WJoquleGdnMmY+OUJisrqWLFmC/v371+4ihgwZguvXryMhIQEREREwNzeXnJDuBXcUCqquroZWW/cTs6ysrAAAog+iksHEhKfY/fTbkrjN26kbLpZclZDmj+Xl5cHf37/OWEBAAK5du4bs7GxJqaih+FOsoNDQUGRmZmLz5s0oKytDYWEhFi9ejEGDBinxEZZ0f2XlF8C104OyY9RRWVlZb9dw+7igoEBGJPoLWBQKCgwMxKpVqzB79mx07twZvr6+qKmpwUcffSQ7GhnZgePf4LOsbEQ9HSw7Sh1OTk44evRonbHc3FwAQGlpqYxI9BewKBSUkZGBqKgoREZGYteuXdiwYQNKS0sREhKCmpoa2fHISM5dLkbYWysQ3M8PE4YGyI5TR3h4OFJSUrBx40aUlpYiLS2t9n4FL0eqhzezFfTaa68hKCgIixYtqh3z8vKCr68vdu3aheDgpvXsku6/q3o9noxejK7t22PTnCjZceoJCwtDXl4eoqKiMGvWLFhaWiImJgZz586FnZ2d7Hh0j1jtCjp16hS8vLzqjLm6usLCwgLff/+9pFRkLOU3KjEyJg43q6vxWfSrsGzVUnakekxNTbFs2TKcPXsWR44cwenTp+Hn5wcAtV9JHdxRKKhLly44fvx4nbGCggJUVFSga9euklKRMVTX1GDckqU4fbEIGUvj0MHaWnYkIRsbG9jY2AAA1q5di379+sHNzU1yKrpXLAoFhYeHY8GCBbC3t8djjz2G4uJiJCQkwMHBAcOGDZMdr47yG5XYk/N/NzEvlFyFvqICSYcyAQBBfXyb5LPhpmzm+x9gT85RLJ86GSV6PUryf30FkY+zE1qamUlM96vs7GxkZWXB09MTer0e27Ztw/79+7F3717Z0agBWBQKioyMhLm5OdatW4f169fDysoKOp0O0dHRaN26tex4dRRfv45xS96qM3b7uHDdaji26iAjlrLSjv3fTvLlD9bVe6xw3Wo42jWN9TQzM0NSUhLi4+NhYmICnU6H1NRUeHh4yI5GDcCiUJBGo8GUKVMwZcoU2VH+lKNdB1SlbJcdo9k4vX6N7Ah3xcfHB+np6bJj0H3Cm9lERCTEoiAiIiEWBRERCbEoiIhIiEVBRERCLAoiIhJiURARkRCLgoiIhFgUREQkxKIgIiIhFgUREQmxKIiISIhFQUREQiwKIiISEr7NuObWLVhkpBkrS4NVDBwqO8JdU2E9AcDQVqvEuqqynoA656lGP1eJdVVlPQG1ztM74Y6CiIiEWBRERCTEoiAiIiEWBRERCbEoiIhIiEVBRERCLAoiIhJiURARkRCLgoiIhFgUREQkxKIgIiIhFgUREQmxKIiISIhFQUREQsK3Gb9fhsx/HRnffnfHxzKWxkPXw90YMYiIlPZJ+iG8tX0HCi8UwcrSEv69PBE3MQwPtnugUec1SlH844WpKCsvrzMW88+tOH7me/i5uRgjAhGR0pK/ykbo0uWIHBGEhEkTUFRaiuiPNiM45g1kv70UJiaNd4HIKEXRs2uXOsc3q6qQW3gGYwY8ghampsaIQESktK1fHoSPsxPejYyoHdNaWmDU4iUouHARPbp0brS5pdyj2Hv0GEp//hnjBj0qY3oiIuVU1dTAqrVlnTHr1q0BAAaDoVHnllIUiRmH0dm2HR716CljeiIi5Ux8LACHvjuJj/Z/gbLycpy6cBELP9oCfy/Peldt7jejF0X5jUokf/U1Rj/6MDQajbGnJyJS0nC/Plj30kxErlyNdmND4TFtJmpu1SDx1XmNPrfRiyIl+2v8cuMGnh00wNhTExEp68tv8jDj/TV4MXgE0uIW4Z/zXkap/meMfiMBNTU1jTq3UW5m/1ZixiG42Nujjytf7UREdLfmrtuIJ/r6IX7S87VjvZy64aHpL+Lzr77G0w/3b7S5jbqjuP7LL/hX7jE8y5vYRET3pOD8BXg7dasz5t65EyxamuNs0aVGnduoRbHzyFeorKriZScionvk0L49jp05W2fs5I/nUVF5Ew52HRp1bqNeekrMOASvbo6N+npfIqLmKCLoccxZuwH2D9ggsE9vXC69hje2fgpHuw4I6tO7Uec2WlFcuV6GA/+Th5jQ54w1JRFRs/Fi8AiYm7XAmt178cGeVFi3bo1HPLojdkIoWrdq1ahzG60obK20qPjsU2NNR0TUrGg0GkwfHojpwwONPjffPZaIiIRYFEREJMSiICIiIRYFEREJsSiIiEiIRUFEREIsCiIiEmJREBGREIuCiIiEWBRERCTEoiAiIiEWBRERCbEoiIhIiEVBRERCLAoiIhISfh6FwcQEFQOHGitLg1lkpMmOcNdUWE8A0OjnKrGuqqwnoM55amirVWJdVVlPQK3z9E64oyAiIiEWBRERCbEoiIhIiEVBRERCLAoiIhJiURARkRCLgoiIhFgUREQkxKIgIiIhFgUREQmxKIiISIhFQUREQiwKIiISEr57LDVd1dXVePfdd7Fp0yacP38etra2eOqpp7BkyRLZ0eoYMv91ZHz73R0fy1gaD10PdyMnUt8n6Yfw1vYdKLxQBCtLS/j38kTcxDA82O4B2dFq7dixA1u3bsXx48dRVlYGV1dXvPjiixgzZozsaNQALApFTZ8+HRkZGZg/fz7c3Nxw/vx5FBQUyI5Vzz9emIqy8vI6YzH/3IrjZ76Hn5uLpFTqSv4qG6FLlyNyRBASJk1AUWkpoj/ajOCYN5D99lKYmDSNiwQrV66Eg4MD4uPj0a5dO6SmpmLy5MkoKSnB9OnTZceje8SiUNC+ffuwfft2ZGZmonv37rLjCPXs2qXO8c2qKuQWnsGYAY+ghamppFTq2vrlQfg4O+HdyIjaMa2lBUYtXoKCCxfRo0tniel+lZiYiHbt2tUeDxo0CEVFRXjvvfdYFApqGk8/6J58/PHHGDhwYJMviTvZe/QYSn/+GeMGPSo7ipKqampg1dqyzph169YAAIPBICPSHf22JG7r1asXioqKJKShv4pFoaCcnBy4uLjglVdeQadOnWBnZ4eQkBAlfggTMw6js207POrRU3YUJU18LACHvjuJj/Z/gbLycpy6cBELP9oCfy/Peru3piY7OxsuLrzcqCIWhYIuX76MzZs3Iy8vD+vXr8f777+P48ePY/z48U3qWeXvld+oRPJXX2P0ow9Do9HIjqOk4X59sO6lmYhcuRrtxobCY9pM1NyqQeKr82RHE/ryyy+RkpKCF198UXYUagDeo1CQwWCAwWDAli1barf4HTt2RFBQENLT0zF48GC5Af9ASvbX+OXGDTw7aIDsKMr68ps8zHh/DV4MHoFA3964fO0aFm/+BKPfSMDe2GiYNsH7Pv/+978xefJkjBgxAiEhIbLjUAOwKBRkbW0NR0fHOteBdTodzM3NkZ+f32SLIjHjEFzs7dHHlZcfGmruuo14oq8f4ic9XzvWy6kbHpr+Ij7/6ms8/XB/ienqu3r1Kp555hl06dIFa9eulR2HGoiXnhTk7u5+x0tMBoOhybw88veu//IL/pV7DM/yJvZfUnD+ArydutUZc+/cCRYtzXG26JKkVHdWXl6OsWPH4ubNm/j0009haWn55/+JmqSm+VuFhAIDA3HixAmUlJTUjh0+fBhVVVXw9PSUmOyP7TzyFSqrqnjZ6S9yaN8ex86crTN28sfzqKi8CQe7DpJS1VddXY3nn38eZ86cwfbt29G+fXvZkegv4KUnBU2cOBGrV6/G2LFjMWfOHOj1ekRHR8Pf3x86nU52vDtKzDgEr26OTeZ1/qqKCHocc9ZugP0DNgjs0xuXS6/hja2fwtGuA4L69JYdr9bLL7+M1NRUJCQk4OrVq8jOzq59rFevXmjZsqXEdHSvWBQK0mq1SE5Oxrx58zBp0iSYm5tj+PDhiI+Plx3tjq5cL8OB/8lDTOhzsqMo78XgETA3a4E1u/figz2psG7dGo94dEfshFC0btVKdrxaBw4cAAD87W9/q/dYXl4eHBwcjB2J/gIWhaKcnZ2RlJQkO8ZdsbXSouKzT2XHaBY0Gg2mDw/E9OGBsqMIffvtt7Ij0H3EexRERCTEoiAiIiEWBRERCbEoiIhIiEVBRERCLAoiIhJiURARkRCLgoiIhFgUREQkxKIgIiIhFgUREQmxKIiISIhFQUREQiwKIiISYlEQEZGQ5k6fvXybqamJwdvJyYhxGsbQVis7wl3T6MtkR7grJy9cRPfu3WXH+FOqrCegznlacOIEuivwSYSqrCegznl69PSZXIPB0Of348IPLmplZo6v3l7aeKnuk4qBQ2VHuGsWGWmyI9yVvq8vRnp6uuwYf0qV9QTUOU8H9/bhz/19psp5avbEqDuO89ITEREJsSiIiEiIRUFEREIsCiIiEmJREBGREIuCiIiEWBRERCTEoiAiIiEWBRERCbEoiIhIiEVBRERCLAoiIhJiURARkRCLQkHbDmXi6UVxcHh+CqxHj0ff2XOwNf2g7Fh3VF1djeXLl8Pb2xu2trbo3r075s+fLzuW0lJSUqDT6WBrawtPT0+sXLlSdqR6/jvtAMyeGFXv35rde2VHowYQvs04NU1v7/gc3Tra4a2ISbDVarEnJxdhS1fgSlkZZj45Qna8OqZPn46MjAzMnz8fbm5uOH/+PAoKCmTHUlZWVhZCQkIQFhaG2NhY5OTkYOHChdBoNJgxY4bsePXsi4tBK3Pz2mOnjnYS01BDsSgUtHPhq7C1+vVDW/x7eaLoaine2ZncpIpi37592L59OzIzM5X4ECQVLFmyBP3796/dRQwZMgTXr19HQkICIiIiYP6bX8pNQR9XF7SxsJAdg/4iXnpS0G9L4jZvp264WHJVQpo/9vHHH2PgwIEsifsoLy8P/v7+dcYCAgJw7do1ZGdnS0pFzR2LopnIyi+Aa6cHZceoIycnBy4uLnjllVfQqVMn2NnZISQkBEVFRbKjKauysrLeruH2cVO8pOce8QJaBY+Gx7SZ+GAP70+oipeemoEDx7/BZ1nZ+HB207pGffnyZWzevBkPPfQQ1q9fj59//hkLFy7E+PHjceDAAWg0GtkRlePk5ISjR4/WGcvNzQUAlJaWyoh0R/Y2NogJfQ5+bq6ouXULn2Qcwoz31qC88iZeeupJ2fHoHrEoFHfucjHC3lqB4H5+mDA0QHacOgwGAwwGA7Zs2YJ27doBADp27IigoCCkp6d5n3HQAAAMCElEQVRj8ODBcgMqKDw8HC+99BI2btyIkSNHIjc3t/Z+hYlJ07lAMMzXB8N8fWqPA/v0RmXVTcR/8ilmBY9oUlnpz/G7pbCrej2ejF6Mru3bY9OcKNlx6rG2tkbPnj1rSwIAdDodzM3NkZ+fLzGZusLCwjB58mRERUXBwcEBoaGhmDdvHgDAzq5pv6Jo1CMP46r+Z5wrLpYdhe4Ri0JR5TcqMTImDjerq/FZ9KuwbNVSdqR63N3dYTAY6o0bDAY+o2wgU1NTLFu2DGfPnsWRI0dw+vRp+Pn5AUDt16ZKU/uVlxxVw59WBVXX1GDckqU4fbEIKTGvo4O1texIdxQYGIgTJ06gpKSkduzw4cOoqqqCp6enxGTqs7GxgYeHB9q0aYO1a9eiX79+cHNzkx1LaPvhI7DVauHQob3sKHSPeI9CQTPf/wB7co5i+dTJKNHrUZL/66tdfJyd0NLMTGK6X02cOBGrV6/G2LFjMWfOHOj1ekRHR8Pf3x86nU52PCVlZ2cjKysLnp6e0Ov12LZtG/bv34+9e5vWK4rGxr0JPzcXeDo6oubWLSQePIzEg4exYtpk7iYVxKJQUNqx4wCAlz9YV++xwnWr4WjXwdiR7kir1SI5ORnz5s3DpEmTYG5ujuHDhyM+Pl52NGWZmZkhKSkJ8fHxMDExgU6nQ2pqKjw8PGRHq8Ot04PYuO8AfrxyBQYD0KNLZ2x4eRZCAwbLjkYNwKJQ0On1a2RHuGvOzs5ISkqSHaPZ8PHxQXp6uuwYfyp2QihiJ4TKjkH3CfeAREQkxKIgIiIhFgUREQmxKIiISIhFQUREQiwKIiISYlEQEZEQi4KIiIRYFEREJMSiICIiIRYFEREJsSiIiEiIRUFEREIsCiIiEhK+zbjBxAQVA4caK0uDWWSkyY5w11RYTwDQ6Ocqsa6qrCegznlqaKtVYl1VWU9ArfP0TrijICIiIRYFEREJsSiIiEiIRUFEREIsCiIiEmJREBGREIuCiIiEWBRERCTEoiAiIiEWBRERCbEoiIhIiEVBRERCLAoiIhJiURARkZDRimLbtm0YMGAA7O3t4e7ujqlTp6KoqMhY05ME2w5l4ulFcXB4fgqsR49H39lzsDX9oOxYSks6lIkBcxbA7rnn0ebpZ+ExbSbitn6Km1VVsqOREaSkpECn08HW1haenp5YuXKlUeYVfh7F/bJ7926Eh4cjIiICixcvxqVLlxAbG4sxY8YgIyMDJibc2DRHb+/4HN062uGtiEmw1WqxJycXYUtX4EpZGWY+OUJ2PCWV6PXw7+WJV0aNhHWb1vj6VCEWbU7EpdJreDcyQnY8akRZWVkICQlBWFgYYmNjkZOTg4ULF0Kj0WDGjBmNOrdRiiIxMRHe3t5YtmxZ7ZhWq8W4ceNQWFgId3d3Y8QgI9u58FXYWmlrj/17eaLoaine2ZnMomigqUGP1zke7OWJsvIKrNq1B+9MnwKNRiMpGTW2JUuWoH///rW7iCFDhuD69etISEhAREQEzM3NG21uozyVr66uhlarrTNmZWUFADAYDMaIQBL8tiRu83bqhoslVyWkab4eaNsWN6urZcegRpaXlwd/f/86YwEBAbh27Rqys7MbdW6jFEVoaCgyMzOxefNmlJWVobCwEIsXL8agQYPQvXt3Y0SgJiIrvwCunR6UHUN5NTU1KL9RiUPfncR7ybswLehx7iaaucrKynq7htvHBQUFjTq3US49BQYGYtWqVZg5cyamT58OAOjXrx+2bt1qjOmpiThw/Bt8lpWND2c37vXU/wRWo8ej8v9vYIcGDEZC+AS5gajROTk54ejRo3XGcnNzAQClpaWNOrdRdhQZGRmIiopCZGQkdu3ahQ0bNqC0tBQhISGoqakxRgSS7NzlYoS9tQLB/fwwYWiA7DjKy1gahy8S3sCbkyci+atszFr9oexI1MjCw8ORkpKCjRs3orS0FGlpabX3Kxr7BUFG2VG89tprCAoKwqJFi2rHvLy84Ovri127diE4ONgYMUiSq3o9noxejK7t22PTnCjZcZqF3i7OAIBHPXrAVtsW4Sv+gainR8LZvqPkZNRYwsLCkJeXh6ioKMyaNQuWlpaIiYnB3LlzYWdn16hzG2VHcerUKXh5edUZc3V1hYWFBb7//ntjRCBJym9UYmRMHG5WV+Oz6Fdh2aql7EjNjo+zEwDg3OXLkpNQYzI1NcWyZctw9uxZHDlyBKdPn4afnx8A1H5tLEbZUXTp0gXHjx+vM1ZQUICKigp07drVGBFIguqaGoxbshSnLxYhY2kcOlhby47ULGWezAcAODbys0pqGmxsbGBjYwMAWLt2Lfr16wc3N7dGndMoRREeHo4FCxbA3t4ejz32GIqLi5GQkAAHBwcMGzbMGBFIgpnvf4A9OUexfOpklOj1KMn/9ZUZPs5OaGlmJjGdmkYsXIQh3l7o2bUrTE1MkHkyHyt2fI6xAx7hZadmLjs7G1lZWfD09IRer8e2bduwf/9+7N27t9HnNkpRREZGwtzcHOvWrcP69ethZWUFnU6H6OhotG7d2hgRSIK0Y/+3i3z5g3X1HitctxqOdh2MHUl5fVxdsCntC5wr/gktTE3QraMdYieEYNrv/hCPmh8zMzMkJSUhPj4eJiYm0Ol0SE1NhYeHR6PPbZSi0Gg0mDJlCqZMmWKM6aiJOL1+jewIzU5M2HjEhI2XHYMk8PHxQXp6upS5+SZLREQkxKIgIiIhFgUREQmxKIiISIhFQUREQiwKIiISYlEQEZEQi4KIiIRYFEREJMSiICIiIRYFEREJsSiIiEiIRUFEREIsCiIiEmJREBGRkPDzKDS3bsEiI81YWRqsYuBQ2RHumgrrCQCGtlol1lWV9QTUOU81+rlKrKsq6wmodZ7eCXcUREQkxKIgIiIhFgUREQmxKIiISIhFQUREQiwKIiISYlEQEZEQi4KIiIRYFEREJMSiICIiIRYFEREJsSiIiEiIRUFERELCd4+lpum/0w5gytsr642vfGEapg1/XEIi9Z2+WIRl23ciK/8UTvzwIx7t2QP7lyyWHUtZSYcy8fbOZJy6cAG/3KiEQ4f2CPEfhDnPPAVzMzPZ8egesSgUti8uBq3MzWuPnTraSUyjthM//Ih/5RxFP3c3VFdXy46jvBK9Hv69PPHKqJGwbtMaX58qxKLNibhUeg3vRkbIjkf3iEWhsD6uLmhjYSE7RrPwRN8+CO7fFwDwbNybuFKml5xIbVOD6u5sB3t5oqy8Aqt27cE706dAo9FISkYNwXsURABMTPij0NgeaNsWN7lbUxJ3FApzj3gBJWV6ONt3xOynnqz3LI5ItpqaGlRWVePombN4L3kXpgU9zt2EglgUCrK3sUFM6HPwc3NFza1b+CTjEGa8twbllTfx0lNPyo5HVMtq9HhUVlUBAEIDBiMhfILcQNQgLAoFDfP1wTBfn9rjwD69UVl1E/GffIpZwSN4GYWajIylcSivvImvTxXija2JmLX6Q6x8YZrsWHSP+BulmRj1yMO4qv8Z54qLZUchqtXbxRmPevRA1NPBWDF1Mtbs3oszRZdkx6J7xKJoJjS1X3n9l5omH2cnAMC5y5clJ6F7xaJoJrYfPgJbrRYOHdrLjkJ0R5kn8wEAjnb8ex/V8B6FgsbGvQk/Nxd4Ojqi5tYtJB48jMSDh7Fi2mTen2ig8huV2JOTCwC4UHIV+ooKJB3KBAAE9fGFZauWMuMpZ8TCRRji7YWeXbvC1MQEmSfzsWLH5xg74BE423eUHY/uEYtCQW6dHsTGfQfw45UrMBiAHl06Y8PLsxAaMFh2NGUVX7+OcUveqjN2+7hw3Wo4tuogI5ay+ri6YFPaFzhX/BNamJqgW0c7xE4IwTS+hFtJLAoFxU4IReyEUNkxmhVHuw6oStkuO0azERM2HjFh42XHoPuE1ymIiEiIRUFEREIsCiIiEmJREBGREIuCiIiEWBRERCTEoiAiIiEWBRERCbEoiIhIiEVBRERCLAoiIhJiURARkRCLgoiIhFgUREQkxKIgIiIhjcFg+OMHNZqfAPzbeHGIiEgiB4PBUO/zlIVFQURExEtPREQkxKIgIiIhFgUREQmxKIiISIhFQUREQv8LrQhC0XYP+YEAAAAASUVORK5CYII=\n",
      "text/plain": [
       "<Figure size 504x504 with 1 Axes>"
      ]
     },
     "metadata": {
      "needs_background": "light"
     },
     "output_type": "display_data"
    },
    {
     "name": "stdout",
     "output_type": "stream",
     "text": [
      "\n"
     ]
    },
    {
     "data": {
      "image/png": "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\n",
      "text/plain": [
       "<Figure size 504x504 with 1 Axes>"
      ]
     },
     "metadata": {
      "needs_background": "light"
     },
     "output_type": "display_data"
    },
    {
     "name": "stdout",
     "output_type": "stream",
     "text": [
      "\n",
      "Solution found in 1 iterations\n",
<<<<<<< HEAD
      "time taken to solve is 0.323836 seconds\n",
=======
      "time taken to solve is 0.025796 seconds\n",
>>>>>>> 2b2204bd733fac5c4888d08907c415b34879f42a
      "\n",
      "Harder problem\n",
      "\n"
     ]
    },
    {
     "data": {
      "image/png": "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\n",
      "text/plain": [
       "<Figure size 504x504 with 1 Axes>"
      ]
     },
     "metadata": {
      "needs_background": "light"
     },
     "output_type": "display_data"
    },
    {
     "name": "stdout",
     "output_type": "stream",
     "text": [
      "\n"
     ]
    },
    {
     "data": {
      "image/png": "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\n",
      "text/plain": [
       "<Figure size 504x504 with 1 Axes>"
      ]
     },
     "metadata": {
      "needs_background": "light"
     },
     "output_type": "display_data"
    },
    {
     "name": "stdout",
     "output_type": "stream",
     "text": [
      "\n",
      "Solution not found after 2 iterations\n",
<<<<<<< HEAD
      "time taken is 0.197230 seconds\n"
=======
      "time taken is 0.031742 seconds\n"
>>>>>>> 2b2204bd733fac5c4888d08907c415b34879f42a
     ]
    }
   ],
   "source": [
    "easy1 = '..3.2.6..9..3.5..1..18.64....81.29..7.......8..67.82....26.95..8..2.3..9..5.1.3..'\n",
    "harder1 = '4173698.5.3..........7......2.....6.....8.4......1.......6.3.7.5..2.....1.4......'\n",
    "e = Sudoku(easy1)\n",
    "e.display(e.infer_assignment())\n",
    "\n",
    "implementAC3(e)\n",
    "\n",
    "print('\\nHarder problem\\n')\n",
    "e = Sudoku(harder1)\n",
    "e.display(e.infer_assignment())\n",
    "\n",
    "implementAC3(e)"
   ]
  },
  {
   "cell_type": "markdown",
   "metadata": {},
   "source": [
    "## <a name=\"search_in_csps\"></a>2. Search in CSPs\n",
    "\n",
    "Constraint propagation alone is not sufficient to solve many CSPs. In this case, a solution must be found using **search algorithms**.\n",
    "\n",
    "In this section, we will explain different search algorithms used to solve CSPs.\n",
    "The section is organized as follows:\n",
    "\n",
    "a. [Generic Search](#generic_search):\n",
    "    * Formulating CSPs as a state space search problem\n",
    "    * Complexity\n",
    "    * Example: NQueens with generic search (5 Queens)\n",
    "b. [Backtracking Search (BT)](#backtracking):\n",
    "    * Definition\n",
    "    * Complexity\n",
    "    * Example: solving NQueens (15 Queens)\n",
    "c. [Backtracking Search with Forward Checking (BT-FC)](#backtracking_w_fc):\n",
    "    * Definition\n",
    "    * Complexity\n",
    "    * Example: solving NQueens (30 Queens)              \n",
    "d. [**Backtracking while Maintaining Arc Consistency (BT-MAC)**](#backtracking_w_mac):\n",
    "    * Definition\n",
    "    * Complexity\n",
    "    * Example: solving NQueens (30 Queens)\n",
    "    \n",
    "e. BT-DC with Dynamic Variable Ordering:\n",
    "    * Definition\n",
    "    * Complexity\n",
    "    * Example: solving NQueens (1000 Queens)"
   ]
  },
  {
   "cell_type": "markdown",
   "metadata": {},
   "source": [
    "### <a name=\"generic_search\"></a> a. Generic Search\n",
    "\n",
    "#### Formulating CSPs as a state space search problem\n",
    "\n",
    "CSPs can be formulated using the State Space search representation.\n",
    "In particular, we can express a CSP as follows:\n",
    "* **State**:\n",
    "    - We can define as state a **partial assignment** to variables made thus far.\n",
    "    For example, if we have variables $A$, $B$ and $C$ whith respective domains $[a_1, a_2]$, $[b_1, b_2]$, and  $[c_1, c_2]$ a partial assignment would be for example $\\{A=a_2, C=c_1\\}$, another one could be $\\{B=b_2, C=c_2\\}$. In contrast, we consider a **complete assignment** one where all variables would be assigned, such as $\\{A=a_2, B=b_1, C=c_1\\}$. Note that a complete assignment is still a (kind-of) partial assignment.\n",
    "* **Initial State**:\n",
    "    - Initially the state would be **no assignment**, which we can represent as the empty set $\\{\\}$.\n",
    "* **Operator/Action**:\n",
    "    - We also need to define an action/operator to frame a CSP into a State Space search problem.\n",
    "    In our case, this would correspond to the fact of **adding a new assignment**.\n",
    "    In other words, our operator corresponds to the action of assigning a value to a yet unassigned variable $X=x$, which expands the State by one element. For example, if we start from the initial state $\\{\\}$, and we proceed with the action $X=x,$ we end up with a new state $\\{X=x\\}$, which is itself a partial assignment.\n",
    "* **Goal Test**:\n",
    "    - As in all State Space search problems, we need to define what is our goal state.\n",
    "    In our case, this is achieved when all variables are assigned (meaning we have a **complete assignment**) and all constraints are satisfied (which we refer to as a **consistent assignment**).\n",
    "\n",
    "Once the problem is formulated as a State Space search problem, we can use standard search algorithms such as:\n",
    "* Breadth first search\n",
    "* Depth first search\n",
    "* Depth-limited search\n",
    "\n",
    "to solve the given problem.\n",
    "\n",
    "#### Complexity\n",
    "\n",
    "Unfortunately, given a CSP with $n$ variables with a domain size of $d$, results in a branching factor at the top level of $nd$.\n",
    "This is because any of the $n$ variables can be assigned any of $d$ values.\n",
    "Once a variable has been assigned a value, we are still left with $n − 1$ variables which can be assigned $d$ values. By induction, we end up with a tree having $n!d^n ∼ O((nd)^n)$ leaves, which is even larger than the possible $d^n$ complete assignments!\n",
    "\n",
    "Nevertheless, we can observe than in a CSP **the order when assigning variables does not influence the solution**. This property is known as **commutativity**. More specifically, a problem is commutative if the order of application of any given set of actions does no effect on the outcome. Therefore, there is no need to consider all variables at each level of the search tree, but just one at a time. \n",
    "\n",
    "This makes sense intuitvely, for example, if we consider the coloring map problem, we might decide whether to color a certain region red or blue, but we would not decide between coloring one region red or another region blue. Therefore, the number of leaves is reduced to $d^n$, where we just have to decide on an assignment for each variable at a time.\n",
    "\n",
    "#### Example: NQueens with generic search (5 Queens)\n",
    "\n",
    "The N-queens puzzle is the problem of placing N chess queens on an N×N chessboard in a way such that no two queens threaten each other. Here N is a natural number. \n",
    "\n",
    "Thus, no two queens can share a common row, column, or diagonal. We will use the following representation in this problem.\n",
    "- Each variable specifies the row on which a particular queen is placed. Each queen is identified (indexed) with a column of the board. This automatically ensures that the queens will not share columns.\n",
    "- The variable domains are the available row indices.\n",
    "- The constraints between the variables specify that the corresponding queens do not share a row or diagonal.\n",
    "\n",
    "Using the State Space search formulation, we express the NQueens Problem as follows:\n",
    "* **State**:\n",
    "    - We can define as state a **partial assignment** of Queens (variables) made thus far.\n",
    "* **Initial State**:\n",
    "    - Initially the state would be **no assignment**, which, in our case, we represent as a value of -1 for all variables.\n",
    "* **Operator/Action**:\n",
    "    - Our action consists in **adding a new Queen** to the board."
   ]
  },
  {
   "cell_type": "code",
   "execution_count": 4,
   "metadata": {},
   "outputs": [
    {
     "data": {
      "text/html": [
       "<!DOCTYPE html PUBLIC \"-//W3C//DTD HTML 4.01//EN\"\n",
       "   \"http://www.w3.org/TR/html4/strict.dtd\">\n",
       "\n",
       "<html>\n",
       "<head>\n",
       "  <title></title>\n",
       "  <meta http-equiv=\"content-type\" content=\"text/html; charset=None\">\n",
       "  <style type=\"text/css\">\n",
       "td.linenos { background-color: #f0f0f0; padding-right: 10px; }\n",
       "span.lineno { background-color: #f0f0f0; padding: 0 5px 0 5px; }\n",
       "pre { line-height: 125%; }\n",
       "body .hll { background-color: #ffffcc }\n",
       "body  { background: #f8f8f8; }\n",
       "body .c { color: #408080; font-style: italic } /* Comment */\n",
       "body .err { border: 1px solid #FF0000 } /* Error */\n",
       "body .k { color: #008000; font-weight: bold } /* Keyword */\n",
       "body .o { color: #666666 } /* Operator */\n",
       "body .ch { color: #408080; font-style: italic } /* Comment.Hashbang */\n",
       "body .cm { color: #408080; font-style: italic } /* Comment.Multiline */\n",
       "body .cp { color: #BC7A00 } /* Comment.Preproc */\n",
       "body .cpf { color: #408080; font-style: italic } /* Comment.PreprocFile */\n",
       "body .c1 { color: #408080; font-style: italic } /* Comment.Single */\n",
       "body .cs { color: #408080; font-style: italic } /* Comment.Special */\n",
       "body .gd { color: #A00000 } /* Generic.Deleted */\n",
       "body .ge { font-style: italic } /* Generic.Emph */\n",
       "body .gr { color: #FF0000 } /* Generic.Error */\n",
       "body .gh { color: #000080; font-weight: bold } /* Generic.Heading */\n",
       "body .gi { color: #00A000 } /* Generic.Inserted */\n",
       "body .go { color: #888888 } /* Generic.Output */\n",
       "body .gp { color: #000080; font-weight: bold } /* Generic.Prompt */\n",
       "body .gs { font-weight: bold } /* Generic.Strong */\n",
       "body .gu { color: #800080; font-weight: bold } /* Generic.Subheading */\n",
       "body .gt { color: #0044DD } /* Generic.Traceback */\n",
       "body .kc { color: #008000; font-weight: bold } /* Keyword.Constant */\n",
       "body .kd { color: #008000; font-weight: bold } /* Keyword.Declaration */\n",
       "body .kn { color: #008000; font-weight: bold } /* Keyword.Namespace */\n",
       "body .kp { color: #008000 } /* Keyword.Pseudo */\n",
       "body .kr { color: #008000; font-weight: bold } /* Keyword.Reserved */\n",
       "body .kt { color: #B00040 } /* Keyword.Type */\n",
       "body .m { color: #666666 } /* Literal.Number */\n",
       "body .s { color: #BA2121 } /* Literal.String */\n",
       "body .na { color: #7D9029 } /* Name.Attribute */\n",
       "body .nb { color: #008000 } /* Name.Builtin */\n",
       "body .nc { color: #0000FF; font-weight: bold } /* Name.Class */\n",
       "body .no { color: #880000 } /* Name.Constant */\n",
       "body .nd { color: #AA22FF } /* Name.Decorator */\n",
       "body .ni { color: #999999; font-weight: bold } /* Name.Entity */\n",
       "body .ne { color: #D2413A; font-weight: bold } /* Name.Exception */\n",
       "body .nf { color: #0000FF } /* Name.Function */\n",
       "body .nl { color: #A0A000 } /* Name.Label */\n",
       "body .nn { color: #0000FF; font-weight: bold } /* Name.Namespace */\n",
       "body .nt { color: #008000; font-weight: bold } /* Name.Tag */\n",
       "body .nv { color: #19177C } /* Name.Variable */\n",
       "body .ow { color: #AA22FF; font-weight: bold } /* Operator.Word */\n",
       "body .w { color: #bbbbbb } /* Text.Whitespace */\n",
       "body .mb { color: #666666 } /* Literal.Number.Bin */\n",
       "body .mf { color: #666666 } /* Literal.Number.Float */\n",
       "body .mh { color: #666666 } /* Literal.Number.Hex */\n",
       "body .mi { color: #666666 } /* Literal.Number.Integer */\n",
       "body .mo { color: #666666 } /* Literal.Number.Oct */\n",
       "body .sa { color: #BA2121 } /* Literal.String.Affix */\n",
       "body .sb { color: #BA2121 } /* Literal.String.Backtick */\n",
       "body .sc { color: #BA2121 } /* Literal.String.Char */\n",
       "body .dl { color: #BA2121 } /* Literal.String.Delimiter */\n",
       "body .sd { color: #BA2121; font-style: italic } /* Literal.String.Doc */\n",
       "body .s2 { color: #BA2121 } /* Literal.String.Double */\n",
       "body .se { color: #BB6622; font-weight: bold } /* Literal.String.Escape */\n",
       "body .sh { color: #BA2121 } /* Literal.String.Heredoc */\n",
       "body .si { color: #BB6688; font-weight: bold } /* Literal.String.Interpol */\n",
       "body .sx { color: #008000 } /* Literal.String.Other */\n",
       "body .sr { color: #BB6688 } /* Literal.String.Regex */\n",
       "body .s1 { color: #BA2121 } /* Literal.String.Single */\n",
       "body .ss { color: #19177C } /* Literal.String.Symbol */\n",
       "body .bp { color: #008000 } /* Name.Builtin.Pseudo */\n",
       "body .fm { color: #0000FF } /* Name.Function.Magic */\n",
       "body .vc { color: #19177C } /* Name.Variable.Class */\n",
       "body .vg { color: #19177C } /* Name.Variable.Global */\n",
       "body .vi { color: #19177C } /* Name.Variable.Instance */\n",
       "body .vm { color: #19177C } /* Name.Variable.Magic */\n",
       "body .il { color: #666666 } /* Literal.Number.Integer.Long */\n",
       "\n",
       "  </style>\n",
       "</head>\n",
       "<body>\n",
       "<h2></h2>\n",
       "\n",
       "<div class=\"highlight\"><pre><span></span>    <span class=\"k\">def</span> <span class=\"nf\">actions</span><span class=\"p\">(</span><span class=\"bp\">self</span><span class=\"p\">,</span> <span class=\"n\">state</span><span class=\"p\">):</span>\n",
       "        <span class=\"sd\">&quot;&quot;&quot;In the leftmost empty column, try all non-conflicting rows.&quot;&quot;&quot;</span>\n",
       "        <span class=\"k\">if</span> <span class=\"n\">state</span><span class=\"p\">[</span><span class=\"o\">-</span><span class=\"mi\">1</span><span class=\"p\">]</span> <span class=\"ow\">is</span> <span class=\"ow\">not</span> <span class=\"o\">-</span><span class=\"mi\">1</span><span class=\"p\">:</span>\n",
       "            <span class=\"k\">return</span> <span class=\"p\">[]</span>  <span class=\"c1\"># All columns filled; no successors</span>\n",
       "        <span class=\"k\">else</span><span class=\"p\">:</span>\n",
       "            <span class=\"n\">col</span> <span class=\"o\">=</span> <span class=\"n\">state</span><span class=\"o\">.</span><span class=\"n\">index</span><span class=\"p\">(</span><span class=\"o\">-</span><span class=\"mi\">1</span><span class=\"p\">)</span>\n",
       "            <span class=\"k\">return</span> <span class=\"p\">[</span><span class=\"n\">row</span> <span class=\"k\">for</span> <span class=\"n\">row</span> <span class=\"ow\">in</span> <span class=\"nb\">range</span><span class=\"p\">(</span><span class=\"bp\">self</span><span class=\"o\">.</span><span class=\"n\">N</span><span class=\"p\">)</span> <span class=\"k\">if</span> <span class=\"ow\">not</span> <span class=\"bp\">self</span><span class=\"o\">.</span><span class=\"n\">pruning</span> <span class=\"ow\">or</span> <span class=\"ow\">not</span> <span class=\"bp\">self</span><span class=\"o\">.</span><span class=\"n\">conflicted</span><span class=\"p\">(</span><span class=\"n\">state</span><span class=\"p\">,</span> <span class=\"n\">row</span><span class=\"p\">,</span> <span class=\"n\">col</span><span class=\"p\">)]</span>\n",
       "</pre></div>\n",
       "</body>\n",
       "</html>\n"
      ],
      "text/plain": [
       "<IPython.core.display.HTML object>"
      ]
     },
     "metadata": {},
     "output_type": "display_data"
    }
   ],
   "source": [
    "psource(NQueensProblem.actions)"
   ]
  },
  {
   "cell_type": "markdown",
   "metadata": {},
   "source": [
    "* **Goal Test**:\n",
    "    - This state is achieved when all variables are assigned (meaning we have a **complete assignment**) and all constraints are satisfied.\n",
    "\n",
    "Below you can actually see the NQueens Problem coded as a State Search Problem:"
   ]
  },
  {
   "cell_type": "code",
   "execution_count": 5,
   "metadata": {},
   "outputs": [
    {
     "data": {
      "text/html": [
       "<!DOCTYPE html PUBLIC \"-//W3C//DTD HTML 4.01//EN\"\n",
       "   \"http://www.w3.org/TR/html4/strict.dtd\">\n",
       "\n",
       "<html>\n",
       "<head>\n",
       "  <title></title>\n",
       "  <meta http-equiv=\"content-type\" content=\"text/html; charset=None\">\n",
       "  <style type=\"text/css\">\n",
       "td.linenos { background-color: #f0f0f0; padding-right: 10px; }\n",
       "span.lineno { background-color: #f0f0f0; padding: 0 5px 0 5px; }\n",
       "pre { line-height: 125%; }\n",
       "body .hll { background-color: #ffffcc }\n",
       "body  { background: #f8f8f8; }\n",
       "body .c { color: #408080; font-style: italic } /* Comment */\n",
       "body .err { border: 1px solid #FF0000 } /* Error */\n",
       "body .k { color: #008000; font-weight: bold } /* Keyword */\n",
       "body .o { color: #666666 } /* Operator */\n",
       "body .ch { color: #408080; font-style: italic } /* Comment.Hashbang */\n",
       "body .cm { color: #408080; font-style: italic } /* Comment.Multiline */\n",
       "body .cp { color: #BC7A00 } /* Comment.Preproc */\n",
       "body .cpf { color: #408080; font-style: italic } /* Comment.PreprocFile */\n",
       "body .c1 { color: #408080; font-style: italic } /* Comment.Single */\n",
       "body .cs { color: #408080; font-style: italic } /* Comment.Special */\n",
       "body .gd { color: #A00000 } /* Generic.Deleted */\n",
       "body .ge { font-style: italic } /* Generic.Emph */\n",
       "body .gr { color: #FF0000 } /* Generic.Error */\n",
       "body .gh { color: #000080; font-weight: bold } /* Generic.Heading */\n",
       "body .gi { color: #00A000 } /* Generic.Inserted */\n",
       "body .go { color: #888888 } /* Generic.Output */\n",
       "body .gp { color: #000080; font-weight: bold } /* Generic.Prompt */\n",
       "body .gs { font-weight: bold } /* Generic.Strong */\n",
       "body .gu { color: #800080; font-weight: bold } /* Generic.Subheading */\n",
       "body .gt { color: #0044DD } /* Generic.Traceback */\n",
       "body .kc { color: #008000; font-weight: bold } /* Keyword.Constant */\n",
       "body .kd { color: #008000; font-weight: bold } /* Keyword.Declaration */\n",
       "body .kn { color: #008000; font-weight: bold } /* Keyword.Namespace */\n",
       "body .kp { color: #008000 } /* Keyword.Pseudo */\n",
       "body .kr { color: #008000; font-weight: bold } /* Keyword.Reserved */\n",
       "body .kt { color: #B00040 } /* Keyword.Type */\n",
       "body .m { color: #666666 } /* Literal.Number */\n",
       "body .s { color: #BA2121 } /* Literal.String */\n",
       "body .na { color: #7D9029 } /* Name.Attribute */\n",
       "body .nb { color: #008000 } /* Name.Builtin */\n",
       "body .nc { color: #0000FF; font-weight: bold } /* Name.Class */\n",
       "body .no { color: #880000 } /* Name.Constant */\n",
       "body .nd { color: #AA22FF } /* Name.Decorator */\n",
       "body .ni { color: #999999; font-weight: bold } /* Name.Entity */\n",
       "body .ne { color: #D2413A; font-weight: bold } /* Name.Exception */\n",
       "body .nf { color: #0000FF } /* Name.Function */\n",
       "body .nl { color: #A0A000 } /* Name.Label */\n",
       "body .nn { color: #0000FF; font-weight: bold } /* Name.Namespace */\n",
       "body .nt { color: #008000; font-weight: bold } /* Name.Tag */\n",
       "body .nv { color: #19177C } /* Name.Variable */\n",
       "body .ow { color: #AA22FF; font-weight: bold } /* Operator.Word */\n",
       "body .w { color: #bbbbbb } /* Text.Whitespace */\n",
       "body .mb { color: #666666 } /* Literal.Number.Bin */\n",
       "body .mf { color: #666666 } /* Literal.Number.Float */\n",
       "body .mh { color: #666666 } /* Literal.Number.Hex */\n",
       "body .mi { color: #666666 } /* Literal.Number.Integer */\n",
       "body .mo { color: #666666 } /* Literal.Number.Oct */\n",
       "body .sa { color: #BA2121 } /* Literal.String.Affix */\n",
       "body .sb { color: #BA2121 } /* Literal.String.Backtick */\n",
       "body .sc { color: #BA2121 } /* Literal.String.Char */\n",
       "body .dl { color: #BA2121 } /* Literal.String.Delimiter */\n",
       "body .sd { color: #BA2121; font-style: italic } /* Literal.String.Doc */\n",
       "body .s2 { color: #BA2121 } /* Literal.String.Double */\n",
       "body .se { color: #BB6622; font-weight: bold } /* Literal.String.Escape */\n",
       "body .sh { color: #BA2121 } /* Literal.String.Heredoc */\n",
       "body .si { color: #BB6688; font-weight: bold } /* Literal.String.Interpol */\n",
       "body .sx { color: #008000 } /* Literal.String.Other */\n",
       "body .sr { color: #BB6688 } /* Literal.String.Regex */\n",
       "body .s1 { color: #BA2121 } /* Literal.String.Single */\n",
       "body .ss { color: #19177C } /* Literal.String.Symbol */\n",
       "body .bp { color: #008000 } /* Name.Builtin.Pseudo */\n",
       "body .fm { color: #0000FF } /* Name.Function.Magic */\n",
       "body .vc { color: #19177C } /* Name.Variable.Class */\n",
       "body .vg { color: #19177C } /* Name.Variable.Global */\n",
       "body .vi { color: #19177C } /* Name.Variable.Instance */\n",
       "body .vm { color: #19177C } /* Name.Variable.Magic */\n",
       "body .il { color: #666666 } /* Literal.Number.Integer.Long */\n",
       "\n",
       "  </style>\n",
       "</head>\n",
       "<body>\n",
       "<h2></h2>\n",
       "\n",
       "<div class=\"highlight\"><pre><span></span>    <span class=\"k\">def</span> <span class=\"nf\">goal_test</span><span class=\"p\">(</span><span class=\"bp\">self</span><span class=\"p\">,</span> <span class=\"n\">state</span><span class=\"p\">):</span>\n",
       "        <span class=\"sd\">&quot;&quot;&quot;Check if all columns filled, no conflicts.&quot;&quot;&quot;</span>\n",
       "        <span class=\"k\">if</span> <span class=\"n\">state</span><span class=\"p\">[</span><span class=\"o\">-</span><span class=\"mi\">1</span><span class=\"p\">]</span> <span class=\"ow\">is</span> <span class=\"o\">-</span><span class=\"mi\">1</span><span class=\"p\">:</span>\n",
       "            <span class=\"k\">return</span> <span class=\"bp\">False</span>\n",
       "        <span class=\"k\">return</span> <span class=\"ow\">not</span> <span class=\"nb\">any</span><span class=\"p\">(</span><span class=\"bp\">self</span><span class=\"o\">.</span><span class=\"n\">conflicted</span><span class=\"p\">(</span><span class=\"n\">state</span><span class=\"p\">,</span> <span class=\"n\">state</span><span class=\"p\">[</span><span class=\"n\">col</span><span class=\"p\">],</span> <span class=\"n\">col</span><span class=\"p\">)</span>\n",
       "                       <span class=\"k\">for</span> <span class=\"n\">col</span> <span class=\"ow\">in</span> <span class=\"nb\">range</span><span class=\"p\">(</span><span class=\"nb\">len</span><span class=\"p\">(</span><span class=\"n\">state</span><span class=\"p\">)))</span>\n",
       "</pre></div>\n",
       "</body>\n",
       "</html>\n"
      ],
      "text/plain": [
       "<IPython.core.display.HTML object>"
      ]
     },
     "metadata": {},
     "output_type": "display_data"
    }
   ],
   "source": [
    "psource(NQueensProblem.goal_test)"
   ]
  },
  {
   "cell_type": "markdown",
   "metadata": {},
   "source": [
    "Let us apply a generic search algorithm to the NQueens problem.\n",
    "For example, let us use Depth First Search to find a solution.\n",
    "Note that we are already applying the commutativity property of CSPs that we discussed previously.\n",
    "Therefore, we are avoiding $n!$ redundant paths, thereby making the depth first search faster.\n",
    "\n",
    "Feel free to change the number of queens used, but be aware that depth first search will start struggling with numbers larger than 7."
   ]
  },
  {
   "cell_type": "code",
   "execution_count": 6,
   "metadata": {},
   "outputs": [
    {
     "name": "stdout",
     "output_type": "stream",
     "text": [
<<<<<<< HEAD
      "Time taken to solve 5 Queens problem using Backtracking: 0.003922 seconds\n"
     ]
    },
    {
     "ename": "FileNotFoundError",
     "evalue": "[Errno 2] No such file or directory: 'images/x.png'",
     "output_type": "error",
     "traceback": [
      "\u001b[0;31m---------------------------------------------------------------------------\u001b[0m",
      "\u001b[0;31mFileNotFoundError\u001b[0m                         Traceback (most recent call last)",
      "\u001b[0;32m<ipython-input-6-38ce5c60c77a>\u001b[0m in \u001b[0;36m<module>\u001b[0;34m\u001b[0m\n\u001b[1;32m      8\u001b[0m \u001b[0mprint\u001b[0m\u001b[0;34m(\u001b[0m\u001b[0;34m\"Time taken to solve %s Queens problem using Backtracking: %f seconds\"\u001b[0m\u001b[0;34m%\u001b[0m \u001b[0;34m(\u001b[0m\u001b[0mN\u001b[0m\u001b[0;34m,\u001b[0m \u001b[0mend_time\u001b[0m \u001b[0;34m-\u001b[0m \u001b[0mstart_time\u001b[0m\u001b[0;34m)\u001b[0m\u001b[0;34m)\u001b[0m\u001b[0;34m\u001b[0m\u001b[0m\n\u001b[1;32m      9\u001b[0m \u001b[0;34m\u001b[0m\u001b[0m\n\u001b[0;32m---> 10\u001b[0;31m \u001b[0mplot_NQueens\u001b[0m\u001b[0;34m(\u001b[0m\u001b[0msolution\u001b[0m\u001b[0;34m)\u001b[0m\u001b[0;34m\u001b[0m\u001b[0m\n\u001b[0m",
      "\u001b[0;32m~/csp_notebook/lib/notebook.py\u001b[0m in \u001b[0;36mplot_NQueens\u001b[0;34m(partial_assignment, pruned_domains, n, grid, cmap, norm)\u001b[0m\n\u001b[1;32m    278\u001b[0m     \u001b[0mim\u001b[0m \u001b[0;34m=\u001b[0m \u001b[0mImage\u001b[0m\u001b[0;34m.\u001b[0m\u001b[0mopen\u001b[0m\u001b[0;34m(\u001b[0m\u001b[0;34m'images/queen_s.png'\u001b[0m\u001b[0;34m)\u001b[0m\u001b[0;34m\u001b[0m\u001b[0m\n\u001b[1;32m    279\u001b[0m     \u001b[0mim\u001b[0m \u001b[0;34m=\u001b[0m \u001b[0mnp\u001b[0m\u001b[0;34m.\u001b[0m\u001b[0marray\u001b[0m\u001b[0;34m(\u001b[0m\u001b[0mim\u001b[0m\u001b[0;34m)\u001b[0m\u001b[0;34m.\u001b[0m\u001b[0mastype\u001b[0m\u001b[0;34m(\u001b[0m\u001b[0mnp\u001b[0m\u001b[0;34m.\u001b[0m\u001b[0mfloat\u001b[0m\u001b[0;34m)\u001b[0m \u001b[0;34m/\u001b[0m \u001b[0;36m255\u001b[0m\u001b[0;34m\u001b[0m\u001b[0m\n\u001b[0;32m--> 280\u001b[0;31m     \u001b[0mim_x\u001b[0m \u001b[0;34m=\u001b[0m \u001b[0mImage\u001b[0m\u001b[0;34m.\u001b[0m\u001b[0mopen\u001b[0m\u001b[0;34m(\u001b[0m\u001b[0;34m'images/x.png'\u001b[0m\u001b[0;34m)\u001b[0m\u001b[0;34m\u001b[0m\u001b[0m\n\u001b[0m\u001b[1;32m    281\u001b[0m     \u001b[0mim_x\u001b[0m \u001b[0;34m=\u001b[0m \u001b[0mnp\u001b[0m\u001b[0;34m.\u001b[0m\u001b[0marray\u001b[0m\u001b[0;34m(\u001b[0m\u001b[0mim_x\u001b[0m\u001b[0;34m)\u001b[0m\u001b[0;34m.\u001b[0m\u001b[0mastype\u001b[0m\u001b[0;34m(\u001b[0m\u001b[0mnp\u001b[0m\u001b[0;34m.\u001b[0m\u001b[0mfloat\u001b[0m\u001b[0;34m)\u001b[0m \u001b[0;34m/\u001b[0m \u001b[0;36m255\u001b[0m\u001b[0;34m\u001b[0m\u001b[0m\n\u001b[1;32m    282\u001b[0m \u001b[0;34m\u001b[0m\u001b[0m\n",
      "\u001b[0;32m~/csp_notebook/env/lib/python3.5/site-packages/PIL/Image.py\u001b[0m in \u001b[0;36mopen\u001b[0;34m(fp, mode)\u001b[0m\n\u001b[1;32m   2607\u001b[0m \u001b[0;34m\u001b[0m\u001b[0m\n\u001b[1;32m   2608\u001b[0m     \u001b[0;32mif\u001b[0m \u001b[0mfilename\u001b[0m\u001b[0;34m:\u001b[0m\u001b[0;34m\u001b[0m\u001b[0m\n\u001b[0;32m-> 2609\u001b[0;31m         \u001b[0mfp\u001b[0m \u001b[0;34m=\u001b[0m \u001b[0mbuiltins\u001b[0m\u001b[0;34m.\u001b[0m\u001b[0mopen\u001b[0m\u001b[0;34m(\u001b[0m\u001b[0mfilename\u001b[0m\u001b[0;34m,\u001b[0m \u001b[0;34m\"rb\"\u001b[0m\u001b[0;34m)\u001b[0m\u001b[0;34m\u001b[0m\u001b[0m\n\u001b[0m\u001b[1;32m   2610\u001b[0m         \u001b[0mexclusive_fp\u001b[0m \u001b[0;34m=\u001b[0m \u001b[0;32mTrue\u001b[0m\u001b[0;34m\u001b[0m\u001b[0m\n\u001b[1;32m   2611\u001b[0m \u001b[0;34m\u001b[0m\u001b[0m\n",
      "\u001b[0;31mFileNotFoundError\u001b[0m: [Errno 2] No such file or directory: 'images/x.png'"
=======
      "Time taken to solve 5 Queens problem using Backtracking: 0.002861 seconds\n"
>>>>>>> 2b2204bd733fac5c4888d08907c415b34879f42a
     ]
    },
    {
     "data": {
      "image/png": "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\n",
      "text/plain": [
       "<Figure size 504x504 with 1 Axes>"
      ]
     },
     "metadata": {
      "needs_background": "light"
     },
     "output_type": "display_data"
    }
   ],
   "source": [
    "N = 5\n",
    "\n",
    "n_queens_problem = NQueensProblem(N, pruning=False)\n",
    "\n",
    "start_time = time.time()\n",
    "solution = depth_first_tree_search(n_queens_problem).solution()\n",
    "end_time = time.time()\n",
    "print(\"Time taken to solve %s Queens problem using Backtracking: %f seconds\"% (N, end_time - start_time))\n",
    "\n",
    "plot_NQueens(solution)"
   ]
  },
  {
   "cell_type": "markdown",
   "metadata": {},
   "source": [
    "While the previous call to depth first search retrieved an answer in less than 5ms.\n",
    "Check out what happens when N is higher!"
   ]
  },
  {
   "cell_type": "code",
   "execution_count": 7,
   "metadata": {},
   "outputs": [
    {
     "name": "stdout",
     "output_type": "stream",
     "text": [
      "Time taken to solve 7 Queens problem using Backtracking: 0.278539 seconds\n"
     ]
    },
    {
     "data": {
      "image/png": "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\n",
      "text/plain": [
       "<Figure size 504x504 with 1 Axes>"
      ]
     },
     "metadata": {
      "needs_background": "light"
     },
     "output_type": "display_data"
    }
   ],
   "source": [
    "N = 7\n",
    "\n",
    "n_queens_problem = NQueensProblem(N, pruning=False)\n",
    "\n",
    "start_time = time.time()\n",
    "solution = depth_first_tree_search(n_queens_problem).solution()\n",
    "end_time = time.time()\n",
    "print(\"Time taken to solve %s Queens problem using Backtracking: %f seconds\"% (N, end_time - start_time))\n",
    "\n",
    "plot_NQueens(solution)"
   ]
  },
  {
   "cell_type": "markdown",
   "metadata": {},
   "source": [
    "It is starting to take some time to solve the problem. The reader can convince himself that with 8 or more Queens, it will take a long time to retrieve the solution."
   ]
  },
  {
   "cell_type": "markdown",
   "metadata": {},
   "source": [
    "### <a name=\"backtracking\"></a> b. Backtracking\n",
    "\n",
    "Backtracking search suits the commutative property of CSPs, as it consists on a depth-first search that chooses one variable at a time. \n",
    "\n",
    "Moreover, it makes use of another property of CSPs that is: **extensions to inconsistent partial assignments are always inconsistent**.\n",
    "The backtracking search **backtracks** when an inconsistent partial assignment is reached. \n",
    "\n",
    "We show below the actual backtracking search algorithm (pseudo-code), as presented in Chapter 6 Constraint Satisfaction Problems of the book _Artificial Intelligence: A Modern Approach_. \n",
    "\n",
    "<a name=\"backtracking_algorithm\"></a>\n",
    "<img src=\"images/backtracking_algorithm.png\" alt=\"drawing\" width=\"600\">\n",
    "\n",
    "In plain words, the algorithm first chooses an unassigned variable, and loops over its domain by picking one value at\n",
    "a time. Every time a value is taken, if it is consistent, then the algorithm continues to look for a\n",
    "solution. If it is not consistent, then the algorithm backtracks by trying with another value instead.\n",
    "\n",
    "The backtracking algorithm presented above makes use of a set of sub-functions that we detail\n",
    "below:\n",
    "* **Select-Unassigned-Variable(csp, assignment)**:\n",
    "    - Decides which variable should be assigned next.\n",
    "* **Order-Domain-Values(var, assignment, csp)**:\n",
    "    - Decides the order in which the values of the variable should be tried. We will see in section 2.3.4 how modifications of this and the previous function result in different general purpose heuristics.\n",
    "* **Inference(csp, var, assignment)**:\n",
    "    - Every time a variable has been assigned a value, there is the opportunity to further reduce the domains of the rest of unassigned variables using inference, such as checking for arcconsistency. While the call to this function is not strictly necessary, we will see in section 2.3.3 that interleaving search and inference results in a more efficient algorithm.\n"
   ]
  },
  {
   "cell_type": "markdown",
   "metadata": {},
   "source": [
    "    \n",
    "The source code to implement this pseudo-code is actually fairly close to the actual implementation.\n",
    "Find below the actual source code in python:"
   ]
  },
  {
   "cell_type": "code",
<<<<<<< HEAD
   "execution_count": 7,
=======
   "execution_count": 8,
>>>>>>> 2b2204bd733fac5c4888d08907c415b34879f42a
   "metadata": {},
   "outputs": [
    {
     "data": {
      "text/html": [
       "<!DOCTYPE html PUBLIC \"-//W3C//DTD HTML 4.01//EN\"\n",
       "   \"http://www.w3.org/TR/html4/strict.dtd\">\n",
       "\n",
       "<html>\n",
       "<head>\n",
       "  <title></title>\n",
       "  <meta http-equiv=\"content-type\" content=\"text/html; charset=None\">\n",
       "  <style type=\"text/css\">\n",
       "td.linenos { background-color: #f0f0f0; padding-right: 10px; }\n",
       "span.lineno { background-color: #f0f0f0; padding: 0 5px 0 5px; }\n",
       "pre { line-height: 125%; }\n",
       "body .hll { background-color: #ffffcc }\n",
       "body  { background: #f8f8f8; }\n",
       "body .c { color: #408080; font-style: italic } /* Comment */\n",
       "body .err { border: 1px solid #FF0000 } /* Error */\n",
       "body .k { color: #008000; font-weight: bold } /* Keyword */\n",
       "body .o { color: #666666 } /* Operator */\n",
       "body .ch { color: #408080; font-style: italic } /* Comment.Hashbang */\n",
       "body .cm { color: #408080; font-style: italic } /* Comment.Multiline */\n",
       "body .cp { color: #BC7A00 } /* Comment.Preproc */\n",
       "body .cpf { color: #408080; font-style: italic } /* Comment.PreprocFile */\n",
       "body .c1 { color: #408080; font-style: italic } /* Comment.Single */\n",
       "body .cs { color: #408080; font-style: italic } /* Comment.Special */\n",
       "body .gd { color: #A00000 } /* Generic.Deleted */\n",
       "body .ge { font-style: italic } /* Generic.Emph */\n",
       "body .gr { color: #FF0000 } /* Generic.Error */\n",
       "body .gh { color: #000080; font-weight: bold } /* Generic.Heading */\n",
       "body .gi { color: #00A000 } /* Generic.Inserted */\n",
       "body .go { color: #888888 } /* Generic.Output */\n",
       "body .gp { color: #000080; font-weight: bold } /* Generic.Prompt */\n",
       "body .gs { font-weight: bold } /* Generic.Strong */\n",
       "body .gu { color: #800080; font-weight: bold } /* Generic.Subheading */\n",
       "body .gt { color: #0044DD } /* Generic.Traceback */\n",
       "body .kc { color: #008000; font-weight: bold } /* Keyword.Constant */\n",
       "body .kd { color: #008000; font-weight: bold } /* Keyword.Declaration */\n",
       "body .kn { color: #008000; font-weight: bold } /* Keyword.Namespace */\n",
       "body .kp { color: #008000 } /* Keyword.Pseudo */\n",
       "body .kr { color: #008000; font-weight: bold } /* Keyword.Reserved */\n",
       "body .kt { color: #B00040 } /* Keyword.Type */\n",
       "body .m { color: #666666 } /* Literal.Number */\n",
       "body .s { color: #BA2121 } /* Literal.String */\n",
       "body .na { color: #7D9029 } /* Name.Attribute */\n",
       "body .nb { color: #008000 } /* Name.Builtin */\n",
       "body .nc { color: #0000FF; font-weight: bold } /* Name.Class */\n",
       "body .no { color: #880000 } /* Name.Constant */\n",
       "body .nd { color: #AA22FF } /* Name.Decorator */\n",
       "body .ni { color: #999999; font-weight: bold } /* Name.Entity */\n",
       "body .ne { color: #D2413A; font-weight: bold } /* Name.Exception */\n",
       "body .nf { color: #0000FF } /* Name.Function */\n",
       "body .nl { color: #A0A000 } /* Name.Label */\n",
       "body .nn { color: #0000FF; font-weight: bold } /* Name.Namespace */\n",
       "body .nt { color: #008000; font-weight: bold } /* Name.Tag */\n",
       "body .nv { color: #19177C } /* Name.Variable */\n",
       "body .ow { color: #AA22FF; font-weight: bold } /* Operator.Word */\n",
       "body .w { color: #bbbbbb } /* Text.Whitespace */\n",
       "body .mb { color: #666666 } /* Literal.Number.Bin */\n",
       "body .mf { color: #666666 } /* Literal.Number.Float */\n",
       "body .mh { color: #666666 } /* Literal.Number.Hex */\n",
       "body .mi { color: #666666 } /* Literal.Number.Integer */\n",
       "body .mo { color: #666666 } /* Literal.Number.Oct */\n",
       "body .sa { color: #BA2121 } /* Literal.String.Affix */\n",
       "body .sb { color: #BA2121 } /* Literal.String.Backtick */\n",
       "body .sc { color: #BA2121 } /* Literal.String.Char */\n",
       "body .dl { color: #BA2121 } /* Literal.String.Delimiter */\n",
       "body .sd { color: #BA2121; font-style: italic } /* Literal.String.Doc */\n",
       "body .s2 { color: #BA2121 } /* Literal.String.Double */\n",
       "body .se { color: #BB6622; font-weight: bold } /* Literal.String.Escape */\n",
       "body .sh { color: #BA2121 } /* Literal.String.Heredoc */\n",
       "body .si { color: #BB6688; font-weight: bold } /* Literal.String.Interpol */\n",
       "body .sx { color: #008000 } /* Literal.String.Other */\n",
       "body .sr { color: #BB6688 } /* Literal.String.Regex */\n",
       "body .s1 { color: #BA2121 } /* Literal.String.Single */\n",
       "body .ss { color: #19177C } /* Literal.String.Symbol */\n",
       "body .bp { color: #008000 } /* Name.Builtin.Pseudo */\n",
       "body .fm { color: #0000FF } /* Name.Function.Magic */\n",
       "body .vc { color: #19177C } /* Name.Variable.Class */\n",
       "body .vg { color: #19177C } /* Name.Variable.Global */\n",
       "body .vi { color: #19177C } /* Name.Variable.Instance */\n",
       "body .vm { color: #19177C } /* Name.Variable.Magic */\n",
       "body .il { color: #666666 } /* Literal.Number.Integer.Long */\n",
       "\n",
       "  </style>\n",
       "</head>\n",
       "<body>\n",
       "<h2></h2>\n",
       "\n",
       "<div class=\"highlight\"><pre><span></span><span class=\"k\">def</span> <span class=\"nf\">backtracking_search</span><span class=\"p\">(</span><span class=\"n\">csp</span><span class=\"p\">,</span> <span class=\"n\">select_unassigned_variable</span> <span class=\"o\">=</span> <span class=\"n\">first_unassigned_variable</span><span class=\"p\">,</span>\n",
       "                        <span class=\"n\">order_domain_values</span> <span class=\"o\">=</span> <span class=\"n\">unordered_domain_values</span><span class=\"p\">,</span>\n",
       "                        <span class=\"n\">inference</span> <span class=\"o\">=</span> <span class=\"n\">no_inference</span><span class=\"p\">):</span>\n",
       "    <span class=\"sd\">&quot;&quot;&quot; Backtracking search as detailed in Fig. 6.5 of AIMA book. &quot;&quot;&quot;</span>\n",
       "    \n",
       "    <span class=\"k\">def</span> <span class=\"nf\">backtrack</span><span class=\"p\">(</span><span class=\"n\">assignment</span><span class=\"p\">,</span> <span class=\"n\">csp</span><span class=\"p\">):</span>\n",
       "        <span class=\"sd\">&quot;&quot;&quot;Search for a consistent assignment for the csp.</span>\n",
       "<span class=\"sd\">        Each recursive call chooses a variable, and considers values for it.&quot;&quot;&quot;</span>\n",
       "        <span class=\"c1\"># If assignment is complete then return assignment.</span>\n",
       "        <span class=\"k\">if</span> <span class=\"nb\">len</span><span class=\"p\">(</span><span class=\"n\">assignment</span><span class=\"p\">)</span> <span class=\"o\">==</span> <span class=\"nb\">len</span><span class=\"p\">(</span><span class=\"n\">csp</span><span class=\"o\">.</span><span class=\"n\">variables</span><span class=\"p\">):</span>\n",
       "            <span class=\"k\">return</span> <span class=\"n\">assignment</span>\n",
       "        <span class=\"c1\"># Select an unassigned variable.</span>\n",
       "        <span class=\"n\">var</span> <span class=\"o\">=</span> <span class=\"n\">select_unassigned_variable</span><span class=\"p\">(</span><span class=\"n\">assignment</span><span class=\"p\">,</span> <span class=\"n\">csp</span><span class=\"p\">)</span>\n",
       "        <span class=\"c1\"># Loop over the domain of the current variable.</span>\n",
       "        <span class=\"k\">for</span> <span class=\"n\">val</span> <span class=\"ow\">in</span> <span class=\"n\">order_domain_values</span><span class=\"p\">(</span><span class=\"n\">var</span><span class=\"p\">,</span> <span class=\"n\">assignment</span><span class=\"p\">,</span> <span class=\"n\">csp</span><span class=\"p\">):</span>\n",
       "            <span class=\"c1\"># If value is consistent with assignment, continue.</span>\n",
       "            <span class=\"k\">if</span> <span class=\"n\">csp</span><span class=\"o\">.</span><span class=\"n\">is_consistent</span><span class=\"p\">(</span><span class=\"n\">var</span><span class=\"p\">,</span> <span class=\"n\">val</span><span class=\"p\">,</span> <span class=\"n\">assignment</span><span class=\"p\">):</span>\n",
       "                <span class=\"c1\"># Assign the value to the variable.</span>\n",
       "                <span class=\"n\">csp</span><span class=\"o\">.</span><span class=\"n\">assign</span><span class=\"p\">(</span><span class=\"n\">var</span><span class=\"p\">,</span> <span class=\"n\">val</span><span class=\"p\">,</span> <span class=\"n\">assignment</span><span class=\"p\">)</span>\n",
       "                <span class=\"c1\"># If we do not use forward checking, we are good!</span>\n",
       "                <span class=\"c1\"># If we do forward checking, prune domains, and continue only if no domain is empty.</span>\n",
       "                <span class=\"n\">removals</span> <span class=\"o\">=</span> <span class=\"n\">csp</span><span class=\"o\">.</span><span class=\"n\">suppose</span><span class=\"p\">(</span><span class=\"n\">var</span><span class=\"p\">,</span> <span class=\"n\">val</span><span class=\"p\">)</span>\n",
       "                <span class=\"n\">infer</span> <span class=\"o\">=</span> <span class=\"n\">inference</span><span class=\"p\">(</span><span class=\"n\">csp</span><span class=\"p\">,</span> <span class=\"n\">var</span><span class=\"p\">,</span> <span class=\"n\">assignment</span><span class=\"p\">,</span> <span class=\"n\">removals</span><span class=\"p\">)</span>\n",
       "                <span class=\"n\">csp</span><span class=\"o\">.</span><span class=\"n\">track_pruned_domain_for_display</span><span class=\"p\">()</span>\n",
       "                <span class=\"k\">if</span> <span class=\"n\">infer</span><span class=\"p\">:</span>\n",
       "                    <span class=\"c1\"># Calculate next result (recursive call).</span>\n",
       "                    <span class=\"n\">result</span> <span class=\"o\">=</span> <span class=\"n\">backtrack</span><span class=\"p\">(</span><span class=\"n\">assignment</span><span class=\"p\">,</span> <span class=\"n\">csp</span><span class=\"p\">)</span>\n",
       "                    <span class=\"k\">if</span> <span class=\"n\">result</span> <span class=\"ow\">is</span> <span class=\"ow\">not</span> <span class=\"bp\">None</span><span class=\"p\">:</span>\n",
       "                        <span class=\"k\">return</span> <span class=\"n\">result</span>\n",
       "                <span class=\"n\">csp</span><span class=\"o\">.</span><span class=\"n\">restore</span><span class=\"p\">(</span><span class=\"n\">removals</span><span class=\"p\">)</span>\n",
       "                <span class=\"c1\"># If we have a conflict, unassign.</span>\n",
       "                <span class=\"c1\"># If we use forward checking, restore domains pruned by this assignment var=val.</span>\n",
       "                <span class=\"n\">csp</span><span class=\"o\">.</span><span class=\"n\">unassign</span><span class=\"p\">(</span><span class=\"n\">var</span><span class=\"p\">,</span> <span class=\"n\">assignment</span><span class=\"p\">)</span> <span class=\"c1\"># could be done outside the for loop...</span>\n",
       "        <span class=\"k\">return</span> <span class=\"bp\">None</span>\n",
       "    \n",
       "    <span class=\"c1\"># Start backtracking</span>\n",
       "    <span class=\"n\">result</span> <span class=\"o\">=</span> <span class=\"n\">backtrack</span><span class=\"p\">({},</span> <span class=\"n\">csp</span><span class=\"p\">)</span>\n",
       "    <span class=\"k\">assert</span> <span class=\"n\">result</span> <span class=\"ow\">is</span> <span class=\"bp\">None</span> <span class=\"ow\">or</span> <span class=\"n\">csp</span><span class=\"o\">.</span><span class=\"n\">goal_test</span><span class=\"p\">(</span><span class=\"n\">result</span><span class=\"p\">)</span>\n",
       "    <span class=\"k\">return</span> <span class=\"n\">result</span>\n",
       "</pre></div>\n",
       "</body>\n",
       "</html>\n"
      ],
      "text/plain": [
       "<IPython.core.display.HTML object>"
      ]
     },
     "metadata": {},
     "output_type": "display_data"
    }
   ],
   "source": [
    "psource(backtracking_search)"
   ]
  },
  {
   "cell_type": "markdown",
   "metadata": {},
   "source": [
    "<a name=\"backtrack_pseudo\"></a>"
   ]
  },
  {
   "cell_type": "markdown",
   "metadata": {},
   "source": [
    "#### Example: solving NQueens using simple backtracking algorithm"
   ]
  },
  {
   "cell_type": "markdown",
   "metadata": {},
   "source": [
    "We can encode the NQueens problem as follows, for a N×N board:\n",
    "* **Variables**:\n",
    "    * Each of the Queen's positions on the board: $X_i = \\text{row of queen in column i}$\n",
    "* **Domains**:\n",
    "    * The domain of each variable is just the number of rows on the board: $X_i \\in \\mathcal{X} = \\{0, ..., N-1\\}$\n",
    "* **Constraints**:\n",
    "    * Queens do not share rows. This is equivalent to requiring all variables $X_i$ to be of different value: $AllDiff(X_i)$\n",
    "    * Only one queen in a column. This is satisfied by default because of the variable encoding.\n",
    "    * No two queens can share a common diagonal. This can be encoded as follows:\n",
    "         - Assume we have a variable $X_i$, or, in other words, a queen in the row given by the value of $X_i$ and column given by the index $i$.\n",
    "         Then, no queen can be represented by $X_k$ if the following condition holds: $X_k = X_i - (k - i)$.\n",
    "         This is only for diagonals going _down_ from left to right.\n",
    "         What about the other diagonal? The one going _up_ from left to right can be similarly encoded changing just one sign: $X_k = X_i + (k - i)$. Since we need to check this constraint for all the queens on the board, we have:\n",
    "             ```pseudo\n",
    "                for all X_i:\n",
    "                    for 0:k, k != i, k < N:\n",
    "                       X_k != X_i - (k - i)\n",
    "                       X_k != X_i + (k - i)\n",
    "            ```\n",
    "\n",
    "            But this is actually equivalent to check that the value of $X_k - k$ is different for all $k$ (same for  $X_k + k$)! Therefore, we can use the $AllDiff(\\cdot)$ function to encode this constraint as well.\n",
    "        \n",
    " Below you can find the actual NQueens problem formulated as explained here.\n",
    " Note that we define the variables and domains.\n",
    " Also, the constraints are encoded in the method `is_consistent` below.\n",
    "This method checks that an assignment is consistent given the constraints, as required by the function `csp.is_consistent(var, val, assignment)` in the [backtrack code](#backtrack_pseudo)."
   ]
  },
  {
   "cell_type": "code",
   "execution_count": 9,
   "metadata": {},
   "outputs": [
    {
     "data": {
      "text/html": [
       "<!DOCTYPE html PUBLIC \"-//W3C//DTD HTML 4.01//EN\"\n",
       "   \"http://www.w3.org/TR/html4/strict.dtd\">\n",
       "\n",
       "<html>\n",
       "<head>\n",
       "  <title></title>\n",
       "  <meta http-equiv=\"content-type\" content=\"text/html; charset=None\">\n",
       "  <style type=\"text/css\">\n",
       "td.linenos { background-color: #f0f0f0; padding-right: 10px; }\n",
       "span.lineno { background-color: #f0f0f0; padding: 0 5px 0 5px; }\n",
       "pre { line-height: 125%; }\n",
       "body .hll { background-color: #ffffcc }\n",
       "body  { background: #f8f8f8; }\n",
       "body .c { color: #408080; font-style: italic } /* Comment */\n",
       "body .err { border: 1px solid #FF0000 } /* Error */\n",
       "body .k { color: #008000; font-weight: bold } /* Keyword */\n",
       "body .o { color: #666666 } /* Operator */\n",
       "body .ch { color: #408080; font-style: italic } /* Comment.Hashbang */\n",
       "body .cm { color: #408080; font-style: italic } /* Comment.Multiline */\n",
       "body .cp { color: #BC7A00 } /* Comment.Preproc */\n",
       "body .cpf { color: #408080; font-style: italic } /* Comment.PreprocFile */\n",
       "body .c1 { color: #408080; font-style: italic } /* Comment.Single */\n",
       "body .cs { color: #408080; font-style: italic } /* Comment.Special */\n",
       "body .gd { color: #A00000 } /* Generic.Deleted */\n",
       "body .ge { font-style: italic } /* Generic.Emph */\n",
       "body .gr { color: #FF0000 } /* Generic.Error */\n",
       "body .gh { color: #000080; font-weight: bold } /* Generic.Heading */\n",
       "body .gi { color: #00A000 } /* Generic.Inserted */\n",
       "body .go { color: #888888 } /* Generic.Output */\n",
       "body .gp { color: #000080; font-weight: bold } /* Generic.Prompt */\n",
       "body .gs { font-weight: bold } /* Generic.Strong */\n",
       "body .gu { color: #800080; font-weight: bold } /* Generic.Subheading */\n",
       "body .gt { color: #0044DD } /* Generic.Traceback */\n",
       "body .kc { color: #008000; font-weight: bold } /* Keyword.Constant */\n",
       "body .kd { color: #008000; font-weight: bold } /* Keyword.Declaration */\n",
       "body .kn { color: #008000; font-weight: bold } /* Keyword.Namespace */\n",
       "body .kp { color: #008000 } /* Keyword.Pseudo */\n",
       "body .kr { color: #008000; font-weight: bold } /* Keyword.Reserved */\n",
       "body .kt { color: #B00040 } /* Keyword.Type */\n",
       "body .m { color: #666666 } /* Literal.Number */\n",
       "body .s { color: #BA2121 } /* Literal.String */\n",
       "body .na { color: #7D9029 } /* Name.Attribute */\n",
       "body .nb { color: #008000 } /* Name.Builtin */\n",
       "body .nc { color: #0000FF; font-weight: bold } /* Name.Class */\n",
       "body .no { color: #880000 } /* Name.Constant */\n",
       "body .nd { color: #AA22FF } /* Name.Decorator */\n",
       "body .ni { color: #999999; font-weight: bold } /* Name.Entity */\n",
       "body .ne { color: #D2413A; font-weight: bold } /* Name.Exception */\n",
       "body .nf { color: #0000FF } /* Name.Function */\n",
       "body .nl { color: #A0A000 } /* Name.Label */\n",
       "body .nn { color: #0000FF; font-weight: bold } /* Name.Namespace */\n",
       "body .nt { color: #008000; font-weight: bold } /* Name.Tag */\n",
       "body .nv { color: #19177C } /* Name.Variable */\n",
       "body .ow { color: #AA22FF; font-weight: bold } /* Operator.Word */\n",
       "body .w { color: #bbbbbb } /* Text.Whitespace */\n",
       "body .mb { color: #666666 } /* Literal.Number.Bin */\n",
       "body .mf { color: #666666 } /* Literal.Number.Float */\n",
       "body .mh { color: #666666 } /* Literal.Number.Hex */\n",
       "body .mi { color: #666666 } /* Literal.Number.Integer */\n",
       "body .mo { color: #666666 } /* Literal.Number.Oct */\n",
       "body .sa { color: #BA2121 } /* Literal.String.Affix */\n",
       "body .sb { color: #BA2121 } /* Literal.String.Backtick */\n",
       "body .sc { color: #BA2121 } /* Literal.String.Char */\n",
       "body .dl { color: #BA2121 } /* Literal.String.Delimiter */\n",
       "body .sd { color: #BA2121; font-style: italic } /* Literal.String.Doc */\n",
       "body .s2 { color: #BA2121 } /* Literal.String.Double */\n",
       "body .se { color: #BB6622; font-weight: bold } /* Literal.String.Escape */\n",
       "body .sh { color: #BA2121 } /* Literal.String.Heredoc */\n",
       "body .si { color: #BB6688; font-weight: bold } /* Literal.String.Interpol */\n",
       "body .sx { color: #008000 } /* Literal.String.Other */\n",
       "body .sr { color: #BB6688 } /* Literal.String.Regex */\n",
       "body .s1 { color: #BA2121 } /* Literal.String.Single */\n",
       "body .ss { color: #19177C } /* Literal.String.Symbol */\n",
       "body .bp { color: #008000 } /* Name.Builtin.Pseudo */\n",
       "body .fm { color: #0000FF } /* Name.Function.Magic */\n",
       "body .vc { color: #19177C } /* Name.Variable.Class */\n",
       "body .vg { color: #19177C } /* Name.Variable.Global */\n",
       "body .vi { color: #19177C } /* Name.Variable.Instance */\n",
       "body .vm { color: #19177C } /* Name.Variable.Magic */\n",
       "body .il { color: #666666 } /* Literal.Number.Integer.Long */\n",
       "\n",
       "  </style>\n",
       "</head>\n",
       "<body>\n",
       "<h2></h2>\n",
       "\n",
       "<div class=\"highlight\"><pre><span></span><span class=\"k\">class</span> <span class=\"nc\">NQueensCSP</span><span class=\"p\">(</span><span class=\"n\">CSP</span><span class=\"p\">):</span>\n",
       "    <span class=\"sd\">&quot;&quot;&quot;Make a CSP for the nQueens problem for search with backtracking &quot;&quot;&quot;</span>\n",
       "\n",
       "    <span class=\"k\">def</span> <span class=\"fm\">__init__</span><span class=\"p\">(</span><span class=\"bp\">self</span><span class=\"p\">,</span> <span class=\"n\">n</span><span class=\"p\">):</span>\n",
       "        <span class=\"sd\">&quot;&quot;&quot;Initialize data structures for n Queens.&quot;&quot;&quot;</span>\n",
       "        <span class=\"c1\"># Indices of variables in the problem.</span>\n",
       "        <span class=\"n\">variables</span> <span class=\"o\">=</span> <span class=\"nb\">list</span><span class=\"p\">(</span><span class=\"nb\">range</span><span class=\"p\">(</span><span class=\"n\">n</span><span class=\"p\">))</span>\n",
       "        <span class=\"c1\"># Initial domains of the variables.</span>\n",
       "        <span class=\"n\">domains</span> <span class=\"o\">=</span> <span class=\"p\">{</span><span class=\"n\">var</span><span class=\"p\">:</span><span class=\"nb\">list</span><span class=\"p\">(</span><span class=\"nb\">range</span><span class=\"p\">(</span><span class=\"n\">n</span><span class=\"p\">))</span> <span class=\"k\">for</span> <span class=\"n\">var</span> <span class=\"ow\">in</span> <span class=\"n\">variables</span><span class=\"p\">}</span>\n",
       "        <span class=\"c1\"># What are the neighbors of a given var, can include itself.</span>\n",
       "        <span class=\"n\">neighbors</span> <span class=\"o\">=</span> <span class=\"p\">{</span><span class=\"n\">var</span><span class=\"p\">:</span><span class=\"nb\">list</span><span class=\"p\">(</span><span class=\"nb\">range</span><span class=\"p\">(</span><span class=\"n\">n</span><span class=\"p\">))</span> <span class=\"k\">for</span> <span class=\"n\">var</span> <span class=\"ow\">in</span> <span class=\"n\">variables</span><span class=\"p\">}</span>\n",
       "        \n",
       "        <span class=\"n\">CSP</span><span class=\"o\">.</span><span class=\"fm\">__init__</span><span class=\"p\">(</span><span class=\"bp\">self</span><span class=\"p\">,</span> <span class=\"n\">variables</span><span class=\"p\">,</span> <span class=\"n\">domains</span><span class=\"p\">,</span> <span class=\"n\">neighbors</span><span class=\"p\">,</span> <span class=\"n\">queen_constraint</span><span class=\"p\">)</span>\n",
       "    \n",
       "\n",
       "    <span class=\"k\">def</span> <span class=\"nf\">is_consistent</span><span class=\"p\">(</span><span class=\"bp\">self</span><span class=\"p\">,</span> <span class=\"n\">var</span><span class=\"p\">,</span> <span class=\"n\">val</span><span class=\"p\">,</span> <span class=\"n\">assignment</span><span class=\"p\">):</span>\n",
       "        <span class=\"sd\">&quot;&quot;&quot; Check if the attempted var = val assignment is consistent with current assignment &quot;&quot;&quot;</span>\n",
       "        <span class=\"c1\"># Add var = val in the list of assignments as a first attempt.</span>\n",
       "        <span class=\"c1\"># Slow because we are copying, but perfect for pedagogical purposes.</span>\n",
       "        <span class=\"n\">attempt_assignment</span> <span class=\"o\">=</span> <span class=\"n\">copy</span><span class=\"o\">.</span><span class=\"n\">deepcopy</span><span class=\"p\">(</span><span class=\"n\">assignment</span><span class=\"p\">)</span>\n",
       "        <span class=\"k\">if</span> <span class=\"n\">var</span> <span class=\"o\">!=</span> <span class=\"bp\">None</span> <span class=\"ow\">and</span> <span class=\"n\">val</span> <span class=\"o\">!=</span> <span class=\"bp\">None</span><span class=\"p\">:</span>\n",
       "            <span class=\"n\">attempt_assignment</span><span class=\"o\">.</span><span class=\"n\">update</span><span class=\"p\">({</span><span class=\"n\">var</span><span class=\"p\">:</span> <span class=\"n\">val</span><span class=\"p\">})</span>\n",
       "        <span class=\"c1\"># Check for same column constraint is implicit in formulation.</span>\n",
       "        <span class=\"c1\"># Check for same row constraint:</span>\n",
       "        <span class=\"n\">c_row</span> <span class=\"o\">=</span> <span class=\"n\">all_different</span><span class=\"p\">(</span><span class=\"n\">attempt_assignment</span><span class=\"o\">.</span><span class=\"n\">values</span><span class=\"p\">())</span>\n",
       "        <span class=\"c1\"># Check for same diagonal constraint:</span>\n",
       "        <span class=\"n\">diag_1</span> <span class=\"o\">=</span> <span class=\"p\">[</span><span class=\"n\">key</span> <span class=\"o\">+</span> <span class=\"n\">value</span> <span class=\"k\">for</span> <span class=\"n\">key</span><span class=\"p\">,</span> <span class=\"n\">value</span> <span class=\"ow\">in</span> <span class=\"n\">attempt_assignment</span><span class=\"o\">.</span><span class=\"n\">items</span><span class=\"p\">()]</span>\n",
       "        <span class=\"n\">diag_2</span> <span class=\"o\">=</span> <span class=\"p\">[</span><span class=\"n\">key</span> <span class=\"o\">-</span> <span class=\"n\">value</span> <span class=\"k\">for</span> <span class=\"n\">key</span><span class=\"p\">,</span> <span class=\"n\">value</span> <span class=\"ow\">in</span> <span class=\"n\">attempt_assignment</span><span class=\"o\">.</span><span class=\"n\">items</span><span class=\"p\">()]</span>\n",
       "        <span class=\"n\">c_diag_1</span> <span class=\"o\">=</span> <span class=\"n\">all_different</span><span class=\"p\">(</span><span class=\"n\">diag_1</span><span class=\"p\">)</span>\n",
       "        <span class=\"n\">c_diag_2</span> <span class=\"o\">=</span> <span class=\"n\">all_different</span><span class=\"p\">(</span><span class=\"n\">diag_2</span><span class=\"p\">)</span>\n",
       "\n",
       "        <span class=\"k\">return</span> <span class=\"n\">c_row</span> <span class=\"ow\">and</span> <span class=\"n\">c_diag_1</span> <span class=\"ow\">and</span> <span class=\"n\">c_diag_2</span>\n",
       "</pre></div>\n",
       "</body>\n",
       "</html>\n"
      ],
      "text/plain": [
       "<IPython.core.display.HTML object>"
      ]
     },
     "metadata": {},
     "output_type": "display_data"
    }
   ],
   "source": [
    "psource(NQueensCSP)"
   ]
  },
  {
   "cell_type": "markdown",
   "metadata": {},
   "source": [
    "Note that the NQueensCSP inherits from a CSP."
   ]
  },
  {
   "cell_type": "code",
   "execution_count": 10,
   "metadata": {},
   "outputs": [
    {
     "data": {
      "text/html": [
       "<!DOCTYPE html PUBLIC \"-//W3C//DTD HTML 4.01//EN\"\n",
       "   \"http://www.w3.org/TR/html4/strict.dtd\">\n",
       "\n",
       "<html>\n",
       "<head>\n",
       "  <title></title>\n",
       "  <meta http-equiv=\"content-type\" content=\"text/html; charset=None\">\n",
       "  <style type=\"text/css\">\n",
       "td.linenos { background-color: #f0f0f0; padding-right: 10px; }\n",
       "span.lineno { background-color: #f0f0f0; padding: 0 5px 0 5px; }\n",
       "pre { line-height: 125%; }\n",
       "body .hll { background-color: #ffffcc }\n",
       "body  { background: #f8f8f8; }\n",
       "body .c { color: #408080; font-style: italic } /* Comment */\n",
       "body .err { border: 1px solid #FF0000 } /* Error */\n",
       "body .k { color: #008000; font-weight: bold } /* Keyword */\n",
       "body .o { color: #666666 } /* Operator */\n",
       "body .ch { color: #408080; font-style: italic } /* Comment.Hashbang */\n",
       "body .cm { color: #408080; font-style: italic } /* Comment.Multiline */\n",
       "body .cp { color: #BC7A00 } /* Comment.Preproc */\n",
       "body .cpf { color: #408080; font-style: italic } /* Comment.PreprocFile */\n",
       "body .c1 { color: #408080; font-style: italic } /* Comment.Single */\n",
       "body .cs { color: #408080; font-style: italic } /* Comment.Special */\n",
       "body .gd { color: #A00000 } /* Generic.Deleted */\n",
       "body .ge { font-style: italic } /* Generic.Emph */\n",
       "body .gr { color: #FF0000 } /* Generic.Error */\n",
       "body .gh { color: #000080; font-weight: bold } /* Generic.Heading */\n",
       "body .gi { color: #00A000 } /* Generic.Inserted */\n",
       "body .go { color: #888888 } /* Generic.Output */\n",
       "body .gp { color: #000080; font-weight: bold } /* Generic.Prompt */\n",
       "body .gs { font-weight: bold } /* Generic.Strong */\n",
       "body .gu { color: #800080; font-weight: bold } /* Generic.Subheading */\n",
       "body .gt { color: #0044DD } /* Generic.Traceback */\n",
       "body .kc { color: #008000; font-weight: bold } /* Keyword.Constant */\n",
       "body .kd { color: #008000; font-weight: bold } /* Keyword.Declaration */\n",
       "body .kn { color: #008000; font-weight: bold } /* Keyword.Namespace */\n",
       "body .kp { color: #008000 } /* Keyword.Pseudo */\n",
       "body .kr { color: #008000; font-weight: bold } /* Keyword.Reserved */\n",
       "body .kt { color: #B00040 } /* Keyword.Type */\n",
       "body .m { color: #666666 } /* Literal.Number */\n",
       "body .s { color: #BA2121 } /* Literal.String */\n",
       "body .na { color: #7D9029 } /* Name.Attribute */\n",
       "body .nb { color: #008000 } /* Name.Builtin */\n",
       "body .nc { color: #0000FF; font-weight: bold } /* Name.Class */\n",
       "body .no { color: #880000 } /* Name.Constant */\n",
       "body .nd { color: #AA22FF } /* Name.Decorator */\n",
       "body .ni { color: #999999; font-weight: bold } /* Name.Entity */\n",
       "body .ne { color: #D2413A; font-weight: bold } /* Name.Exception */\n",
       "body .nf { color: #0000FF } /* Name.Function */\n",
       "body .nl { color: #A0A000 } /* Name.Label */\n",
       "body .nn { color: #0000FF; font-weight: bold } /* Name.Namespace */\n",
       "body .nt { color: #008000; font-weight: bold } /* Name.Tag */\n",
       "body .nv { color: #19177C } /* Name.Variable */\n",
       "body .ow { color: #AA22FF; font-weight: bold } /* Operator.Word */\n",
       "body .w { color: #bbbbbb } /* Text.Whitespace */\n",
       "body .mb { color: #666666 } /* Literal.Number.Bin */\n",
       "body .mf { color: #666666 } /* Literal.Number.Float */\n",
       "body .mh { color: #666666 } /* Literal.Number.Hex */\n",
       "body .mi { color: #666666 } /* Literal.Number.Integer */\n",
       "body .mo { color: #666666 } /* Literal.Number.Oct */\n",
       "body .sa { color: #BA2121 } /* Literal.String.Affix */\n",
       "body .sb { color: #BA2121 } /* Literal.String.Backtick */\n",
       "body .sc { color: #BA2121 } /* Literal.String.Char */\n",
       "body .dl { color: #BA2121 } /* Literal.String.Delimiter */\n",
       "body .sd { color: #BA2121; font-style: italic } /* Literal.String.Doc */\n",
       "body .s2 { color: #BA2121 } /* Literal.String.Double */\n",
       "body .se { color: #BB6622; font-weight: bold } /* Literal.String.Escape */\n",
       "body .sh { color: #BA2121 } /* Literal.String.Heredoc */\n",
       "body .si { color: #BB6688; font-weight: bold } /* Literal.String.Interpol */\n",
       "body .sx { color: #008000 } /* Literal.String.Other */\n",
       "body .sr { color: #BB6688 } /* Literal.String.Regex */\n",
       "body .s1 { color: #BA2121 } /* Literal.String.Single */\n",
       "body .ss { color: #19177C } /* Literal.String.Symbol */\n",
       "body .bp { color: #008000 } /* Name.Builtin.Pseudo */\n",
       "body .fm { color: #0000FF } /* Name.Function.Magic */\n",
       "body .vc { color: #19177C } /* Name.Variable.Class */\n",
       "body .vg { color: #19177C } /* Name.Variable.Global */\n",
       "body .vi { color: #19177C } /* Name.Variable.Instance */\n",
       "body .vm { color: #19177C } /* Name.Variable.Magic */\n",
       "body .il { color: #666666 } /* Literal.Number.Integer.Long */\n",
       "\n",
       "  </style>\n",
       "</head>\n",
       "<body>\n",
       "<h2></h2>\n",
       "\n",
       "<div class=\"highlight\"><pre><span></span><span class=\"k\">class</span> <span class=\"nc\">CSP</span><span class=\"p\">(</span><span class=\"n\">search</span><span class=\"o\">.</span><span class=\"n\">Problem</span><span class=\"p\">):</span>\n",
       "    <span class=\"sd\">&quot;&quot;&quot;This class describes finite-domain Constraint Satisfaction Problems.</span>\n",
       "<span class=\"sd\">    A CSP is specified by the following inputs:</span>\n",
       "<span class=\"sd\">        variables   A list of variables; each is atomic (e.g. int or string).</span>\n",
       "<span class=\"sd\">        domains     A dict of {var:[possible_value, ...]} entries.</span>\n",
       "<span class=\"sd\">        neighbors   A dict of {var:[var,...]} that for each variable lists</span>\n",
       "<span class=\"sd\">                    the other variables that participate in constraints.</span>\n",
       "<span class=\"sd\">        constraints A function f(A, a, B, b) that returns true if neighbors</span>\n",
       "<span class=\"sd\">                    A, B satisfy the constraint when they have values A=a, B=b</span>\n",
       "\n",
       "<span class=\"sd\">    In the textbook and in most mathematical definitions, the</span>\n",
       "<span class=\"sd\">    constraints are specified as explicit pairs of allowable values,</span>\n",
       "<span class=\"sd\">    but the formulation here is easier to express and more compact for</span>\n",
       "<span class=\"sd\">    most cases. (For example, the n-Queens problem can be represented</span>\n",
       "<span class=\"sd\">    in O(n) space using this notation, instead of O(N^4) for the</span>\n",
       "<span class=\"sd\">    explicit representation.) In terms of describing the CSP as a</span>\n",
       "<span class=\"sd\">    problem, that&#39;s all there is.</span>\n",
       "\n",
       "<span class=\"sd\">    However, the class also supports data structures and methods that help you</span>\n",
       "<span class=\"sd\">    solve CSPs by calling a search function on the CSP. Methods and slots are</span>\n",
       "<span class=\"sd\">    as follows, where the argument &#39;a&#39; represents an assignment, which is a</span>\n",
       "<span class=\"sd\">    dict of {var:val} entries:</span>\n",
       "<span class=\"sd\">        assign(var, val, a)     Assign a[var] = val; do other bookkeeping</span>\n",
       "<span class=\"sd\">        unassign(var, a)        Do del a[var], plus other bookkeeping</span>\n",
       "<span class=\"sd\">        nconflicts(var, val, a) Return the number of other variables that</span>\n",
       "<span class=\"sd\">                                conflict with var=val</span>\n",
       "<span class=\"sd\">        curr_domains[var]       Slot: remaining consistent values for var</span>\n",
       "<span class=\"sd\">                                Used by constraint propagation routines.</span>\n",
       "<span class=\"sd\">    The following methods are used only by graph_search and tree_search:</span>\n",
       "<span class=\"sd\">        actions(state)          Return a list of actions</span>\n",
       "<span class=\"sd\">        result(state, action)   Return a successor of state</span>\n",
       "<span class=\"sd\">        goal_test(state)        Return true if all constraints satisfied</span>\n",
       "<span class=\"sd\">    The following are just for debugging purposes:</span>\n",
       "<span class=\"sd\">        nassigns                Slot: tracks the number of assignments made</span>\n",
       "<span class=\"sd\">        display(a)              Print a human-readable representation</span>\n",
       "<span class=\"sd\">    &quot;&quot;&quot;</span>\n",
       "\n",
       "    <span class=\"k\">def</span> <span class=\"fm\">__init__</span><span class=\"p\">(</span><span class=\"bp\">self</span><span class=\"p\">,</span> <span class=\"n\">variables</span><span class=\"p\">,</span> <span class=\"n\">domains</span><span class=\"p\">,</span> <span class=\"n\">neighbors</span><span class=\"p\">,</span> <span class=\"n\">constraints</span><span class=\"p\">):</span>\n",
       "        <span class=\"sd\">&quot;&quot;&quot;Construct a CSP problem. If variables is empty, it becomes domains.keys().&quot;&quot;&quot;</span>\n",
       "        <span class=\"n\">variables</span> <span class=\"o\">=</span> <span class=\"n\">variables</span> <span class=\"ow\">or</span> <span class=\"nb\">list</span><span class=\"p\">(</span><span class=\"n\">domains</span><span class=\"o\">.</span><span class=\"n\">keys</span><span class=\"p\">())</span>\n",
       "\n",
       "        <span class=\"bp\">self</span><span class=\"o\">.</span><span class=\"n\">variables</span> <span class=\"o\">=</span> <span class=\"n\">variables</span>\n",
       "        <span class=\"bp\">self</span><span class=\"o\">.</span><span class=\"n\">domains</span> <span class=\"o\">=</span> <span class=\"n\">domains</span>\n",
       "        <span class=\"bp\">self</span><span class=\"o\">.</span><span class=\"n\">neighbors</span> <span class=\"o\">=</span> <span class=\"n\">neighbors</span>\n",
       "        <span class=\"bp\">self</span><span class=\"o\">.</span><span class=\"n\">constraints</span> <span class=\"o\">=</span> <span class=\"n\">constraints</span>\n",
       "        <span class=\"bp\">self</span><span class=\"o\">.</span><span class=\"n\">initial</span> <span class=\"o\">=</span> <span class=\"p\">()</span>\n",
       "        <span class=\"bp\">self</span><span class=\"o\">.</span><span class=\"n\">curr_domains</span> <span class=\"o\">=</span> <span class=\"bp\">None</span>\n",
       "        <span class=\"bp\">self</span><span class=\"o\">.</span><span class=\"n\">nassigns</span> <span class=\"o\">=</span> <span class=\"mi\">0</span>\n",
       "\n",
       "    <span class=\"k\">def</span> <span class=\"nf\">assign</span><span class=\"p\">(</span><span class=\"bp\">self</span><span class=\"p\">,</span> <span class=\"n\">var</span><span class=\"p\">,</span> <span class=\"n\">val</span><span class=\"p\">,</span> <span class=\"n\">assignment</span><span class=\"p\">):</span>\n",
       "        <span class=\"sd\">&quot;&quot;&quot;Add {var: val} to assignment; Discard the old value if any.&quot;&quot;&quot;</span>\n",
       "        <span class=\"n\">assignment</span><span class=\"p\">[</span><span class=\"n\">var</span><span class=\"p\">]</span> <span class=\"o\">=</span> <span class=\"n\">val</span>\n",
       "        <span class=\"bp\">self</span><span class=\"o\">.</span><span class=\"n\">nassigns</span> <span class=\"o\">+=</span> <span class=\"mi\">1</span>\n",
       "\n",
       "    <span class=\"k\">def</span> <span class=\"nf\">unassign</span><span class=\"p\">(</span><span class=\"bp\">self</span><span class=\"p\">,</span> <span class=\"n\">var</span><span class=\"p\">,</span> <span class=\"n\">assignment</span><span class=\"p\">):</span>\n",
       "        <span class=\"sd\">&quot;&quot;&quot;Remove {var: val} from assignment.</span>\n",
       "<span class=\"sd\">        DO NOT call this if you are changing a variable to a new value;</span>\n",
       "<span class=\"sd\">        just call assign for that.&quot;&quot;&quot;</span>\n",
       "        <span class=\"k\">if</span> <span class=\"n\">var</span> <span class=\"ow\">in</span> <span class=\"n\">assignment</span><span class=\"p\">:</span>\n",
       "            <span class=\"k\">del</span> <span class=\"n\">assignment</span><span class=\"p\">[</span><span class=\"n\">var</span><span class=\"p\">]</span>\n",
       "            \n",
       "    <span class=\"k\">def</span> <span class=\"nf\">is_consistent</span><span class=\"p\">(</span><span class=\"bp\">self</span><span class=\"p\">,</span> <span class=\"n\">var</span><span class=\"p\">,</span> <span class=\"n\">val</span><span class=\"p\">,</span> <span class=\"n\">assignment</span><span class=\"p\">):</span>\n",
       "        <span class=\"sd\">&quot;&quot;&quot;Return if var=val conflicts with other variables.&quot;&quot;&quot;</span>\n",
       "        <span class=\"c1\"># Subclasses may implement this more efficiently</span>\n",
       "        <span class=\"k\">return</span> <span class=\"bp\">self</span><span class=\"o\">.</span><span class=\"n\">nconflicts</span><span class=\"p\">(</span><span class=\"n\">var</span><span class=\"p\">,</span> <span class=\"n\">val</span><span class=\"p\">,</span> <span class=\"n\">assignment</span><span class=\"p\">)</span> <span class=\"o\">==</span> <span class=\"mi\">0</span>\n",
       "\n",
       "    <span class=\"k\">def</span> <span class=\"nf\">nconflicts</span><span class=\"p\">(</span><span class=\"bp\">self</span><span class=\"p\">,</span> <span class=\"n\">var</span><span class=\"p\">,</span> <span class=\"n\">val</span><span class=\"p\">,</span> <span class=\"n\">assignment</span><span class=\"p\">):</span>\n",
       "        <span class=\"sd\">&quot;&quot;&quot;Return the number of conflicts var=val has with other variables.&quot;&quot;&quot;</span>\n",
       "        <span class=\"c1\"># Subclasses may implement this more efficiently</span>\n",
       "        <span class=\"k\">def</span> <span class=\"nf\">conflict</span><span class=\"p\">(</span><span class=\"n\">var2</span><span class=\"p\">):</span>\n",
       "            <span class=\"k\">return</span> <span class=\"p\">(</span><span class=\"n\">var2</span> <span class=\"ow\">in</span> <span class=\"n\">assignment</span> <span class=\"ow\">and</span>\n",
       "                    <span class=\"ow\">not</span> <span class=\"bp\">self</span><span class=\"o\">.</span><span class=\"n\">constraints</span><span class=\"p\">(</span><span class=\"n\">var</span><span class=\"p\">,</span> <span class=\"n\">val</span><span class=\"p\">,</span> <span class=\"n\">var2</span><span class=\"p\">,</span> <span class=\"n\">assignment</span><span class=\"p\">[</span><span class=\"n\">var2</span><span class=\"p\">]))</span>\n",
       "        <span class=\"k\">return</span> <span class=\"n\">count</span><span class=\"p\">(</span><span class=\"n\">conflict</span><span class=\"p\">(</span><span class=\"n\">v</span><span class=\"p\">)</span> <span class=\"k\">for</span> <span class=\"n\">v</span> <span class=\"ow\">in</span> <span class=\"bp\">self</span><span class=\"o\">.</span><span class=\"n\">neighbors</span><span class=\"p\">[</span><span class=\"n\">var</span><span class=\"p\">])</span>\n",
       "\n",
       "    <span class=\"k\">def</span> <span class=\"nf\">display</span><span class=\"p\">(</span><span class=\"bp\">self</span><span class=\"p\">,</span> <span class=\"n\">assignment</span><span class=\"p\">):</span>\n",
       "        <span class=\"sd\">&quot;&quot;&quot;Show a human-readable representation of the CSP.&quot;&quot;&quot;</span>\n",
       "        <span class=\"c1\"># Subclasses can print in a prettier way, or display with a GUI</span>\n",
       "        <span class=\"k\">print</span><span class=\"p\">(</span><span class=\"s1\">&#39;CSP:&#39;</span><span class=\"p\">,</span> <span class=\"bp\">self</span><span class=\"p\">,</span> <span class=\"s1\">&#39;with assignment:&#39;</span><span class=\"p\">,</span> <span class=\"n\">assignment</span><span class=\"p\">)</span>\n",
       "\n",
       "    <span class=\"c1\"># These methods are for the tree and graph-search interface:</span>\n",
       "\n",
       "    <span class=\"k\">def</span> <span class=\"nf\">actions</span><span class=\"p\">(</span><span class=\"bp\">self</span><span class=\"p\">,</span> <span class=\"n\">state</span><span class=\"p\">):</span>\n",
       "        <span class=\"sd\">&quot;&quot;&quot;Return a list of applicable actions: nonconflicting</span>\n",
       "<span class=\"sd\">        assignments to an unassigned variable.&quot;&quot;&quot;</span>\n",
       "        <span class=\"k\">if</span> <span class=\"nb\">len</span><span class=\"p\">(</span><span class=\"n\">state</span><span class=\"p\">)</span> <span class=\"o\">==</span> <span class=\"nb\">len</span><span class=\"p\">(</span><span class=\"bp\">self</span><span class=\"o\">.</span><span class=\"n\">variables</span><span class=\"p\">):</span>\n",
       "            <span class=\"k\">return</span> <span class=\"p\">[]</span>\n",
       "        <span class=\"k\">else</span><span class=\"p\">:</span>\n",
       "            <span class=\"n\">assignment</span> <span class=\"o\">=</span> <span class=\"nb\">dict</span><span class=\"p\">(</span><span class=\"n\">state</span><span class=\"p\">)</span>\n",
       "            <span class=\"n\">var</span> <span class=\"o\">=</span> <span class=\"n\">first</span><span class=\"p\">([</span><span class=\"n\">v</span> <span class=\"k\">for</span> <span class=\"n\">v</span> <span class=\"ow\">in</span> <span class=\"bp\">self</span><span class=\"o\">.</span><span class=\"n\">variables</span> <span class=\"k\">if</span> <span class=\"n\">v</span> <span class=\"ow\">not</span> <span class=\"ow\">in</span> <span class=\"n\">assignment</span><span class=\"p\">])</span>\n",
       "            <span class=\"k\">return</span> <span class=\"p\">[(</span><span class=\"n\">var</span><span class=\"p\">,</span> <span class=\"n\">val</span><span class=\"p\">)</span> <span class=\"k\">for</span> <span class=\"n\">val</span> <span class=\"ow\">in</span> <span class=\"bp\">self</span><span class=\"o\">.</span><span class=\"n\">domains</span><span class=\"p\">[</span><span class=\"n\">var</span><span class=\"p\">]</span>\n",
       "                    <span class=\"k\">if</span> <span class=\"bp\">self</span><span class=\"o\">.</span><span class=\"n\">nconflicts</span><span class=\"p\">(</span><span class=\"n\">var</span><span class=\"p\">,</span> <span class=\"n\">val</span><span class=\"p\">,</span> <span class=\"n\">assignment</span><span class=\"p\">)</span> <span class=\"o\">==</span> <span class=\"mi\">0</span><span class=\"p\">]</span>\n",
       "\n",
       "    <span class=\"k\">def</span> <span class=\"nf\">result</span><span class=\"p\">(</span><span class=\"bp\">self</span><span class=\"p\">,</span> <span class=\"n\">state</span><span class=\"p\">,</span> <span class=\"n\">action</span><span class=\"p\">):</span>\n",
       "        <span class=\"sd\">&quot;&quot;&quot;Perform an action and return the new state.&quot;&quot;&quot;</span>\n",
       "        <span class=\"p\">(</span><span class=\"n\">var</span><span class=\"p\">,</span> <span class=\"n\">val</span><span class=\"p\">)</span> <span class=\"o\">=</span> <span class=\"n\">action</span>\n",
       "        <span class=\"k\">return</span> <span class=\"n\">state</span> <span class=\"o\">+</span> <span class=\"p\">((</span><span class=\"n\">var</span><span class=\"p\">,</span> <span class=\"n\">val</span><span class=\"p\">),)</span>\n",
       "\n",
       "    <span class=\"k\">def</span> <span class=\"nf\">goal_test</span><span class=\"p\">(</span><span class=\"bp\">self</span><span class=\"p\">,</span> <span class=\"n\">state</span><span class=\"p\">):</span>\n",
       "        <span class=\"sd\">&quot;&quot;&quot;The goal is to assign all variables, with all constraints satisfied.&quot;&quot;&quot;</span>\n",
       "        <span class=\"n\">assignment</span> <span class=\"o\">=</span> <span class=\"nb\">dict</span><span class=\"p\">(</span><span class=\"n\">state</span><span class=\"p\">)</span>\n",
       "        <span class=\"k\">return</span> <span class=\"p\">(</span><span class=\"nb\">len</span><span class=\"p\">(</span><span class=\"n\">assignment</span><span class=\"p\">)</span> <span class=\"o\">==</span> <span class=\"nb\">len</span><span class=\"p\">(</span><span class=\"bp\">self</span><span class=\"o\">.</span><span class=\"n\">variables</span><span class=\"p\">)</span>\n",
       "                <span class=\"ow\">and</span> <span class=\"nb\">all</span><span class=\"p\">(</span><span class=\"bp\">self</span><span class=\"o\">.</span><span class=\"n\">nconflicts</span><span class=\"p\">(</span><span class=\"n\">variables</span><span class=\"p\">,</span> <span class=\"n\">assignment</span><span class=\"p\">[</span><span class=\"n\">variables</span><span class=\"p\">],</span> <span class=\"n\">assignment</span><span class=\"p\">)</span> <span class=\"o\">==</span> <span class=\"mi\">0</span>\n",
       "                        <span class=\"k\">for</span> <span class=\"n\">variables</span> <span class=\"ow\">in</span> <span class=\"bp\">self</span><span class=\"o\">.</span><span class=\"n\">variables</span><span class=\"p\">))</span>\n",
       "\n",
       "    <span class=\"c1\"># These are for constraint propagation</span>\n",
       "\n",
       "    <span class=\"k\">def</span> <span class=\"nf\">support_pruning</span><span class=\"p\">(</span><span class=\"bp\">self</span><span class=\"p\">):</span>\n",
       "        <span class=\"sd\">&quot;&quot;&quot;Make sure we can prune values from domains. (We want to pay</span>\n",
       "<span class=\"sd\">        for this only if we use it.)&quot;&quot;&quot;</span>\n",
       "        <span class=\"k\">if</span> <span class=\"bp\">self</span><span class=\"o\">.</span><span class=\"n\">curr_domains</span> <span class=\"ow\">is</span> <span class=\"bp\">None</span><span class=\"p\">:</span>\n",
       "            <span class=\"bp\">self</span><span class=\"o\">.</span><span class=\"n\">curr_domains</span> <span class=\"o\">=</span> <span class=\"p\">{</span><span class=\"n\">v</span><span class=\"p\">:</span> <span class=\"nb\">list</span><span class=\"p\">(</span><span class=\"bp\">self</span><span class=\"o\">.</span><span class=\"n\">domains</span><span class=\"p\">[</span><span class=\"n\">v</span><span class=\"p\">])</span> <span class=\"k\">for</span> <span class=\"n\">v</span> <span class=\"ow\">in</span> <span class=\"bp\">self</span><span class=\"o\">.</span><span class=\"n\">variables</span><span class=\"p\">}</span>\n",
       "\n",
       "    <span class=\"k\">def</span> <span class=\"nf\">suppose</span><span class=\"p\">(</span><span class=\"bp\">self</span><span class=\"p\">,</span> <span class=\"n\">var</span><span class=\"p\">,</span> <span class=\"n\">value</span><span class=\"p\">):</span>\n",
       "        <span class=\"sd\">&quot;&quot;&quot;Start accumulating inferences from assuming var=value.&quot;&quot;&quot;</span>\n",
       "        <span class=\"bp\">self</span><span class=\"o\">.</span><span class=\"n\">support_pruning</span><span class=\"p\">()</span>\n",
       "        <span class=\"n\">removals</span> <span class=\"o\">=</span> <span class=\"p\">[(</span><span class=\"n\">var</span><span class=\"p\">,</span> <span class=\"n\">a</span><span class=\"p\">)</span> <span class=\"k\">for</span> <span class=\"n\">a</span> <span class=\"ow\">in</span> <span class=\"bp\">self</span><span class=\"o\">.</span><span class=\"n\">curr_domains</span><span class=\"p\">[</span><span class=\"n\">var</span><span class=\"p\">]</span> <span class=\"k\">if</span> <span class=\"n\">a</span> <span class=\"o\">!=</span> <span class=\"n\">value</span><span class=\"p\">]</span>\n",
       "        <span class=\"bp\">self</span><span class=\"o\">.</span><span class=\"n\">curr_domains</span><span class=\"p\">[</span><span class=\"n\">var</span><span class=\"p\">]</span> <span class=\"o\">=</span> <span class=\"p\">[</span><span class=\"n\">value</span><span class=\"p\">]</span>\n",
       "        <span class=\"k\">return</span> <span class=\"n\">removals</span>\n",
       "\n",
       "    <span class=\"k\">def</span> <span class=\"nf\">prune</span><span class=\"p\">(</span><span class=\"bp\">self</span><span class=\"p\">,</span> <span class=\"n\">var</span><span class=\"p\">,</span> <span class=\"n\">value</span><span class=\"p\">,</span> <span class=\"n\">removals</span><span class=\"p\">):</span>\n",
       "        <span class=\"sd\">&quot;&quot;&quot;Rule out var=value.&quot;&quot;&quot;</span>\n",
       "        <span class=\"bp\">self</span><span class=\"o\">.</span><span class=\"n\">curr_domains</span><span class=\"p\">[</span><span class=\"n\">var</span><span class=\"p\">]</span><span class=\"o\">.</span><span class=\"n\">remove</span><span class=\"p\">(</span><span class=\"n\">value</span><span class=\"p\">)</span>\n",
       "        <span class=\"k\">if</span> <span class=\"n\">removals</span> <span class=\"ow\">is</span> <span class=\"ow\">not</span> <span class=\"bp\">None</span><span class=\"p\">:</span>\n",
       "            <span class=\"n\">removals</span><span class=\"o\">.</span><span class=\"n\">append</span><span class=\"p\">((</span><span class=\"n\">var</span><span class=\"p\">,</span> <span class=\"n\">value</span><span class=\"p\">))</span>\n",
       "\n",
       "    <span class=\"k\">def</span> <span class=\"nf\">choices</span><span class=\"p\">(</span><span class=\"bp\">self</span><span class=\"p\">,</span> <span class=\"n\">var</span><span class=\"p\">):</span>\n",
       "        <span class=\"sd\">&quot;&quot;&quot;Return all values for var that aren&#39;t currently ruled out.&quot;&quot;&quot;</span>\n",
       "        <span class=\"k\">return</span> <span class=\"p\">(</span><span class=\"bp\">self</span><span class=\"o\">.</span><span class=\"n\">curr_domains</span> <span class=\"ow\">or</span> <span class=\"bp\">self</span><span class=\"o\">.</span><span class=\"n\">domains</span><span class=\"p\">)[</span><span class=\"n\">var</span><span class=\"p\">]</span>\n",
       "\n",
       "    <span class=\"k\">def</span> <span class=\"nf\">infer_assignment</span><span class=\"p\">(</span><span class=\"bp\">self</span><span class=\"p\">):</span>\n",
       "        <span class=\"sd\">&quot;&quot;&quot;Return the partial assignment implied by the current inferences.&quot;&quot;&quot;</span>\n",
       "        <span class=\"bp\">self</span><span class=\"o\">.</span><span class=\"n\">support_pruning</span><span class=\"p\">()</span>\n",
       "        <span class=\"k\">return</span> <span class=\"p\">{</span><span class=\"n\">v</span><span class=\"p\">:</span> <span class=\"bp\">self</span><span class=\"o\">.</span><span class=\"n\">curr_domains</span><span class=\"p\">[</span><span class=\"n\">v</span><span class=\"p\">][</span><span class=\"mi\">0</span><span class=\"p\">]</span>\n",
       "                <span class=\"k\">for</span> <span class=\"n\">v</span> <span class=\"ow\">in</span> <span class=\"bp\">self</span><span class=\"o\">.</span><span class=\"n\">variables</span> <span class=\"k\">if</span> <span class=\"mi\">1</span> <span class=\"o\">==</span> <span class=\"nb\">len</span><span class=\"p\">(</span><span class=\"bp\">self</span><span class=\"o\">.</span><span class=\"n\">curr_domains</span><span class=\"p\">[</span><span class=\"n\">v</span><span class=\"p\">])}</span>\n",
       "\n",
       "    <span class=\"k\">def</span> <span class=\"nf\">restore</span><span class=\"p\">(</span><span class=\"bp\">self</span><span class=\"p\">,</span> <span class=\"n\">removals</span><span class=\"p\">):</span>\n",
       "        <span class=\"sd\">&quot;&quot;&quot;Undo a supposition and all inferences from it.&quot;&quot;&quot;</span>\n",
       "        <span class=\"k\">for</span> <span class=\"n\">B</span><span class=\"p\">,</span> <span class=\"n\">b</span> <span class=\"ow\">in</span> <span class=\"n\">removals</span><span class=\"p\">:</span>\n",
       "            <span class=\"bp\">self</span><span class=\"o\">.</span><span class=\"n\">curr_domains</span><span class=\"p\">[</span><span class=\"n\">B</span><span class=\"p\">]</span><span class=\"o\">.</span><span class=\"n\">append</span><span class=\"p\">(</span><span class=\"n\">b</span><span class=\"p\">)</span>\n",
       "\n",
       "    <span class=\"c1\"># This is for min_conflicts search</span>\n",
       "\n",
       "    <span class=\"k\">def</span> <span class=\"nf\">conflicted_vars</span><span class=\"p\">(</span><span class=\"bp\">self</span><span class=\"p\">,</span> <span class=\"n\">current</span><span class=\"p\">):</span>\n",
       "        <span class=\"sd\">&quot;&quot;&quot;Return a list of variables in current assignment that are in conflict&quot;&quot;&quot;</span>\n",
       "        <span class=\"k\">return</span> <span class=\"p\">[</span><span class=\"n\">var</span> <span class=\"k\">for</span> <span class=\"n\">var</span> <span class=\"ow\">in</span> <span class=\"bp\">self</span><span class=\"o\">.</span><span class=\"n\">variables</span>\n",
       "                <span class=\"k\">if</span> <span class=\"bp\">self</span><span class=\"o\">.</span><span class=\"n\">nconflicts</span><span class=\"p\">(</span><span class=\"n\">var</span><span class=\"p\">,</span> <span class=\"n\">current</span><span class=\"p\">[</span><span class=\"n\">var</span><span class=\"p\">],</span> <span class=\"n\">current</span><span class=\"p\">)</span> <span class=\"o\">&gt;</span> <span class=\"mi\">0</span><span class=\"p\">]</span>\n",
       "    \n",
       "    <span class=\"k\">def</span> <span class=\"nf\">track_pruned_domain_for_display</span><span class=\"p\">(</span><span class=\"bp\">self</span><span class=\"p\">):</span>\n",
       "        <span class=\"k\">return</span>\n",
       "</pre></div>\n",
       "</body>\n",
       "</html>\n"
      ],
      "text/plain": [
       "<IPython.core.display.HTML object>"
      ]
     },
     "metadata": {},
     "output_type": "display_data"
    }
   ],
   "source": [
    "psource(CSP)"
   ]
  },
  {
   "cell_type": "markdown",
   "metadata": {},
   "source": [
    "Now, let us solve the problem using backtracking!"
   ]
  },
  {
   "cell_type": "code",
   "execution_count": 11,
   "metadata": {},
   "outputs": [
    {
     "name": "stdout",
     "output_type": "stream",
     "text": [
<<<<<<< HEAD
      "Time taken to solve 10 Queens problem using Backtracking: 0.013365 seconds\n"
     ]
    },
    {
     "ename": "FileNotFoundError",
     "evalue": "[Errno 2] No such file or directory: 'images/x.png'",
     "output_type": "error",
     "traceback": [
      "\u001b[0;31m---------------------------------------------------------------------------\u001b[0m",
      "\u001b[0;31mFileNotFoundError\u001b[0m                         Traceback (most recent call last)",
      "\u001b[0;32m<ipython-input-8-f636ee54d6a1>\u001b[0m in \u001b[0;36m<module>\u001b[0;34m\u001b[0m\n\u001b[1;32m      8\u001b[0m \u001b[0mend_time\u001b[0m \u001b[0;34m=\u001b[0m \u001b[0mtime\u001b[0m\u001b[0;34m.\u001b[0m\u001b[0mtime\u001b[0m\u001b[0;34m(\u001b[0m\u001b[0;34m)\u001b[0m\u001b[0;34m\u001b[0m\u001b[0m\n\u001b[1;32m      9\u001b[0m \u001b[0mprint\u001b[0m\u001b[0;34m(\u001b[0m\u001b[0;34m\"Time taken to solve %s Queens problem using Backtracking: %f seconds\"\u001b[0m\u001b[0;34m%\u001b[0m \u001b[0;34m(\u001b[0m\u001b[0mN\u001b[0m\u001b[0;34m,\u001b[0m \u001b[0mend_time\u001b[0m \u001b[0;34m-\u001b[0m \u001b[0mstart_time\u001b[0m\u001b[0;34m)\u001b[0m\u001b[0;34m)\u001b[0m\u001b[0;34m\u001b[0m\u001b[0m\n\u001b[0;32m---> 10\u001b[0;31m \u001b[0mplot_NQueens\u001b[0m\u001b[0;34m(\u001b[0m\u001b[0msolution\u001b[0m\u001b[0;34m)\u001b[0m\u001b[0;34m\u001b[0m\u001b[0m\n\u001b[0m",
      "\u001b[0;32m~/csp_notebook/lib/notebook.py\u001b[0m in \u001b[0;36mplot_NQueens\u001b[0;34m(partial_assignment, pruned_domains, n, grid, cmap, norm)\u001b[0m\n\u001b[1;32m    278\u001b[0m     \u001b[0mim\u001b[0m \u001b[0;34m=\u001b[0m \u001b[0mImage\u001b[0m\u001b[0;34m.\u001b[0m\u001b[0mopen\u001b[0m\u001b[0;34m(\u001b[0m\u001b[0;34m'images/queen_s.png'\u001b[0m\u001b[0;34m)\u001b[0m\u001b[0;34m\u001b[0m\u001b[0m\n\u001b[1;32m    279\u001b[0m     \u001b[0mim\u001b[0m \u001b[0;34m=\u001b[0m \u001b[0mnp\u001b[0m\u001b[0;34m.\u001b[0m\u001b[0marray\u001b[0m\u001b[0;34m(\u001b[0m\u001b[0mim\u001b[0m\u001b[0;34m)\u001b[0m\u001b[0;34m.\u001b[0m\u001b[0mastype\u001b[0m\u001b[0;34m(\u001b[0m\u001b[0mnp\u001b[0m\u001b[0;34m.\u001b[0m\u001b[0mfloat\u001b[0m\u001b[0;34m)\u001b[0m \u001b[0;34m/\u001b[0m \u001b[0;36m255\u001b[0m\u001b[0;34m\u001b[0m\u001b[0m\n\u001b[0;32m--> 280\u001b[0;31m     \u001b[0mim_x\u001b[0m \u001b[0;34m=\u001b[0m \u001b[0mImage\u001b[0m\u001b[0;34m.\u001b[0m\u001b[0mopen\u001b[0m\u001b[0;34m(\u001b[0m\u001b[0;34m'images/x.png'\u001b[0m\u001b[0;34m)\u001b[0m\u001b[0;34m\u001b[0m\u001b[0m\n\u001b[0m\u001b[1;32m    281\u001b[0m     \u001b[0mim_x\u001b[0m \u001b[0;34m=\u001b[0m \u001b[0mnp\u001b[0m\u001b[0;34m.\u001b[0m\u001b[0marray\u001b[0m\u001b[0;34m(\u001b[0m\u001b[0mim_x\u001b[0m\u001b[0;34m)\u001b[0m\u001b[0;34m.\u001b[0m\u001b[0mastype\u001b[0m\u001b[0;34m(\u001b[0m\u001b[0mnp\u001b[0m\u001b[0;34m.\u001b[0m\u001b[0mfloat\u001b[0m\u001b[0;34m)\u001b[0m \u001b[0;34m/\u001b[0m \u001b[0;36m255\u001b[0m\u001b[0;34m\u001b[0m\u001b[0m\n\u001b[1;32m    282\u001b[0m \u001b[0;34m\u001b[0m\u001b[0m\n",
      "\u001b[0;32m~/csp_notebook/env/lib/python3.5/site-packages/PIL/Image.py\u001b[0m in \u001b[0;36mopen\u001b[0;34m(fp, mode)\u001b[0m\n\u001b[1;32m   2607\u001b[0m \u001b[0;34m\u001b[0m\u001b[0m\n\u001b[1;32m   2608\u001b[0m     \u001b[0;32mif\u001b[0m \u001b[0mfilename\u001b[0m\u001b[0;34m:\u001b[0m\u001b[0;34m\u001b[0m\u001b[0m\n\u001b[0;32m-> 2609\u001b[0;31m         \u001b[0mfp\u001b[0m \u001b[0;34m=\u001b[0m \u001b[0mbuiltins\u001b[0m\u001b[0;34m.\u001b[0m\u001b[0mopen\u001b[0m\u001b[0;34m(\u001b[0m\u001b[0mfilename\u001b[0m\u001b[0;34m,\u001b[0m \u001b[0;34m\"rb\"\u001b[0m\u001b[0;34m)\u001b[0m\u001b[0;34m\u001b[0m\u001b[0m\n\u001b[0m\u001b[1;32m   2610\u001b[0m         \u001b[0mexclusive_fp\u001b[0m \u001b[0;34m=\u001b[0m \u001b[0;32mTrue\u001b[0m\u001b[0;34m\u001b[0m\u001b[0m\n\u001b[1;32m   2611\u001b[0m \u001b[0;34m\u001b[0m\u001b[0m\n",
      "\u001b[0;31mFileNotFoundError\u001b[0m: [Errno 2] No such file or directory: 'images/x.png'"
=======
      "Time taken to solve 10 Queens problem using Backtracking: 0.012858 seconds\n"
>>>>>>> 2b2204bd733fac5c4888d08907c415b34879f42a
     ]
    },
    {
     "data": {
      "image/png": "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\n",
      "text/plain": [
       "<Figure size 504x504 with 1 Axes>"
      ]
     },
     "metadata": {
      "needs_background": "light"
     },
     "output_type": "display_data"
    }
   ],
   "source": [
    "# Create NQueens problem.\n",
    "N = 10\n",
    "n_queens = NQueensCSP(N)\n",
    "\n",
    "# Solve the problem using Backtracking. Store timing.\n",
    "start_time = time.time()\n",
    "solution = backtracking_search(n_queens)\n",
    "end_time = time.time()\n",
    "print(\"Time taken to solve %s Queens problem using Backtracking: %f seconds\"% (N, end_time - start_time))\n",
    "plot_NQueens(solution)\n"
   ]
  },
  {
   "cell_type": "markdown",
   "metadata": {},
   "source": [
    "Run the snippet below to have an insight on how backtracking actually proceeds:"
   ]
  },
  {
   "cell_type": "markdown",
   "metadata": {},
   "source": [
    "### <a name=\"backtracking_w_fc\"></a> c. Backtracking with Forward Checking\n",
    "\n",
    "By modifying the call to the function _Inference_ in the backtracking algorithm presented [above](#backtracking_algorithm), we can interleave search with inference to reduce the domain of yet unassigned variables, thereby reducing the search space. \n",
    "\n",
    "A simple form of inference is **forward checking**, which consists in establishing arc-consistency for the recently assigned variable with respect to all connected, yet unassigned, variables."
   ]
  },
  {
   "cell_type": "markdown",
   "metadata": {},
   "source": [
    "#### Complexity\n",
    "Question: Full propagation is O(ek3),\n",
    "How much propagation should we do?\n",
    "Very little (except for big problems).\n",
    "Forward Checking (FC):\n",
    "Check arc consistency ONLY for\n",
    "10/29/2018\n",
    "22\n",
    "arcs that terminate on the new assignment. 16.410-13\n",
    "[O(ek) total]"
   ]
  },
  {
   "cell_type": "markdown",
   "metadata": {},
   "source": [
    "#### Example: NQueens"
   ]
  },
  {
   "cell_type": "markdown",
   "metadata": {},
   "source": [
    "Checking arc-consistency for the NQueens problem is simple, as we just need to define a function \n",
    "The constraint that needs to be passed to the CSP is defined in the **queen_constraint** function. \n",
    "The constraint is satisfied (true) if A, B are really the same variable, or if they are not in the same row (equivalent to having the same value), down diagonal, or up diagonal."
   ]
  },
  {
   "cell_type": "code",
   "execution_count": 12,
   "metadata": {},
   "outputs": [
    {
     "name": "stdout",
     "output_type": "stream",
     "text": [
<<<<<<< HEAD
      " Time taken to solve 15 Queens problem using Backtracking with Forward Checking: 0.039426 seconds\n"
     ]
    },
    {
     "ename": "FileNotFoundError",
     "evalue": "[Errno 2] No such file or directory: 'images/x.png'",
     "output_type": "error",
     "traceback": [
      "\u001b[0;31m---------------------------------------------------------------------------\u001b[0m",
      "\u001b[0;31mFileNotFoundError\u001b[0m                         Traceback (most recent call last)",
      "\u001b[0;32m<ipython-input-9-e26ccc7b2c44>\u001b[0m in \u001b[0;36m<module>\u001b[0;34m\u001b[0m\n\u001b[1;32m      8\u001b[0m \u001b[0mend_time\u001b[0m \u001b[0;34m=\u001b[0m \u001b[0mtime\u001b[0m\u001b[0;34m.\u001b[0m\u001b[0mtime\u001b[0m\u001b[0;34m(\u001b[0m\u001b[0;34m)\u001b[0m\u001b[0;34m\u001b[0m\u001b[0m\n\u001b[1;32m      9\u001b[0m \u001b[0mprint\u001b[0m\u001b[0;34m(\u001b[0m\u001b[0;34m\" Time taken to solve %s Queens problem using Backtracking with Forward Checking: %f seconds\"\u001b[0m\u001b[0;34m%\u001b[0m \u001b[0;34m(\u001b[0m\u001b[0mN\u001b[0m\u001b[0;34m,\u001b[0m \u001b[0mend_time\u001b[0m \u001b[0;34m-\u001b[0m \u001b[0mstart_time\u001b[0m\u001b[0;34m)\u001b[0m\u001b[0;34m)\u001b[0m\u001b[0;34m\u001b[0m\u001b[0m\n\u001b[0;32m---> 10\u001b[0;31m \u001b[0mplot_NQueens\u001b[0m\u001b[0;34m(\u001b[0m\u001b[0msolution\u001b[0m\u001b[0;34m)\u001b[0m\u001b[0;34m\u001b[0m\u001b[0m\n\u001b[0m",
      "\u001b[0;32m~/csp_notebook/lib/notebook.py\u001b[0m in \u001b[0;36mplot_NQueens\u001b[0;34m(partial_assignment, pruned_domains, n, grid, cmap, norm)\u001b[0m\n\u001b[1;32m    278\u001b[0m     \u001b[0mim\u001b[0m \u001b[0;34m=\u001b[0m \u001b[0mImage\u001b[0m\u001b[0;34m.\u001b[0m\u001b[0mopen\u001b[0m\u001b[0;34m(\u001b[0m\u001b[0;34m'images/queen_s.png'\u001b[0m\u001b[0;34m)\u001b[0m\u001b[0;34m\u001b[0m\u001b[0m\n\u001b[1;32m    279\u001b[0m     \u001b[0mim\u001b[0m \u001b[0;34m=\u001b[0m \u001b[0mnp\u001b[0m\u001b[0;34m.\u001b[0m\u001b[0marray\u001b[0m\u001b[0;34m(\u001b[0m\u001b[0mim\u001b[0m\u001b[0;34m)\u001b[0m\u001b[0;34m.\u001b[0m\u001b[0mastype\u001b[0m\u001b[0;34m(\u001b[0m\u001b[0mnp\u001b[0m\u001b[0;34m.\u001b[0m\u001b[0mfloat\u001b[0m\u001b[0;34m)\u001b[0m \u001b[0;34m/\u001b[0m \u001b[0;36m255\u001b[0m\u001b[0;34m\u001b[0m\u001b[0m\n\u001b[0;32m--> 280\u001b[0;31m     \u001b[0mim_x\u001b[0m \u001b[0;34m=\u001b[0m \u001b[0mImage\u001b[0m\u001b[0;34m.\u001b[0m\u001b[0mopen\u001b[0m\u001b[0;34m(\u001b[0m\u001b[0;34m'images/x.png'\u001b[0m\u001b[0;34m)\u001b[0m\u001b[0;34m\u001b[0m\u001b[0m\n\u001b[0m\u001b[1;32m    281\u001b[0m     \u001b[0mim_x\u001b[0m \u001b[0;34m=\u001b[0m \u001b[0mnp\u001b[0m\u001b[0;34m.\u001b[0m\u001b[0marray\u001b[0m\u001b[0;34m(\u001b[0m\u001b[0mim_x\u001b[0m\u001b[0;34m)\u001b[0m\u001b[0;34m.\u001b[0m\u001b[0mastype\u001b[0m\u001b[0;34m(\u001b[0m\u001b[0mnp\u001b[0m\u001b[0;34m.\u001b[0m\u001b[0mfloat\u001b[0m\u001b[0;34m)\u001b[0m \u001b[0;34m/\u001b[0m \u001b[0;36m255\u001b[0m\u001b[0;34m\u001b[0m\u001b[0m\n\u001b[1;32m    282\u001b[0m \u001b[0;34m\u001b[0m\u001b[0m\n",
      "\u001b[0;32m~/csp_notebook/env/lib/python3.5/site-packages/PIL/Image.py\u001b[0m in \u001b[0;36mopen\u001b[0;34m(fp, mode)\u001b[0m\n\u001b[1;32m   2607\u001b[0m \u001b[0;34m\u001b[0m\u001b[0m\n\u001b[1;32m   2608\u001b[0m     \u001b[0;32mif\u001b[0m \u001b[0mfilename\u001b[0m\u001b[0;34m:\u001b[0m\u001b[0;34m\u001b[0m\u001b[0m\n\u001b[0;32m-> 2609\u001b[0;31m         \u001b[0mfp\u001b[0m \u001b[0;34m=\u001b[0m \u001b[0mbuiltins\u001b[0m\u001b[0;34m.\u001b[0m\u001b[0mopen\u001b[0m\u001b[0;34m(\u001b[0m\u001b[0mfilename\u001b[0m\u001b[0;34m,\u001b[0m \u001b[0;34m\"rb\"\u001b[0m\u001b[0;34m)\u001b[0m\u001b[0;34m\u001b[0m\u001b[0m\n\u001b[0m\u001b[1;32m   2610\u001b[0m         \u001b[0mexclusive_fp\u001b[0m \u001b[0;34m=\u001b[0m \u001b[0;32mTrue\u001b[0m\u001b[0;34m\u001b[0m\u001b[0m\n\u001b[1;32m   2611\u001b[0m \u001b[0;34m\u001b[0m\u001b[0m\n",
      "\u001b[0;31mFileNotFoundError\u001b[0m: [Errno 2] No such file or directory: 'images/x.png'"
=======
      " Time taken to solve 15 Queens problem using Backtracking with Forward Checking: 0.036389 seconds\n"
>>>>>>> 2b2204bd733fac5c4888d08907c415b34879f42a
     ]
    },
    {
     "data": {
      "image/png": "iVBORw0KGgoAAAANSUhEUgAAAaIAAAGrCAYAAACCBJOnAAAABHNCSVQICAgIfAhkiAAAAAlwSFlzAAALEgAACxIB0t1+/AAAADl0RVh0U29mdHdhcmUAbWF0cGxvdGxpYiB2ZXJzaW9uIDMuMC4xLCBodHRwOi8vbWF0cGxvdGxpYi5vcmcvDW2N/gAAFm9JREFUeJzt3X2sbXV95/H3R64GQSo6HFEe4qWOYYaQtnq21krTTsRatERM00xgBoMtCZlkfGpIGNSOHZvOxJkaW2Zqa24RMVOCYxCn1FgLoTXOJOh0gyBPtjhC4SLIoU4VHyJQvvPH2Tc9vXJ79/P33r3fr+Tk7L3W2uv3/cI653N/a+2zdqoKSZK6PKO7AEnSejOIJEmtDCJJUiuDSJLUyiCSJLUyiCRJrQwiSVIrg0iS1Mog0lpI8tYkwyQ/SHLlfut2J6kk39nx9e8Psr+3JLk9yfeSPJzk95I8d6FNSCtqV3cB0pJ8HfhN4OeBZx9gm2Or6smD7SjJxcAlwAXAjcCJwO8B1yf56ap6Yj4lS+vBGZHWQlVdW1X/E/ibWfaT5EeA9wFvq6rPVtUTVXUf8C+BHwX+1Wi7K5P85o7X/Yske3c8PyHJJ5NsJbk3ydt3rHtGkkuT/N8kf5PkE0meP1q3b/Z2QZL7kzya5D07XvvK0czv20m+keSDs/QrLYNBJP29v06yN8lHkxx3gG1eDRwJXLtzYVV9B/gM8LqDDZLkGcAfA7exPZs6E3hnkp8fbfI24E3AzwInAP8P+NB+u/lp4NTRa9+b5J+Pll8GXFZVPwK8BPjEweqRuhlEEjwKvAJ4MbAJHANcdYBtjwMePcApvIeAjTHGewWwUVW/UVWPV9XXgD8Azh2t/zfAe6pqb1X9APgPwC8l2Xkq/X1V9f2quo3tQPvx0fIngH+a5Liq+k5VfWGMeqRWXiPS2hvNZoajp99I8lbgoSTHVNVj+23+KHBckl1PE0YvGq0/mBcDJyT52x3LjgD+1471n0ry1I71fwccv+P5wzsefw94zujxhcBvAF9Jci/bgfXpMWqS2jgjkn7Yvs9Gebqfj5uAHwC/uHNhkucArwc+N1r0XeCoHZu8cMfjB4B7q+rYHV/HVNUbdqx//X7rj6yqBw9aeNU9VXUe8ALgPwPXJDn6YK+TOhlEWgtJdiU5ku2ZxxFJjtx3qivJTyY5dfQmgX8C/Ffgc1X1rf33M1r2PuC/JTkryTOT7Gb7Wsyj/P0pvVuBNyR5fpIXAu/csZv/AzyW5N8leXaSI5KcnuQVo/UfBv5jkheP6ttIcs6YfZ6fZKOqngL2zbie+sdeI3UziLQufg34PnApcP7o8a+N1v0o8FngMeAOtmc85x1oR1X1X4B3Ax8YveZetmc/r62q7442++9sX7u5D7ge+B87Xv93wNnAT4xe+yhwObDv75AuA65j++3gjwFfAH5yzD7PAu5M8p3Rfs6tqu+P+VqpRfyEVmk2SX6Z7esyZ1TV/d31SIcbg0iagyRvBp6oqo931yIdbgwiSVIrrxFJklot9e+IjjvuuNq9e/dCx7j55psXuv99Njc3Fz6GvUxmGX2AvUxqVY4vsJdJ3HfffTz66KMZZ9ulnpobDAY1HA4PvuEMkrH6ntky/rvZy2SWdSzby2RW5fgCe5nEYDBgOByO1Yyn5iRJrQwiSVIrg0iS1MogkiS1MogkSa0MIklSK4NIktTKIJIktZopiEafx/KXSb6a5NJ5FSVJWh9TB1GSI4APsf2plKcB5yU5bV6FSZLWwywzolcCX62qr1XV48DHgbE+RVKSpH1mCaITgQd2PN87WvYPJLkoyTDJcGtra4bhJEmraOFvVqiqPVU1qKrBxsbGooeTJB1mZgmiB4GTdzw/abRMkqSxzRJEfwG8NMkpSZ4FnAtcN5+yJEnrYuoPxquqJ5O8FfhT4Ajgiqq6c26VSZLWwkyf0FpVnwE+M6daJElryDsrSJJaGUSSpFYGkSSplUEkSWplEEmSWhlEkqRWqarlDZYsfLBl9ZNk4WPYy2SW0QfYy6RW5fgCe5lUVY01iDMiSVIrg0iS1MogkiS1MogkSa0MIklSK4NIktTKIJIktTKIJEmtDCJJUiuDSJLUyiCSJLUyiCRJrQwiSVIrg0iS1MogkiS1MogkSa0MIklSK4NIktTKIJIktTKIJEmtDCJJUiuDSJLUyiCSJLUyiCRJrQwiSVKrXcscbHNzk+FwuNAxkix0//tU1cLHsJfJLKMPsJdJrcrxBfYyicFgMPa2zogkSa0MIklSK4NIktTKIJIktTKIJEmtDCJJUiuDSJLUyiCSJLUyiCRJraYOoiQnJ/nzJHcluTPJO+ZZmCRpPcxyi58ngYur6pYkxwA3J7mhqu6aU22SpDUw9Yyoqh6qqltGjx8D7gZOnFdhkqT1MJdrREl2Ay8Dvvg06y5KMkwy3NramsdwkqQVMnMQJXkO8EngnVX17f3XV9WeqhpU1WBjY2PW4SRJK2amIEryTLZD6KqqunY+JUmS1sks75oL8BHg7qr64PxKkiStk1lmRGcAbwZek+TW0dcb5lSXJGlNTP327ar638ByPkpQkrSyvLOCJKmVQSRJamUQSZJaGUSSpFYGkSSplUEkSWqVqlreYMnCB1tWP9t/z7tY9jKZZfQB9jKpVTm+wF4mVVVjDeKMSJLUyiCSJLUyiCRJrQwiSVIrg0iS1MogkiS1MogkSa0MIklSK4NIktTKIJIktTKIJEmtDCJJUiuDSJLUyiCSJLUyiCRJrQwiSVIrg0iS1MogkiS1MogkSa0MIklSK4NIktTKIJIktTKIJEmtDCJJUiuDSJLUatcyB9vc3GQ4HC50jCQL3f8+VbXwMexlMsvoA+xlUqtyfIG9TGIwGIy9rTMiSVIrg0iS1MogkiS1MogkSa0MIklSK4NIktTKIJIktTKIJEmtZg6iJEck+VKST8+jIEnSepnHjOgdwN1z2I8kaQ3NFERJTgJ+Abh8PuVIktbNrDOi3wEuAZ460AZJLkoyTDLc2tqacThJ0qqZOoiSnA08UlU3/2PbVdWeqhpU1WBjY2Pa4SRJK2qWGdEZwBuT3Ad8HHhNkj+cS1WSpLUxdRBV1buq6qSq2g2cC/xZVZ0/t8okSWvBvyOSJLWaywfjVdXngM/NY1+SpPXijEiS1MogkiS1MogkSa0MIklSK4NIktTKIJIktTKIJEmtUlXLGyxZ+GDL6ifJwsewl8ksow+wl0mtyvEF9jKpqhprEGdEkqRWBpEkqZVBJElqZRBJkloZRJKkVgaRJKmVQSRJamUQSZJaGUSSpFYGkSSplUEkSWplEEmSWhlEkqRWBpEkqZVBJElqZRBJkloZRJKkVgaRJKmVQSRJamUQSZJaGUSSpFYGkSSplUEkSWplEEmSWu1a5mCbm5sMh8OFjpFkofvfp6oWPoa9TGYZfYC9TGpVji+wl0kMBoOxt3VGJElqZRBJkloZRJKkVgaRJKmVQSRJamUQSZJaGUSSpFYGkSSplUEkSWo1UxAlOTbJNUm+kuTuJD81r8IkSeth1lv8XAZ8tqp+KcmzgKPmUJMkaY1MHURJngv8DPAWgKp6HHh8PmVJktbFLKfmTgG2gI8m+VKSy5Mcvf9GSS5KMkwy3NrammE4SdIqmiWIdgEvB36/ql4GfBe4dP+NqmpPVQ2qarCxsTHDcJKkVTRLEO0F9lbVF0fPr2E7mCRJGtvUQVRVDwMPJDl1tOhM4K65VCVJWhuzvmvubcBVo3fMfQ345dlLkiStk5mCqKpuBcb/GD5JkvbjnRUkSa0MIklSK4NIktTKIJIktTKIJEmtDCJJUiuDSJLUKlW1vMGShQ+2rH6SLHwMe5nMMvoAe5nUqhxfYC+TqqqxBnFGJElqZRBJkloZRJKkVgaRJKmVQSRJamUQSZJaGUSSpFYGkSSplUEkSWplEEmSWhlEkqRWBpEkqZVBJElqZRBJkloZRJKkVgaRJKmVQSRJamUQSZJaGUSSpFYGkSSplUEkSWplEEmSWhlEkqRWBpEkqdWuZQ62ubnJcDhc6BhJFrr/fapq4WPYy2SW0QfYy6RW5fgCe5nEYDAYe1tnRJKkVgaRJKmVQSRJamUQSZJaGUSSpFYGkSSplUEkSWplEEmSWhlEkqRWMwVRkl9NcmeSO5JcneTIeRUmSVoPUwdRkhOBtwODqjodOAI4d16FSZLWw6yn5nYBz06yCzgK+PrsJUmS1snUQVRVDwIfAO4HHgK+VVXX779dkouSDJMMt7a2pq9UkrSSZjk19zzgHOAU4ATg6CTn779dVe2pqkFVDTY2NqavVJK0kmY5Nfda4N6q2qqqJ4BrgVfPpyxJ0rqYJYjuB16V5Khsf4DGmcDd8ylLkrQuZrlG9EXgGuAW4PbRvvbMqS5J0pqY6RNaq+rXgV+fUy2SpDXknRUkSa0MIklSK4NIktTKIJIktTKIJEmtDCJJUiuDSJLUKlW1vMGShQ+2rH62byaxWPYymWX0AfYyqVU5vsBeJlVVYw3ijEiS1MogkiS1MogkSa0MIklSK4NIktTKIJIktTKIJEmtDCJJUiuDSJLUyiCSJLUyiCRJrQwiSVIrg0iS1MogkiS1MogkSa0MIklSK4NIktTKIJIktTKIJEmtDCJJUiuDSJLUyiCSJLUyiCRJrQwiSVKrXcscbHNzk+FwuNAxkix0//tU1cLHsJfJLKMPsJdJrcrxBfYyicFgMPa2zogkSa0MIklSK4NIktTKIJIktTKIJEmtDCJJUiuDSJLUyiCSJLUyiCRJrQ4aREmuSPJIkjt2LHt+khuS3DP6/rzFlilJWlXjzIiuBM7ab9mlwI1V9VLgxtFzSZImdtAgqqrPA9/cb/E5wMdGjz8GvGnOdUmS1sS014iOr6qHRo8fBo4/0IZJLkoyTDLc2tqacjhJ0qqa+c0KtX0L1wPexrWq9lTVoKoGGxsbsw4nSVox0wbRN5K8CGD0/ZH5lSRJWifTBtF1wAWjxxcAfzSfciRJ62act29fDdwEnJpkb5ILgfcDP5fkHuC1o+eSJE3soJ/QWlXnHWDVmXOuRZK0hryzgiSplUEkSWplEEmSWhlEkqRWBpEkqZVBJElqle079CxpsGThgy2rnyQLH8NeJrOMPsBeJrUqxxfYy6SqaqxBnBFJkloZRJKkVgaRJKmVQSRJamUQSZJaGUSSpFYGkSSplUEkSWplEEmSWhlEkqRWBpEkqZVBJElqZRBJkloZRJKkVgaRJKmVQSRJamUQSZJaGUSSpFYGkSSplUEkSWplEEmSWhlEkqRWBpEkqZVBJElqZRBJklrtWuZgm5ubDIfDhY6RZKH736eqFj6GvUxmGX2AvUxqVY4vsJdJDAaDsbd1RiRJamUQSZJaGUSSpFYGkSSplUEkSWplEEmSWhlEkqRWBpEkqdVBgyjJFUkeSXLHjmW/leQrSb6c5FNJjl1smZKkVTXOjOhK4Kz9lt0AnF5VPwb8FfCuOdclSVoTBw2iqvo88M39ll1fVU+Onn4BOGkBtUmS1sA8rhH9CvAnB1qZ5KIkwyTDra2tOQwnSVolMwVRkvcATwJXHWibqtpTVYOqGmxsbMwynCRpBU199+0kbwHOBs6sZd0qWJK0cqYKoiRnAZcAP1tV35tvSZKkdTLO27evBm4CTk2yN8mFwO8CxwA3JLk1yYcXXKckaUUddEZUVec9zeKPLKAWSdIa8s4KkqRWBpEkqZVBJElqZRBJkloZRJKkVgaRJKmVQSRJapVl3p0nycIHW1Y/SRY+hr1MZhl9gL1MalWOL7CXSVXVWIM4I5IktTKIJEmtDCJJUiuDSJLUyiCSJLUyiCRJrQwiSVIrg0iS1MogkiS1MogkSa0MIklSK4NIktTKIJIktTKIJEmtDCJJUiuDSJLUyiCSJLUyiCRJrQwiSVIrg0iS1MogkiS1MogkSa0MIklSK4NIktTKIJIktdq1zME2NzcZDocLHSPJQve/T1UtfAx7mcwy+gB7mdSqHF9gL5MYDAZjb+uMSJLUyiCSJLUyiCRJrQwiSVIrg0iS1MogkiS1MogkSa0MIklSq4MGUZIrkjyS5I6nWXdxkkpy3GLKkyStunFmRFcCZ+2/MMnJwOuA++dckyRpjRw0iKrq88A3n2bVbwOXAMu5F4kkaSVNdY0oyTnAg1V12xjbXpRkmGS4tbU1zXCSpBU2cRAlOQp4N/Decbavqj1VNaiqwcbGxqTDSZJW3DQzopcApwC3JbkPOAm4JckL51mYJGk9TPwxEFV1O/CCfc9HYTSoqkfnWJckaU2M8/btq4GbgFOT7E1y4eLLkiSti4POiKrqvIOs3z23aiRJa8c7K0iSWhlEkqRWBpEkqZVBJElqZRBJkloZRJKkVgaRJKlVqpZ38+wkW8BfT/iy44BVuGvDqvQB9nKoWpVeVqUPWO9eXlxVY91gdKlBNI0kw6oadNcxq1XpA+zlULUqvaxKH2Av4/LUnCSplUEkSWp1OATRnu4C5mRV+gB7OVStSi+r0gfYy1gO+WtEkqTVdjjMiCRJK8wgkiS1OmSDKMlZSf4yyVeTXNpdz7SSnJzkz5PcleTOJO/ormkWSY5I8qUkn+6uZRZJjk1yTZKvJLk7yU911zStJL86OrbuSHJ1kiO7axpXkiuSPJLkjh3Lnp/khiT3jL4/r7PGcR2gl98aHWNfTvKpJMd21jiup+tlx7qLk1SS4+Y13iEZREmOAD4EvB44DTgvyWm9VU3tSeDiqjoNeBXwbw/jXgDeAdzdXcQcXAZ8tqr+GfDjHKY9JTkReDswqKrTgSOAc3urmsiVwFn7LbsUuLGqXgrcOHp+OLiSH+7lBuD0qvox4K+Ady27qCldyQ/3QpKTgdcB989zsEMyiIBXAl+tqq9V1ePAx4FzmmuaSlU9VFW3jB4/xvYvvBN7q5pOkpOAXwAu765lFkmeC/wM8BGAqnq8qv62t6qZ7AKenWQXcBTw9eZ6xlZVnwe+ud/ic4CPjR5/DHjTUoua0tP1UlXXV9WTo6dfAE5aemFTOMD/F4DfBi4B5vout0M1iE4EHtjxfC+H6S/vnZLsBl4GfLG3kqn9DtsH4VPdhczoFGAL+OjoNOPlSY7uLmoaVfUg8AG2/4X6EPCtqrq+t6qZHV9VD40ePwwc31nMHP0K8CfdRUwryTnAg1V127z3fagG0cpJ8hzgk8A7q+rb3fVMKsnZwCNVdXN3LXOwC3g58PtV9TLguxw+p3/+gdH1k3PYDtcTgKOTnN9b1fzU9t+XHPZ/Y5LkPWyfpr+qu5ZpJDkKeDfw3kXs/1ANogeBk3c8P2m07LCU5Jlsh9BVVXVtdz1TOgN4Y5L72D5V+pokf9hb0tT2Anurat/M9Bq2g+lw9Frg3qraqqongGuBVzfXNKtvJHkRwOj7I831zCTJW4CzgX9dh+8fbr6E7X/s3Db6HXAScEuSF85j54dqEP0F8NIkpyR5FtsXX69rrmkqScL2tYi7q+qD3fVMq6reVVUnVdVutv9//FlVHZb/8q6qh4EHkpw6WnQmcFdjSbO4H3hVkqNGx9qZHKZvvNjhOuCC0eMLgD9qrGUmSc5i+3T2G6vqe931TKuqbq+qF1TV7tHvgL3Ay0c/SzM7JINodHHvrcCfsv1D9YmqurO3qqmdAbyZ7RnEraOvN3QXJd4GXJXky8BPAP+puZ6pjGZ11wC3ALez/TN92NxWJsnVwE3AqUn2JrkQeD/wc0nuYXvG9/7OGsd1gF5+FzgGuGH0s//h1iLHdIBeFjfe4TtTlCStgkNyRiRJWh8GkSSplUEkSWplEEmSWhlEkqRWBpEkqZVBJElq9f8BxCkDgtdFozoAAAAASUVORK5CYII=\n",
      "text/plain": [
       "<Figure size 504x504 with 1 Axes>"
      ]
     },
     "metadata": {
      "needs_background": "light"
     },
     "output_type": "display_data"
    }
   ],
   "source": [
    "# Create NQueens problem.\n",
    "N = 15\n",
    "n_queens = NQueensCSP(N)\n",
    "\n",
    "# Solve the problem using Backtracking with Forward Checking (fc flag set to True). Store timing.\n",
    "start_time = time.time()\n",
    "solution = backtracking_search(n_queens, inference=forward_checking)\n",
    "end_time = time.time()\n",
    "print(\" Time taken to solve %s Queens problem using Backtracking with Forward Checking: %f seconds\"% (N, end_time - start_time))\n",
    "plot_NQueens(solution)"
   ]
  },
  {
   "cell_type": "markdown",
   "metadata": {},
   "source": [
    "The constraint that needs to be passed to the CSP is defined in the **queen_constraint** function. \n",
    " The constraint is satisfied (true) if A, B are really the same variable, or if they are not in the same row (equivalent to having the same value), down diagonal, or up diagonal."
   ]
  },
  {
   "cell_type": "code",
   "execution_count": 13,
   "metadata": {},
   "outputs": [
    {
     "data": {
      "text/html": [
       "<!DOCTYPE html PUBLIC \"-//W3C//DTD HTML 4.01//EN\"\n",
       "   \"http://www.w3.org/TR/html4/strict.dtd\">\n",
       "\n",
       "<html>\n",
       "<head>\n",
       "  <title></title>\n",
       "  <meta http-equiv=\"content-type\" content=\"text/html; charset=None\">\n",
       "  <style type=\"text/css\">\n",
       "td.linenos { background-color: #f0f0f0; padding-right: 10px; }\n",
       "span.lineno { background-color: #f0f0f0; padding: 0 5px 0 5px; }\n",
       "pre { line-height: 125%; }\n",
       "body .hll { background-color: #ffffcc }\n",
       "body  { background: #f8f8f8; }\n",
       "body .c { color: #408080; font-style: italic } /* Comment */\n",
       "body .err { border: 1px solid #FF0000 } /* Error */\n",
       "body .k { color: #008000; font-weight: bold } /* Keyword */\n",
       "body .o { color: #666666 } /* Operator */\n",
       "body .ch { color: #408080; font-style: italic } /* Comment.Hashbang */\n",
       "body .cm { color: #408080; font-style: italic } /* Comment.Multiline */\n",
       "body .cp { color: #BC7A00 } /* Comment.Preproc */\n",
       "body .cpf { color: #408080; font-style: italic } /* Comment.PreprocFile */\n",
       "body .c1 { color: #408080; font-style: italic } /* Comment.Single */\n",
       "body .cs { color: #408080; font-style: italic } /* Comment.Special */\n",
       "body .gd { color: #A00000 } /* Generic.Deleted */\n",
       "body .ge { font-style: italic } /* Generic.Emph */\n",
       "body .gr { color: #FF0000 } /* Generic.Error */\n",
       "body .gh { color: #000080; font-weight: bold } /* Generic.Heading */\n",
       "body .gi { color: #00A000 } /* Generic.Inserted */\n",
       "body .go { color: #888888 } /* Generic.Output */\n",
       "body .gp { color: #000080; font-weight: bold } /* Generic.Prompt */\n",
       "body .gs { font-weight: bold } /* Generic.Strong */\n",
       "body .gu { color: #800080; font-weight: bold } /* Generic.Subheading */\n",
       "body .gt { color: #0044DD } /* Generic.Traceback */\n",
       "body .kc { color: #008000; font-weight: bold } /* Keyword.Constant */\n",
       "body .kd { color: #008000; font-weight: bold } /* Keyword.Declaration */\n",
       "body .kn { color: #008000; font-weight: bold } /* Keyword.Namespace */\n",
       "body .kp { color: #008000 } /* Keyword.Pseudo */\n",
       "body .kr { color: #008000; font-weight: bold } /* Keyword.Reserved */\n",
       "body .kt { color: #B00040 } /* Keyword.Type */\n",
       "body .m { color: #666666 } /* Literal.Number */\n",
       "body .s { color: #BA2121 } /* Literal.String */\n",
       "body .na { color: #7D9029 } /* Name.Attribute */\n",
       "body .nb { color: #008000 } /* Name.Builtin */\n",
       "body .nc { color: #0000FF; font-weight: bold } /* Name.Class */\n",
       "body .no { color: #880000 } /* Name.Constant */\n",
       "body .nd { color: #AA22FF } /* Name.Decorator */\n",
       "body .ni { color: #999999; font-weight: bold } /* Name.Entity */\n",
       "body .ne { color: #D2413A; font-weight: bold } /* Name.Exception */\n",
       "body .nf { color: #0000FF } /* Name.Function */\n",
       "body .nl { color: #A0A000 } /* Name.Label */\n",
       "body .nn { color: #0000FF; font-weight: bold } /* Name.Namespace */\n",
       "body .nt { color: #008000; font-weight: bold } /* Name.Tag */\n",
       "body .nv { color: #19177C } /* Name.Variable */\n",
       "body .ow { color: #AA22FF; font-weight: bold } /* Operator.Word */\n",
       "body .w { color: #bbbbbb } /* Text.Whitespace */\n",
       "body .mb { color: #666666 } /* Literal.Number.Bin */\n",
       "body .mf { color: #666666 } /* Literal.Number.Float */\n",
       "body .mh { color: #666666 } /* Literal.Number.Hex */\n",
       "body .mi { color: #666666 } /* Literal.Number.Integer */\n",
       "body .mo { color: #666666 } /* Literal.Number.Oct */\n",
       "body .sa { color: #BA2121 } /* Literal.String.Affix */\n",
       "body .sb { color: #BA2121 } /* Literal.String.Backtick */\n",
       "body .sc { color: #BA2121 } /* Literal.String.Char */\n",
       "body .dl { color: #BA2121 } /* Literal.String.Delimiter */\n",
       "body .sd { color: #BA2121; font-style: italic } /* Literal.String.Doc */\n",
       "body .s2 { color: #BA2121 } /* Literal.String.Double */\n",
       "body .se { color: #BB6622; font-weight: bold } /* Literal.String.Escape */\n",
       "body .sh { color: #BA2121 } /* Literal.String.Heredoc */\n",
       "body .si { color: #BB6688; font-weight: bold } /* Literal.String.Interpol */\n",
       "body .sx { color: #008000 } /* Literal.String.Other */\n",
       "body .sr { color: #BB6688 } /* Literal.String.Regex */\n",
       "body .s1 { color: #BA2121 } /* Literal.String.Single */\n",
       "body .ss { color: #19177C } /* Literal.String.Symbol */\n",
       "body .bp { color: #008000 } /* Name.Builtin.Pseudo */\n",
       "body .fm { color: #0000FF } /* Name.Function.Magic */\n",
       "body .vc { color: #19177C } /* Name.Variable.Class */\n",
       "body .vg { color: #19177C } /* Name.Variable.Global */\n",
       "body .vi { color: #19177C } /* Name.Variable.Instance */\n",
       "body .vm { color: #19177C } /* Name.Variable.Magic */\n",
       "body .il { color: #666666 } /* Literal.Number.Integer.Long */\n",
       "\n",
       "  </style>\n",
       "</head>\n",
       "<body>\n",
       "<h2></h2>\n",
       "\n",
       "<div class=\"highlight\"><pre><span></span><span class=\"k\">def</span> <span class=\"nf\">queen_constraint</span><span class=\"p\">(</span><span class=\"n\">A</span><span class=\"p\">,</span> <span class=\"n\">a</span><span class=\"p\">,</span> <span class=\"n\">B</span><span class=\"p\">,</span> <span class=\"n\">b</span><span class=\"p\">):</span>\n",
       "    <span class=\"sd\">&quot;&quot;&quot;Constraint is satisfied (true) if A, B are really the same variable,</span>\n",
       "<span class=\"sd\">    or if they are not in the same row, down diagonal, or up diagonal.&quot;&quot;&quot;</span>\n",
       "    <span class=\"k\">return</span> <span class=\"n\">A</span> <span class=\"o\">==</span> <span class=\"n\">B</span> <span class=\"ow\">or</span> <span class=\"p\">(</span><span class=\"n\">a</span> <span class=\"o\">!=</span> <span class=\"n\">b</span> <span class=\"ow\">and</span> <span class=\"n\">A</span> <span class=\"o\">+</span> <span class=\"n\">a</span> <span class=\"o\">!=</span> <span class=\"n\">B</span> <span class=\"o\">+</span> <span class=\"n\">b</span> <span class=\"ow\">and</span> <span class=\"n\">A</span> <span class=\"o\">-</span> <span class=\"n\">a</span> <span class=\"o\">!=</span> <span class=\"n\">B</span> <span class=\"o\">-</span> <span class=\"n\">b</span><span class=\"p\">)</span>\n",
       "</pre></div>\n",
       "</body>\n",
       "</html>\n"
      ],
      "text/plain": [
       "<IPython.core.display.HTML object>"
      ]
     },
     "metadata": {},
     "output_type": "display_data"
    }
   ],
   "source": [
    "psource(queen_constraint)"
   ]
  },
  {
   "cell_type": "markdown",
   "metadata": {},
   "source": [
    "<div class=\"alert alert-block alert-danger\">\n",
    "<b>TODO:</b> Add at this point the visualization step by step of what backtracking with FC does!\n",
    "</div>"
   ]
  },
  {
   "cell_type": "markdown",
   "metadata": {},
   "source": [
    "### <a name=\"backtracking_w_mac\"></a>d. Backtracking while Maintaining Arc Consistency (BT-MAC)\n",
    "\n",
    "#### Definition\n",
    "<div class=\"alert alert-block alert-danger\">\n",
    "<b>TODO:</b> Definition\n",
    "</div>"
   ]
  },
  {
   "cell_type": "markdown",
   "metadata": {},
   "source": [
    "#### Complexity\n",
    "<div class=\"alert alert-block alert-danger\">\n",
    "<b>TODO:</b> Complexity\n",
    "</div>"
   ]
  },
  {
   "cell_type": "markdown",
   "metadata": {},
   "source": [
    "#### Example: solving NQueens (X Queens)\n"
   ]
  },
  {
   "cell_type": "code",
<<<<<<< HEAD
   "execution_count": 10,
=======
   "execution_count": 14,
>>>>>>> 2b2204bd733fac5c4888d08907c415b34879f42a
   "metadata": {},
   "outputs": [
    {
     "name": "stdout",
     "output_type": "stream",
     "text": [
<<<<<<< HEAD
      " Time taken to solve 15 Queens problem using Backtracking with Forward Checking: 0.085055 seconds\n"
     ]
    },
    {
     "ename": "FileNotFoundError",
     "evalue": "[Errno 2] No such file or directory: 'images/x.png'",
     "output_type": "error",
     "traceback": [
      "\u001b[0;31m---------------------------------------------------------------------------\u001b[0m",
      "\u001b[0;31mFileNotFoundError\u001b[0m                         Traceback (most recent call last)",
      "\u001b[0;32m<ipython-input-10-47d8ea730d0a>\u001b[0m in \u001b[0;36m<module>\u001b[0;34m\u001b[0m\n\u001b[1;32m      8\u001b[0m \u001b[0mend_time\u001b[0m \u001b[0;34m=\u001b[0m \u001b[0mtime\u001b[0m\u001b[0;34m.\u001b[0m\u001b[0mtime\u001b[0m\u001b[0;34m(\u001b[0m\u001b[0;34m)\u001b[0m\u001b[0;34m\u001b[0m\u001b[0m\n\u001b[1;32m      9\u001b[0m \u001b[0mprint\u001b[0m\u001b[0;34m(\u001b[0m\u001b[0;34m\" Time taken to solve %s Queens problem using Backtracking with Forward Checking: %f seconds\"\u001b[0m\u001b[0;34m%\u001b[0m \u001b[0;34m(\u001b[0m\u001b[0mN\u001b[0m\u001b[0;34m,\u001b[0m \u001b[0mend_time\u001b[0m \u001b[0;34m-\u001b[0m \u001b[0mstart_time\u001b[0m\u001b[0;34m)\u001b[0m\u001b[0;34m)\u001b[0m\u001b[0;34m\u001b[0m\u001b[0m\n\u001b[0;32m---> 10\u001b[0;31m \u001b[0mplot_NQueens\u001b[0m\u001b[0;34m(\u001b[0m\u001b[0msolution\u001b[0m\u001b[0;34m)\u001b[0m\u001b[0;34m\u001b[0m\u001b[0m\n\u001b[0m",
      "\u001b[0;32m~/csp_notebook/lib/notebook.py\u001b[0m in \u001b[0;36mplot_NQueens\u001b[0;34m(partial_assignment, pruned_domains, n, grid, cmap, norm)\u001b[0m\n\u001b[1;32m    278\u001b[0m     \u001b[0mim\u001b[0m \u001b[0;34m=\u001b[0m \u001b[0mImage\u001b[0m\u001b[0;34m.\u001b[0m\u001b[0mopen\u001b[0m\u001b[0;34m(\u001b[0m\u001b[0;34m'images/queen_s.png'\u001b[0m\u001b[0;34m)\u001b[0m\u001b[0;34m\u001b[0m\u001b[0m\n\u001b[1;32m    279\u001b[0m     \u001b[0mim\u001b[0m \u001b[0;34m=\u001b[0m \u001b[0mnp\u001b[0m\u001b[0;34m.\u001b[0m\u001b[0marray\u001b[0m\u001b[0;34m(\u001b[0m\u001b[0mim\u001b[0m\u001b[0;34m)\u001b[0m\u001b[0;34m.\u001b[0m\u001b[0mastype\u001b[0m\u001b[0;34m(\u001b[0m\u001b[0mnp\u001b[0m\u001b[0;34m.\u001b[0m\u001b[0mfloat\u001b[0m\u001b[0;34m)\u001b[0m \u001b[0;34m/\u001b[0m \u001b[0;36m255\u001b[0m\u001b[0;34m\u001b[0m\u001b[0m\n\u001b[0;32m--> 280\u001b[0;31m     \u001b[0mim_x\u001b[0m \u001b[0;34m=\u001b[0m \u001b[0mImage\u001b[0m\u001b[0;34m.\u001b[0m\u001b[0mopen\u001b[0m\u001b[0;34m(\u001b[0m\u001b[0;34m'images/x.png'\u001b[0m\u001b[0;34m)\u001b[0m\u001b[0;34m\u001b[0m\u001b[0m\n\u001b[0m\u001b[1;32m    281\u001b[0m     \u001b[0mim_x\u001b[0m \u001b[0;34m=\u001b[0m \u001b[0mnp\u001b[0m\u001b[0;34m.\u001b[0m\u001b[0marray\u001b[0m\u001b[0;34m(\u001b[0m\u001b[0mim_x\u001b[0m\u001b[0;34m)\u001b[0m\u001b[0;34m.\u001b[0m\u001b[0mastype\u001b[0m\u001b[0;34m(\u001b[0m\u001b[0mnp\u001b[0m\u001b[0;34m.\u001b[0m\u001b[0mfloat\u001b[0m\u001b[0;34m)\u001b[0m \u001b[0;34m/\u001b[0m \u001b[0;36m255\u001b[0m\u001b[0;34m\u001b[0m\u001b[0m\n\u001b[1;32m    282\u001b[0m \u001b[0;34m\u001b[0m\u001b[0m\n",
      "\u001b[0;32m~/csp_notebook/env/lib/python3.5/site-packages/PIL/Image.py\u001b[0m in \u001b[0;36mopen\u001b[0;34m(fp, mode)\u001b[0m\n\u001b[1;32m   2607\u001b[0m \u001b[0;34m\u001b[0m\u001b[0m\n\u001b[1;32m   2608\u001b[0m     \u001b[0;32mif\u001b[0m \u001b[0mfilename\u001b[0m\u001b[0;34m:\u001b[0m\u001b[0;34m\u001b[0m\u001b[0m\n\u001b[0;32m-> 2609\u001b[0;31m         \u001b[0mfp\u001b[0m \u001b[0;34m=\u001b[0m \u001b[0mbuiltins\u001b[0m\u001b[0;34m.\u001b[0m\u001b[0mopen\u001b[0m\u001b[0;34m(\u001b[0m\u001b[0mfilename\u001b[0m\u001b[0;34m,\u001b[0m \u001b[0;34m\"rb\"\u001b[0m\u001b[0;34m)\u001b[0m\u001b[0;34m\u001b[0m\u001b[0m\n\u001b[0m\u001b[1;32m   2610\u001b[0m         \u001b[0mexclusive_fp\u001b[0m \u001b[0;34m=\u001b[0m \u001b[0;32mTrue\u001b[0m\u001b[0;34m\u001b[0m\u001b[0m\n\u001b[1;32m   2611\u001b[0m \u001b[0;34m\u001b[0m\u001b[0m\n",
      "\u001b[0;31mFileNotFoundError\u001b[0m: [Errno 2] No such file or directory: 'images/x.png'"
=======
      " Time taken to solve 20 Queens problem using Backtracking with MAC: 13.198329 seconds\n"
>>>>>>> 2b2204bd733fac5c4888d08907c415b34879f42a
     ]
    },
    {
     "data": {
<<<<<<< HEAD
      "image/png": "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\n",
=======
      "image/png": "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\n",
>>>>>>> 2b2204bd733fac5c4888d08907c415b34879f42a
      "text/plain": [
       "<Figure size 504x504 with 1 Axes>"
      ]
     },
     "metadata": {
      "needs_background": "light"
     },
     "output_type": "display_data"
    }
   ],
   "source": [
    "# Create NQueens problem.\n",
    "N = 20\n",
    "n_queens = NQueensCSP(N)\n",
    "\n",
    "# Solve the problem using Backtracking with Forward Checking (fc flag set to True). Store timing.\n",
    "start_time = time.time()\n",
    "solution = backtracking_search(n_queens, inference = mac)\n",
    "end_time = time.time()\n",
    "print(\" Time taken to solve %s Queens problem using Backtracking with MAC: %f seconds\"% (N, end_time - start_time))\n",
    "plot_NQueens(solution)"
   ]
  },
  {
   "cell_type": "markdown",
   "metadata": {},
   "source": [
    "<div class=\"alert alert-block alert-danger\">\n",
    "<b>TODO:</b> Add at this point the visualization step by step of what backtracking with MAC does!\n",
    "</div>"
   ]
  },
  {
   "cell_type": "markdown",
   "metadata": {},
   "source": [
    " ## Dynamic Variable Ordering\n",
    " \n",
    "The function Select-Unassigned-Variable in algorithm 4 could be trivially set to pick the next unassigned variable in order, or alternatively pick a random variable each time. Nevertheless, these strategies rarely result in an efficient search. <font color='red'> TODO: Code an example where this is the case.</font> The Most Constrained Variable (MCV) heuristic. It consists in taking as next variable the one having the smallest domain. It is therefore also known as the minimum-remaining-values heuristic, or the fail-first heuristic. The advantage of using MCV is clear when we have a variable that has no legal values left, in this case, the MRV will select this variable first and failure will be detected immediately, which avoids further searches through other variables.\n",
    "\n",
    "The MCV heuristic usually performs better than random or static ordering, sometimes by a factor\n",
    "of 1000 or more, although the results vary widely depending on the problem. <font color='red'> TODO: Can we\n",
    "show this using the Sudoku implementation? </font> We can also modify the function Order-Domain-Values in algorithm 4 to reach a solution faster. The Least Constraining Value (LCV) heuristic consists in taking as next value for the variable in hand the one that reduces by the least amount the domains of the neighbor variables. <font color='red'> TODO: Give Sudoku example or map coloring. </font> The heuristic is therefore just trying to leave the maximum flexibility for subsequent variable assignments. Note that if our objective is to list all possible solutions, this heuristic does not bring any advantage."
   ]
  },
  {
   "cell_type": "markdown",
   "metadata": {},
   "source": [
    "## Bucket Elimination\n",
    "\n",
    "The idea of join and project used to eliminate variables when solving system of linear equation can be extended to constraints. This is made possible by bucket elimination. \n",
    "\n",
    "$\\textbf{Join operation}$ for constraints is shown below:\n",
    "<img src=\"images/pic_1.png\">\n",
    "\n",
    "$\\textbf{Project operation}:$ C2 = $\\pi_{2}C_{21}$\n",
    "<img src=\"images/pic_2.png\">\n",
    "\n",
    "Important ideas behind bucket elimination are as follows:\n",
    "\n",
    "* Eliminate: Derive all consequences that depend on each Vi\n",
    "    by joining all constraints involving Vi\n",
    "\n",
    "* Solve: Encode all solutions to constraints $\\phi$,\n",
    "    by systematically eliminating all variables.\n",
    "\n",
    "* Generate: all solutions without backtrack search, by propagating."
   ]
  },
  {
   "cell_type": "code",
   "execution_count": 35,
   "metadata": {
    "scrolled": true
   },
   "outputs": [
    {
     "name": "stdout",
     "output_type": "stream",
     "text": [
      "The autoreload extension is already loaded. To reload it, use:\n",
      "  %reload_ext autoreload\n"
     ]
    }
   ],
   "source": [
    "# DELETE once we finish this notebook\n",
    "%load_ext autoreload\n",
    "%autoreload 2"
   ]
  },
  {
   "cell_type": "code",
   "execution_count": 36,
   "metadata": {},
   "outputs": [],
   "source": [
    "from lib.visualization import *"
   ]
  },
  {
   "cell_type": "code",
   "execution_count": 41,
   "metadata": {
    "scrolled": true
   },
   "outputs": [
    {
     "data": {
      "application/vnd.jupyter.widget-view+json": {
       "model_id": "8833246ee93041178d0a07956e3b4447",
       "version_major": 2,
       "version_minor": 0
      },
      "text/plain": [
       "interactive(children=(IntSlider(value=0, description='iteration', max=3041), Output()), _dom_classes=('widget-…"
      ]
     },
     "metadata": {},
     "output_type": "display_data"
    }
   ],
   "source": [
    "# Create a N Queens Problem.\n",
    "twelve_queens_csp = NQueensCSP(12)\n",
    "backtracking_instru_queen = make_instru(twelve_queens_csp)\n",
    "result = backtracking_search(backtracking_instru_queen)\n",
    "\n",
    "# Displaying\n",
    "display_nqueens(backtracking_instru_queen, result)\n"
   ]
  },
  {
   "cell_type": "markdown",
   "metadata": {},
   "source": [
    "### BT-FC"
   ]
  },
  {
   "cell_type": "code",
   "execution_count": 40,
   "metadata": {},
   "outputs": [
    {
     "data": {
      "application/vnd.jupyter.widget-view+json": {
       "model_id": "7a269d6b84c64d22aeeb10e382c8b81a",
       "version_major": 2,
       "version_minor": 0
      },
      "text/plain": [
       "interactive(children=(IntSlider(value=0, description='iteration', max=339), Output()), _dom_classes=('widget-i…"
      ]
     },
     "metadata": {},
     "output_type": "display_data"
    }
   ],
   "source": [
    "twelve_queens_csp = NQueensCSP(12)\n",
    "backtracking_instru_queen = make_instru(twelve_queens_csp)\n",
    "result = backtracking_search(backtracking_instru_queen, inference=forward_checking)\n",
    "\n",
    "# Displaying\n",
    "display_nqueens(backtracking_instru_queen, result)\n"
   ]
  },
  {
   "cell_type": "markdown",
   "metadata": {},
   "source": [
    "### BT-MAC"
   ]
  },
  {
   "cell_type": "code",
   "execution_count": 42,
   "metadata": {
    "scrolled": false
   },
   "outputs": [
    {
     "data": {
      "application/vnd.jupyter.widget-view+json": {
       "model_id": "890368c671ca4d739f6c8b45d9a98be7",
       "version_major": 2,
       "version_minor": 0
      },
      "text/plain": [
       "interactive(children=(IntSlider(value=0, description='iteration', max=41), Output()), _dom_classes=('widget-in…"
      ]
     },
     "metadata": {},
     "output_type": "display_data"
    }
   ],
   "source": [
    "twelve_queens_csp = NQueensCSP(10)\n",
    "backtracking_instru_queen = make_instru(twelve_queens_csp)\n",
    "result = backtracking_search(backtracking_instru_queen, inference=mac)\n",
    "\n",
    "# Displaying\n",
    "display_nqueens(backtracking_instru_queen, result)"
   ]
  },
  {
   "cell_type": "code",
   "execution_count": null,
   "metadata": {},
   "outputs": [],
   "source": [
    "def slow_function(i):\n",
    "    print(int(i),list(x for x in range(int(i)) if\n",
    "                str(x)==str(x)[::-1] and\n",
    "                str(x**2)==str(x**2)[::-1]))\n",
    "    return\n",
    "widgets.interact_manual(slow_function,i=widgets.FloatSlider(min=1e5, max=1e7, step=1e5));"
   ]
  },
  {
   "cell_type": "markdown",
   "metadata": {},
   "source": [
    "#### Backtracking using Minimum Remaining Values heuristic"
   ]
  },
  {
   "cell_type": "code",
   "execution_count": 44,
   "metadata": {
    "scrolled": true
   },
   "outputs": [],
   "source": [
    "twelve_queens_csp = NQueensCSP(12)\n",
    "backtracking_instru_queen = make_instru(twelve_queens_csp)\n",
    "result = backtracking_search(backtracking_instru_queen, select_unassigned_variable=mrv)\n",
    "\n",
    "# Displaying\n",
    "display_nqueens(backtracking_instru_queen, result)\n"
   ]
  },
  {
   "cell_type": "markdown",
   "metadata": {},
   "source": [
    "#### Solving HARD Sudoku Problem!"
   ]
  },
  {
   "cell_type": "code",
   "execution_count": null,
   "metadata": {},
   "outputs": [],
   "source": [
    "harder1 = '4173698.5.3..........7......2.....6.....8.4......1.......6.3.7.5..2.....1.4......'\n",
    "h = Sudoku(harder1)\n",
    "h.display(h.infer_assignment())\n",
    "print()\n",
    "solution = backtracking_search(h, select_unassigned_variable=mrv, inference=forward_checking)\n",
    "h.display(solution)"
   ]
  },
  {
   "cell_type": "code",
   "execution_count": null,
   "metadata": {},
   "outputs": [],
   "source": []
  }
 ],
 "metadata": {
  "kernelspec": {
   "display_name": "Python 3",
   "language": "python",
   "name": "python3"
  },
  "language_info": {
   "codemirror_mode": {
    "name": "ipython",
    "version": 3
   },
   "file_extension": ".py",
   "mimetype": "text/x-python",
   "name": "python",
   "nbconvert_exporter": "python",
   "pygments_lexer": "ipython3",
   "version": "3.7.0"
  }
 },
 "nbformat": 4,
 "nbformat_minor": 2
}
