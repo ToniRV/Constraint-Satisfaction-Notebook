{
 "cells": [
  {
   "cell_type": "markdown",
   "metadata": {},
   "source": [
    "# Constraint Satisfaction Problems\n",
    "\n",
    "This notebook presents, in an interactive way, the lecture notes of MIT's 16.413 course **Principles of Autonomy and Decision Making** for the chapter on **Constraint Satisfaction**.\n",
    "\n",
    "The material below is highly influenced as well by **Chapter 6 Constraint Satisfaction Problems** of the book *Artificial Intelligence: A Modern Approach*."
   ]
  },
  {
   "cell_type": "markdown",
   "metadata": {},
   "source": [
    "Let us first import necessary modules and helper functions. Run the cell below:"
   ]
  },
  {
   "cell_type": "code",
   "execution_count": 1,
   "metadata": {},
   "outputs": [
    {
     "ename": "ModuleNotFoundError",
     "evalue": "No module named 'utils'",
     "output_type": "error",
     "traceback": [
      "\u001b[0;31m----------------------------------------------------------\u001b[0m",
      "\u001b[0;31mModuleNotFoundError\u001b[0m      Traceback (most recent call last)",
      "\u001b[0;32m<ipython-input-1-fc0c74843739>\u001b[0m in \u001b[0;36m<module>\u001b[0;34m\u001b[0m\n\u001b[1;32m      1\u001b[0m \u001b[0;32mfrom\u001b[0m \u001b[0m__future__\u001b[0m \u001b[0;32mimport\u001b[0m \u001b[0mprint_function\u001b[0m\u001b[0;34m\u001b[0m\u001b[0m\n\u001b[0;32m----> 2\u001b[0;31m \u001b[0;32mfrom\u001b[0m \u001b[0mlib\u001b[0m\u001b[0;34m.\u001b[0m\u001b[0mnotebook\u001b[0m \u001b[0;32mimport\u001b[0m \u001b[0mpsource\u001b[0m\u001b[0;34m,\u001b[0m \u001b[0mpseudocode\u001b[0m\u001b[0;34m,\u001b[0m \u001b[0mplot_NQueens\u001b[0m\u001b[0;34m\u001b[0m\u001b[0m\n\u001b[0m\u001b[1;32m      3\u001b[0m \u001b[0;32mfrom\u001b[0m \u001b[0mlib\u001b[0m\u001b[0;34m.\u001b[0m\u001b[0mn_queens_csp\u001b[0m \u001b[0;32mimport\u001b[0m \u001b[0mNQueensCSP\u001b[0m\u001b[0;34m\u001b[0m\u001b[0m\n\u001b[1;32m      4\u001b[0m \u001b[0;32mfrom\u001b[0m \u001b[0mlib\u001b[0m\u001b[0;34m.\u001b[0m\u001b[0mbacktracking\u001b[0m \u001b[0;32mimport\u001b[0m \u001b[0mbacktracking_search\u001b[0m\u001b[0;34m,\u001b[0m \u001b[0mbacktrack\u001b[0m\u001b[0;34m\u001b[0m\u001b[0m\n\u001b[1;32m      5\u001b[0m \u001b[0;32mimport\u001b[0m \u001b[0mtime\u001b[0m\u001b[0;34m\u001b[0m\u001b[0m\n",
      "\u001b[0;32m~/Google Drive/PhD MIT/Courses/16.413 Principles of Autonomy and Decision Making/Project/Constraint-Satisfaction-Notebook/lib/notebook.py\u001b[0m in \u001b[0;36m<module>\u001b[0;34m\u001b[0m\n\u001b[1;32m      1\u001b[0m \u001b[0;32mfrom\u001b[0m \u001b[0minspect\u001b[0m \u001b[0;32mimport\u001b[0m \u001b[0mgetsource\u001b[0m\u001b[0;34m\u001b[0m\u001b[0m\n\u001b[1;32m      2\u001b[0m \u001b[0;34m\u001b[0m\u001b[0m\n\u001b[0;32m----> 3\u001b[0;31m \u001b[0;32mfrom\u001b[0m \u001b[0mutils\u001b[0m \u001b[0;32mimport\u001b[0m \u001b[0margmax\u001b[0m\u001b[0;34m,\u001b[0m \u001b[0margmin\u001b[0m\u001b[0;34m\u001b[0m\u001b[0m\n\u001b[0m\u001b[1;32m      4\u001b[0m \u001b[0;32mfrom\u001b[0m \u001b[0mIPython\u001b[0m\u001b[0;34m.\u001b[0m\u001b[0mdisplay\u001b[0m \u001b[0;32mimport\u001b[0m \u001b[0mHTML\u001b[0m\u001b[0;34m,\u001b[0m \u001b[0mdisplay\u001b[0m\u001b[0;34m\u001b[0m\u001b[0m\n\u001b[1;32m      5\u001b[0m \u001b[0;32mfrom\u001b[0m \u001b[0mcollections\u001b[0m \u001b[0;32mimport\u001b[0m \u001b[0mCounter\u001b[0m\u001b[0;34m,\u001b[0m \u001b[0mdefaultdict\u001b[0m\u001b[0;34m\u001b[0m\u001b[0m\n",
      "\u001b[0;31mModuleNotFoundError\u001b[0m: No module named 'utils'"
     ]
    }
   ],
   "source": [
    "from __future__ import print_function\n",
    "from lib.notebook import psource, pseudocode, plot_NQueens\n",
    "from lib.n_queens_csp import NQueensCSP\n",
    "from lib.backtracking import backtracking_search, backtrack\n",
    "import time\n",
    "%matplotlib inline\n",
    "\n",
    "# Hide warnings in the matplotlib sections\n",
    "import warnings\n",
    "warnings.filterwarnings(\"ignore\")\n"
   ]
  },
  {
   "cell_type": "markdown",
   "metadata": {},
   "source": [
    "# CONTENTS\n",
    "\n",
    " 1. **Introduction to Constraint Propagation Problems (L13 & L14)**:\n",
    "    1. *Definition*\n",
    "    2. *Examples*\n",
    "\n",
    " 2. **Solving CSPs (L14 & L 15)**:\n",
    "    1. *Constraint Propagation in CSPs*:\n",
    "        1. Arc-Consistency:\n",
    "            1. Directed arc consistency\n",
    "            2. Full arc consistency\n",
    "\n",
    "        2. Propagation:\n",
    "            1. AC-1:\n",
    "                * Definition\n",
    "                * Example: solving Sudoku with AC-1\n",
    "                * Complexity Analysis\n",
    "                * Soundness and Completeness\n",
    "            2. AC-3:\n",
    "                * Definition\n",
    "                * Example: solving Sudoku with AC-3\n",
    "                * Complexity Analysis\n",
    "                * Soundness and Completeness\n",
    "        3. Numerical constraints:\n",
    "            1. Propagation for Integer Domains\n",
    "            2. Pruning Integer Domains\n",
    "        4. Global constraints:\n",
    "            1. AllDiff\n",
    "            2. Example: global vs local constraints NQueens\n",
    "    2. *[Search in CSPs](#search_in_csps)*:\n",
    "        1. [Generic Search](#generic_search):\n",
    "            * Formulating CSPs as a state space search problem\n",
    "            * Complexity\n",
    "            * Example: NQueens with generic search (5 Queens)\n",
    "        2. [Backtracking Search (BT)](#backtracking):\n",
    "            * Definition\n",
    "            * Complexity\n",
    "            * Example: solving NQueens (15 Queens)\n",
    "        3. [Backtracking Search with Forward Checking (BT-FC)](#backtracking_w_fc):\n",
    "            * Definition\n",
    "            * Complexity\n",
    "            * Example: solving NQueens (30 Queens)              \n",
    "        4. [**Backtracking while Maintaining Arc Consistency (BT-MAC)**](#backtracking_w_mac):\n",
    "            * Definition\n",
    "            * Complexity\n",
    "            * Example: solving NQueens (X Queens)\n",
    "        4. BT-DC with Dynamic Variable Ordering:\n",
    "            * Definition\n",
    "            * Complexity\n",
    "            * Example: solving NQueens (1000 Queens)\n",
    "\n",
    "    3. *Elimination for Constraints in CSPs*:\n",
    "        1. Variable Elimination for Constraints:\n",
    "            * Definition: join and project\n",
    "            * Example\n",
    "        2. Bucket elimination (Adaptive Consistency):\n",
    "            * Definition\n",
    "            * Example\n",
    "\n",
    " 3. **Appendix**:\n",
    "    1. Constraint Optimization Problem:\n",
    "        1. Branch-and-Bound\n",
    "        2. Example: using Map Coloring problem with cost added to the colors to use.\n",
    "    2. Conflict-directed Back Jumping (CBJ)\n",
    "        * Definition\n",
    "        * Example\n",
    "    3. Incremental Repair / Iterative Repair / Min-Conflict Heuristic\n",
    "        * Definition\n",
    "        * Example"
   ]
  },
  {
   "cell_type": "markdown",
   "metadata": {},
   "source": [
    "## Introduction \n",
    "\n",
    "Constraint satisfaction problem represents states using a list of variables with assignments and\n",
    "conditions for a solution in the form of constraints on the variables. This allows us to treat\n",
    "the state space with structure - using a factored representation for each state contrary to the\n",
    "black box view used in state space search problems.\n",
    "\n",
    "\n",
    "Formally, Constraint Satisfaction Problem (CSP) can be defined as a triple of < X, D, C > where\n",
    "X is a set of variables, D is the domain of each of the variables in V and C is the set of constraints\n",
    "defining the problem. Each constraint in C can be thought of as a pair of scope S which is a\n",
    "subset of V and a relation R between variables in S. The problem of having seeking a set with one\n",
    "A and two B’s can be cast in the CSP framework with V = {A, B}, D = {1, 2} and constraint\n",
    "C = {[{A, B}, {{1, 2}, {1, 1}}], [{A, B}, {{1, 2}, {2, 2}}]} where the first constraint tells that there\n",
    "must be exactly one A and the second constraint imposes the fact that there must be two B’s. The\n",
    "solution to the problem is when both the constraints are satisfied which is possible only when the\n",
    "assignment is (1,2).\n",
    "\n",
    "CSPs can be visualized using constraint graphs where the nodes represent the variables and the\n",
    "edges represent the constraint between the variables connected by it. Any CSP can be represented\n",
    "using a constraint graph because any constraint involving multiple variables can be converted to\n",
    "binary variables by adding additional variables to the problem."
   ]
  },
  {
   "cell_type": "markdown",
   "metadata": {},
   "source": [
    "## Constraint Propagation\n",
    "\n",
    "Apart from searching the state space, constraint programming also allows us to perform specific\n",
    "type of inference called constraint Propagation which helps in eliminating unwanted parts of the\n",
    "state space based on the constraint satisfaction.\n",
    "\n",
    "A single variable in a CSP is said to be node-consistent if all it’s unary constraints are satisfied.\n",
    "We can use this to delete some values in the domain of the variable that doesn’t satisfy the unary\n",
    "constraint on that variable. A network is node-consistent if all the variables in it are also nodeconstraint.\n",
    "\n",
    "A variable in CSP is said to be arc-consistent if every value in its domain satisfies binary constraints\n",
    "imposed on the variable. Similar to node consistency, checking for arc-consistency can help reduce the domain size of a variable before performing search. Algorithm 1 shown below describes a Revise procedure that ensures that a given node Xi is arc-consistent.\n",
    "\n",
    "<img src=\"Algorithm_1.png\">"
   ]
  },
  {
   "cell_type": "markdown",
   "metadata": {},
   "source": [
    "## AC-1 and AC-3\n",
    "\n",
    "AC-1 is a constraint propagation algorithm that repeatedly checks for arc-consistency between two nodes and removes those values in the domain of each of the two variables that are not consistent. The algorithm is described below:\n",
    "\n",
    "<img src=\"Algorithm_2.png\">\n",
    "\n",
    "In AC-1, the domain of a variable is changed by deleting the values in the variable’s domain that are arc inconsistent with another variable. We notice that everytime the domain of the variable shrinks, some equivalent values in other variables now become inconsistent. AC-1 doesn’t take advantage of this and hence it must be run iteratively until the domain of all the variables don’t change. AC-3, on the contrary, tries to take advantage of this fact by using a queue that has information about the next arcs to be checked based on the modifications made in the current iteration. This leads to a much faster constraint propagation. The algorithm is described below\n",
    "\n",
    "<img src=\"Algorithm_3.png\">"
   ]
  },
  {
   "cell_type": "markdown",
   "metadata": {},
   "source": [
    "## <a name=\"search_in_csps\"></a>2. Search in CSPs\n",
    "\n",
    "Constraint propagation alone is not sufficient to solve many CSPs. In this case, a solution must be found using search algorithms.\n",
    "\n",
    "In this section, we will explain different search algorithms used to solve CSPs.\n",
    "The section is organized as follows:\n",
    "\n",
    "1. [Generic Search](#generic_search):\n",
    "    * Formulating CSPs as a state space search problem\n",
    "    * Complexity\n",
    "    * Example: NQueens with generic search (5 Queens)\n",
    "2. [Backtracking Search (BT)](#backtracking):\n",
    "    * Definition\n",
    "    * Complexity\n",
    "    * Example: solving NQueens (15 Queens)\n",
    "3. [Backtracking Search with Forward Checking (BT-FC)](#backtracking_w_fc):\n",
    "    * Definition\n",
    "    * Complexity\n",
    "    * Example: solving NQueens (30 Queens)              \n",
    "4. [**Backtracking while Maintaining Arc Consistency (BT-MAC)**](#backtracking_w_mac):\n",
    "    * Definition\n",
    "    * Complexity\n",
    "    * Example: solving NQueens (X Queens)\n",
    "4. BT-DC with Dynamic Variable Ordering:\n",
    "    * Definition\n",
    "    * Complexity\n",
    "    * Example: solving NQueens (1000 Queens)"
   ]
  },
  {
   "cell_type": "markdown",
   "metadata": {},
   "source": [
    "<div class=\"alert alert-block alert-danger\">\n",
    "<b>TODO:</b> Provide example, slide 79 seems to show a case where arc-consistency alone does not solve the problem (but I think that path consistency would do constraint propagation up to the solution...). Can we find a sudoku example where we cannot rule out all possibilities by doing constraint propagation?\n",
    "</div>"
   ]
  },
  {
   "cell_type": "markdown",
   "metadata": {},
   "source": [
    "### <a name=\"generic_search\"></a> a. Generic Search\n",
    "\n",
    "#### Formulating CSPs as a state space search problem\n",
    "\n",
    "CSPs can be formulated using the State Space search representation.\n",
    "In particular, we can express a CSP as follows:\n",
    "* **State**:\n",
    "    - We can define as state a **partial assignment** to variables made thus far.\n",
    "    For example, if we have variables $A$, $B$ and $C$ whith respective domains $[a_1, a_2]$, $[b_1, b_2]$, and  $[c_1, c_2]$ a partial assignment would be for example $\\{A=a_2, C=c_1\\}$, another one could be $\\{B=b_2, C=c_2\\}$. In contrast, we consider a **complete assignment** one where all variables would be assigned, such as $\\{A=a_2, B=b_1, C=c_1\\}$. Note that a complete assignment is still a (kind-of) partial assignment.\n",
    "* **Initial State**:\n",
    "    - Initially the state would be **no assignment**, which we can represent as the empty set $\\{\\}$.\n",
    "* **Operator**:\n",
    "    - We also need to define an action/operator to frame a CSP into a State Space search problem.\n",
    "    In our case, this would correspond to the fact of **adding a new assignment**.\n",
    "    In other words, our operator corresponds to the action of assigning a value to a yet unassigned variable $X=x$, which expands the State by one element. For example, if we start from the initial state $\\{\\}$, and we proceed with the action $X=x,$ we end up with a new state $\\{X=x\\}$, which is itself a partial assignment.\n",
    "* **Goal Test**:\n",
    "    - As in all State Space search problems, we need to define what is our goal state.\n",
    "    In our case, this is achieved when all variables are assigned (meaning we have a **complete assignment**) and all constraints are satisfied (which we refer to as a **consistent assignment**).\n",
    "\n",
    "Once the problem is formulated as a State Space search problem, we can use standard search algorithms such as:\n",
    "* Breadth first search\n",
    "* Depth first search\n",
    "* Depth-limited search\n",
    "\n",
    "to solve the given problem.\n",
    "\n",
    "#### Complexity\n",
    "\n",
    "Unfortunately, given a CSP with $n$ variables with a domain size of $d$, results in a branching factor at the top level of $nd$.\n",
    "This is because any of the $n$ variables can be assigned any of $d$ values.\n",
    "Once a variable has been assigned a value, we are still left with $n − 1$ variables which can be assigned $d$ values. By induction, we end up with a tree having $n!d^n ∼ O((nd)^n)$ leaves, which is even larger than the possible $d^n$ complete assignments!\n",
    "\n",
    "\n",
    "Nevertheless, we can observe than in a CSP **the order when assigning variables does not influence the solution**. This property is known as **commutativity**. More specifically, a problem is commutative if the order of application of any given set of actions does no effect on the outcome. Therefore, there is no need to consider all variables at each level of the search tree, but just one at a time. \n",
    "\n",
    "This makes sense intuitvely, for example, if we consider the coloring map problem, we might decide whether to color a certain region red or blue, but we would not decide between coloring one region red or another region blue. Therefore, the number of leaves is reduced to $d^n$, where we just have to decide on an assignment for each variable at a time.\n",
    "\n",
    "#### Example: NQueens with generic search (5 Queens)\n",
    "\n",
    "Let us apply a generic search algorithm to the NQueens problem.\n",
    "<div class=\"alert alert-block alert-danger\">\n",
    "<b>TODO:</b> Use generic search to solve NQueens\n",
    "</div>"
   ]
  },
  {
   "cell_type": "markdown",
   "metadata": {},
   "source": [
    "### <a name=\"backtracking\"></a> b. Backtracking\n",
    "\n",
    "Backtracking search suits the commutative property of CSPs, as it consists on a depth-first search that chooses one variable at a time. \n",
    "\n",
    "Moreover, it makes use of another property of CSPs that is **extensions to inconsistent partial assignments are always inconsistent**.\n",
    "The backtracking search **backtracks** when an inconsistent partial assignment is reached. \n",
    "\n",
    "We show below the actual backtracking search algorithm, as presented in [5]. \n",
    "\n",
    "<a name=\"backtracking_algorithm\"></a>\n",
    "<img src=\"images/backtracking_algorithm.png\" alt=\"drawing\" width=\"600\">\n",
    "\n",
    "In plain words, the algorithm first chooses an unassigned variable, and loops over its domain by picking one value at\n",
    "a time. Every time a value is taken, if it is consistent, then the algorithm continues to look for a\n",
    "solution. If it is not consistent, then the algorithm backtracks by trying with another value instead.\n",
    "\n",
    "The backtracking algorithm presented above makes use of a set of sub-functions that we detail\n",
    "below:\n",
    "* **Select-Unassigned-Variable(csp, assignment)**:\n",
    "    - Decides which variable should be assigned next.\n",
    "* **Order-Domain-Values(var, assignment, csp)**:\n",
    "    - Decides the order in which the values of the variable should be tried. We will see in section 2.3.4 how modifications of this and the previous function result in different general purpose heuristics.\n",
    "* **Inference(csp, var, assignment)**:\n",
    "    - Every time a variable has been assigned a value, there is the opportunity to further reduce the domains of the rest of unassigned variables using inference, such as checking for arcconsistency. While the call to this function is not strictly necessary, we will see in section 2.3.3 that interleaving search and inference results in a more efficient algorithm.\n",
    "    \n",
    "The source code to implement this pseudo-code is actually fairly close to the actual implementation.\n",
    "Below the actual source code in python:"
   ]
  },
  {
   "cell_type": "code",
   "execution_count": null,
   "metadata": {},
   "outputs": [],
   "source": [
    "psource(backtracking_search)"
   ]
  },
  {
   "cell_type": "code",
   "execution_count": null,
   "metadata": {},
   "outputs": [],
   "source": [
    "psource(backtrack)"
   ]
  },
  {
   "cell_type": "markdown",
   "metadata": {},
   "source": [
    "<div class=\"alert alert-block alert-danger\">\n",
    "<b>TODO:</b> Implement algorithm in notebook and play with different implementations of the subfunctions. Show practical examples for Sudoku example\n",
    "</div>"
   ]
  },
  {
   "cell_type": "markdown",
   "metadata": {},
   "source": [
    "### <a name=\"backtracking_w_fc\"></a> c. Backtracking with Forward Checking\n",
    "\n",
    "By modifying the call to the function _Inference_ in the backtracking algorithm presented [above](#backtracking_algorithm), we can interleave search with inference to reduce the domain of yet unassigned variables, thereby reducing the search space. \n",
    "\n",
    "A simple form of inference is **forward checking**, which consists in establishing arc-consistency for the recently assigned variable with respect to all connected, yet unassigned, variables."
   ]
  },
  {
   "cell_type": "markdown",
   "metadata": {},
   "source": [
    "<div class=\"alert alert-block alert-danger\">\n",
    "<b>TODO:</b> Add at this point an example of forward-checking in sudoku problems\n",
    "</div>"
   ]
  },
  {
   "cell_type": "markdown",
   "metadata": {},
   "source": [
    "### <a name=\"backtracking_w_mac\"></a>d. Backtracking while Maintaining Arc Consistency (BT-MAC)\n",
    "\n",
    "#### Definition\n",
    "<div class=\"alert alert-block alert-danger\">\n",
    "<b>TODO:</b> Definition\n",
    "</div>"
   ]
  },
  {
   "cell_type": "markdown",
   "metadata": {},
   "source": [
    "#### Complexity\n",
    "<div class=\"alert alert-block alert-danger\">\n",
    "<b>TODO:</b> Complexity\n",
    "</div>"
   ]
  },
  {
   "cell_type": "markdown",
   "metadata": {},
   "source": [
    "#### Example: solving NQueens (X Queens)\n",
    "<div class=\"alert alert-block alert-danger\">\n",
    "<b>TODO:</b> Example: solving NQueens (X Queens)\n",
    "</div>\n",
    "<div class=\"alert alert-block alert-danger\">\n",
    "<b>TODO:</b> What is the actual number for X above, aka how many Queens can we solve with MAC?\n",
    "</div>"
   ]
  },
  {
   "cell_type": "markdown",
   "metadata": {},
   "source": [
    " ## Dynamic Variable Ordering\n",
    " \n",
    "The function Select-Unassigned-Variable in algorithm 4 could be trivially set to pick the next unassigned variable in order, or alternatively pick a random variable each time. Nevertheless, these strategies rarely result in an efficient search. <font color='red'> TODO: Code an example where this is the case.</font> The Most Constrained Variable (MCV) heuristic. It consists in taking as next variable the one having the smallest domain. It is therefore also known as the minimum-remaining-values heuristic, or the fail-first heuristic. The advantage of using MCV is clear when we have a variable that has no legal values left, in this case, the MRV will select this variable first and failure will be detected immediately, which avoids further searches through other variables.\n",
    "\n",
    "The MCV heuristic usually performs better than random or static ordering, sometimes by a factor\n",
    "of 1000 or more, although the results vary widely depending on the problem. <font color='red'> TODO: Can we\n",
    "show this using the Sudoku implementation? </font> We can also modify the function Order-Domain-Values in algorithm 4 to reach a solution faster. The Least Constraining Value (LCV) heuristic consists in taking as next value for the variable in hand the one that reduces by the least amount the domains of the neighbor variables. <font color='red'> TODO: Give Sudoku example or map coloring. </font> The heuristic is therefore just trying to leave the maximum flexibility for subsequent variable assignments. Note that if our objective is to list all possible solutions, this heuristic does not bring any advantage."
   ]
  },
  {
   "cell_type": "markdown",
   "metadata": {},
   "source": [
    "## Bucket Elimination\n",
    "\n",
    "The idea of join and project used to eliminate variables when solving system of linear equation can be extended to constraints. This is made possible by bucket elimination. \n",
    "\n",
    "$\\textbf{Join operation}$ for constraints is shown below:\n",
    "<img src=\"pic_1.png\">\n",
    "\n",
    "$\\textbf{Project operation}:$ C2 = $\\pi_{2}C_{21}$\n",
    "<img src=\"pic_2.png\">\n",
    "\n",
    "Important ideas behind bucket elimination are as follows:\n",
    "\n",
    "* Eliminate: Derive all consequences that depend on each Vi\n",
    "    by joining all constraints involving Vi\n",
    "\n",
    "* Solve: Encode all solutions to constraints $\\phi$,\n",
    "    by systematically eliminating all variables.\n",
    "\n",
    "* Generate: all solutions without backtrack search, by propagating."
   ]
  },
  {
   "cell_type": "code",
   "execution_count": null,
   "metadata": {
    "scrolled": true
   },
   "outputs": [],
   "source": [
    "# DELETE once we finish this notebook\n",
    "%load_ext autoreload\n",
    "%autoreload 2"
   ]
  },
  {
   "cell_type": "markdown",
   "metadata": {},
   "source": []
  },
  {
   "cell_type": "code",
   "execution_count": null,
   "metadata": {},
   "outputs": [],
   "source": []
  },
  {
   "cell_type": "code",
   "execution_count": null,
   "metadata": {},
   "outputs": [],
   "source": []
  },
  {
   "cell_type": "code",
   "execution_count": null,
   "metadata": {},
   "outputs": [],
   "source": []
  },
  {
   "cell_type": "code",
   "execution_count": null,
   "metadata": {},
   "outputs": [],
   "source": [
    "# Solve n queens.\n",
    "n_queens = NQueensCSP(8)\n",
    "\n",
    "# Backtracking\n",
    "start_time = time.time()\n",
    "solution = backtracking_search(n_queens, fc=False)\n",
    "end_time = time.time()\n",
    "print(solution)\n",
    "print(end_time - start_time)\n",
    "n_queens.display(solution)\n",
    "\n",
    "# Backtracking with forward checking\n",
    "start_time = time.time()\n",
    "solution = backtracking_search(n_queens, fc=True)\n",
    "end_time = time.time()\n",
    "print(solution)\n",
    "print(end_time - start_time)\n",
    "n_queens.display(solution)\n",
    "\n",
    "plot_NQueens(solution)\n"
   ]
  },
  {
   "cell_type": "markdown",
   "metadata": {},
   "source": [
    "### Helper Functions\n",
    "\n",
    "We will now implement a few helper functions that will allow us to visualize the Coloring Problem; we'll also make a few modifications to the existing classes and functions for additional record keeping. To begin, we modify the **assign** and **unassign** methods in the **CSP** in order to add a copy of the assignment to the **assignment_history**. We name this new class as **InstruCSP**; it will allow us to see how the assignment evolves over time. "
   ]
  },
  {
   "cell_type": "code",
   "execution_count": null,
   "metadata": {},
   "outputs": [],
   "source": [
    "import copy\n",
    "class InstruCSP(NQueensCSP):\n",
    "    \n",
    "    def __init__(self, N):\n",
    "        super().__init__(N)\n",
    "        self.assignment_history = []\n",
    "        \n",
    "    def assign(self, var, val, assignment):\n",
    "        super().assign(var, val, assignment)\n",
    "        self.assignment_history.append(copy.deepcopy(assignment))\n",
    "    \n",
    "    def unassign(self, var, assignment):\n",
    "        super().unassign(var,assignment)\n",
    "        self.assignment_history.append(copy.deepcopy(assignment))"
   ]
  },
  {
   "cell_type": "markdown",
   "metadata": {},
   "source": [
    "Next, we define **make_instru** which takes an instance of **CSP** and returns an instance of **InstruCSP**."
   ]
  },
  {
   "cell_type": "code",
   "execution_count": null,
   "metadata": {},
   "outputs": [],
   "source": [
    "def make_instru(csp):\n",
    "    return InstruCSP(len(csp.vars))"
   ]
  },
  {
   "cell_type": "markdown",
   "metadata": {},
   "source": [
    "## N-QUEENS VISUALIZATION\n",
    "\n",
    "Just like the Graph Coloring Problem, we will start with defining a few helper functions to help us visualize the assignments as they evolve over time. The **make_plot_board_step_function** behaves similar to the **make_update_step_function** introduced earlier. It initializes a chess board in the form of a 2D grid with alternating 0s and 1s. This is used by **plot_board_step** function which draws the board using matplotlib and adds queens to it. This function also calls the **label_queen_conflicts** which modifies the grid placing a 3 in any position where there is a conflict."
   ]
  },
  {
   "cell_type": "code",
   "execution_count": null,
   "metadata": {},
   "outputs": [],
   "source": [
    "%matplotlib inline\n",
    "import networkx as nx\n",
    "import matplotlib.pyplot as plt\n",
    "import matplotlib\n",
    "import time\n",
    "import ipywidgets as widgets\n",
    "from IPython.display import display"
   ]
  },
  {
   "cell_type": "code",
   "execution_count": null,
   "metadata": {},
   "outputs": [],
   "source": [
    "def label_queen_conflicts(assignment,grid):\n",
    "    ''' Mark grid with queens that are under conflict. '''\n",
    "    for col, row in assignment.items(): # check each queen for conflict\n",
    "        conflicts = {temp_col: temp_row for temp_col,temp_row in assignment.items() if (temp_row == row and temp_col != col or (temp_row+temp_col == row+col and temp_col != col) or (temp_row-temp_col == row-col and temp_col != col))}\n",
    "        \n",
    "        # Place a 3 in positions where this is a conflict\n",
    "        for col, row in conflicts.items():\n",
    "                grid[col][row] = 3\n",
    "\n",
    "    return grid\n",
    "\n",
    "def make_plot_board_step_function(instru_csp):\n",
    "    '''ipywidgets interactive function supports\n",
    "       single parameter as input. This function\n",
    "       creates and return such a function by taking\n",
    "       in input other parameters.\n",
    "    '''\n",
    "    n = len(instru_csp.vars) \n",
    "    \n",
    "    def plot_board_step(iteration):\n",
    "        ''' Add Queens to the Board.'''\n",
    "        data = instru_csp.assignment_history[iteration]\n",
    "        \n",
    "        grid = [[(col+row+1)%2 for col in range(n)] for row in range(n)]\n",
    "        grid = label_queen_conflicts(data, grid) # Update grid with conflict labels.\n",
    "        \n",
    "        # color map of fixed colors\n",
    "        cmap = matplotlib.colors.ListedColormap(['white','lightsteelblue','red'])\n",
    "        bounds=[0,1,2,3] # 0 for white 1 for black 2 onwards for conflict labels (red).\n",
    "        norm = matplotlib.colors.BoundaryNorm(bounds, cmap.N)\n",
    "        \n",
    "        fig = plt.imshow(grid, interpolation='nearest', cmap = cmap,norm=norm)\n",
    "\n",
    "        plt.axis('off')\n",
    "        fig.axes.get_xaxis().set_visible(False)\n",
    "        fig.axes.get_yaxis().set_visible(False)\n",
    "\n",
    "        # Place the Queens Unicode Symbol\n",
    "        for col, row in data.items():\n",
    "            fig.axes.text(row, col, u\"\\u265B\", va='center', ha='center', family='Dejavu Sans', fontsize=32)\n",
    "        plt.show()\n",
    "    \n",
    "    return plot_board_step\n",
    "\n",
    "def make_visualize(slider):\n",
    "    ''' Takes an input a slider and returns \n",
    "        callback function for timer and animation\n",
    "    '''\n",
    "    \n",
    "    def visualize_callback(Visualize, time_step):\n",
    "        if Visualize is True:\n",
    "            for i in range(slider.min, slider.max + 1):\n",
    "                slider.value = i\n",
    "                time.sleep(float(time_step))\n",
    "    \n",
    "    return visualize_callback\n",
    "    "
   ]
  },
  {
   "cell_type": "code",
   "execution_count": null,
   "metadata": {},
   "outputs": [],
   "source": [
    "twelve_queens_csp = NQueensCSP(12)\n",
    "backtracking_instru_queen = make_instru(twelve_queens_csp)\n",
    "result = backtracking_search(backtracking_instru_queen)"
   ]
  },
  {
   "cell_type": "code",
   "execution_count": null,
   "metadata": {},
   "outputs": [],
   "source": [
    "backtrack_queen_step = make_plot_board_step_function(backtracking_instru_queen) # Step Function for Widgets"
   ]
  },
  {
   "cell_type": "code",
   "execution_count": null,
   "metadata": {},
   "outputs": [],
   "source": [
    "matplotlib.rcParams['figure.figsize'] = (8.0, 8.0)\n",
    "matplotlib.rcParams['font.family'].append(u'Dejavu Sans')\n",
    "\n",
    "iteration_slider = widgets.IntSlider(min=0, max=len(backtracking_instru_queen.assignment_history)-1, step=1, value=0)\n",
    "w=widgets.interactive(backtrack_queen_step,iteration=iteration_slider)\n",
    "display(w)\n",
    "\n",
    "visualize_callback = make_visualize(iteration_slider)\n",
    "\n",
    "visualize_button = widgets.ToggleButton(description = \"Visualize\", value = False)\n",
    "time_select = widgets.ToggleButtons(description='Extra Delay:', options=['0', '0.1', '0.2', '0.5', '0.7', '1.0'])\n",
    "\n",
    "a = widgets.interactive(visualize_callback, Visualize = visualize_button, time_step = time_select)\n",
    "display(a)\n",
    "\n"
   ]
  }
 ],
 "metadata": {
  "kernelspec": {
   "display_name": "Python 3",
   "language": "python",
   "name": "python3"
  },
  "language_info": {
   "codemirror_mode": {
    "name": "ipython",
    "version": 3
   },
   "file_extension": ".py",
   "mimetype": "text/x-python",
   "name": "python",
   "nbconvert_exporter": "python",
   "pygments_lexer": "ipython3",
   "version": "3.7.0"
  }
 },
 "nbformat": 4,
 "nbformat_minor": 2
}
