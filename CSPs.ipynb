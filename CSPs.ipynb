{
 "cells": [
  {
   "cell_type": "markdown",
   "metadata": {},
   "source": [
    "# Constraint Satisfaction Problems\n",
    "\n",
    "This notebook presents, in an interactive way, the lecture notes of MIT's 16.413 course **Principles of Autonomy and Decision Making** for the chapter on **Constraint Satisfaction**.\n",
    "\n",
    "The material below is highly influenced as well by **Chapter 6 Constraint Satisfaction Problems** of the book *Artificial Intelligence: A Modern Approach*."
   ]
  },
  {
   "cell_type": "markdown",
   "metadata": {},
   "source": [
    "Let us first import necessary modules and helper functions. Run the cell below:"
   ]
  },
  {
   "cell_type": "code",
   "execution_count": 1,
   "metadata": {},
   "outputs": [],
   "source": [
    "from __future__ import print_function\n",
    "from lib.notebook import psource, pseudocode\n",
    "from lib.n_queens_csp import NQueensCSP, queen_constraint\n",
    "from lib.backtracking import *\n",
    "from lib.csp import CSP\n",
    "\n",
    "import sys\n",
    "import time\n",
    "\n",
    "import lib.csp\n",
    "from lib.sudoku.sudoku_csp  import Sudoku, text2problem\n",
    "from lib.constraint_propagation import AC3, AC1, implementAC1, implementAC3\n",
    "\n",
    "from lib.search import NQueensProblem, depth_first_tree_search\n",
    "\n",
    "# For visualization of intermediate steps.\n",
    "from lib.visualization import *\n",
    "\n",
    "import time\n",
    "\n",
    "# For plotting\n",
    "%matplotlib inline\n",
    "\n",
    "# Delete after development\n",
    "%load_ext autoreload\n",
    "%autoreload 2"
   ]
  },
  {
   "cell_type": "markdown",
   "metadata": {},
   "source": [
    "# CONTENTS\n",
    "\n",
    " 1. [**Introduction to Constraint Propagation Problems (L13 & L14)**](#Intro):\n",
    "    1. *Definition*\n",
    "    2. *Examples*\n",
    "\n",
    " 2. [**Solving CSPs (L14 & L15)**](#solving_csps) :\n",
    "    1. [*Constraint Propagation in CSPs*](#Constraint_Propagation):\n",
    "        1. [AC-1](#ac1):\n",
    "            * [Definition](#ac1_definition)\n",
    "            * [Complexity analysis](#ac1_complexity)\n",
    "            * [Example: solving Sudoku with AC-1](#ac1_example)\n",
    "        2. [AC-3](#ac3):\n",
    "            * [Definition](#ac3_definition)\n",
    "            * [Complexity analysis](#ac3_complexity)\n",
    "            * [Example: solving Sudoku with AC-3](#ac3_example)\n",
    "    2. *[Search in CSPs](#search_in_csps)*:\n",
    "        1. [Generic Search](#generic_search):\n",
    "            * [Formulating CSPs as a state space search problem](#generic_search_definition)\n",
    "            * [Complexity](#generic_search_complexity)\n",
    "            * [Example: NQueens with generic search (5 Queens)](#generic_search_example)\n",
    "        2. [Backtracking Search (BT)](#backtracking):\n",
    "            * [Definition](#backtracking_definition)\n",
    "            * [Complexity](#backtracking_complexity)\n",
    "            * [Example: solving NQueens (15 Queens)](#backtracking_example)\n",
    "        3. [Backtracking Search with Forward Checking (BT-FC)](#backtracking_w_fc):\n",
    "            * [Definition](#bt_fc_definition)\n",
    "            * [Complexity](#bt_fc_complexity)\n",
    "            * [Example: solving NQueens (20 Queens)](#bt_fc_example)         \n",
    "        4. [**Backtracking while Maintaining Arc Consistency (BT-MAC)**](#backtracking_w_mac):\n",
    "            * [Definition](#bt_mac_definition)\n",
    "            * [Complexity](#bt_mac_complexity)\n",
    "            * [Example: solving NQueens (20 Queens)](#bt_mac_example)\n",
    "        5. [Backtracking with Dynamic Variable Ordering](#bt_dvo):\n",
    "            * [Definition](#bt_dvo_definition)\n",
    "            * [Complexity](#bt_dvo_complexity)\n",
    "            * [Example: solving NQueens (40 Queens)](#bt_dvo_example)\n",
    "            * [Example: solving hard Sudokus](#bt_dvo_example_2)\n",
    "        6. [Empirical-runtime-comparison-between-Forward-Checking-and-Maintaining-Arc-Consistency](#experiments)\n",
    "\n",
    "    3. *Elimination for Constraints in CSPs*:\n",
    "        1. Variable Elimination for Constraints:\n",
    "            * Definition: join and project\n",
    "            * Example\n",
    "        2. Bucket elimination (Adaptive Consistency):\n",
    "            * Definition\n",
    "            * Example\n",
    "\n",
    " 3. **Appendix**:\n",
    "    1. Constraint Optimization Problem:\n",
    "        1. Branch-and-Bound\n",
    "        2. Example: using Map Coloring problem with cost added to the colors to use.\n",
    "    2. Incremental Repair / Iterative Repair / Min-Conflict Heuristic\n",
    "        * Definition\n",
    "        * Example"
   ]
  },
  {
   "cell_type": "markdown",
   "metadata": {},
   "source": [
    "# Introduction <a name=\"Intro\"></a>\n",
    "\n",
    "Constraint satisfaction problem represents states using a list of variables with assignments and\n",
    "conditions for the solution in the form of constraints on the variables. This allows us to treat\n",
    "the state space with structure - using a factored representation for each state contrary to the\n",
    "black box view used in state space search problems.\n",
    "\n",
    "\n",
    "Formally, Constraint Satisfaction Problem (CSP) can be defined as a triple of $\\langle$ V, D, C $\\rangle$ where V is a set of variables, D is the domain of each of the variables in V and C is the set of constraints\n",
    "defining the problem. Each constraint in C can be thought of as a pair of scope S which is a\n",
    "subset of V and a relation R between variables in S. \n",
    "\n",
    "Consider a problem where we are required to construct a set which contains one instance of a variable (say B) and two instances of another variable (say B). This problem can be formulated using a CSP := $\\langle$ V, D, C $\\rangle$ as follows\n",
    "1. $V = \\{A, B\\}$\n",
    "2. $D = \\{1, 2\\}$ \n",
    "3. $C = \\{[\\{A, B\\}, \\{\\{1, 2\\}, \\{1, 1\\}\\}],  [\\{A, B\\}, \\{\\{1, 2\\}, \\{2, 2\\}\\}]\\}$ \n",
    "\n",
    "The first constraint in C forces that the solution must have exactly one A and the second constraint imposes the fact that there must be exactly two B’s. Hence, the solution to the problem is obtained when both the constraints are satisfied which is possible only when the assignment is (A = 1,B = 2).\n",
    "\n",
    "Constraints involving just a single variable is called a unary constraint and those that involve two variables are called binary constraints. Constraints could also involve any arbitrary number of variables which are termed as global constraints. \n",
    "\n",
    "CSPs can be visualized using constraint graphs where the nodes represent the variables and the\n",
    "edges represent the constraint between the variables connected by it. Any CSP can be represented\n",
    "using a constraint graph because any constraint involving multiple variables can be converted to\n",
    "binary constraints by adding additional variables to the problem."
   ]
  },
  {
   "cell_type": "markdown",
   "metadata": {},
   "source": [
    "# Solving CSPs <a name=\"solving_csps\"></a>\n",
    "\n",
    "## Constraint Propagation <a name=\"Constraint_Propagation\"></a>\n",
    "\n",
    "Apart from searching the state space, constraint programming also allows us to perform specific\n",
    "type of inference called constraint Propagation which helps in eliminating unwanted parts of the\n",
    "state space based on the constraint satisfaction.\n",
    "\n",
    "A network is node-consistent if all the variables in it are also node consistent i.e unary constraints on all the variables are satisfied. We could also extend the same definition for binary constraints in which case the network would be called arc-consistent. \n",
    "\n",
    "Before starting any type search, we would like to first delete all the values from the domain of a variable that don't satisfy the constraints. We already know that any global constraint involving more than 3 variables can be converted to a binary constraint. So if we devise an algorithm that prunes the domain of the variable by checking only unary and binary constraints, that would be sufficient. \n",
    "\n",
    "Algorithm 1 shown below describes a Revise procedure that takes two variables as input and deletes all the values from the domain of the first variable that doesn't satisfy the binary constraint between the two variables. Therefore at the end of the revise algorithm the first variable will be arc-consistent with respect to the second variable but the vice versa is not true!\n",
    "\n",
    "<img src=\"images/Algorithm_1.png\">"
   ]
  },
  {
   "cell_type": "markdown",
   "metadata": {},
   "source": [
    "## AC-1 <a name=\"ac1\"></a>\n",
    "\n",
    "### Definition <a name=\"ac1_definition\"></a>\n",
    "\n",
    "AC-1 is a constraint propagation algorithm that repeatedly checks for arc-consistency between two nodes and removes those values in the domain of each of the two variables that are not consistent and continues this until all the variables are consistent. The algorithm is described below:\n",
    "\n",
    "<img src=\"images/Algorithm_2.png\">\n",
    "The code snippet below shows two inital cases of sudoku problem - one of which is easy and can be solved just by constraint propagation (AC-1). Try giving different inital states by modifying the first line to see if it can be solved by AC-1\n",
    "\n",
    "The harder problem proves that arc-consistency methods are incomplete that is any solution that is arc-consistent need not be solution to the problem but arc-consistency methods are sound i.e all the solutions to the CSP are also arc-consistent. This is one of the drawbacks of arc-consistency methods. Most of the time one would have to perform additional algorithms to arrive at the solution. "
   ]
  },
  {
   "cell_type": "markdown",
   "metadata": {},
   "source": [
    "### Complexity analysis of Revise and AC-1 <a name=\"ac1_complexity\"></a>\n",
    "\n",
    "Terminology:\n",
    "\n",
    "$k$ - maximum number of values that any variable in CSP can take\n",
    "\n",
    "$e$ - total number of binary constraints in the set C\n",
    "\n",
    "$n$ - total number of variables in the CSP\n",
    "\n",
    "\n",
    "In the revise algorithm, we check for consistency of every combination of values that the two variables can take which is $k^{2}$ in the worst case. Therefore the complexity of revise algorithm is $\\mathcal{O}(k^{2})$.\n",
    "\n",
    "Now let's analyze the AC-1 algorithm. For every constraint in the set C we call the revise procedure twice. Therefore we perform $e*(k^{2}+k^{2})$ operations. On top of this we run this loop until all the values taken by the variables don't change. In the worst case we will have to perform this for $n*k$ steps. Therefore putting all of this together we get a worst case time complexity for AC-1 to be $\\mathcal{O}(enk^{3})$"
   ]
  },
  {
   "cell_type": "markdown",
   "metadata": {},
   "source": [
    "### Example: solving Sudoku with AC-1 <a name=\"ac1_example\"></a>"
   ]
  },
  {
   "cell_type": "code",
   "execution_count": 2,
   "metadata": {
    "scrolled": false
   },
   "outputs": [
    {
     "data": {
      "image/png": "[encoded data removed]",
      "text/plain": [
       "<Figure size 504x504 with 1 Axes>"
      ]
     },
     "metadata": {
      "needs_background": "light"
     },
     "output_type": "display_data"
    },
    {
     "name": "stdout",
     "output_type": "stream",
     "text": [
      "\n"
     ]
    },
    {
     "data": {
      "image/png": "[encoded data removed]",
      "text/plain": [
       "<Figure size 504x504 with 1 Axes>"
      ]
     },
     "metadata": {
      "needs_background": "light"
     },
     "output_type": "display_data"
    },
    {
     "name": "stdout",
     "output_type": "stream",
     "text": [
      "\n",
      "Solution found in 4 iterations\n",
      "time taken to solve is 0.038979 seconds\n",
      "\n",
      "Harder problem\n",
      "\n"
     ]
    },
    {
     "data": {
      "image/png": "[encoded data removed]",
      "text/plain": [
       "<Figure size 504x504 with 1 Axes>"
      ]
     },
     "metadata": {
      "needs_background": "light"
     },
     "output_type": "display_data"
    },
    {
     "name": "stdout",
     "output_type": "stream",
     "text": [
      "\n"
     ]
    },
    {
     "data": {
      "image/png": "[encoded data removed]",
      "text/plain": [
       "<Figure size 504x504 with 1 Axes>"
      ]
     },
     "metadata": {
      "needs_background": "light"
     },
     "output_type": "display_data"
    },
    {
     "name": "stdout",
     "output_type": "stream",
     "text": [
      "\n",
      "Solution not found after 2 iterations\n",
      "time taken is 0.028677 seconds\n"
     ]
    },
    {
     "data": {
      "text/plain": [
       "(0.02867722511291504, False)"
      ]
     },
     "execution_count": 2,
     "metadata": {},
     "output_type": "execute_result"
    }
   ],
   "source": [
    "easy1 = '..3.2.6..9..3.5..1..18.64....81.29..7.......8..67.82....26.95..8..2.3..9..5.1.3..'\n",
    "harder1 = '4173698.5.3..........7......2.....6.....8.4......1.......6.3.7.5..2.....1.4......'\n",
    "e = Sudoku(easy1)\n",
    "e.display(e.infer_assignment())\n",
    "\n",
    "implementAC1(e,pr=True)\n",
    "\n",
    "print('\\nHarder problem\\n')\n",
    "e = Sudoku(harder1)\n",
    "e.display(e.infer_assignment())\n",
    "\n",
    "implementAC1(e,pr=True)"
   ]
  },
  {
   "cell_type": "markdown",
   "metadata": {},
   "source": [
    "## AC-3 <a name=\"ac3\"></a>\n",
    "\n",
    "### Definition <a name=\"ac3_definition\"></a>\n",
    "In AC-1, the domain of a variable is changed by deleting the values in the variable’s domain that are arc inconsistent with another variable. We notice that everytime the domain of the variable shrinks, some equivalent values in other variables now become inconsistent. AC-1 doesn’t take advantage of this and hence it must be run iteratively until the domain of all the variables don’t change. AC-3, on the contrary, tries to take advantage of this fact by using a queue that has information about the next arcs to be checked based on the modifications made in the current iteration. This leads to a much faster constraint propagation. The algorithm is described below\n",
    "\n",
    "<img src=\"images/Algorithm_3.png\">"
   ]
  },
  {
   "cell_type": "markdown",
   "metadata": {},
   "source": [
    "### Complexity analysis of AC-3 <a name=\"ac3_complexity\"></a>\n",
    "\n",
    "Using the same notation as above, we can see that the size of the queue is $2*e$. Now for every element in the queue we apply the revise procedure which involves $k^{2}$ operations. Also in the worst case, everytime we perform a revise we might have to add k more values back to the queue. Therefore, in the worst case, we might have to perform $2*e*k^{2}*k$ steps in total. Therefore the worst case time complexity of AC-3 algorithm is $\\mathcal{O}(ek^{3})$"
   ]
  },
  {
   "cell_type": "markdown",
   "metadata": {},
   "source": [
    "### Example: solving Sudoku with AC-3 <a name=\"ac3_example\"></a>"
   ]
  },
  {
   "cell_type": "code",
   "execution_count": 3,
   "metadata": {
    "scrolled": false
   },
   "outputs": [
    {
     "data": {
      "image/png": "[encoded data removed]",
      "text/plain": [
       "<Figure size 504x504 with 1 Axes>"
      ]
     },
     "metadata": {
      "needs_background": "light"
     },
     "output_type": "display_data"
    },
    {
     "name": "stdout",
     "output_type": "stream",
     "text": [
      "\n"
     ]
    },
    {
     "data": {
      "image/png": "[encoded data removed]",
      "text/plain": [
       "<Figure size 504x504 with 1 Axes>"
      ]
     },
     "metadata": {
      "needs_background": "light"
     },
     "output_type": "display_data"
    },
    {
     "name": "stdout",
     "output_type": "stream",
     "text": [
      "time taken to solve is 0.043224 seconds\n",
      "\n",
      "Harder problem\n",
      "\n"
     ]
    },
    {
     "data": {
      "image/png": "[encoded data removed]",
      "text/plain": [
       "<Figure size 504x504 with 1 Axes>"
      ]
     },
     "metadata": {
      "needs_background": "light"
     },
     "output_type": "display_data"
    },
    {
     "name": "stdout",
     "output_type": "stream",
     "text": [
      "\n"
     ]
    },
    {
     "data": {
      "image/png": "[encoded data removed]",
      "text/plain": [
       "<Figure size 504x504 with 1 Axes>"
      ]
     },
     "metadata": {
      "needs_background": "light"
     },
     "output_type": "display_data"
    },
    {
     "name": "stdout",
     "output_type": "stream",
     "text": [
      "\n",
      "Solution not found\n",
      "time taken is 0.058673 seconds\n"
     ]
    },
    {
     "data": {
      "text/plain": [
       "(0.05867290496826172, False)"
      ]
     },
     "execution_count": 3,
     "metadata": {},
     "output_type": "execute_result"
    }
   ],
   "source": [
    "easy1 = '..3.2.6..9..3.5..1..18.64....81.29..7.......8..67.82....26.95..8..2.3..9..5.1.3..'\n",
    "harder1 = '4173698.5.3..........7......2.....6.....8.4......1.......6.3.7.5..2.....1.4......'\n",
    "e = Sudoku(easy1)\n",
    "e.display(e.infer_assignment())\n",
    "\n",
    "implementAC3(e,pr=True)\n",
    "\n",
    "print('\\nHarder problem\\n')\n",
    "e = Sudoku(harder1)\n",
    "e.display(e.infer_assignment())\n",
    "\n",
    "implementAC3(e,pr=True)"
   ]
  },
  {
   "cell_type": "markdown",
   "metadata": {},
   "source": [
    "### Let's compare the average time complexity of AC-1 and AC-3\n",
    "\n",
    "We have a file named easy50.txt which contains some 50 easy sudoku problems not all of which can be completely solved by constraint propagation. Let's measure the average time taken by both AC-1 and AC-3 on those problems that can be completely solved.\n",
    "\n",
    "It can be seen from the previous two code blocks that AC-1 performs faster than AC-3 but we also proved that AC-3 has better worst case time complexity than AC-1. To understand this, observe that the average time taken by AC-3 is higher but the worst case time is better for AC-3."
   ]
  },
  {
   "cell_type": "code",
   "execution_count": null,
   "metadata": {},
   "outputs": [],
   "source": [
    "fname = './sudoku_files/easy50.txt'\n",
    "problems = text2problem(fname)\n",
    "length = len(problems)\n",
    "t_1 = 0\n",
    "t_2 = 0\n",
    "in_1 = 0\n",
    "in_2 = 0\n",
    "max1 = 0\n",
    "max2 = 0\n",
    "for i in problems:\n",
    "    t1, done1 = implementAC1(Sudoku(i),pr=False)\n",
    "    t2, done2 = implementAC3(Sudoku(i),pr=False)\n",
    "    if done1 == True:\n",
    "        if max1 < t1:\n",
    "            max1 = t1\n",
    "        t_1 += t1\n",
    "        in_1 += 1\n",
    "    if done2 == True:\n",
    "        if max2 < t2:\n",
    "            max2 = t2\n",
    "        t_2 += t2\n",
    "        in_2 += 1\n",
    "        \n",
    "print('%d problems out of %d were solved'%(in_1,length))\n",
    "print()\n",
    "print('The average time taken by AC-1 algorithm is %f seconds' %(t_1/in_1))\n",
    "print('The average time taken by AC-3 algorithm is %f seconds' %(t_2/in_2))\n",
    "print()\n",
    "print('The worst case performance for AC-1 algorithm was %f seconds' %max1)\n",
    "print('The worst case performance for AC-3 algorithm was %f seconds' %max2)"
   ]
  },
  {
   "cell_type": "markdown",
   "metadata": {},
   "source": [
    "## <a name=\"search_in_csps\"></a>2. Search in CSPs\n",
    "\n",
    "Constraint propagation alone is not sufficient to solve many CSPs. In this case, a solution must be found using **search algorithms**.\n",
    "\n",
    "In this section, we will explain different search algorithms used to solve CSPs.\n",
    "The section is organized as follows:\n",
    "\n",
    "a. [Generic Search](#generic_search):\n",
    "    * Formulating CSPs as a state space search problem\n",
    "    * Complexity\n",
    "    * Example: NQueens with generic search (5 Queens)\n",
    "b. [Backtracking Search (BT)](#backtracking):\n",
    "    * Definition\n",
    "    * Complexity\n",
    "    * Example: solving NQueens (15 Queens)\n",
    "c. [Backtracking Search with Forward Checking (BT-FC)](#backtracking_w_fc):\n",
    "    * Definition\n",
    "    * Complexity\n",
    "    * Example: solving NQueens (30 Queens)              \n",
    "d. [**Backtracking while Maintaining Arc Consistency (BT-MAC)**](#backtracking_w_mac):\n",
    "    * Definition\n",
    "    * Complexity\n",
    "    * Example: solving NQueens (30 Queens)\n",
    "    \n",
    "e. [Backtracking with Dynamic Variable Ordering](#bt_dvo):\n",
    "    * [Definition](#bt_dvo_definition)\n",
    "    * [Complexity](#bt_dvo_complexity)\n",
    "    * [Example: solving NQueens (40 Queens)](#bt_dvo_example)\n",
    "    * [Example: solving hard Sudokus](#bt_dvo_example_2)"
   ]
  },
  {
   "cell_type": "markdown",
   "metadata": {},
   "source": [
    "### <a name=\"generic_search\"></a> a. Generic Search\n",
    "\n",
    "#### Formulating CSPs as a state space search problem <a name=\"generic_search_definition\"></a> \n",
    "\n",
    "CSPs can be formulated using the State Space search representation.\n",
    "In particular, we can express a CSP as follows:\n",
    "* **State**:\n",
    "    - We can define as state a **partial assignment** to variables made thus far.\n",
    "    For example, if we have variables $A$, $B$ and $C$ whith respective domains $[a_1, a_2]$, $[b_1, b_2]$, and  $[c_1, c_2]$ a partial assignment would be for example $\\{A=a_2, C=c_1\\}$, another one could be $\\{B=b_2, C=c_2\\}$. In contrast, we consider a **complete assignment** one where all variables would be assigned, such as $\\{A=a_2, B=b_1, C=c_1\\}$. Note that a complete assignment is still a (kind-of) partial assignment.\n",
    "* **Initial State**:\n",
    "    - Initially the state would be **no assignment**, which we can represent as the empty set $\\{\\}$.\n",
    "* **Operator/Action**:\n",
    "    - We also need to define an action/operator to frame a CSP into a State Space search problem.\n",
    "    In our case, this would correspond to the fact of **adding a new assignment**.\n",
    "    In other words, our operator corresponds to the action of assigning a value to a yet unassigned variable $X=x$, which expands the State by one element. For example, if we start from the initial state $\\{\\}$, and we proceed with the action $X=x,$ we end up with a new state $\\{X=x\\}$, which is itself a partial assignment.\n",
    "* **Goal Test**:\n",
    "    - As in all State Space search problems, we need to define what is our goal state.\n",
    "    In our case, this is achieved when all variables are assigned (meaning we have a **complete assignment**) and all constraints are satisfied (which we refer to as a **consistent assignment**).\n",
    "\n",
    "Once the problem is formulated as a State Space search problem, we can use standard search algorithms such as:\n",
    "* Breadth first search\n",
    "* Depth first search\n",
    "* Depth-limited search\n",
    "\n",
    "to solve the given problem.\n",
    "\n",
    "#### Complexity <a name=\"generic_search_complexity\"></a>\n",
    "\n",
    "Unfortunately, given a CSP with $n$ variables with a domain size of $d$, results in a branching factor at the top level of $nd$.\n",
    "This is because any of the $n$ variables can be assigned any of $d$ values.\n",
    "Once a variable has been assigned a value, we are still left with $n − 1$ variables which can be assigned $d$ values. By induction, we end up with a tree having $n!d^n ∼ \\mathcal{O}((nd)^n)$ leaves, which is even larger than the possible $d^n$ complete assignments!\n",
    "\n",
    "Nevertheless, we can observe than in a CSP **the order when assigning variables does not influence the solution**. This property is known as **commutativity**. More specifically, a problem is commutative if the order of application of any given set of actions does no effect on the outcome. Therefore, there is no need to consider all variables at each level of the search tree, but just one at a time. \n",
    "\n",
    "This makes sense intuitvely, for example, if we consider the coloring map problem, we might decide whether to color a certain region red or blue, but we would not decide between coloring one region red or another region blue. Therefore, the number of leaves is reduced to $d^n$, where we just have to decide on an assignment for each variable at a time.\n",
    "\n",
    "#### Example: NQueens with generic search (5 Queens) <a name=\"generic_search_example\"></a>\n",
    "\n",
    "The N-queens puzzle is the problem of placing N chess queens on an N×N chessboard in a way such that no two queens threaten each other. Here N is a natural number. \n",
    "\n",
    "Thus, no two queens can share a common row, column, or diagonal. We will use the following representation in this problem.\n",
    "- Each variable specifies the row on which a particular queen is placed. Each queen is identified (indexed) with a column of the board. This automatically ensures that the queens will not share columns.\n",
    "- The variable domains are the available row indices.\n",
    "- The constraints between the variables specify that the corresponding queens do not share a row or diagonal.\n",
    "\n",
    "Using the State Space search formulation, we express the NQueens Problem as follows:\n",
    "* **State**:\n",
    "    - We can define as state a **partial assignment** of Queens (variables) made thus far.\n",
    "* **Initial State**:\n",
    "    - Initially the state would be **no assignment**, which, in our case, we represent as a value of -1 for all variables.\n",
    "* **Operator/Action**:\n",
    "    - Our action consists in **adding a new Queen** to the board."
   ]
  },
  {
   "cell_type": "code",
   "execution_count": null,
   "metadata": {},
   "outputs": [],
   "source": [
    "psource(NQueensProblem.actions)"
   ]
  },
  {
   "cell_type": "markdown",
   "metadata": {},
   "source": [
    "* **Goal Test**:\n",
    "    - This state is achieved when all variables are assigned (meaning we have a **complete assignment**) and all constraints are satisfied.\n",
    "\n",
    "Below you can actually see the NQueens Problem coded as a State Search Problem:"
   ]
  },
  {
   "cell_type": "code",
   "execution_count": null,
   "metadata": {},
   "outputs": [],
   "source": [
    "psource(NQueensProblem.goal_test)"
   ]
  },
  {
   "cell_type": "markdown",
   "metadata": {},
   "source": [
    "Let us apply a generic search algorithm to the NQueens problem.\n",
    "For example, let us use Depth First Search to find a solution.\n",
    "Note that we are already applying the commutativity property of CSPs that we discussed previously.\n",
    "Therefore, we are avoiding $n!$ redundant paths, thereby making the depth first search faster.\n",
    "\n",
    "Feel free to change the number of queens used, but be aware that depth first search will start struggling with numbers larger than 7."
   ]
  },
  {
   "cell_type": "code",
   "execution_count": null,
   "metadata": {},
   "outputs": [],
   "source": [
    "N = 5\n",
    "\n",
    "n_queens_problem = NQueensProblem(N, pruning=False)\n",
    "\n",
    "start_time = time.time()\n",
    "solution = depth_first_tree_search(n_queens_problem).solution()\n",
    "end_time = time.time()\n",
    "print(\"Time taken to solve %s Queens problem using Backtracking: %f seconds\"% (N, end_time - start_time))\n",
    "\n",
    "plot_NQueens(solution)"
   ]
  },
  {
   "cell_type": "markdown",
   "metadata": {},
   "source": [
    "While the previous call to depth first search retrieved an answer in less than 5ms.\n",
    "Check out what happens when N is higher!"
   ]
  },
  {
   "cell_type": "code",
   "execution_count": null,
   "metadata": {},
   "outputs": [],
   "source": [
    "N = 7\n",
    "\n",
    "n_queens_problem = NQueensProblem(N, pruning=False)\n",
    "\n",
    "start_time = time.time()\n",
    "solution = depth_first_tree_search(n_queens_problem).solution()\n",
    "end_time = time.time()\n",
    "print(\"Time taken to solve %s Queens problem using Backtracking: %f seconds\"% (N, end_time - start_time))\n",
    "\n",
    "plot_NQueens(solution)"
   ]
  },
  {
   "cell_type": "markdown",
   "metadata": {},
   "source": [
    "It is starting to take some time to solve the problem. The reader can convince itself that with 8 or more Queens, it will take a long time to retrieve the solution."
   ]
  },
  {
   "cell_type": "markdown",
   "metadata": {},
   "source": [
    "### <a name=\"backtracking\"></a> b. Backtracking\n",
    "\n",
    "#### Definition <a name=\"backtracking_definition\"></a> \n",
    "\n",
    "Backtracking search suits the commutative property of CSPs, as it consists on a depth-first search that chooses one variable at a time. \n",
    "\n",
    "Moreover, it makes use of another property of CSPs that is: **extensions to inconsistent partial assignments are always inconsistent**.\n",
    "The backtracking search **backtracks** when an inconsistent partial assignment is reached. \n",
    "\n",
    "We show below the actual backtracking search algorithm (pseudo-code), as presented in Chapter 6 Constraint Satisfaction Problems of the book _Artificial Intelligence: A Modern Approach_. \n",
    "\n",
    "<a name=\"backtracking_algorithm\"></a>\n",
    "<img src=\"images/backtracking_algorithm.png\" alt=\"drawing\" width=\"600\">\n",
    "\n",
    "In plain words, the algorithm first chooses an unassigned variable, and loops over its domain by picking one value at\n",
    "a time. Every time a value is taken, if it is consistent, then the algorithm continues to look for a\n",
    "solution. If it is not consistent, then the algorithm backtracks by trying with another value instead.\n",
    "\n",
    "The backtracking algorithm presented above makes use of a set of sub-functions that we detail\n",
    "below:\n",
    "* **Select-Unassigned-Variable(csp, assignment)**:\n",
    "    - Decides which variable should be assigned next.\n",
    "* **Order-Domain-Values(var, assignment, csp)**:\n",
    "    - Decides the order in which the values of the variable should be tried. We will see in section 2.3.4 how modifications of this and the previous function result in different general purpose heuristics.\n",
    "* **Inference(csp, var, assignment)**:\n",
    "    - Every time a variable has been assigned a value, there is the opportunity to further reduce the domains of the rest of unassigned variables using inference, such as checking for arcconsistency. While the call to this function is not strictly necessary, we will see in section 2.3.3 that interleaving search and inference results in a more efficient algorithm.\n"
   ]
  },
  {
   "cell_type": "markdown",
   "metadata": {},
   "source": [
    "    \n",
    "The source code to implement this pseudo-code is actually fairly close to the actual implementation.\n",
    "Find below the actual source code in python:"
   ]
  },
  {
   "cell_type": "code",
   "execution_count": null,
   "metadata": {},
   "outputs": [],
   "source": [
    "psource(backtracking_search)"
   ]
  },
  {
   "cell_type": "markdown",
   "metadata": {},
   "source": [
    "<a name=\"backtrack_pseudo\"></a>"
   ]
  },
  {
   "cell_type": "markdown",
   "metadata": {},
   "source": [
    "#### Example: solving NQueens using simple backtracking algorithm <a name=\"backtracking_example\"></a> "
   ]
  },
  {
   "cell_type": "markdown",
   "metadata": {},
   "source": [
    "We can encode the NQueens problem as follows, for a N×N board:\n",
    "* **Variables**:\n",
    "    * Each of the Queen's positions on the board: $X_i = \\text{row of queen in column i}$\n",
    "* **Domains**:\n",
    "    * The domain of each variable is just the number of rows on the board: $X_i \\in \\mathcal{X} = \\{0, ..., N-1\\}$\n",
    "* **Constraints**:\n",
    "    * Queens do not share rows. This is equivalent to requiring all variables $X_i$ to be of different value: $AllDiff(X_i)$\n",
    "    * Only one queen in a column. This is satisfied by default because of the variable encoding.\n",
    "    * No two queens can share a common diagonal. This can be encoded as follows:\n",
    "         - Assume we have a variable $X_i$, or, in other words, a queen in the row given by the value of $X_i$ and column given by the index $i$.\n",
    "         Then, no queen can be represented by $X_k$ if the following condition holds: $X_k = X_i - (k - i)$.\n",
    "         This is only for diagonals going _down_ from left to right.\n",
    "         What about the other diagonal? The one going _up_ from left to right can be similarly encoded changing just one sign: $X_k = X_i + (k - i)$. Since we need to check this constraint for all the queens on the board, we have:\n",
    "             ```pseudo\n",
    "                for all X_i:\n",
    "                    for 0:k, k != i, k < N:\n",
    "                       X_k != X_i - (k - i)\n",
    "                       X_k != X_i + (k - i)\n",
    "            ```\n",
    "\n",
    "            But this is actually equivalent to check that the value of $X_k - k$ is different for all $k$ (same for  $X_k + k$)! Therefore, we can use the $AllDiff(\\cdot)$ function to encode this constraint as well.\n",
    "        \n",
    " Below you can find the actual NQueens problem formulated as explained here.\n",
    " Note that we define the variables and domains.\n",
    " Also, the constraints are encoded in the method `is_consistent` below.\n",
    "This method checks that an assignment is consistent given the constraints, as required by the function `csp.is_consistent(var, val, assignment)` in the [backtrack code](#backtrack_pseudo)."
   ]
  },
  {
   "cell_type": "code",
   "execution_count": null,
   "metadata": {},
   "outputs": [],
   "source": [
    "psource(NQueensCSP)"
   ]
  },
  {
   "cell_type": "markdown",
   "metadata": {},
   "source": [
    "Note that the NQueensCSP inherits from a CSP."
   ]
  },
  {
   "cell_type": "code",
   "execution_count": null,
   "metadata": {},
   "outputs": [],
   "source": [
    "psource(CSP)"
   ]
  },
  {
   "cell_type": "markdown",
   "metadata": {},
   "source": [
    "Now, let us solve the problem using backtracking!"
   ]
  },
  {
   "cell_type": "code",
   "execution_count": null,
   "metadata": {},
   "outputs": [],
   "source": [
    "# Create NQueens problem.\n",
    "N = 10\n",
    "n_queens_backtracking = NQueensCSP(N)\n",
    "\n",
    "# Solve the problem using Backtracking. Display timing.\n",
    "start_time = time.time()\n",
    "solution = backtracking_search(n_queens_backtracking)\n",
    "end_time = time.time()\n",
    "print(\"Time taken to solve %s Queens problem using Backtracking: %f seconds\"% (N, end_time - start_time))\n",
    "plot_NQueens(solution)\n"
   ]
  },
  {
   "cell_type": "markdown",
   "metadata": {},
   "source": [
    "Backtracking is solving the problem way faster than Depth First Search (DFS)!\n",
    "In particular for the 7 queens problem, DFS took $0.311423$ seconds to solve the problem.\n",
    "Instead, backtracking only takes $0.000920$ seconds! Quite an improvement right?"
   ]
  },
  {
   "cell_type": "markdown",
   "metadata": {},
   "source": [
    "### Run the snippet below to have an insight on how backtracking actually proceeds:\n",
    "- We display with **red crosses** the domains that are not considered by the algorithm anymore (while this is not used for backtracking explicitly, we will see that for backtracking with forward checking we actually preemptively prune domains).\n",
    "- Below we represent **any intermediate queen assignment by actually putting a queen on the board**. Note that every backtracking is just shown by removing a previously placed queen!\n",
    "- When an assigned queen conflicts with a previously placed queen, we color the **square of the conflicting queens in red**.\n",
    "\n",
    "**Use the ```iteration``` slider to see the intermediate steps that backtracking takes**. Mind that, due to visualization lag, you might need to leave the slider at a certain value for a minimum time in order to refresh the screen, so we do not recommend using the mouse, but you should rather **use left/right arrow keys**.\n",
    "\n",
    "> If you see the board displaying things without responding to the slider, just interrupt the kernel (black square in the toolbar, next to the Run command) and run the cell again."
   ]
  },
  {
   "cell_type": "code",
   "execution_count": null,
   "metadata": {},
   "outputs": [],
   "source": [
    "# Create NQueens problem.\n",
    "N = 10\n",
    "n_queens_backtracking = NQueensCSP(N)\n",
    "backtracking_instru_queen = make_instru(n_queens_backtracking)\n",
    "result = backtracking_search(backtracking_instru_queen)\n",
    "\n",
    "# Displaying\n",
    "display_nqueens(backtracking_instru_queen, result)"
   ]
  },
  {
   "cell_type": "markdown",
   "metadata": {},
   "source": [
    "### <a name=\"backtracking_w_fc\"></a> c. Backtracking with Forward Checking\n",
    "\n",
    "#### Definition <a name=\"bt_fc_definition\"></a>\n",
    "\n",
    "By modifying the call to the function _Inference_ in the backtracking algorithm presented [above](#backtracking_algorithm), we can interleave search with inference to reduce the domain of yet unassigned variables, thereby reducing the search space. \n",
    "\n",
    "A simple form of inference is **forward checking**, which consists in establishing arc-consistency for the recently assigned variable with respect to all connected, yet unassigned, variables."
   ]
  },
  {
   "cell_type": "markdown",
   "metadata": {},
   "source": [
    "#### Complexity <a name=\"bt_fc_complexity\"></a>\n",
    "\n",
    "Forward checking only checks arc-consistency for arcs that terminate on the new assignment.\n",
    "Therefore, it has a $\\mathcal{O}(ek)$ complexity, where $k$ is the domain's size and $e$ are the number of binary constraints."
   ]
  },
  {
   "cell_type": "markdown",
   "metadata": {},
   "source": [
    "#### Example: NQueens <a name=\"bt_fc_example\"></a>"
   ]
  },
  {
   "cell_type": "markdown",
   "metadata": {},
   "source": [
    "Checking arc-consistency for the NQueens problem is simple, as we just need to define a function \n",
    "The constraint that needs to be passed to the CSP is defined in the **queen_constraint** function. \n",
    "The constraint is satisfied (true) if A, B are really the same variable, or if they are not in the same row (equivalent to having the same value), down diagonal, or up diagonal."
   ]
  },
  {
   "cell_type": "code",
   "execution_count": null,
   "metadata": {},
   "outputs": [],
   "source": [
    "psource(queen_constraint)"
   ]
  },
  {
   "cell_type": "code",
   "execution_count": null,
   "metadata": {
    "scrolled": false
   },
   "outputs": [],
   "source": [
    "# Create NQueens problem.\n",
    "N = 15\n",
    "n_queens = NQueensCSP(N)\n",
    "\n",
    "# Solve the problem using Backtracking with Forward Checking (fc flag set to True). Store timing.\n",
    "start_time = time.time()\n",
    "solution = backtracking_search(n_queens, inference = forward_checking)\n",
    "end_time = time.time()\n",
    "print(\" Time taken to solve %s Queens problem using Backtracking with Forward Checking: %f seconds\"% (N, end_time - start_time))\n",
    "plot_NQueens(solution)"
   ]
  },
  {
   "cell_type": "markdown",
   "metadata": {},
   "source": [
    "### Run the snippet below to have an insight on how backtracking with forward checking actually proceeds:\n",
    "As before:\n",
    "- We display with **red crosses** the domains that are not considered by the algorithm anymore (while this is not used for backtracking explicitly, we will see that for backtracking with forward checking we actually preemptively prune domains).\n",
    "- Below we represent **any intermediate queen assignment by actually putting a queen on the board**. Note that every backtracking is just shown by removing a previously placed queen!\n",
    "- When an assigned queen conflicts with a previously placed queen, we color the **square of the conflicting queens in red**.\n",
    "\n",
    "On top of this, **we now display if a domain is pruned to the point where there is no possible values by coloring the column of the offending variable in _yellow_**.\n",
    "\n",
    "**Use the ```iteration``` slider to see the intermediate steps that backtracking with forward checking takes**. Mind that, due to visualization lag, you might need to leave the slider at a certain value for a minimum time in order to refresh the screen.\n",
    "\n",
    "> If you see the board displaying things without responding to the slider, just interrupt the kernel (black square in the toolbar, next to the Run command) and run the cell again.\n",
    "\n",
    "Here we use a small N because it is easier to observe the actual behaviour of the algorithm."
   ]
  },
  {
   "cell_type": "code",
   "execution_count": null,
   "metadata": {},
   "outputs": [],
   "source": [
    "# Create small NQueens problem.\n",
    "N = 10\n",
    "n_queens = NQueensCSP(N)\n",
    "\n",
    "# This is to store the intermediate steps.\n",
    "backtracking_instru_queen = make_instru(n_queens)\n",
    "\n",
    "# Solve it using backtracking with forward checking.\n",
    "result = backtracking_search(backtracking_instru_queen, inference = forward_checking)\n",
    "\n",
    "# Displaying\n",
    "display_nqueens(backtracking_instru_queen, result)"
   ]
  },
  {
   "cell_type": "markdown",
   "metadata": {},
   "source": [
    "### <a name=\"backtracking_w_mac\"></a>d. Backtracking while Maintaining Arc Consistency (BT-MAC)\n",
    "\n",
    "#### Definition <a name=\"bt_mac_definition\"></a>\n",
    "\n",
    "We have seen that forward checking allows us to prune domains of variables that otherwise would be in conflict with the newly added queen. Nevertheless, forward checking does not actually ensure arc-consistency for all the variables.\n",
    "\n",
    "The idea of the inference algorithm _Maintaining Arc Consistency_ (MAC) is to run the AC3 algorithm we discussed [here](#AC-3-) every time we assign a new queen. This ensures that we do not continue down a possible partial assignment which will lead to a dead end. Effectively, the search space gets reduced!\n",
    "\n",
    "We can observe this behaviour very clearly by using the interactive slider to visualize intermediate steps.\n",
    "Below we show both boards at iteration number 3 for both algorithms.\n",
    "We can see that, while forward checking is unable to see that this partial assigment is actually not arc-consistent, _Maintaining Arc Consistency_ infers that we should already backtrack as this partial assignment will lead us to a dead-end.\n",
    "\n",
    "| <p align=\"center\">Forward Checking: | <p align=\"center\">Maintaining Arc Consistency:|\n",
    "|:-------------------------:|:-------------------------:|\n",
    "|![alt-text-1](images/bt-fc.png \"title-1\") | ![alt-text-2](images/bt-mac.png \"title-2\")|"
   ]
  },
  {
   "cell_type": "markdown",
   "metadata": {},
   "source": [
    "Below is the actual code for MAC:"
   ]
  },
  {
   "cell_type": "code",
   "execution_count": null,
   "metadata": {},
   "outputs": [],
   "source": [
    "psource(mac)"
   ]
  },
  {
   "cell_type": "markdown",
   "metadata": {},
   "source": [
    "#### Complexity <a name=\"bt_mac_complexity\"></a>\n",
    "By ensuring full arc-consistency between all variables each time a queen is placed on the board, MAC is strictly more computationally demanding than Forward Checking.\n",
    "While Forward Checking has a complexity of $\\mathcal{O}(ek)$, full AC3 propagation is $\\mathcal{O}(ek^3)$, where $k$ is the domain's size and $e$ are the number of binary constraints.\n",
    "Yet, by pruning the search tree further than Forward Checking, MAC uses less iterations to arrive to a solution.\n",
    "\n",
    "Therefore, whether MAC has a better or worst runtime performance than Forward Checking depends on the actual cost of doing constraint propagation versus search.\n",
    "That is why backtracking with Forward Checking, or even simple backtracking, are still used in applications.\n",
    "\n",
    "In our case, we actually observe that MAC takes about $0.10$ seconds to solve the 15 queens problem, while Forward Checking only takes half of this: $0.05$ seconds. For reference, simple backtracking takes $0.50$ seconds instead for the same problem.\n",
    "\n",
    "In terms of actual iterations (and we refer to an iteration as any assignment or unassignment of a variable), we observe the following for the N = 15 queens problem:\n",
    "- Backtracking with Forward Checking: $135$ iterations\n",
    "- Backtracking with MAC: $41$ iterations"
   ]
  },
  {
   "cell_type": "markdown",
   "metadata": {},
   "source": [
    "#### Example: solving NQueens (20 Queens) <a name=\"bt_mac_example\"></a>\n"
   ]
  },
  {
   "cell_type": "code",
   "execution_count": null,
   "metadata": {},
   "outputs": [],
   "source": [
    "# Create NQueens problem.\n",
    "N = 15\n",
    "n_queens = NQueensCSP(N)\n",
    "\n",
    "# Solve the problem using Backtracking with Forward Checking. Store timing.\n",
    "start_time = time.time()\n",
    "solution = backtracking_search(n_queens, inference = mac)\n",
    "end_time = time.time()\n",
    "print(\" Time taken to solve %s Queens problem using Backtracking with MAC: %f seconds\"% (N, end_time - start_time))\n",
    "plot_NQueens(solution)"
   ]
  },
  {
   "cell_type": "markdown",
   "metadata": {},
   "source": [
    "### Run the snippet below to have an insight on how backtracking with Maintaining Arc Consistency actually proceeds:\n",
    "We use below the same legend as before to represent pruned domains, partial assignments and empty domains.\n",
    "\n",
    "**Use the ```iteration``` slider to see the intermediate steps that backtracking with Maintaining Arc Consistency takes**. Mind that, due to visualization lag, you might need to leave the slider at a certain value for a minimum time in order to refresh the screen.\n",
    "\n",
    "> If you see the board displaying things without responding to the slider, just interrupt the kernel (black square in the toolbar, next to the Run command) and run the cell again.\n",
    "\n",
    "Here we use a small N because it is easier to observe the actual behaviour of the algorithm."
   ]
  },
  {
   "cell_type": "code",
   "execution_count": null,
   "metadata": {},
   "outputs": [],
   "source": [
    "# Create small NQueens problem.\n",
    "N = 10\n",
    "n_queens = NQueensCSP(N)\n",
    "\n",
    "# This is to store the intermediate steps.\n",
    "backtracking_instru_queen = make_instru(n_queens)\n",
    "\n",
    "# Solve it using backtracking with forward checking.\n",
    "result = backtracking_search(backtracking_instru_queen, inference = mac)\n",
    "\n",
    "# Displaying\n",
    "display_nqueens(backtracking_instru_queen, result)"
   ]
  },
  {
   "cell_type": "markdown",
   "metadata": {},
   "source": [
    "### e. Backtracking with Dynamic Variable Ordering <a name=\"bt_dvo\"></a>\n",
    "#### Definition  <a name=\"bt_dvo_definition\"></a>\n",
    "So far we have used the backtracking algorithm presented [before](#backtracking_algorithm) using as function for ```Selected-Unassigned-Variable``` a static variable ordering where we pick variables in order.\n",
    "For the NQueens problem, we were picking first the first column, then the second, etc.\n",
    "\n",
    "An alternative approach is to dynamically pick the next variable to assign using heuristics.\n",
    "Here we present the **Minimum-Remaining-Values (MRV)** heuristic which picks as next variable the one for which its domain is the smallest. This heuristic has also been called the \"most constrained variable\" or the \"fail-first\" heuristic.\n",
    "\n",
    "#### Complexity <a name=\"bt_dvo_complexity\"></a>\n",
    "\n",
    "The MRV heuristic can perform better than a random or static ordering, but results vary wieldly depending on the problem.\n",
    "\n",
    "#### Example: solving NQueens (40 Queens) <a name=\"bt_dvo_example\"></a>\n",
    "\n",
    "For the NQueens problem, using the MRV heuristic allows us to solve much larger problems than with a static ordering.\n",
    "We can, for example, solve a 40 Queens problem (or even 80 Queens problem) in \"real-time\".\n"
   ]
  },
  {
   "cell_type": "code",
   "execution_count": null,
   "metadata": {},
   "outputs": [],
   "source": [
    "# Create NQueens problem.\n",
    "N = 40\n",
    "n_queens = NQueensCSP(N)\n",
    "\n",
    "# Solve the problem using Backtracking with Forward Checking. Store timing.\n",
    "start_time = time.time()\n",
    "solution = backtracking_search(n_queens, select_unassigned_variable=mrv, inference = mac)\n",
    "end_time = time.time()\n",
    "print(\" Time taken to solve %s Queens problem using Backtracking with MAC: %f seconds\"% (N, end_time - start_time))\n",
    "plot_NQueens(solution)"
   ]
  },
  {
   "cell_type": "markdown",
   "metadata": {},
   "source": [
    "**Run the snippet below to have an insight on how backtracking with MAC and MRC works:**"
   ]
  },
  {
   "cell_type": "code",
   "execution_count": null,
   "metadata": {},
   "outputs": [],
   "source": [
    "# Create small NQueens problem.\n",
    "N = 10\n",
    "n_queens = NQueensCSP(N)\n",
    "\n",
    "# This is to store the intermediate steps.\n",
    "backtracking_instru_queen = make_instru(n_queens)\n",
    "\n",
    "# Solve it using backtracking with forward checking.\n",
    "result = backtracking_search(backtracking_instru_queen,select_unassigned_variable=mrv, inference = mac)\n",
    "\n",
    "# Displaying\n",
    "display_nqueens(backtracking_instru_queen, result)"
   ]
  },
  {
   "cell_type": "markdown",
   "metadata": {},
   "source": [
    "#### Example: solving hard Sudokus <a name=\"bt_dvo_example_2\"></a>\n",
    "We saw before that we cannot solve hard Sudokus by just using [AC3]().\n",
    "Here we show that combining MAC inference with MRV variable ordering we can easily solve the Sudoku we had issues with at the beginning."
   ]
  },
  {
   "cell_type": "code",
   "execution_count": null,
   "metadata": {},
   "outputs": [],
   "source": [
    "harder1 = '4173698.5.3..........7......2.....6.....8.4......1.......6.3.7.5..2.....1.4......'\n",
    "h = Sudoku(harder1)\n",
    "h.display(h.infer_assignment())\n",
    "print()\n",
    "solution = backtracking_search(h, select_unassigned_variable=mrv, inference=forward_checking)\n",
    "h.display(solution)"
   ]
  },
  {
   "cell_type": "markdown",
   "metadata": {},
   "source": [
    "### d. Empirical runtime comparison between Forward Checking and Maintaining Arc Consistency <a name=\"experiments\"></a>"
   ]
  },
  {
   "cell_type": "markdown",
   "metadata": {},
   "source": [
    "As we have mentioned before, MAC is slightly slower per node than Forward Checking, yet it can often perform reasoning steps which remove large parts of the search space.\n",
    "\n",
    "Experimentally, we observe the following results for the NQueens and Sudoku problems (using the MRV heuristic as variable ordering):\n",
    "\n",
    "- 60 Queens :\n",
    "\n",
    "| Algorithm| Runtime (s)|\n",
    "|:-------|-------|\n",
    "|FC| 0.345 |\n",
    "|MAC|2.926 |\n",
    "    \n",
    "\n",
    "- Hard Sudoku :\n",
    "\n",
    "| Algorithm |Runtime (s)|\n",
    "|:-------|-------|\n",
    "|FC| 0.013|\n",
    "|MAC|0.066|"
   ]
  },
  {
   "cell_type": "code",
   "execution_count": null,
   "metadata": {},
   "outputs": [],
   "source": [
    "# Create NQueens problem.\n",
    "N = 60\n",
    "n_queens = NQueensCSP(N)\n",
    "\n",
    "# Solve the problem using Backtracking with Forward Checking. Store timing.\n",
    "start_time = time.time()\n",
    "solution = backtracking_search(n_queens, select_unassigned_variable=mrv, inference = forward_checking)\n",
    "end_time = time.time()\n",
    "print(\" Time taken to solve %s Queens problem using Backtracking with FC: %f seconds\"% (N, end_time - start_time))"
   ]
  },
  {
   "cell_type": "code",
   "execution_count": null,
   "metadata": {},
   "outputs": [],
   "source": [
    "# Create NQueens problem.\n",
    "N = 60\n",
    "n_queens = NQueensCSP(N)\n",
    "\n",
    "# Solve the problem using Backtracking with MAC. Store timing.\n",
    "start_time = time.time()\n",
    "solution = backtracking_search(n_queens, select_unassigned_variable=mrv, inference = mac)\n",
    "end_time = time.time()\n",
    "print(\" Time taken to solve %s Queens problem using Backtracking with MAC: %f seconds\"% (N, end_time - start_time))"
   ]
  },
  {
   "cell_type": "code",
   "execution_count": null,
   "metadata": {},
   "outputs": [],
   "source": [
    "harder1 = '4173698.5.3..........7......2.....6.....8.4......1.......6.3.7.5..2.....1.4......'\n",
    "h = Sudoku(harder1)\n",
    "start_time = time.time()\n",
    "\n",
    "# Solve the problem using Backtracking with Forward Checking. Store timing.\n",
    "solution = backtracking_search(h, select_unassigned_variable=mrv, inference=forward_checking)\n",
    "end_time = time.time()\n",
    "print(\" Time taken to solve hard Sudoku problem using Backtracking with FC: %f seconds\"% (end_time - start_time))"
   ]
  },
  {
   "cell_type": "code",
   "execution_count": null,
   "metadata": {},
   "outputs": [],
   "source": [
    "harder1 = '4173698.5.3..........7......2.....6.....8.4......1.......6.3.7.5..2.....1.4......'\n",
    "h = Sudoku(harder1)\n",
    "start_time = time.time()\n",
    "\n",
    "# Solve the problem using Backtracking with MAC. Store timing.\n",
    "solution = backtracking_search(h, select_unassigned_variable=mrv, inference=mac)\n",
    "end_time = time.time()\n",
    "print(\" Time taken to solve hard Sudoku problem using Backtracking with MAC: %f seconds\"% (end_time - start_time))"
   ]
  },
  {
   "cell_type": "markdown",
   "metadata": {},
   "source": [
    "## Bucket Elimination\n",
    "\n",
    "The idea of join and project used to eliminate variables when solving system of linear equation can be extended to constraints. This is made possible by bucket elimination. \n",
    "\n",
    "$\\textbf{Join operation}$ for constraints is shown below:\n",
    "<img src=\"images/pic_1.png\">\n",
    "\n",
    "$\\textbf{Project operation}:$ C2 = $\\pi_{2}C_{21}$\n",
    "<img src=\"images/pic_2.png\">\n",
    "\n",
    "Important ideas behind bucket elimination are as follows:\n",
    "\n",
    "* Eliminate: Derive all consequences that depend on each Vi\n",
    "    by joining all constraints involving Vi\n",
    "\n",
    "* Solve: Encode all solutions to constraints $\\phi$,\n",
    "    by systematically eliminating all variables.\n",
    "\n",
    "* Generate: all solutions without backtrack search, by propagating."
   ]
  },
  {
   "cell_type": "code",
   "execution_count": null,
   "metadata": {},
   "outputs": [],
   "source": []
  }
 ],
 "metadata": {
  "kernelspec": {
   "display_name": "Python 3",
   "language": "python",
   "name": "python3"
  },
  "language_info": {
   "codemirror_mode": {
    "name": "ipython",
    "version": 3
   },
   "file_extension": ".py",
   "mimetype": "text/x-python",
   "name": "python",
   "nbconvert_exporter": "python",
   "pygments_lexer": "ipython3",
   "version": "3.5.2"
  }
 },
 "nbformat": 4,
 "nbformat_minor": 2
}
