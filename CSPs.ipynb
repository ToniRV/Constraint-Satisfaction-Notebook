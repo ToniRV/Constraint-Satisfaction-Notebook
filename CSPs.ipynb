{
 "cells": [
  {
   "cell_type": "markdown",
   "metadata": {},
   "source": [
    "# Constraint Satisfaction Problems\n",
    "\n",
    "This notebook presents, in an interactive way, the lecture notes of MIT's 16.413 course **Principles of Autonomy and Decision Making** for the chapter on **Constraint Satisfaction**.\n",
    "\n",
    "The material below is highly influenced as well by **Chapter 6 Constraint Satisfaction Problems** of the book *Artificial Intelligence: A Modern Approach*."
   ]
  },
  {
   "cell_type": "markdown",
   "metadata": {},
   "source": [
    "Let us first import necessary modules and helper functions. Run the cell below:"
   ]
  },
  {
   "cell_type": "code",
   "execution_count": 38,
   "metadata": {},
   "outputs": [],
   "source": [
    "from __future__ import print_function\n",
    "from lib.notebook import psource, pseudocode, plot_NQueens\n",
    "from lib.n_queens_csp import NQueensCSP, queen_constraint\n",
    "from lib.backtracking import backtracking_search, backtrack\n",
    "import time\n",
    "%matplotlib inline\n",
    "\n",
    "# Hide warnings in the matplotlib sections\n",
    "import warnings\n",
    "warnings.filterwarnings(\"ignore\")\n"
   ]
  },
  {
   "cell_type": "markdown",
   "metadata": {},
   "source": [
    "# CONTENTS\n",
    "\n",
    " 1. **Introduction to Constraint Propagation Problems (L13 & L14)**:\n",
    "    1. *Definition*\n",
    "    2. *Examples*\n",
    "\n",
    " 2. **Solving CSPs (L14 & L 15)**:\n",
    "    1. *Constraint Propagation in CSPs*:\n",
    "        1. Arc-Consistency:\n",
    "            1. Directed arc consistency\n",
    "            2. Full arc consistency\n",
    "\n",
    "        2. Propagation:\n",
    "            1. AC-1:\n",
    "                * Definition\n",
    "                * Example: solving Sudoku with AC-1\n",
    "                * Complexity Analysis\n",
    "                * Soundness and Completeness\n",
    "            2. AC-3:\n",
    "                * Definition\n",
    "                * Example: solving Sudoku with AC-3\n",
    "                * Complexity Analysis\n",
    "                * Soundness and Completeness\n",
    "        3. Numerical constraints:\n",
    "            1. Propagation for Integer Domains\n",
    "            2. Pruning Integer Domains\n",
    "        4. Global constraints:\n",
    "            1. AllDiff\n",
    "            2. Example: global vs local constraints NQueens\n",
    "    2. *[Search in CSPs](#search_in_csps)*:\n",
    "        1. [Generic Search](#generic_search):\n",
    "            * Formulating CSPs as a state space search problem\n",
    "            * Complexity\n",
    "            * Example: NQueens with generic search (5 Queens)\n",
    "        2. [Backtracking Search (BT)](#backtracking):\n",
    "            * Definition\n",
    "            * Complexity\n",
    "            * Example: solving NQueens (15 Queens)\n",
    "        3. [Backtracking Search with Forward Checking (BT-FC)](#backtracking_w_fc):\n",
    "            * Definition\n",
    "            * Complexity\n",
    "            * Example: solving NQueens (30 Queens)              \n",
    "        4. [**Backtracking while Maintaining Arc Consistency (BT-MAC)**](#backtracking_w_mac):\n",
    "            * Definition\n",
    "            * Complexity\n",
    "            * Example: solving NQueens (X Queens)\n",
    "        4. BT-DC with Dynamic Variable Ordering:\n",
    "            * Definition\n",
    "            * Complexity\n",
    "            * Example: solving NQueens (1000 Queens)\n",
    "\n",
    "    3. *Elimination for Constraints in CSPs*:\n",
    "        1. Variable Elimination for Constraints:\n",
    "            * Definition: join and project\n",
    "            * Example\n",
    "        2. Bucket elimination (Adaptive Consistency):\n",
    "            * Definition\n",
    "            * Example\n",
    "\n",
    " 3. **Appendix**:\n",
    "    1. Constraint Optimization Problem:\n",
    "        1. Branch-and-Bound\n",
    "        2. Example: using Map Coloring problem with cost added to the colors to use.\n",
    "    2. Conflict-directed Back Jumping (CBJ)\n",
    "        * Definition\n",
    "        * Example\n",
    "    3. Incremental Repair / Iterative Repair / Min-Conflict Heuristic\n",
    "        * Definition\n",
    "        * Example"
   ]
  },
  {
   "cell_type": "markdown",
   "metadata": {},
   "source": [
    "## Introduction \n",
    "\n",
    "Constraint satisfaction problem represents states using a list of variables with assignments and\n",
    "conditions for a solution in the form of constraints on the variables. This allows us to treat\n",
    "the state space with structure - using a factored representation for each state contrary to the\n",
    "black box view used in state space search problems.\n",
    "\n",
    "\n",
    "Formally, Constraint Satisfaction Problem (CSP) can be defined as a triple of < X, D, C > where\n",
    "X is a set of variables, D is the domain of each of the variables in V and C is the set of constraints\n",
    "defining the problem. Each constraint in C can be thought of as a pair of scope S which is a\n",
    "subset of V and a relation R between variables in S. The problem of having seeking a set with one\n",
    "A and two B’s can be cast in the CSP framework with V = {A, B}, D = {1, 2} and constraint\n",
    "C = {[{A, B}, {{1, 2}, {1, 1}}], [{A, B}, {{1, 2}, {2, 2}}]} where the first constraint tells that there\n",
    "must be exactly one A and the second constraint imposes the fact that there must be two B’s. The\n",
    "solution to the problem is when both the constraints are satisfied which is possible only when the\n",
    "assignment is (1,2).\n",
    "\n",
    "CSPs can be visualized using constraint graphs where the nodes represent the variables and the\n",
    "edges represent the constraint between the variables connected by it. Any CSP can be represented\n",
    "using a constraint graph because any constraint involving multiple variables can be converted to\n",
    "binary variables by adding additional variables to the problem."
   ]
  },
  {
   "cell_type": "markdown",
   "metadata": {},
   "source": [
    "## Constraint Propagation\n",
    "\n",
    "Apart from searching the state space, constraint programming also allows us to perform specific\n",
    "type of inference called constraint Propagation which helps in eliminating unwanted parts of the\n",
    "state space based on the constraint satisfaction.\n",
    "\n",
    "A single variable in a CSP is said to be node-consistent if all it’s unary constraints are satisfied.\n",
    "We can use this to delete some values in the domain of the variable that doesn’t satisfy the unary\n",
    "constraint on that variable. A network is node-consistent if all the variables in it are also nodeconstraint.\n",
    "\n",
    "A variable in CSP is said to be arc-consistent if every value in its domain satisfies binary constraints\n",
    "imposed on the variable. Similar to node consistency, checking for arc-consistency can help reduce the domain size of a variable before performing search. Algorithm 1 shown below describes a Revise procedure that ensures that a given node Xi is arc-consistent.\n",
    "\n",
    "<img src=\"Algorithm_1.png\">"
   ]
  },
  {
   "cell_type": "markdown",
   "metadata": {},
   "source": [
    "## AC-1 and AC-3\n",
    "\n",
    "AC-1 is a constraint propagation algorithm that repeatedly checks for arc-consistency between two nodes and removes those values in the domain of each of the two variables that are not consistent. The algorithm is described below:\n",
    "\n",
    "<img src=\"Algorithm_2.png\">\n",
    "\n",
    "In AC-1, the domain of a variable is changed by deleting the values in the variable’s domain that are arc inconsistent with another variable. We notice that everytime the domain of the variable shrinks, some equivalent values in other variables now become inconsistent. AC-1 doesn’t take advantage of this and hence it must be run iteratively until the domain of all the variables don’t change. AC-3, on the contrary, tries to take advantage of this fact by using a queue that has information about the next arcs to be checked based on the modifications made in the current iteration. This leads to a much faster constraint propagation. The algorithm is described below\n",
    "\n",
    "<img src=\"Algorithm_3.png\">"
   ]
  },
  {
   "cell_type": "markdown",
   "metadata": {},
   "source": [
    "## <a name=\"search_in_csps\"></a>2. Search in CSPs\n",
    "\n",
    "Constraint propagation alone is not sufficient to solve many CSPs. In this case, a solution must be found using search algorithms.\n",
    "\n",
    "In this section, we will explain different search algorithms used to solve CSPs.\n",
    "The section is organized as follows:\n",
    "\n",
    "1. [Generic Search](#generic_search):\n",
    "    * Formulating CSPs as a state space search problem\n",
    "    * Complexity\n",
    "    * Example: NQueens with generic search (5 Queens)\n",
    "2. [Backtracking Search (BT)](#backtracking):\n",
    "    * Definition\n",
    "    * Complexity\n",
    "    * Example: solving NQueens (15 Queens)\n",
    "3. [Backtracking Search with Forward Checking (BT-FC)](#backtracking_w_fc):\n",
    "    * Definition\n",
    "    * Complexity\n",
    "    * Example: solving NQueens (30 Queens)              \n",
    "4. [**Backtracking while Maintaining Arc Consistency (BT-MAC)**](#backtracking_w_mac):\n",
    "    * Definition\n",
    "    * Complexity\n",
    "    * Example: solving NQueens (X Queens)\n",
    "4. BT-DC with Dynamic Variable Ordering:\n",
    "    * Definition\n",
    "    * Complexity\n",
    "    * Example: solving NQueens (1000 Queens)"
   ]
  },
  {
   "cell_type": "markdown",
   "metadata": {},
   "source": [
    "<div class=\"alert alert-block alert-danger\">\n",
    "<b>TODO:</b> Provide example, slide 79 seems to show a case where arc-consistency alone does not solve the problem (but I think that path consistency would do constraint propagation up to the solution...). Can we find a sudoku example where we cannot rule out all possibilities by doing constraint propagation?\n",
    "</div>"
   ]
  },
  {
   "cell_type": "markdown",
   "metadata": {},
   "source": [
    "### <a name=\"generic_search\"></a> a. Generic Search\n",
    "\n",
    "#### Formulating CSPs as a state space search problem\n",
    "\n",
    "CSPs can be formulated using the State Space search representation.\n",
    "In particular, we can express a CSP as follows:\n",
    "* **State**:\n",
    "    - We can define as state a **partial assignment** to variables made thus far.\n",
    "    For example, if we have variables $A$, $B$ and $C$ whith respective domains $[a_1, a_2]$, $[b_1, b_2]$, and  $[c_1, c_2]$ a partial assignment would be for example $\\{A=a_2, C=c_1\\}$, another one could be $\\{B=b_2, C=c_2\\}$. In contrast, we consider a **complete assignment** one where all variables would be assigned, such as $\\{A=a_2, B=b_1, C=c_1\\}$. Note that a complete assignment is still a (kind-of) partial assignment.\n",
    "* **Initial State**:\n",
    "    - Initially the state would be **no assignment**, which we can represent as the empty set $\\{\\}$.\n",
    "* **Operator**:\n",
    "    - We also need to define an action/operator to frame a CSP into a State Space search problem.\n",
    "    In our case, this would correspond to the fact of **adding a new assignment**.\n",
    "    In other words, our operator corresponds to the action of assigning a value to a yet unassigned variable $X=x$, which expands the State by one element. For example, if we start from the initial state $\\{\\}$, and we proceed with the action $X=x,$ we end up with a new state $\\{X=x\\}$, which is itself a partial assignment.\n",
    "* **Goal Test**:\n",
    "    - As in all State Space search problems, we need to define what is our goal state.\n",
    "    In our case, this is achieved when all variables are assigned (meaning we have a **complete assignment**) and all constraints are satisfied (which we refer to as a **consistent assignment**).\n",
    "\n",
    "Once the problem is formulated as a State Space search problem, we can use standard search algorithms such as:\n",
    "* Breadth first search\n",
    "* Depth first search\n",
    "* Depth-limited search\n",
    "\n",
    "to solve the given problem.\n",
    "\n",
    "#### Complexity\n",
    "\n",
    "Unfortunately, given a CSP with $n$ variables with a domain size of $d$, results in a branching factor at the top level of $nd$.\n",
    "This is because any of the $n$ variables can be assigned any of $d$ values.\n",
    "Once a variable has been assigned a value, we are still left with $n − 1$ variables which can be assigned $d$ values. By induction, we end up with a tree having $n!d^n ∼ O((nd)^n)$ leaves, which is even larger than the possible $d^n$ complete assignments!\n",
    "\n",
    "Nevertheless, we can observe than in a CSP **the order when assigning variables does not influence the solution**. This property is known as **commutativity**. More specifically, a problem is commutative if the order of application of any given set of actions does no effect on the outcome. Therefore, there is no need to consider all variables at each level of the search tree, but just one at a time. \n",
    "\n",
    "This makes sense intuitvely, for example, if we consider the coloring map problem, we might decide whether to color a certain region red or blue, but we would not decide between coloring one region red or another region blue. Therefore, the number of leaves is reduced to $d^n$, where we just have to decide on an assignment for each variable at a time.\n",
    "\n",
    "#### Example: NQueens with generic search (5 Queens)\n",
    "\n",
    "Let us apply a generic search algorithm to the NQueens problem.\n",
    "<div class=\"alert alert-block alert-danger\">\n",
    "<b>TODO:</b> Use generic search to solve NQueens\n",
    "</div>"
   ]
  },
  {
   "cell_type": "markdown",
   "metadata": {},
   "source": [
    "### <a name=\"backtracking\"></a> b. Backtracking\n",
    "\n",
    "Backtracking search suits the commutative property of CSPs, as it consists on a depth-first search that chooses one variable at a time. \n",
    "\n",
    "Moreover, it makes use of another property of CSPs that is **extensions to inconsistent partial assignments are always inconsistent**.\n",
    "The backtracking search **backtracks** when an inconsistent partial assignment is reached. \n",
    "\n",
    "We show below the actual backtracking search algorithm (pseudo-code), as presented in [5]. \n",
    "\n",
    "<a name=\"backtracking_algorithm\"></a>\n",
    "<img src=\"images/backtracking_algorithm.png\" alt=\"drawing\" width=\"600\">\n",
    "\n",
    "In plain words, the algorithm first chooses an unassigned variable, and loops over its domain by picking one value at\n",
    "a time. Every time a value is taken, if it is consistent, then the algorithm continues to look for a\n",
    "solution. If it is not consistent, then the algorithm backtracks by trying with another value instead.\n",
    "\n",
    "The backtracking algorithm presented above makes use of a set of sub-functions that we detail\n",
    "below:\n",
    "* **Select-Unassigned-Variable(csp, assignment)**:\n",
    "    - Decides which variable should be assigned next.\n",
    "* **Order-Domain-Values(var, assignment, csp)**:\n",
    "    - Decides the order in which the values of the variable should be tried. We will see in section 2.3.4 how modifications of this and the previous function result in different general purpose heuristics.\n",
    "* **Inference(csp, var, assignment)**:\n",
    "    - Every time a variable has been assigned a value, there is the opportunity to further reduce the domains of the rest of unassigned variables using inference, such as checking for arcconsistency. While the call to this function is not strictly necessary, we will see in section 2.3.3 that interleaving search and inference results in a more efficient algorithm.\n"
   ]
  },
  {
   "cell_type": "markdown",
   "metadata": {},
   "source": [
    "    \n",
    "The source code to implement this pseudo-code is actually fairly close to the actual implementation.\n",
    "Below the actual source code in python:"
   ]
  },
  {
   "cell_type": "code",
   "execution_count": 17,
   "metadata": {},
   "outputs": [
    {
     "data": {
      "text/html": [
       "<!DOCTYPE html PUBLIC \"-//W3C//DTD HTML 4.01//EN\"\n",
       "   \"http://www.w3.org/TR/html4/strict.dtd\">\n",
       "\n",
       "<html>\n",
       "<head>\n",
       "  <title></title>\n",
       "  <meta http-equiv=\"content-type\" content=\"text/html; charset=None\">\n",
       "  <style type=\"text/css\">\n",
       "td.linenos { background-color: #f0f0f0; padding-right: 10px; }\n",
       "span.lineno { background-color: #f0f0f0; padding: 0 5px 0 5px; }\n",
       "pre { line-height: 125%; }\n",
       "body .hll { background-color: #ffffcc }\n",
       "body  { background: #f8f8f8; }\n",
       "body .c { color: #408080; font-style: italic } /* Comment */\n",
       "body .err { border: 1px solid #FF0000 } /* Error */\n",
       "body .k { color: #008000; font-weight: bold } /* Keyword */\n",
       "body .o { color: #666666 } /* Operator */\n",
       "body .ch { color: #408080; font-style: italic } /* Comment.Hashbang */\n",
       "body .cm { color: #408080; font-style: italic } /* Comment.Multiline */\n",
       "body .cp { color: #BC7A00 } /* Comment.Preproc */\n",
       "body .cpf { color: #408080; font-style: italic } /* Comment.PreprocFile */\n",
       "body .c1 { color: #408080; font-style: italic } /* Comment.Single */\n",
       "body .cs { color: #408080; font-style: italic } /* Comment.Special */\n",
       "body .gd { color: #A00000 } /* Generic.Deleted */\n",
       "body .ge { font-style: italic } /* Generic.Emph */\n",
       "body .gr { color: #FF0000 } /* Generic.Error */\n",
       "body .gh { color: #000080; font-weight: bold } /* Generic.Heading */\n",
       "body .gi { color: #00A000 } /* Generic.Inserted */\n",
       "body .go { color: #888888 } /* Generic.Output */\n",
       "body .gp { color: #000080; font-weight: bold } /* Generic.Prompt */\n",
       "body .gs { font-weight: bold } /* Generic.Strong */\n",
       "body .gu { color: #800080; font-weight: bold } /* Generic.Subheading */\n",
       "body .gt { color: #0044DD } /* Generic.Traceback */\n",
       "body .kc { color: #008000; font-weight: bold } /* Keyword.Constant */\n",
       "body .kd { color: #008000; font-weight: bold } /* Keyword.Declaration */\n",
       "body .kn { color: #008000; font-weight: bold } /* Keyword.Namespace */\n",
       "body .kp { color: #008000 } /* Keyword.Pseudo */\n",
       "body .kr { color: #008000; font-weight: bold } /* Keyword.Reserved */\n",
       "body .kt { color: #B00040 } /* Keyword.Type */\n",
       "body .m { color: #666666 } /* Literal.Number */\n",
       "body .s { color: #BA2121 } /* Literal.String */\n",
       "body .na { color: #7D9029 } /* Name.Attribute */\n",
       "body .nb { color: #008000 } /* Name.Builtin */\n",
       "body .nc { color: #0000FF; font-weight: bold } /* Name.Class */\n",
       "body .no { color: #880000 } /* Name.Constant */\n",
       "body .nd { color: #AA22FF } /* Name.Decorator */\n",
       "body .ni { color: #999999; font-weight: bold } /* Name.Entity */\n",
       "body .ne { color: #D2413A; font-weight: bold } /* Name.Exception */\n",
       "body .nf { color: #0000FF } /* Name.Function */\n",
       "body .nl { color: #A0A000 } /* Name.Label */\n",
       "body .nn { color: #0000FF; font-weight: bold } /* Name.Namespace */\n",
       "body .nt { color: #008000; font-weight: bold } /* Name.Tag */\n",
       "body .nv { color: #19177C } /* Name.Variable */\n",
       "body .ow { color: #AA22FF; font-weight: bold } /* Operator.Word */\n",
       "body .w { color: #bbbbbb } /* Text.Whitespace */\n",
       "body .mb { color: #666666 } /* Literal.Number.Bin */\n",
       "body .mf { color: #666666 } /* Literal.Number.Float */\n",
       "body .mh { color: #666666 } /* Literal.Number.Hex */\n",
       "body .mi { color: #666666 } /* Literal.Number.Integer */\n",
       "body .mo { color: #666666 } /* Literal.Number.Oct */\n",
       "body .sa { color: #BA2121 } /* Literal.String.Affix */\n",
       "body .sb { color: #BA2121 } /* Literal.String.Backtick */\n",
       "body .sc { color: #BA2121 } /* Literal.String.Char */\n",
       "body .dl { color: #BA2121 } /* Literal.String.Delimiter */\n",
       "body .sd { color: #BA2121; font-style: italic } /* Literal.String.Doc */\n",
       "body .s2 { color: #BA2121 } /* Literal.String.Double */\n",
       "body .se { color: #BB6622; font-weight: bold } /* Literal.String.Escape */\n",
       "body .sh { color: #BA2121 } /* Literal.String.Heredoc */\n",
       "body .si { color: #BB6688; font-weight: bold } /* Literal.String.Interpol */\n",
       "body .sx { color: #008000 } /* Literal.String.Other */\n",
       "body .sr { color: #BB6688 } /* Literal.String.Regex */\n",
       "body .s1 { color: #BA2121 } /* Literal.String.Single */\n",
       "body .ss { color: #19177C } /* Literal.String.Symbol */\n",
       "body .bp { color: #008000 } /* Name.Builtin.Pseudo */\n",
       "body .fm { color: #0000FF } /* Name.Function.Magic */\n",
       "body .vc { color: #19177C } /* Name.Variable.Class */\n",
       "body .vg { color: #19177C } /* Name.Variable.Global */\n",
       "body .vi { color: #19177C } /* Name.Variable.Instance */\n",
       "body .vm { color: #19177C } /* Name.Variable.Magic */\n",
       "body .il { color: #666666 } /* Literal.Number.Integer.Long */\n",
       "\n",
       "  </style>\n",
       "</head>\n",
       "<body>\n",
       "<h2></h2>\n",
       "\n",
       "<div class=\"highlight\"><pre><span></span><span class=\"k\">def</span> <span class=\"nf\">backtracking_search</span><span class=\"p\">(</span><span class=\"n\">csp</span><span class=\"p\">,</span> <span class=\"n\">fc</span><span class=\"o\">=</span><span class=\"bp\">False</span><span class=\"p\">):</span>\n",
       "    <span class=\"sd\">&quot;&quot;&quot; Backtracking search as detailed in Fig. 6.5 of AIMA book. &quot;&quot;&quot;</span>\n",
       "    <span class=\"n\">csp</span><span class=\"o\">.</span><span class=\"n\">fc</span> <span class=\"o\">=</span> <span class=\"n\">fc</span>\n",
       "    <span class=\"k\">return</span> <span class=\"n\">backtrack</span><span class=\"p\">({},</span> <span class=\"n\">csp</span><span class=\"p\">)</span>\n",
       "</pre></div>\n",
       "</body>\n",
       "</html>\n"
      ],
      "text/plain": [
       "<IPython.core.display.HTML object>"
      ]
     },
     "metadata": {},
     "output_type": "display_data"
    }
   ],
   "source": [
    "psource(backtracking_search)"
   ]
  },
  {
   "cell_type": "markdown",
   "metadata": {},
   "source": [
    "<a name=\"backtrack_pseudo\"></a>"
   ]
  },
  {
   "cell_type": "code",
   "execution_count": 43,
   "metadata": {},
   "outputs": [
    {
     "data": {
      "text/html": [
       "<!DOCTYPE html PUBLIC \"-//W3C//DTD HTML 4.01//EN\"\n",
       "   \"http://www.w3.org/TR/html4/strict.dtd\">\n",
       "\n",
       "<html>\n",
       "<head>\n",
       "  <title></title>\n",
       "  <meta http-equiv=\"content-type\" content=\"text/html; charset=None\">\n",
       "  <style type=\"text/css\">\n",
       "td.linenos { background-color: #f0f0f0; padding-right: 10px; }\n",
       "span.lineno { background-color: #f0f0f0; padding: 0 5px 0 5px; }\n",
       "pre { line-height: 125%; }\n",
       "body .hll { background-color: #ffffcc }\n",
       "body  { background: #f8f8f8; }\n",
       "body .c { color: #408080; font-style: italic } /* Comment */\n",
       "body .err { border: 1px solid #FF0000 } /* Error */\n",
       "body .k { color: #008000; font-weight: bold } /* Keyword */\n",
       "body .o { color: #666666 } /* Operator */\n",
       "body .ch { color: #408080; font-style: italic } /* Comment.Hashbang */\n",
       "body .cm { color: #408080; font-style: italic } /* Comment.Multiline */\n",
       "body .cp { color: #BC7A00 } /* Comment.Preproc */\n",
       "body .cpf { color: #408080; font-style: italic } /* Comment.PreprocFile */\n",
       "body .c1 { color: #408080; font-style: italic } /* Comment.Single */\n",
       "body .cs { color: #408080; font-style: italic } /* Comment.Special */\n",
       "body .gd { color: #A00000 } /* Generic.Deleted */\n",
       "body .ge { font-style: italic } /* Generic.Emph */\n",
       "body .gr { color: #FF0000 } /* Generic.Error */\n",
       "body .gh { color: #000080; font-weight: bold } /* Generic.Heading */\n",
       "body .gi { color: #00A000 } /* Generic.Inserted */\n",
       "body .go { color: #888888 } /* Generic.Output */\n",
       "body .gp { color: #000080; font-weight: bold } /* Generic.Prompt */\n",
       "body .gs { font-weight: bold } /* Generic.Strong */\n",
       "body .gu { color: #800080; font-weight: bold } /* Generic.Subheading */\n",
       "body .gt { color: #0044DD } /* Generic.Traceback */\n",
       "body .kc { color: #008000; font-weight: bold } /* Keyword.Constant */\n",
       "body .kd { color: #008000; font-weight: bold } /* Keyword.Declaration */\n",
       "body .kn { color: #008000; font-weight: bold } /* Keyword.Namespace */\n",
       "body .kp { color: #008000 } /* Keyword.Pseudo */\n",
       "body .kr { color: #008000; font-weight: bold } /* Keyword.Reserved */\n",
       "body .kt { color: #B00040 } /* Keyword.Type */\n",
       "body .m { color: #666666 } /* Literal.Number */\n",
       "body .s { color: #BA2121 } /* Literal.String */\n",
       "body .na { color: #7D9029 } /* Name.Attribute */\n",
       "body .nb { color: #008000 } /* Name.Builtin */\n",
       "body .nc { color: #0000FF; font-weight: bold } /* Name.Class */\n",
       "body .no { color: #880000 } /* Name.Constant */\n",
       "body .nd { color: #AA22FF } /* Name.Decorator */\n",
       "body .ni { color: #999999; font-weight: bold } /* Name.Entity */\n",
       "body .ne { color: #D2413A; font-weight: bold } /* Name.Exception */\n",
       "body .nf { color: #0000FF } /* Name.Function */\n",
       "body .nl { color: #A0A000 } /* Name.Label */\n",
       "body .nn { color: #0000FF; font-weight: bold } /* Name.Namespace */\n",
       "body .nt { color: #008000; font-weight: bold } /* Name.Tag */\n",
       "body .nv { color: #19177C } /* Name.Variable */\n",
       "body .ow { color: #AA22FF; font-weight: bold } /* Operator.Word */\n",
       "body .w { color: #bbbbbb } /* Text.Whitespace */\n",
       "body .mb { color: #666666 } /* Literal.Number.Bin */\n",
       "body .mf { color: #666666 } /* Literal.Number.Float */\n",
       "body .mh { color: #666666 } /* Literal.Number.Hex */\n",
       "body .mi { color: #666666 } /* Literal.Number.Integer */\n",
       "body .mo { color: #666666 } /* Literal.Number.Oct */\n",
       "body .sa { color: #BA2121 } /* Literal.String.Affix */\n",
       "body .sb { color: #BA2121 } /* Literal.String.Backtick */\n",
       "body .sc { color: #BA2121 } /* Literal.String.Char */\n",
       "body .dl { color: #BA2121 } /* Literal.String.Delimiter */\n",
       "body .sd { color: #BA2121; font-style: italic } /* Literal.String.Doc */\n",
       "body .s2 { color: #BA2121 } /* Literal.String.Double */\n",
       "body .se { color: #BB6622; font-weight: bold } /* Literal.String.Escape */\n",
       "body .sh { color: #BA2121 } /* Literal.String.Heredoc */\n",
       "body .si { color: #BB6688; font-weight: bold } /* Literal.String.Interpol */\n",
       "body .sx { color: #008000 } /* Literal.String.Other */\n",
       "body .sr { color: #BB6688 } /* Literal.String.Regex */\n",
       "body .s1 { color: #BA2121 } /* Literal.String.Single */\n",
       "body .ss { color: #19177C } /* Literal.String.Symbol */\n",
       "body .bp { color: #008000 } /* Name.Builtin.Pseudo */\n",
       "body .fm { color: #0000FF } /* Name.Function.Magic */\n",
       "body .vc { color: #19177C } /* Name.Variable.Class */\n",
       "body .vg { color: #19177C } /* Name.Variable.Global */\n",
       "body .vi { color: #19177C } /* Name.Variable.Instance */\n",
       "body .vm { color: #19177C } /* Name.Variable.Magic */\n",
       "body .il { color: #666666 } /* Literal.Number.Integer.Long */\n",
       "\n",
       "  </style>\n",
       "</head>\n",
       "<body>\n",
       "<h2></h2>\n",
       "\n",
       "<div class=\"highlight\"><pre><span></span><span class=\"k\">def</span> <span class=\"nf\">backtrack</span><span class=\"p\">(</span><span class=\"n\">assignment</span><span class=\"p\">,</span> <span class=\"n\">csp</span><span class=\"p\">):</span>\n",
       "    <span class=\"sd\">&quot;&quot;&quot;Search for a consistent assignment for the csp.</span>\n",
       "<span class=\"sd\">    Each recursive call chooses a variable, and considers values for it.&quot;&quot;&quot;</span>\n",
       "    <span class=\"c1\"># If assignment is complete then return assignment.</span>\n",
       "    <span class=\"k\">if</span> <span class=\"nb\">len</span><span class=\"p\">(</span><span class=\"n\">assignment</span><span class=\"p\">)</span> <span class=\"o\">==</span> <span class=\"nb\">len</span><span class=\"p\">(</span><span class=\"n\">csp</span><span class=\"o\">.</span><span class=\"n\">vars</span><span class=\"p\">):</span>\n",
       "        <span class=\"k\">return</span> <span class=\"n\">assignment</span>\n",
       "    <span class=\"c1\"># Select an unassigned variable.</span>\n",
       "    <span class=\"n\">var</span> <span class=\"o\">=</span> <span class=\"n\">select_unassigned_variable</span><span class=\"p\">(</span><span class=\"n\">assignment</span><span class=\"p\">,</span> <span class=\"n\">csp</span><span class=\"p\">)</span>\n",
       "    <span class=\"c1\"># Loop over the domain of the current variable.</span>\n",
       "    <span class=\"k\">for</span> <span class=\"n\">val</span> <span class=\"ow\">in</span> <span class=\"n\">order_domain_values</span><span class=\"p\">(</span><span class=\"n\">var</span><span class=\"p\">,</span> <span class=\"n\">assignment</span><span class=\"p\">,</span> <span class=\"n\">csp</span><span class=\"p\">):</span>\n",
       "        <span class=\"c1\"># If value is consistent with assignment, continue.</span>\n",
       "        <span class=\"k\">if</span> <span class=\"n\">csp</span><span class=\"o\">.</span><span class=\"n\">is_consistent</span><span class=\"p\">(</span><span class=\"n\">var</span><span class=\"p\">,</span> <span class=\"n\">val</span><span class=\"p\">,</span> <span class=\"n\">assignment</span><span class=\"p\">):</span>\n",
       "            <span class=\"c1\"># Assign the value to the variable.</span>\n",
       "            <span class=\"n\">csp</span><span class=\"o\">.</span><span class=\"n\">assign</span><span class=\"p\">(</span><span class=\"n\">var</span><span class=\"p\">,</span> <span class=\"n\">val</span><span class=\"p\">,</span> <span class=\"n\">assignment</span><span class=\"p\">)</span>\n",
       "            <span class=\"c1\"># If we do not use forward checking, we are good!</span>\n",
       "            <span class=\"c1\"># If we do forward checking, prune domains, and continue only if no domain is empty.</span>\n",
       "            <span class=\"k\">if</span> <span class=\"n\">inference</span><span class=\"p\">(</span><span class=\"n\">csp</span><span class=\"p\">,</span> <span class=\"n\">var</span><span class=\"p\">,</span> <span class=\"n\">assignment</span><span class=\"p\">):</span>\n",
       "                <span class=\"c1\"># Calculate next result (recursive call).</span>\n",
       "                <span class=\"n\">result</span> <span class=\"o\">=</span> <span class=\"n\">backtrack</span><span class=\"p\">(</span><span class=\"n\">assignment</span><span class=\"p\">,</span> <span class=\"n\">csp</span><span class=\"p\">)</span>\n",
       "                <span class=\"k\">if</span> <span class=\"n\">result</span> <span class=\"ow\">is</span> <span class=\"ow\">not</span> <span class=\"bp\">None</span><span class=\"p\">:</span>\n",
       "                    <span class=\"k\">return</span> <span class=\"n\">result</span>\n",
       "        <span class=\"c1\"># If we have a conflict, unassign.</span>\n",
       "        <span class=\"c1\"># If we use forward checking, restore domains pruned by this assignment var=val.</span>\n",
       "        <span class=\"n\">csp</span><span class=\"o\">.</span><span class=\"n\">unassign</span><span class=\"p\">(</span><span class=\"n\">var</span><span class=\"p\">,</span> <span class=\"n\">assignment</span><span class=\"p\">)</span>\n",
       "        <span class=\"k\">if</span> <span class=\"n\">csp</span><span class=\"o\">.</span><span class=\"n\">fc</span><span class=\"p\">:</span>\n",
       "            <span class=\"c1\"># Restore prunings from previous value of var</span>\n",
       "            <span class=\"n\">restore_domains</span><span class=\"p\">(</span><span class=\"n\">csp</span><span class=\"p\">,</span> <span class=\"n\">var</span><span class=\"p\">)</span>\n",
       "    <span class=\"k\">return</span> <span class=\"bp\">None</span>\n",
       "</pre></div>\n",
       "</body>\n",
       "</html>\n"
      ],
      "text/plain": [
       "<IPython.core.display.HTML object>"
      ]
     },
     "metadata": {},
     "output_type": "display_data"
    }
   ],
   "source": [
    "psource(backtrack)"
   ]
  },
  {
   "cell_type": "markdown",
   "metadata": {},
   "source": [
    "#### Example: solving NQueens using simple backtracking algorithm"
   ]
  },
  {
   "cell_type": "markdown",
   "metadata": {},
   "source": [
    "The N-queens puzzle is the problem of placing N chess queens on an N×N chessboard in a way such that no two queens threaten each other. Here N is a natural number. \n",
    "\n",
    "Thus, no two queens can share a common row, column, or diagonal. We will use the following representation in this problem.\n",
    "- Each variable specifies the row on which a particular queen is placed. Each queen is identified (indexed) with a column of the board. This automatically ensures that the queens will not share columns.\n",
    "- The variable domains are the available row indices.\n",
    "- The constraints between the variables specify that the corresponding queens do not share a row or diagonal. "
   ]
  },
  {
   "cell_type": "markdown",
   "metadata": {},
   "source": [
    "We can encode the NQueens problem as follows, for a N×N board:\n",
    "* **Variables**:\n",
    "    * Each of the Queen's positions on the board: $X_i = \\text{row of queen in column i}$\n",
    "* **Domains**:\n",
    "    * The domain of each variable is just the number of rows on the board: $X_i \\in \\mathcal{X} = \\{0, ..., N-1\\}$\n",
    "* **Constraints**:\n",
    "    * Queens do not share rows. This is equivalent to requiring all variables $X_i$ to be of different value: $AllDiff(X_i)$\n",
    "    * Only one queen in a column. This is satisfied by default because of the variable encoding.\n",
    "    * No two queens can share a common diagonal. This can be encoded as follows:\n",
    "         - Assume we have a variable $X_i$, or, in other words, a queen in the row given by the value of $X_i$ and column given by the index $i$.\n",
    "         Then, no queen can be represented by $X_k$ if the following condition holds: $X_k = X_i - (k - i)$.\n",
    "         This is only for diagonals going _down_ from left to right.\n",
    "         What about the other diagonal? The one going _up_ from left to right can be similarly encoded changing just one sign: $X_k = X_i + (k - i)$. Since we need to check this constraint for all the queens on the board, we have:\n",
    "             ```pseudo\n",
    "                for all X_i:\n",
    "                    for 0:k, k != i, k < N:\n",
    "                       X_k != X_i - (k - i)\n",
    "                       X_k != X_i + (k - i)\n",
    "            ```\n",
    "\n",
    "            But this is actually equivalent to check that the value of $X_k - k$ is different for all $k$ (same for  $X_k + k$)! Therefore, we can use the $AllDiff(\\cdot)$ function to encode this constraint as well.\n",
    "        \n",
    " Below you can find the actual NQueens problem formulated as explained here.\n",
    " Note that we define the variables and domains (ignore for now the `curr_domains`, `pruned` and `constraints` variables).\n",
    " Also, the constraints are encoded in the method `is_consistent` below.\n",
    "This method checks that an assignment is consistent given the constraints, as required by the function `csp.is_consistent(var, val, assignment)` in the [backtrack code](#backtrack_pseudo)."
   ]
  },
  {
   "cell_type": "code",
   "execution_count": 46,
   "metadata": {},
   "outputs": [
    {
     "data": {
      "text/html": [
       "<!DOCTYPE html PUBLIC \"-//W3C//DTD HTML 4.01//EN\"\n",
       "   \"http://www.w3.org/TR/html4/strict.dtd\">\n",
       "\n",
       "<html>\n",
       "<head>\n",
       "  <title></title>\n",
       "  <meta http-equiv=\"content-type\" content=\"text/html; charset=None\">\n",
       "  <style type=\"text/css\">\n",
       "td.linenos { background-color: #f0f0f0; padding-right: 10px; }\n",
       "span.lineno { background-color: #f0f0f0; padding: 0 5px 0 5px; }\n",
       "pre { line-height: 125%; }\n",
       "body .hll { background-color: #ffffcc }\n",
       "body  { background: #f8f8f8; }\n",
       "body .c { color: #408080; font-style: italic } /* Comment */\n",
       "body .err { border: 1px solid #FF0000 } /* Error */\n",
       "body .k { color: #008000; font-weight: bold } /* Keyword */\n",
       "body .o { color: #666666 } /* Operator */\n",
       "body .ch { color: #408080; font-style: italic } /* Comment.Hashbang */\n",
       "body .cm { color: #408080; font-style: italic } /* Comment.Multiline */\n",
       "body .cp { color: #BC7A00 } /* Comment.Preproc */\n",
       "body .cpf { color: #408080; font-style: italic } /* Comment.PreprocFile */\n",
       "body .c1 { color: #408080; font-style: italic } /* Comment.Single */\n",
       "body .cs { color: #408080; font-style: italic } /* Comment.Special */\n",
       "body .gd { color: #A00000 } /* Generic.Deleted */\n",
       "body .ge { font-style: italic } /* Generic.Emph */\n",
       "body .gr { color: #FF0000 } /* Generic.Error */\n",
       "body .gh { color: #000080; font-weight: bold } /* Generic.Heading */\n",
       "body .gi { color: #00A000 } /* Generic.Inserted */\n",
       "body .go { color: #888888 } /* Generic.Output */\n",
       "body .gp { color: #000080; font-weight: bold } /* Generic.Prompt */\n",
       "body .gs { font-weight: bold } /* Generic.Strong */\n",
       "body .gu { color: #800080; font-weight: bold } /* Generic.Subheading */\n",
       "body .gt { color: #0044DD } /* Generic.Traceback */\n",
       "body .kc { color: #008000; font-weight: bold } /* Keyword.Constant */\n",
       "body .kd { color: #008000; font-weight: bold } /* Keyword.Declaration */\n",
       "body .kn { color: #008000; font-weight: bold } /* Keyword.Namespace */\n",
       "body .kp { color: #008000 } /* Keyword.Pseudo */\n",
       "body .kr { color: #008000; font-weight: bold } /* Keyword.Reserved */\n",
       "body .kt { color: #B00040 } /* Keyword.Type */\n",
       "body .m { color: #666666 } /* Literal.Number */\n",
       "body .s { color: #BA2121 } /* Literal.String */\n",
       "body .na { color: #7D9029 } /* Name.Attribute */\n",
       "body .nb { color: #008000 } /* Name.Builtin */\n",
       "body .nc { color: #0000FF; font-weight: bold } /* Name.Class */\n",
       "body .no { color: #880000 } /* Name.Constant */\n",
       "body .nd { color: #AA22FF } /* Name.Decorator */\n",
       "body .ni { color: #999999; font-weight: bold } /* Name.Entity */\n",
       "body .ne { color: #D2413A; font-weight: bold } /* Name.Exception */\n",
       "body .nf { color: #0000FF } /* Name.Function */\n",
       "body .nl { color: #A0A000 } /* Name.Label */\n",
       "body .nn { color: #0000FF; font-weight: bold } /* Name.Namespace */\n",
       "body .nt { color: #008000; font-weight: bold } /* Name.Tag */\n",
       "body .nv { color: #19177C } /* Name.Variable */\n",
       "body .ow { color: #AA22FF; font-weight: bold } /* Operator.Word */\n",
       "body .w { color: #bbbbbb } /* Text.Whitespace */\n",
       "body .mb { color: #666666 } /* Literal.Number.Bin */\n",
       "body .mf { color: #666666 } /* Literal.Number.Float */\n",
       "body .mh { color: #666666 } /* Literal.Number.Hex */\n",
       "body .mi { color: #666666 } /* Literal.Number.Integer */\n",
       "body .mo { color: #666666 } /* Literal.Number.Oct */\n",
       "body .sa { color: #BA2121 } /* Literal.String.Affix */\n",
       "body .sb { color: #BA2121 } /* Literal.String.Backtick */\n",
       "body .sc { color: #BA2121 } /* Literal.String.Char */\n",
       "body .dl { color: #BA2121 } /* Literal.String.Delimiter */\n",
       "body .sd { color: #BA2121; font-style: italic } /* Literal.String.Doc */\n",
       "body .s2 { color: #BA2121 } /* Literal.String.Double */\n",
       "body .se { color: #BB6622; font-weight: bold } /* Literal.String.Escape */\n",
       "body .sh { color: #BA2121 } /* Literal.String.Heredoc */\n",
       "body .si { color: #BB6688; font-weight: bold } /* Literal.String.Interpol */\n",
       "body .sx { color: #008000 } /* Literal.String.Other */\n",
       "body .sr { color: #BB6688 } /* Literal.String.Regex */\n",
       "body .s1 { color: #BA2121 } /* Literal.String.Single */\n",
       "body .ss { color: #19177C } /* Literal.String.Symbol */\n",
       "body .bp { color: #008000 } /* Name.Builtin.Pseudo */\n",
       "body .fm { color: #0000FF } /* Name.Function.Magic */\n",
       "body .vc { color: #19177C } /* Name.Variable.Class */\n",
       "body .vg { color: #19177C } /* Name.Variable.Global */\n",
       "body .vi { color: #19177C } /* Name.Variable.Instance */\n",
       "body .vm { color: #19177C } /* Name.Variable.Magic */\n",
       "body .il { color: #666666 } /* Literal.Number.Integer.Long */\n",
       "\n",
       "  </style>\n",
       "</head>\n",
       "<body>\n",
       "<h2></h2>\n",
       "\n",
       "<div class=\"highlight\"><pre><span></span><span class=\"k\">class</span> <span class=\"nc\">NQueensCSP</span><span class=\"p\">():</span>\n",
       "    <span class=\"sd\">&quot;&quot;&quot;Make a CSP for the nQueens problem for search with backtracking &quot;&quot;&quot;</span>\n",
       "\n",
       "    <span class=\"k\">def</span> <span class=\"fm\">__init__</span><span class=\"p\">(</span><span class=\"bp\">self</span><span class=\"p\">,</span> <span class=\"n\">n</span><span class=\"p\">):</span>\n",
       "        <span class=\"sd\">&quot;&quot;&quot;Initialize data structures for n Queens.&quot;&quot;&quot;</span>\n",
       "        <span class=\"c1\"># Indices of variables in the problem.</span>\n",
       "        <span class=\"bp\">self</span><span class=\"o\">.</span><span class=\"n\">vars</span> <span class=\"o\">=</span> <span class=\"nb\">list</span><span class=\"p\">(</span><span class=\"nb\">range</span><span class=\"p\">(</span><span class=\"n\">n</span><span class=\"p\">))</span>\n",
       "        <span class=\"c1\"># Initial domains of the variables.</span>\n",
       "        <span class=\"bp\">self</span><span class=\"o\">.</span><span class=\"n\">domains</span> <span class=\"o\">=</span> <span class=\"p\">{</span><span class=\"n\">var</span><span class=\"p\">:</span><span class=\"nb\">list</span><span class=\"p\">(</span><span class=\"nb\">range</span><span class=\"p\">(</span><span class=\"n\">n</span><span class=\"p\">))</span> <span class=\"k\">for</span> <span class=\"n\">var</span> <span class=\"ow\">in</span> <span class=\"bp\">self</span><span class=\"o\">.</span><span class=\"n\">vars</span><span class=\"p\">}</span>\n",
       "        <span class=\"c1\"># Current domains of the variables after pruning, only used for forward checking.</span>\n",
       "        <span class=\"bp\">self</span><span class=\"o\">.</span><span class=\"n\">curr_domains</span> <span class=\"o\">=</span> <span class=\"p\">{</span><span class=\"n\">var</span><span class=\"p\">:</span><span class=\"nb\">list</span><span class=\"p\">(</span><span class=\"nb\">range</span><span class=\"p\">(</span><span class=\"n\">n</span><span class=\"p\">))</span> <span class=\"k\">for</span> <span class=\"n\">var</span> <span class=\"ow\">in</span> <span class=\"bp\">self</span><span class=\"o\">.</span><span class=\"n\">vars</span><span class=\"p\">}</span>\n",
       "        <span class=\"c1\"># Pruned B=b pairs due to a given A=a assignment.</span>\n",
       "        <span class=\"c1\"># Used to restore domains if an assignment gets backtracked.</span>\n",
       "        <span class=\"c1\"># {A:[(B, b1), (B, b2), (C, c3)], B: [(C, c1)], ...}</span>\n",
       "        <span class=\"bp\">self</span><span class=\"o\">.</span><span class=\"n\">pruned</span> <span class=\"o\">=</span> <span class=\"p\">{</span><span class=\"n\">var</span><span class=\"p\">:[]</span> <span class=\"k\">for</span> <span class=\"n\">var</span> <span class=\"ow\">in</span> <span class=\"bp\">self</span><span class=\"o\">.</span><span class=\"n\">vars</span><span class=\"p\">}</span>\n",
       "        <span class=\"c1\"># Store constraints that a pair of variables should satisfy.</span>\n",
       "        <span class=\"bp\">self</span><span class=\"o\">.</span><span class=\"n\">constraints</span> <span class=\"o\">=</span> <span class=\"n\">queen_constraint</span>\n",
       "\n",
       "    <span class=\"k\">def</span> <span class=\"nf\">is_consistent</span><span class=\"p\">(</span><span class=\"bp\">self</span><span class=\"p\">,</span> <span class=\"n\">var</span><span class=\"p\">,</span> <span class=\"n\">val</span><span class=\"p\">,</span> <span class=\"n\">assignment</span><span class=\"p\">):</span>\n",
       "        <span class=\"sd\">&quot;&quot;&quot; Check if the attempted var = val assignment is consistent with current assignment &quot;&quot;&quot;</span>\n",
       "        <span class=\"c1\"># Add var = val in the list of assignments as a first attempt.</span>\n",
       "        <span class=\"c1\"># Slow because we are copying, but perfect for pedagogical purposes.</span>\n",
       "        <span class=\"n\">attempt_assignment</span> <span class=\"o\">=</span> <span class=\"p\">{</span><span class=\"n\">var</span><span class=\"p\">:</span> <span class=\"n\">val</span><span class=\"p\">}</span>\n",
       "        <span class=\"n\">attempt_assignment</span><span class=\"o\">.</span><span class=\"n\">update</span><span class=\"p\">(</span><span class=\"n\">assignment</span><span class=\"p\">)</span>\n",
       "        <span class=\"c1\"># Check for same column constraint is implicit in formulation.</span>\n",
       "        <span class=\"c1\"># Check for same row constraint:</span>\n",
       "        <span class=\"n\">c_row</span> <span class=\"o\">=</span> <span class=\"n\">all_different</span><span class=\"p\">(</span><span class=\"n\">attempt_assignment</span><span class=\"o\">.</span><span class=\"n\">values</span><span class=\"p\">())</span>\n",
       "        <span class=\"c1\"># Check for same diagonal constraint:</span>\n",
       "        <span class=\"n\">diag_1</span> <span class=\"o\">=</span> <span class=\"p\">[</span><span class=\"n\">key</span> <span class=\"o\">+</span> <span class=\"n\">value</span> <span class=\"k\">for</span> <span class=\"n\">key</span><span class=\"p\">,</span> <span class=\"n\">value</span> <span class=\"ow\">in</span> <span class=\"n\">attempt_assignment</span><span class=\"o\">.</span><span class=\"n\">items</span><span class=\"p\">()]</span>\n",
       "        <span class=\"n\">diag_2</span> <span class=\"o\">=</span> <span class=\"p\">[</span><span class=\"n\">key</span> <span class=\"o\">-</span> <span class=\"n\">value</span> <span class=\"k\">for</span> <span class=\"n\">key</span><span class=\"p\">,</span> <span class=\"n\">value</span> <span class=\"ow\">in</span> <span class=\"n\">attempt_assignment</span><span class=\"o\">.</span><span class=\"n\">items</span><span class=\"p\">()]</span>\n",
       "        <span class=\"n\">c_diag_1</span> <span class=\"o\">=</span> <span class=\"n\">all_different</span><span class=\"p\">(</span><span class=\"n\">diag_1</span><span class=\"p\">)</span>\n",
       "        <span class=\"n\">c_diag_2</span> <span class=\"o\">=</span> <span class=\"n\">all_different</span><span class=\"p\">(</span><span class=\"n\">diag_2</span><span class=\"p\">)</span>\n",
       "\n",
       "        <span class=\"k\">return</span> <span class=\"n\">c_row</span> <span class=\"ow\">and</span> <span class=\"n\">c_diag_1</span> <span class=\"ow\">and</span> <span class=\"n\">c_diag_2</span>\n",
       "\n",
       "    <span class=\"k\">def</span> <span class=\"nf\">assign</span><span class=\"p\">(</span><span class=\"bp\">self</span><span class=\"p\">,</span> <span class=\"n\">var</span><span class=\"p\">,</span> <span class=\"n\">val</span><span class=\"p\">,</span> <span class=\"n\">assignment</span><span class=\"p\">):</span>\n",
       "        <span class=\"sd\">&quot;&quot;&quot; Add {var: val} to assignment, discards the old value if any. &quot;&quot;&quot;</span>\n",
       "        <span class=\"n\">assignment</span><span class=\"p\">[</span><span class=\"n\">var</span><span class=\"p\">]</span> <span class=\"o\">=</span> <span class=\"n\">val</span>\n",
       "\n",
       "    <span class=\"k\">def</span> <span class=\"nf\">unassign</span><span class=\"p\">(</span><span class=\"bp\">self</span><span class=\"p\">,</span> <span class=\"n\">var</span><span class=\"p\">,</span> <span class=\"n\">assignment</span><span class=\"p\">):</span>\n",
       "        <span class=\"sd\">&quot;&quot;&quot; Remove {var: val} from assignment; that is backtrack. &quot;&quot;&quot;</span>\n",
       "        <span class=\"k\">if</span> <span class=\"n\">var</span> <span class=\"ow\">in</span> <span class=\"n\">assignment</span><span class=\"p\">:</span>\n",
       "            <span class=\"k\">del</span> <span class=\"n\">assignment</span><span class=\"p\">[</span><span class=\"n\">var</span><span class=\"p\">]</span>\n",
       "</pre></div>\n",
       "</body>\n",
       "</html>\n"
      ],
      "text/plain": [
       "<IPython.core.display.HTML object>"
      ]
     },
     "metadata": {},
     "output_type": "display_data"
    }
   ],
   "source": [
    "psource(NQueensCSP)"
   ]
  },
  {
   "cell_type": "markdown",
   "metadata": {},
   "source": []
  },
  {
   "cell_type": "code",
   "execution_count": null,
   "metadata": {},
   "outputs": [],
   "source": []
  },
  {
   "cell_type": "code",
   "execution_count": 59,
   "metadata": {},
   "outputs": [
    {
     "name": "stdout",
     "output_type": "stream",
     "text": [
      " Time taken to solve 8 Queens problem using Backtracking: 0.005856 seconds\n",
      "[[0 2 0 2 0 2 0 2]\n",
      " [2 0 2 0 2 0 2 0]\n",
      " [0 2 0 2 0 2 0 2]\n",
      " [2 0 2 0 2 0 2 0]\n",
      " [0 2 0 2 0 2 0 2]\n",
      " [2 0 2 0 2 0 2 0]\n",
      " [0 2 0 2 0 2 0 2]\n",
      " [2 0 2 0 2 0 2 0]]\n"
     ]
    },
    {
     "data": {
      "image/png": "[encoded data removed]",
      "text/plain": [
       "<Figure size 504x504 with 9 Axes>"
      ]
     },
     "metadata": {
      "needs_background": "light"
     },
     "output_type": "display_data"
    }
   ],
   "source": [
    "# Create NQueens problem.\n",
    "N = 8\n",
    "n_queens = NQueensCSP(N)\n",
    "\n",
    "# Solve the problem using Backtracking. Store timing.\n",
    "start_time = time.time()\n",
    "solution = backtracking_search(n_queens, fc=False)\n",
    "end_time = time.time()\n",
    "print(\" Time taken to solve %s Queens problem using Backtracking: %f seconds\"% (N, end_time - start_time))\n",
    "plot_NQueens(solution)\n"
   ]
  },
  {
   "cell_type": "markdown",
   "metadata": {},
   "source": [
    "<div class=\"alert alert-block alert-danger\">\n",
    "<b>TODO:</b> Implement algorithm in notebook and play with different implementations of the subfunctions. Show practical examples for Sudoku example\n",
    "</div>"
   ]
  },
  {
   "cell_type": "markdown",
   "metadata": {},
   "source": [
    "### <a name=\"backtracking_w_fc\"></a> c. Backtracking with Forward Checking\n",
    "\n",
    "By modifying the call to the function _Inference_ in the backtracking algorithm presented [above](#backtracking_algorithm), we can interleave search with inference to reduce the domain of yet unassigned variables, thereby reducing the search space. \n",
    "\n",
    "A simple form of inference is **forward checking**, which consists in establishing arc-consistency for the recently assigned variable with respect to all connected, yet unassigned, variables."
   ]
  },
  {
   "cell_type": "markdown",
   "metadata": {},
   "source": [
    "#### Complexity\n",
    "Question: Full propagation is O(ek3),\n",
    "How much propagation should we do?\n",
    "Very little (except for big problems).\n",
    "Forward Checking (FC):\n",
    "Check arc consistency ONLY for\n",
    "10/29/2018\n",
    "22\n",
    "arcs that terminate on the new assignment. 16.410-13\n",
    "[O(ek) total]"
   ]
  },
  {
   "cell_type": "markdown",
   "metadata": {},
   "source": [
    "#### Example: NQueens"
   ]
  },
  {
   "cell_type": "markdown",
   "metadata": {},
   "source": [
    "Checking arc-consistency for the NQueens problem is simple, as we just need to define a function \n",
    "The constraint that needs to be passed to the CSP is defined in the **queen_constraint** function. \n",
    "The constraint is satisfied (true) if A, B are really the same variable, or if they are not in the same row (equivalent to having the same value), down diagonal, or up diagonal."
   ]
  },
  {
   "cell_type": "code",
   "execution_count": 136,
   "metadata": {},
   "outputs": [
    {
     "name": "stdout",
     "output_type": "stream",
     "text": [
      "{0: 0, 1: 4, 2: 7, 3: 5, 4: 2, 5: 6, 6: 1, 7: 3}\n",
      "0.0017840862274169922\n",
      "[[0 2 0 2 0 2 0 2]\n",
      " [2 0 2 0 2 0 2 0]\n",
      " [0 2 0 2 0 2 0 2]\n",
      " [2 0 2 0 2 0 2 0]\n",
      " [0 2 0 2 0 2 0 2]\n",
      " [2 0 2 0 2 0 2 0]\n",
      " [0 2 0 2 0 2 0 2]\n",
      " [2 0 2 0 2 0 2 0]]\n",
      "Scale is:  87.5\n",
      "Old height was:  300\n",
      "New height is:  26250\n"
     ]
    },
    {
     "ename": "TypeError",
     "evalue": "add_artist() got an unexpected keyword argument 'zorder'",
     "output_type": "error",
     "traceback": [
      "\u001b[0;31m----------------------------------------------------------\u001b[0m",
      "\u001b[0;31mTypeError\u001b[0m                Traceback (most recent call last)",
      "\u001b[0;32m<ipython-input-136-2ac793937372>\u001b[0m in \u001b[0;36m<module>\u001b[0;34m\u001b[0m\n\u001b[1;32m      9\u001b[0m \u001b[0mprint\u001b[0m\u001b[0;34m(\u001b[0m\u001b[0msolution\u001b[0m\u001b[0;34m)\u001b[0m\u001b[0;34m\u001b[0m\u001b[0m\n\u001b[1;32m     10\u001b[0m \u001b[0mprint\u001b[0m\u001b[0;34m(\u001b[0m\u001b[0mend_time\u001b[0m \u001b[0;34m-\u001b[0m \u001b[0mstart_time\u001b[0m\u001b[0;34m)\u001b[0m\u001b[0;34m\u001b[0m\u001b[0m\n\u001b[0;32m---> 11\u001b[0;31m \u001b[0mplot_NQueens\u001b[0m\u001b[0;34m(\u001b[0m\u001b[0msolution\u001b[0m\u001b[0;34m)\u001b[0m\u001b[0;34m\u001b[0m\u001b[0m\n\u001b[0m",
      "\u001b[0;32m~/Google Drive/PhD MIT/Courses/16.413 Principles of Autonomy and Decision Making/Project/Constraint-Satisfaction-Notebook/lib/notebook.py\u001b[0m in \u001b[0;36mplot_NQueens\u001b[0;34m(solution)\u001b[0m\n\u001b[1;32m    939\u001b[0m                                 arrowprops=dict(arrowstyle=\"->\"))\n\u001b[1;32m    940\u001b[0m \u001b[0;34m\u001b[0m\u001b[0m\n\u001b[0;32m--> 941\u001b[0;31m             \u001b[0max\u001b[0m\u001b[0;34m.\u001b[0m\u001b[0madd_artist\u001b[0m\u001b[0;34m(\u001b[0m\u001b[0mab\u001b[0m\u001b[0;34m,\u001b[0m \u001b[0mzorder\u001b[0m\u001b[0;34m=\u001b[0m\u001b[0;36m1\u001b[0m\u001b[0;34m)\u001b[0m\u001b[0;34m\u001b[0m\u001b[0m\n\u001b[0m\u001b[1;32m    942\u001b[0m     \u001b[0;31m# NQueensProblem gives a solution as a list\u001b[0m\u001b[0;34m\u001b[0m\u001b[0;34m\u001b[0m\u001b[0m\n\u001b[1;32m    943\u001b[0m     \u001b[0;32melif\u001b[0m \u001b[0misinstance\u001b[0m\u001b[0;34m(\u001b[0m\u001b[0msolution\u001b[0m\u001b[0;34m,\u001b[0m \u001b[0mlist\u001b[0m\u001b[0;34m)\u001b[0m\u001b[0;34m:\u001b[0m\u001b[0;34m\u001b[0m\u001b[0m\n",
      "\u001b[0;31mTypeError\u001b[0m: add_artist() got an unexpected keyword argument 'zorder'"
     ]
    },
    {
     "data": {
      "image/png": "[encoded data removed]",
      "text/plain": [
       "<Figure size 700x700 with 1 Axes>"
      ]
     },
     "metadata": {
      "needs_background": "light"
     },
     "output_type": "display_data"
    }
   ],
   "source": [
    "# Create NQueens problem.\n",
    "N = 8\n",
    "n_queens = NQueensCSP(N)\n",
    "\n",
    "# Solve the problem using Backtracking with Forward Checking (fc flag set to True). Store timing.\n",
    "start_time = time.time()\n",
    "solution = backtracking_search(n_queens, fc=True)\n",
    "end_time = time.time()\n",
    "print(solution)\n",
    "print(end_time - start_time)\n",
    "plot_NQueens(solution)"
   ]
  },
  {
   "cell_type": "markdown",
   "metadata": {},
   "source": [
    "The constraint that needs to be passed to the CSP is defined in the **queen_constraint** function. \n",
    " The constraint is satisfied (true) if A, B are really the same variable, or if they are not in the same row (equivalent to having the same value), down diagonal, or up diagonal."
   ]
  },
  {
   "cell_type": "code",
   "execution_count": 50,
   "metadata": {},
   "outputs": [
    {
     "data": {
      "text/html": [
       "<!DOCTYPE html PUBLIC \"-//W3C//DTD HTML 4.01//EN\"\n",
       "   \"http://www.w3.org/TR/html4/strict.dtd\">\n",
       "\n",
       "<html>\n",
       "<head>\n",
       "  <title></title>\n",
       "  <meta http-equiv=\"content-type\" content=\"text/html; charset=None\">\n",
       "  <style type=\"text/css\">\n",
       "td.linenos { background-color: #f0f0f0; padding-right: 10px; }\n",
       "span.lineno { background-color: #f0f0f0; padding: 0 5px 0 5px; }\n",
       "pre { line-height: 125%; }\n",
       "body .hll { background-color: #ffffcc }\n",
       "body  { background: #f8f8f8; }\n",
       "body .c { color: #408080; font-style: italic } /* Comment */\n",
       "body .err { border: 1px solid #FF0000 } /* Error */\n",
       "body .k { color: #008000; font-weight: bold } /* Keyword */\n",
       "body .o { color: #666666 } /* Operator */\n",
       "body .ch { color: #408080; font-style: italic } /* Comment.Hashbang */\n",
       "body .cm { color: #408080; font-style: italic } /* Comment.Multiline */\n",
       "body .cp { color: #BC7A00 } /* Comment.Preproc */\n",
       "body .cpf { color: #408080; font-style: italic } /* Comment.PreprocFile */\n",
       "body .c1 { color: #408080; font-style: italic } /* Comment.Single */\n",
       "body .cs { color: #408080; font-style: italic } /* Comment.Special */\n",
       "body .gd { color: #A00000 } /* Generic.Deleted */\n",
       "body .ge { font-style: italic } /* Generic.Emph */\n",
       "body .gr { color: #FF0000 } /* Generic.Error */\n",
       "body .gh { color: #000080; font-weight: bold } /* Generic.Heading */\n",
       "body .gi { color: #00A000 } /* Generic.Inserted */\n",
       "body .go { color: #888888 } /* Generic.Output */\n",
       "body .gp { color: #000080; font-weight: bold } /* Generic.Prompt */\n",
       "body .gs { font-weight: bold } /* Generic.Strong */\n",
       "body .gu { color: #800080; font-weight: bold } /* Generic.Subheading */\n",
       "body .gt { color: #0044DD } /* Generic.Traceback */\n",
       "body .kc { color: #008000; font-weight: bold } /* Keyword.Constant */\n",
       "body .kd { color: #008000; font-weight: bold } /* Keyword.Declaration */\n",
       "body .kn { color: #008000; font-weight: bold } /* Keyword.Namespace */\n",
       "body .kp { color: #008000 } /* Keyword.Pseudo */\n",
       "body .kr { color: #008000; font-weight: bold } /* Keyword.Reserved */\n",
       "body .kt { color: #B00040 } /* Keyword.Type */\n",
       "body .m { color: #666666 } /* Literal.Number */\n",
       "body .s { color: #BA2121 } /* Literal.String */\n",
       "body .na { color: #7D9029 } /* Name.Attribute */\n",
       "body .nb { color: #008000 } /* Name.Builtin */\n",
       "body .nc { color: #0000FF; font-weight: bold } /* Name.Class */\n",
       "body .no { color: #880000 } /* Name.Constant */\n",
       "body .nd { color: #AA22FF } /* Name.Decorator */\n",
       "body .ni { color: #999999; font-weight: bold } /* Name.Entity */\n",
       "body .ne { color: #D2413A; font-weight: bold } /* Name.Exception */\n",
       "body .nf { color: #0000FF } /* Name.Function */\n",
       "body .nl { color: #A0A000 } /* Name.Label */\n",
       "body .nn { color: #0000FF; font-weight: bold } /* Name.Namespace */\n",
       "body .nt { color: #008000; font-weight: bold } /* Name.Tag */\n",
       "body .nv { color: #19177C } /* Name.Variable */\n",
       "body .ow { color: #AA22FF; font-weight: bold } /* Operator.Word */\n",
       "body .w { color: #bbbbbb } /* Text.Whitespace */\n",
       "body .mb { color: #666666 } /* Literal.Number.Bin */\n",
       "body .mf { color: #666666 } /* Literal.Number.Float */\n",
       "body .mh { color: #666666 } /* Literal.Number.Hex */\n",
       "body .mi { color: #666666 } /* Literal.Number.Integer */\n",
       "body .mo { color: #666666 } /* Literal.Number.Oct */\n",
       "body .sa { color: #BA2121 } /* Literal.String.Affix */\n",
       "body .sb { color: #BA2121 } /* Literal.String.Backtick */\n",
       "body .sc { color: #BA2121 } /* Literal.String.Char */\n",
       "body .dl { color: #BA2121 } /* Literal.String.Delimiter */\n",
       "body .sd { color: #BA2121; font-style: italic } /* Literal.String.Doc */\n",
       "body .s2 { color: #BA2121 } /* Literal.String.Double */\n",
       "body .se { color: #BB6622; font-weight: bold } /* Literal.String.Escape */\n",
       "body .sh { color: #BA2121 } /* Literal.String.Heredoc */\n",
       "body .si { color: #BB6688; font-weight: bold } /* Literal.String.Interpol */\n",
       "body .sx { color: #008000 } /* Literal.String.Other */\n",
       "body .sr { color: #BB6688 } /* Literal.String.Regex */\n",
       "body .s1 { color: #BA2121 } /* Literal.String.Single */\n",
       "body .ss { color: #19177C } /* Literal.String.Symbol */\n",
       "body .bp { color: #008000 } /* Name.Builtin.Pseudo */\n",
       "body .fm { color: #0000FF } /* Name.Function.Magic */\n",
       "body .vc { color: #19177C } /* Name.Variable.Class */\n",
       "body .vg { color: #19177C } /* Name.Variable.Global */\n",
       "body .vi { color: #19177C } /* Name.Variable.Instance */\n",
       "body .vm { color: #19177C } /* Name.Variable.Magic */\n",
       "body .il { color: #666666 } /* Literal.Number.Integer.Long */\n",
       "\n",
       "  </style>\n",
       "</head>\n",
       "<body>\n",
       "<h2></h2>\n",
       "\n",
       "<div class=\"highlight\"><pre><span></span><span class=\"k\">def</span> <span class=\"nf\">queen_constraint</span><span class=\"p\">(</span><span class=\"n\">A</span><span class=\"p\">,</span> <span class=\"n\">a</span><span class=\"p\">,</span> <span class=\"n\">B</span><span class=\"p\">,</span> <span class=\"n\">b</span><span class=\"p\">):</span>\n",
       "    <span class=\"sd\">&quot;&quot;&quot;Constraint is satisfied (true) if A, B are really the same variable,</span>\n",
       "<span class=\"sd\">    or if they are not in the same row, down diagonal, or up diagonal.&quot;&quot;&quot;</span>\n",
       "    <span class=\"k\">return</span> <span class=\"n\">A</span> <span class=\"o\">==</span> <span class=\"n\">B</span> <span class=\"ow\">or</span> <span class=\"p\">(</span><span class=\"n\">a</span> <span class=\"o\">!=</span> <span class=\"n\">b</span> <span class=\"ow\">and</span> <span class=\"n\">A</span> <span class=\"o\">+</span> <span class=\"n\">a</span> <span class=\"o\">!=</span> <span class=\"n\">B</span> <span class=\"o\">+</span> <span class=\"n\">b</span> <span class=\"ow\">and</span> <span class=\"n\">A</span> <span class=\"o\">-</span> <span class=\"n\">a</span> <span class=\"o\">!=</span> <span class=\"n\">B</span> <span class=\"o\">-</span> <span class=\"n\">b</span><span class=\"p\">)</span>\n",
       "</pre></div>\n",
       "</body>\n",
       "</html>\n"
      ],
      "text/plain": [
       "<IPython.core.display.HTML object>"
      ]
     },
     "metadata": {},
     "output_type": "display_data"
    }
   ],
   "source": [
    "psource(queen_constraint)"
   ]
  },
  {
   "cell_type": "code",
   "execution_count": 127,
   "metadata": {},
   "outputs": [
    {
     "data": {
      "image/png": "[encoded data removed]",
      "text/plain": [
       "<Figure size 432x288 with 1 Axes>"
      ]
     },
     "metadata": {
      "needs_background": "light"
     },
     "output_type": "display_data"
    }
   ],
   "source": [
    "import matplotlib.pyplot as plt\n",
    "import numpy as np\n",
    "\n",
    "from matplotlib.patches import Circle\n",
    "from matplotlib.offsetbox import (TextArea, DrawingArea, OffsetImage,\n",
    "                                  AnnotationBbox)\n",
    "from matplotlib.cbook import get_sample_data\n",
    "\n",
    "\n",
    "if 1:\n",
    "    fig, ax = plt.subplots()\n",
    "\n",
    "    # Define a 1st position to annotate (display it with a marker)\n",
    "    xy = (0.5, 0.7)\n",
    "    ax.plot(xy[0], xy[1], \".r\")\n",
    "\n",
    "    # Annotate the 1st position with a text box ('Test 1')\n",
    "    offsetbox = TextArea(\"Test 1\", minimumdescent=False)\n",
    "\n",
    "    ab = AnnotationBbox(offsetbox, xy,\n",
    "                        xybox=(-20, 40),\n",
    "                        xycoords='data',\n",
    "                        boxcoords=\"offset points\",\n",
    "                        arrowprops=dict(arrowstyle=\"->\"))\n",
    "    ax.add_artist(ab)\n",
    "\n",
    "    # Annotate the 1st position with another text box ('Test')\n",
    "    offsetbox = TextArea(\"Test\", minimumdescent=False)\n",
    "\n",
    "    ab = AnnotationBbox(offsetbox, xy,\n",
    "                        xybox=(1.02, xy[1]),\n",
    "                        xycoords='data',\n",
    "                        boxcoords=(\"axes fraction\", \"data\"),\n",
    "                        box_alignment=(0., 0.5),\n",
    "                        arrowprops=dict(arrowstyle=\"->\"))\n",
    "    ax.add_artist(ab)\n",
    "\n",
    "    # Define a 2nd position to annotate (don't display with a marker this time)\n",
    "    xy = [0.3, 0.55]\n",
    "\n",
    "    # Annotate the 2nd position with a circle patch\n",
    "    da = DrawingArea(20, 20, 0, 0)\n",
    "    p = Circle((10, 10), 10)\n",
    "    da.add_artist(p)\n",
    "\n",
    "    ab = AnnotationBbox(da, xy,\n",
    "                        xybox=(1.02, xy[1]),\n",
    "                        xycoords='data',\n",
    "                        boxcoords=(\"axes fraction\", \"data\"),\n",
    "                        box_alignment=(0., 0.5),\n",
    "                        arrowprops=dict(arrowstyle=\"->\"))\n",
    "\n",
    "    ax.add_artist(ab)\n",
    "\n",
    "    # Annotate the 2nd position with an image (a generated array of pixels)\n",
    "    arr = np.arange(100).reshape((10, 10))\n",
    "    im = OffsetImage(arr, zoom=2)\n",
    "    im.image.axes = ax\n",
    "    xy = [0.0, 0.0]\n",
    "    ab = AnnotationBbox(im, xy,\n",
    "                        xybox=(0, 0),\n",
    "                        xycoords='data',\n",
    "                        boxcoords=\"offset points\",\n",
    "                        pad=0.3,\n",
    "                        arrowprops=dict(arrowstyle=\"->\"))\n",
    "\n",
    "    ax.add_artist(ab)\n",
    "\n",
    "    # Annotate the 2nd position with another image (a Grace Hopper portrait)\n",
    "    fn = get_sample_data(\"grace_hopper.png\", asfileobj=False)\n",
    "    arr_img = plt.imread(fn, format='png')\n",
    "\n",
    "    imagebox = OffsetImage(arr_img, zoom=0.2)\n",
    "    imagebox.image.axes = ax\n",
    "\n",
    "    ab = AnnotationBbox(imagebox, xy,\n",
    "                        xybox=(80., -80.),\n",
    "                        xycoords='data',\n",
    "                        boxcoords=\"offset points\",\n",
    "                        pad=0.5,\n",
    "                        arrowprops=dict(\n",
    "                            arrowstyle=\"->\",\n",
    "                            connectionstyle=\"angle,angleA=0,angleB=90,rad=3\")\n",
    "                        )\n",
    "\n",
    "    ax.add_artist(ab)\n",
    "\n",
    "    # Fix the display limits to see everything\n",
    "    ax.set_xlim(0, 1)\n",
    "    ax.set_ylim(0, 1)\n",
    "\n",
    "    plt.show()"
   ]
  },
  {
   "cell_type": "markdown",
   "metadata": {},
   "source": [
    "<div class=\"alert alert-block alert-danger\">\n",
    "<b>TODO:</b> Add at this point an example of forward-checking in sudoku problems\n",
    "</div>"
   ]
  },
  {
   "cell_type": "markdown",
   "metadata": {},
   "source": [
    "### <a name=\"backtracking_w_mac\"></a>d. Backtracking while Maintaining Arc Consistency (BT-MAC)\n",
    "\n",
    "#### Definition\n",
    "<div class=\"alert alert-block alert-danger\">\n",
    "<b>TODO:</b> Definition\n",
    "</div>"
   ]
  },
  {
   "cell_type": "markdown",
   "metadata": {},
   "source": [
    "#### Complexity\n",
    "<div class=\"alert alert-block alert-danger\">\n",
    "<b>TODO:</b> Complexity\n",
    "</div>"
   ]
  },
  {
   "cell_type": "markdown",
   "metadata": {},
   "source": [
    "#### Example: solving NQueens (X Queens)\n",
    "<div class=\"alert alert-block alert-danger\">\n",
    "<b>TODO:</b> Example: solving NQueens (X Queens)\n",
    "</div>\n",
    "<div class=\"alert alert-block alert-danger\">\n",
    "<b>TODO:</b> What is the actual number for X above, aka how many Queens can we solve with MAC?\n",
    "</div>"
   ]
  },
  {
   "cell_type": "markdown",
   "metadata": {},
   "source": [
    " ## Dynamic Variable Ordering\n",
    " \n",
    "The function Select-Unassigned-Variable in algorithm 4 could be trivially set to pick the next unassigned variable in order, or alternatively pick a random variable each time. Nevertheless, these strategies rarely result in an efficient search. <font color='red'> TODO: Code an example where this is the case.</font> The Most Constrained Variable (MCV) heuristic. It consists in taking as next variable the one having the smallest domain. It is therefore also known as the minimum-remaining-values heuristic, or the fail-first heuristic. The advantage of using MCV is clear when we have a variable that has no legal values left, in this case, the MRV will select this variable first and failure will be detected immediately, which avoids further searches through other variables.\n",
    "\n",
    "The MCV heuristic usually performs better than random or static ordering, sometimes by a factor\n",
    "of 1000 or more, although the results vary widely depending on the problem. <font color='red'> TODO: Can we\n",
    "show this using the Sudoku implementation? </font> We can also modify the function Order-Domain-Values in algorithm 4 to reach a solution faster. The Least Constraining Value (LCV) heuristic consists in taking as next value for the variable in hand the one that reduces by the least amount the domains of the neighbor variables. <font color='red'> TODO: Give Sudoku example or map coloring. </font> The heuristic is therefore just trying to leave the maximum flexibility for subsequent variable assignments. Note that if our objective is to list all possible solutions, this heuristic does not bring any advantage."
   ]
  },
  {
   "cell_type": "markdown",
   "metadata": {},
   "source": [
    "## Bucket Elimination\n",
    "\n",
    "The idea of join and project used to eliminate variables when solving system of linear equation can be extended to constraints. This is made possible by bucket elimination. \n",
    "\n",
    "$\\textbf{Join operation}$ for constraints is shown below:\n",
    "<img src=\"pic_1.png\">\n",
    "\n",
    "$\\textbf{Project operation}:$ C2 = $\\pi_{2}C_{21}$\n",
    "<img src=\"pic_2.png\">\n",
    "\n",
    "Important ideas behind bucket elimination are as follows:\n",
    "\n",
    "* Eliminate: Derive all consequences that depend on each Vi\n",
    "    by joining all constraints involving Vi\n",
    "\n",
    "* Solve: Encode all solutions to constraints $\\phi$,\n",
    "    by systematically eliminating all variables.\n",
    "\n",
    "* Generate: all solutions without backtrack search, by propagating."
   ]
  },
  {
   "cell_type": "code",
   "execution_count": 7,
   "metadata": {
    "scrolled": true
   },
   "outputs": [],
   "source": [
    "# DELETE once we finish this notebook\n",
    "%load_ext autoreload\n",
    "%autoreload 2"
   ]
  },
  {
   "cell_type": "markdown",
   "metadata": {},
   "source": []
  },
  {
   "cell_type": "code",
   "execution_count": null,
   "metadata": {},
   "outputs": [],
   "source": []
  },
  {
   "cell_type": "code",
   "execution_count": null,
   "metadata": {},
   "outputs": [],
   "source": []
  },
  {
   "cell_type": "code",
   "execution_count": null,
   "metadata": {},
   "outputs": [],
   "source": []
  },
  {
   "cell_type": "code",
   "execution_count": 8,
   "metadata": {},
   "outputs": [
    {
     "name": "stdout",
     "output_type": "stream",
     "text": [
      "{0: 0, 1: 4, 2: 7, 3: 5, 4: 2, 5: 6, 6: 1, 7: 3}\n",
      "0.005754947662353516\n",
      "Q - . - . - . -     \n",
      "- . - . - . Q .     \n",
      ". - . - Q - . -     \n",
      "- . - . - . - Q     \n",
      ". Q . - . - . -     \n",
      "- . - Q - . - .     \n",
      ". - . - . Q . -     \n",
      "- . Q . - . - .     \n",
      "{0: 0, 1: 4, 2: 7, 3: 5, 4: 2, 5: 6, 6: 1, 7: 3}\n",
      "0.0017790794372558594\n",
      "Q - . - . - . -     \n",
      "- . - . - . Q .     \n",
      ". - . - Q - . -     \n",
      "- . - . - . - Q     \n",
      ". Q . - . - . -     \n",
      "- . - Q - . - .     \n",
      ". - . - . Q . -     \n",
      "- . Q . - . - .     \n"
     ]
    },
    {
     "data": {
      "image/png": "[encoded data removed]",
      "text/plain": [
       "<Figure size 504x504 with 9 Axes>"
      ]
     },
     "metadata": {
      "needs_background": "light"
     },
     "output_type": "display_data"
    }
   ],
   "source": [
    "# Solve n queens.\n",
    "n_queens = NQueensCSP(8)\n",
    "\n",
    "# Backtracking\n",
    "start_time = time.time()\n",
    "solution = backtracking_search(n_queens, fc=False)\n",
    "end_time = time.time()\n",
    "print(solution)\n",
    "print(end_time - start_time)\n",
    "n_queens.display(solution)\n",
    "\n",
    "# Backtracking with forward checking\n",
    "start_time = time.time()\n",
    "solution = backtracking_search(n_queens, fc=True)\n",
    "end_time = time.time()\n",
    "print(solution)\n",
    "print(end_time - start_time)\n",
    "n_queens.display(solution)\n",
    "\n",
    "plot_NQueens(solution)\n"
   ]
  },
  {
   "cell_type": "markdown",
   "metadata": {},
   "source": [
    "### Helper Functions\n",
    "\n",
    "We will now implement a few helper functions that will allow us to visualize the Coloring Problem; we'll also make a few modifications to the existing classes and functions for additional record keeping. To begin, we modify the **assign** and **unassign** methods in the **CSP** in order to add a copy of the assignment to the **assignment_history**. We name this new class as **InstruCSP**; it will allow us to see how the assignment evolves over time. "
   ]
  },
  {
   "cell_type": "code",
   "execution_count": 9,
   "metadata": {},
   "outputs": [],
   "source": [
    "import copy\n",
    "class InstruCSP(NQueensCSP):\n",
    "    \n",
    "    def __init__(self, N):\n",
    "        super().__init__(N)\n",
    "        self.assignment_history = []\n",
    "        \n",
    "    def assign(self, var, val, assignment):\n",
    "        super().assign(var, val, assignment)\n",
    "        self.assignment_history.append(copy.deepcopy(assignment))\n",
    "    \n",
    "    def unassign(self, var, assignment):\n",
    "        super().unassign(var,assignment)\n",
    "        self.assignment_history.append(copy.deepcopy(assignment))"
   ]
  },
  {
   "cell_type": "markdown",
   "metadata": {},
   "source": [
    "Next, we define **make_instru** which takes an instance of **CSP** and returns an instance of **InstruCSP**."
   ]
  },
  {
   "cell_type": "code",
   "execution_count": 10,
   "metadata": {},
   "outputs": [],
   "source": [
    "def make_instru(csp):\n",
    "    return InstruCSP(len(csp.vars))"
   ]
  },
  {
   "cell_type": "markdown",
   "metadata": {},
   "source": [
    "## N-QUEENS VISUALIZATION\n",
    "\n",
    "Just like the Graph Coloring Problem, we will start with defining a few helper functions to help us visualize the assignments as they evolve over time. The **make_plot_board_step_function** behaves similar to the **make_update_step_function** introduced earlier. It initializes a chess board in the form of a 2D grid with alternating 0s and 1s. This is used by **plot_board_step** function which draws the board using matplotlib and adds queens to it. This function also calls the **label_queen_conflicts** which modifies the grid placing a 3 in any position where there is a conflict."
   ]
  },
  {
   "cell_type": "code",
   "execution_count": 11,
   "metadata": {},
   "outputs": [],
   "source": [
    "%matplotlib inline\n",
    "import networkx as nx\n",
    "import matplotlib.pyplot as plt\n",
    "import matplotlib\n",
    "import time\n",
    "import ipywidgets as widgets\n",
    "from IPython.display import display"
   ]
  },
  {
   "cell_type": "code",
   "execution_count": 12,
   "metadata": {},
   "outputs": [],
   "source": [
    "def label_queen_conflicts(assignment,grid):\n",
    "    ''' Mark grid with queens that are under conflict. '''\n",
    "    for col, row in assignment.items(): # check each queen for conflict\n",
    "        conflicts = {temp_col: temp_row for temp_col,temp_row in assignment.items() if (temp_row == row and temp_col != col or (temp_row+temp_col == row+col and temp_col != col) or (temp_row-temp_col == row-col and temp_col != col))}\n",
    "        \n",
    "        # Place a 3 in positions where this is a conflict\n",
    "        for col, row in conflicts.items():\n",
    "                grid[col][row] = 3\n",
    "\n",
    "    return grid\n",
    "\n",
    "def make_plot_board_step_function(instru_csp):\n",
    "    '''ipywidgets interactive function supports\n",
    "       single parameter as input. This function\n",
    "       creates and return such a function by taking\n",
    "       in input other parameters.\n",
    "    '''\n",
    "    n = len(instru_csp.vars) \n",
    "    \n",
    "    def plot_board_step(iteration):\n",
    "        ''' Add Queens to the Board.'''\n",
    "        data = instru_csp.assignment_history[iteration]\n",
    "        \n",
    "        grid = [[(col+row+1)%2 for col in range(n)] for row in range(n)]\n",
    "        grid = label_queen_conflicts(data, grid) # Update grid with conflict labels.\n",
    "        \n",
    "        # color map of fixed colors\n",
    "        cmap = matplotlib.colors.ListedColormap(['white','lightsteelblue','red'])\n",
    "        bounds=[0,1,2,3] # 0 for white 1 for black 2 onwards for conflict labels (red).\n",
    "        norm = matplotlib.colors.BoundaryNorm(bounds, cmap.N)\n",
    "        \n",
    "        fig = plt.imshow(grid, interpolation='nearest', cmap = cmap,norm=norm)\n",
    "\n",
    "        plt.axis('off')\n",
    "        fig.axes.get_xaxis().set_visible(False)\n",
    "        fig.axes.get_yaxis().set_visible(False)\n",
    "\n",
    "        # Place the Queens Unicode Symbol\n",
    "        for col, row in data.items():\n",
    "            fig.axes.text(row, col, u\"\\u265B\", va='center', ha='center', family='Dejavu Sans', fontsize=32)\n",
    "        plt.show()\n",
    "    \n",
    "    return plot_board_step\n",
    "\n",
    "def make_visualize(slider):\n",
    "    ''' Takes an input a slider and returns \n",
    "        callback function for timer and animation\n",
    "    '''\n",
    "    \n",
    "    def visualize_callback(Visualize, time_step):\n",
    "        if Visualize is True:\n",
    "            for i in range(slider.min, slider.max + 1):\n",
    "                slider.value = i\n",
    "                time.sleep(float(time_step))\n",
    "    \n",
    "    return visualize_callback\n",
    "    "
   ]
  },
  {
   "cell_type": "code",
   "execution_count": 13,
   "metadata": {},
   "outputs": [],
   "source": [
    "twelve_queens_csp = NQueensCSP(12)\n",
    "backtracking_instru_queen = make_instru(twelve_queens_csp)\n",
    "result = backtracking_search(backtracking_instru_queen)"
   ]
  },
  {
   "cell_type": "code",
   "execution_count": 14,
   "metadata": {},
   "outputs": [],
   "source": [
    "backtrack_queen_step = make_plot_board_step_function(backtracking_instru_queen) # Step Function for Widgets"
   ]
  },
  {
   "cell_type": "code",
   "execution_count": 15,
   "metadata": {},
   "outputs": [
    {
     "data": {
      "application/vnd.jupyter.widget-view+json": {
       "model_id": "9788312194374b63bca981f8b23f37db",
       "version_major": 2,
       "version_minor": 0
      },
      "text/plain": [
       "interactive(children=(IntSlider(value=0, description='iteration', max=3314), Output()), _dom_classes=('widget-…"
      ]
     },
     "metadata": {},
     "output_type": "display_data"
    },
    {
     "data": {
      "application/vnd.jupyter.widget-view+json": {
       "model_id": "7026a9fb8bb94552bd4223298acc9f49",
       "version_major": 2,
       "version_minor": 0
      },
      "text/plain": [
       "interactive(children=(ToggleButton(value=False, description='Visualize'), ToggleButtons(description='Extra Del…"
      ]
     },
     "metadata": {},
     "output_type": "display_data"
    }
   ],
   "source": [
    "matplotlib.rcParams['figure.figsize'] = (8.0, 8.0)\n",
    "matplotlib.rcParams['font.family'].append(u'Dejavu Sans')\n",
    "\n",
    "iteration_slider = widgets.IntSlider(min=0, max=len(backtracking_instru_queen.assignment_history)-1, step=1, value=0)\n",
    "w=widgets.interactive(backtrack_queen_step,iteration=iteration_slider)\n",
    "display(w)\n",
    "\n",
    "visualize_callback = make_visualize(iteration_slider)\n",
    "\n",
    "visualize_button = widgets.ToggleButton(description = \"Visualize\", value = False)\n",
    "time_select = widgets.ToggleButtons(description='Extra Delay:', options=['0', '0.1', '0.2', '0.5', '0.7', '1.0'])\n",
    "\n",
    "a = widgets.interactive(visualize_callback, Visualize = visualize_button, time_step = time_select)\n",
    "display(a)\n",
    "\n"
   ]
  },
  {
   "cell_type": "code",
   "execution_count": null,
   "metadata": {},
   "outputs": [],
   "source": []
  }
 ],
 "metadata": {
  "kernelspec": {
   "display_name": "Python 3",
   "language": "python",
   "name": "python3"
  },
  "language_info": {
   "codemirror_mode": {
    "name": "ipython",
    "version": 3
   },
   "file_extension": ".py",
   "mimetype": "text/x-python",
   "name": "python",
   "nbconvert_exporter": "python",
   "pygments_lexer": "ipython3",
   "version": "3.7.0"
  }
 },
 "nbformat": 4,
 "nbformat_minor": 2
}
