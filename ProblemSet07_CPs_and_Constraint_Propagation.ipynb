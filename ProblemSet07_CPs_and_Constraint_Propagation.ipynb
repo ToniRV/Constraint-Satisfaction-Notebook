{
 "cells": [
  {
   "cell_type": "markdown",
   "metadata": {},
   "source": [
    "# Problem Set 07: CPs and Constraint Propagation\n",
    "\n",
    "In this problem set you will practice constraint programs (CPs) and implement constraint propagation.\n",
    "\n",
    "0. [Credit for Contributors (required)](#contributors)\n",
    "\n",
    "1. [Modeling for Constraint Programming (50 points)](#problem1)\n",
    "    1. [Chair-centric approach (25 points)](#part_1a)\n",
    "    2. [People-centric approach (25 points)](#part_1b)\n",
    "      \n",
    "2. [Constraint Propagation (50 points)](#problem2)\n",
    "    1. [Achieving arc consistency (30 points)](#part_2a)\n",
    "    2. [Solution deduction (10 points)](#part_2b)\n",
    "    3. [Constraint propagation guarantee(10 points)](#part_2c)\n",
    "    \n",
    "**100 points** total for Problem Set 7\n"
   ]
  },
  {
   "cell_type": "markdown",
   "metadata": {},
   "source": [
    "## <a name=\"contributors\"></a> Credit for Contributors\n",
    "\n",
    "List the various students, lecture notes, or online resouces that helped you complete this problem set:\n",
    "\n",
    "Ex: I worked with Bob on the cat activity planning problem.\n",
    "\n",
    "<div class=\"alert alert-info\">\n",
    "Write your answer in the cell below this one.\n",
    "</div>"
   ]
  },
  {
   "cell_type": "markdown",
   "metadata": {},
   "source": [
    "--> *(double click on this cell to delete this text and type your answer here)*"
   ]
  },
  {
   "cell_type": "markdown",
   "metadata": {},
   "source": [
    "## <a name=\"problem1\"></a> Problem 1: Modeling for Constraint Programming (50 points)\n",
    "\n",
    "You are a screen writer designing the story board for an episode of a sitcom, “Buddies\", a “Friends\" knockoff, with the ever adorable John, Mary, Tim, Lisa and Bill. You have decided to center the hour episode around an intimate table in a restaurant that has only three chairs. You would like the story to show each “buddy\" at some point during the episode (part of their contract), and you want them interacting happily together. But there seems to be some dissension amongst the cast:\n",
    "\n",
    "- John refuses to be seated with Mary or Tim\n",
    "\n",
    "- There is a dialogue with John talking with Lisa,\n",
    "\n",
    "- The romance between Lisa and Tim requires time at the table for a kiss,\n",
    "\n",
    "- Bill only gets along with John if Lisa is there as well,\n",
    "\n",
    "- John and Lisa, as the stars, should be on camera for 40 minutes (and only 40 min), while the remainder should be on for 20 minutes each (and only 20min).\n",
    "\n",
    "A chair can be empty in a segment. No more than one person per seat.\n",
    "\n",
    "You may assume that the characters change locations only at the breakpoints between the show's 20-\n",
    "minute segments. You should express this problem in terms of a constraint satisfaction problem. You\n",
    "should define the variables, domains and the constraints. For the constraints, there are multiple ways\n",
    "to express them. There are no hard requirements on the format of the expression."
   ]
  },
  {
   "cell_type": "markdown",
   "metadata": {},
   "source": [
    "### <a name=\"part_1a\"></a>Part A - Chair-centric approach (25 points)\n",
    "First assume that there are nine variables, each representing one of the chairs during one of the three 20-minute segments of the show. Write down the domain of these variables and express the constraints. How many different possible valid assignments are there? \n",
    "\n",
    "Hint: The chair a person is sitting on and the specific segment matters\n",
    "\n",
    "<div class=\"alert alert-info\">\n",
    "Write or upload your answer in the cell below this one.\n",
    "</div>\n",
    "\n",
    "Be sure to include: representation of CSP with variables, domains, and constraints. Determination of number of possible assignments."
   ]
  },
  {
   "cell_type": "markdown",
   "metadata": {
    "deletable": false,
    "nbgrader": {
     "checksum": "e9133557dfe7ca96c357fe34680d6e56",
     "grade": true,
     "grade_id": "part_1a",
     "locked": false,
     "points": 25,
     "schema_version": 1,
     "solution": true
    }
   },
   "source": [
    "YOUR ANSWER HERE"
   ]
  },
  {
   "cell_type": "markdown",
   "metadata": {},
   "source": [
    "### <a name=\"part_1b\"></a>Part B - People-centric approach (25 points)\n",
    "Now take a people-centric approach. Assume that there exists one variable for each person, and the value a variable takes is the chair assignments for each of the 20 minute segment (note that at a given segment a person might be assigned no chair). Write down the domain of all the variables and comment on the number of possible assignments.\n",
    "\n",
    "<div class=\"alert alert-info\">\n",
    "Write or upload your answer in the cell below this one.\n",
    "</div>\n",
    "\n",
    "Be sure to include: representation of CSP with variables, domains, and constraints. Determination of number of possible assignments."
   ]
  },
  {
   "cell_type": "markdown",
   "metadata": {
    "deletable": false,
    "nbgrader": {
     "checksum": "760025f629e3434f762ab925b27de73a",
     "grade": true,
     "grade_id": "part_1b",
     "locked": false,
     "points": 25,
     "schema_version": 1,
     "solution": true
    }
   },
   "source": [
    "YOUR ANSWER HERE"
   ]
  },
  {
   "cell_type": "markdown",
   "metadata": {},
   "source": [
    "## <a name=\"problem2\"/></a> Problem 2 : Constraint Propagation (50 points)\n",
    "\n",
    "Consider the following constraint graph. There are five variables, denoted 1-5. Each variable has a domain of three values: {A,B,C}. The only valid assignments to pairs of constraints variables are given in the following table.\n",
    "\n",
    "<img src=\"csp_image.png\" style=\"width:100%;\"/>\n"
   ]
  },
  {
   "cell_type": "markdown",
   "metadata": {},
   "source": [
    "### <a name=\"part_2a\"></a>Part A - Achieving arc consistency (30 points)\n",
    "Repeatedly perform constraint propagation on the above constraint graph until you achieve arc\n",
    "consistency, by crossing out the eliminated values on each node of the graph. List the remaining elements\n",
    "for each domain.\n",
    "\n",
    "<div class=\"alert alert-info\">\n",
    "Write or upload your answer in the cell below this one.\n",
    "</div>"
   ]
  },
  {
   "cell_type": "markdown",
   "metadata": {
    "deletable": false,
    "nbgrader": {
     "checksum": "bd60be8ed2580b6469bd70a966b1940b",
     "grade": true,
     "grade_id": "part_2a",
     "locked": false,
     "points": 30,
     "schema_version": 1,
     "solution": true
    }
   },
   "source": [
    "YOUR ANSWER HERE"
   ]
  },
  {
   "cell_type": "markdown",
   "metadata": {},
   "source": [
    "### <a name=\"part_2b\"></a>Part B - Solution deduction (10 points)\n",
    "What is the maximum number of possible solutions, based only on the knowledge of the remaining values?\n",
    "\n",
    "<div class=\"alert alert-info\">\n",
    "Write or upload your answer in the cell below this one.\n",
    "</div>"
   ]
  },
  {
   "cell_type": "markdown",
   "metadata": {
    "deletable": false,
    "nbgrader": {
     "checksum": "2e0276aa5f752bce494c0b6179f68823",
     "grade": true,
     "grade_id": "part_2b",
     "locked": false,
     "points": 10,
     "schema_version": 1,
     "solution": true
    }
   },
   "source": [
    "YOUR ANSWER HERE"
   ]
  },
  {
   "cell_type": "markdown",
   "metadata": {},
   "source": [
    "### <a name=\"part_2c\"></a>Part C - Constraint propagation guarantee (10 points)\n",
    "In general, does constraint propagation guarantee that all infeasible assignments are pruned? Explain.\n",
    "\n",
    "<div class=\"alert alert-info\">\n",
    "Write or upload your answer in the cell below this one.\n",
    "</div>"
   ]
  },
  {
   "cell_type": "markdown",
   "metadata": {
    "deletable": false,
    "nbgrader": {
     "checksum": "15498ddd3dee8c08aac0404077df7d77",
     "grade": true,
     "grade_id": "part_2c",
     "locked": false,
     "points": 10,
     "schema_version": 1,
     "solution": true
    }
   },
   "source": [
    "YOUR ANSWER HERE"
   ]
  },
  {
   "cell_type": "code",
   "execution_count": null,
   "metadata": {},
   "outputs": [],
   "source": []
  }
 ],
 "metadata": {
  "kernelspec": {
   "display_name": "Python 3",
   "language": "python",
   "name": "python3"
  },
  "language_info": {
   "codemirror_mode": {
    "name": "ipython",
    "version": 3
   },
   "file_extension": ".py",
   "mimetype": "text/x-python",
   "name": "python",
   "nbconvert_exporter": "python",
   "pygments_lexer": "ipython3",
   "version": "3.6.3"
  }
 },
 "nbformat": 4,
 "nbformat_minor": 1
}
